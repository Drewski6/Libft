{
   "cells": [
      {
         "cell_type": "markdown",
         "metadata": {},
         "source": [
            "# LIBFT\n",
            "- This notebook is for the libft project in Ecole 42.\n",
            "- Note that we can save directly to files with the %%file prefix.\n",
            "- Similarly you can use %%bash to run any bash commands you'd like for testing."
         ]
      },
      {
         "cell_type": "markdown",
         "metadata": {},
         "source": [
            "- TODO:\n",
            "    - check for calling other functions and how that works.\n",
            "    - F1 > Show Builtin extensions > re enable github authenticator."
         ]
      },
      {
         "cell_type": "markdown",
         "metadata": {},
         "source": [
            "## Libft.h"
         ]
      },
      {
         "cell_type": "code",
         "execution_count": 136,
         "metadata": {},
         "outputs": [
            {
               "name": "stdout",
               "output_type": "stream",
               "text": [
                  "Overwriting ../libft/libft.h\n"
               ]
            }
         ],
         "source": [
            "%%file ../libft/libft.h\n",
            "/* ************************************************************************** */\n",
            "/*                                                                            */\n",
            "/*                                                        :::      ::::::::   */\n",
            "/*   libft.h                                            :+:      :+:    :+:   */\n",
            "/*                                                    +:+ +:+         +:+     */\n",
            "/*   By: dpentlan <marvin@42.fr>                    +#+  +:+       +#+        */\n",
            "/*                                                +#+#+#+#+#+   +#+           */\n",
            "/*   Created: 2022/11/07 14:31:39 by dpentlan          #+#    #+#             */\n",
            "/*   Updated: 2022/11/07 14:31:56 by dpentlan         ###   ########.fr       */\n",
            "/*                                                                            */\n",
            "/* ************************************************************************** */\n",
            "\n",
            "//  header for my libft files.\n",
            "\n",
            "#ifndef LIBFT_H\n",
            "#define LIBFT_H\n",
            "# include <stddef.h>\n",
            "# include <stdlib.h>\n",
            "\n",
            "int ft_isalpha(char c);\n",
            "int ft_isdigit(char c);\n",
            "int ft_isalnum(char c);\n",
            "int ft_isascii(int c);\n",
            "int ft_isprint(char c);\n",
            "long    ft_strlen(const char *str);\n",
            "void*   ft_memset(void *str, int c, size_t len);\n",
            "void    ft_bzero(void *str, size_t len);\n",
            "void*   ft_memcpy(void *dest, const void *src, size_t len);\n",
            "void*   ft_memmove(void *dest, const void *src, size_t len);\n",
            "size_t  ft_strlcpy(char *dest, char *src, size_t size);\n",
            "size_t  ft_strlcat(char *dest, char *src, size_t size);\n",
            "int\tft_toupper(int c);\n",
            "int\tft_tolower(int c);\n",
            "char\t*ft_strchr(const char *s, int c);\n",
            "char\t*ft_strrchr(const char *s, int c);\n",
            "int ft_strncmp(const char *s1, const char *s2, size_t n);\n",
            "void\t*ft_memchr(const void *s, int c, size_t n);\n",
            "int\tft_memcmp(const void *s1, const void *s2, size_t n);\n",
            "char\t*ft_strnstr(const char *big, const char *little, size_t len);\n",
            "int\tft_atoi(const char *nptr);\n",
            "void\t*ft_calloc(size_t num_elem, size_t elem_size);\n",
            "char\t*ft_strdup(const char *src);\n",
            "char\t*ft_substr(char const *s, unsigned int start, size_t len);\n",
            "char\t*ft_strjoin(char const *s1, char const *s2);\n",
            "char\t*ft_strtrim(char const *s1, char const *set);\n",
            "\n",
            "#endif"
         ]
      },
      {
         "cell_type": "markdown",
         "metadata": {},
         "source": [
            "## Functions"
         ]
      },
      {
         "cell_type": "markdown",
         "metadata": {},
         "source": [
            "### isalpha"
         ]
      },
      {
         "cell_type": "markdown",
         "metadata": {},
         "source": [
            "#### ft_isalpha.c"
         ]
      },
      {
         "cell_type": "code",
         "execution_count": 4,
         "metadata": {},
         "outputs": [
            {
               "name": "stdout",
               "output_type": "stream",
               "text": [
                  "Overwriting ../libft/ft_isalpha.c\n"
               ]
            }
         ],
         "source": [
            "%%file ../libft/ft_isalpha.c\n",
            "/* ************************************************************************** */\n",
            "/*                                                                            */\n",
            "/*                                                        :::      ::::::::   */\n",
            "/*   ft_isalpha.c                                       :+:      :+:    :+:   */\n",
            "/*                                                    +:+ +:+         +:+     */\n",
            "/*   By: dpentlan <marvin@42.fr>                    +#+  +:+       +#+        */\n",
            "/*                                                +#+#+#+#+#+   +#+           */\n",
            "/*   Created: 2022/11/07 15:11:16 by dpentlan          #+#    #+#             */\n",
            "/*   Updated: 2022/11/07 15:11:19 by dpentlan         ###   ########.fr       */\n",
            "/*                                                                            */\n",
            "/* ************************************************************************** */\n",
            "\n",
            "#include \"libft.h\"\n",
            "\n",
            "int\tft_isalpha(char c)\n",
            "{\n",
            "\tif ((c >= 65 && c <= 90) || (c >= 97 && c <= 122))\n",
            "\t\treturn (1);\n",
            "\telse\n",
            "\t\treturn (0);\n",
            "}\n"
         ]
      },
      {
         "cell_type": "markdown",
         "metadata": {},
         "source": [
            "#### isalpha_test.c"
         ]
      },
      {
         "cell_type": "code",
         "execution_count": 5,
         "metadata": {},
         "outputs": [
            {
               "name": "stdout",
               "output_type": "stream",
               "text": [
                  "Overwriting isalpha_test.c\n"
               ]
            }
         ],
         "source": [
            "%%file isalpha_test.c\n",
            "#include <ctype.h>\n",
            "#include <stdio.h>\n",
            "\n",
            "// Returns true/false for a single character.\n",
            "\n",
            "int main(void)\n",
            "{\n",
            "    char string[] = \"Hi, this is a sample string.\";\n",
            "    if (isalpha(string[2]))\n",
            "        printf(\"Statement was true.\");\n",
            "    else\n",
            "        printf(\"Statement was false.\");\n",
            "    return (0);\n",
            "}"
         ]
      },
      {
         "cell_type": "markdown",
         "metadata": {},
         "source": [
            "### isdigit"
         ]
      },
      {
         "cell_type": "markdown",
         "metadata": {},
         "source": [
            "#### ft_isdigit.c"
         ]
      },
      {
         "cell_type": "code",
         "execution_count": 6,
         "metadata": {},
         "outputs": [
            {
               "name": "stdout",
               "output_type": "stream",
               "text": [
                  "Overwriting ../libft/ft_isdigit.c\n"
               ]
            }
         ],
         "source": [
            "%%file ../libft/ft_isdigit.c\n",
            "/* ************************************************************************** */\n",
            "/*                                                                            */\n",
            "/*                                                        :::      ::::::::   */\n",
            "/*   ft_isdigit.c                                       :+:      :+:    :+:   */\n",
            "/*                                                    +:+ +:+         +:+     */\n",
            "/*   By: dpentlan <marvin@42.fr>                    +#+  +:+       +#+        */\n",
            "/*                                                +#+#+#+#+#+   +#+           */\n",
            "/*   Created: 2022/11/08 16:53:10 by dpentlan          #+#    #+#             */\n",
            "/*   Updated: 2022/11/08 16:53:14 by dpentlan         ###   ########.fr       */\n",
            "/*                                                                            */\n",
            "/* ************************************************************************** */\n",
            "\n",
            "#include \"libft.h\"\n",
            "\n",
            "int\tft_isdigit(char c)\n",
            "{\n",
            "\tif (c >= 48 && c <= 57)\n",
            "\t\treturn (1);\n",
            "\telse\n",
            "\t\treturn (0);\n",
            "}\n"
         ]
      },
      {
         "cell_type": "markdown",
         "metadata": {},
         "source": [
            "#### isdigit_test.c"
         ]
      },
      {
         "cell_type": "code",
         "execution_count": null,
         "metadata": {},
         "outputs": [],
         "source": [
            "%%file"
         ]
      },
      {
         "cell_type": "markdown",
         "metadata": {},
         "source": [
            "### isalnum"
         ]
      },
      {
         "cell_type": "markdown",
         "metadata": {},
         "source": [
            "#### ft_isalnum.c"
         ]
      },
      {
         "cell_type": "code",
         "execution_count": 7,
         "metadata": {},
         "outputs": [
            {
               "name": "stdout",
               "output_type": "stream",
               "text": [
                  "Overwriting ../libft/ft_isalnum.c\n"
               ]
            }
         ],
         "source": [
            "%%file ../libft/ft_isalnum.c\n",
            "/* ************************************************************************** */\n",
            "/*                                                                            */\n",
            "/*                                                        :::      ::::::::   */\n",
            "/*   ft_isalnum.c                                       :+:      :+:    :+:   */\n",
            "/*                                                    +:+ +:+         +:+     */\n",
            "/*   By: dpentlan <marvin@42.fr>                    +#+  +:+       +#+        */\n",
            "/*                                                +#+#+#+#+#+   +#+           */\n",
            "/*   Created: 2022/11/08 17:10:36 by dpentlan          #+#    #+#             */\n",
            "/*   Updated: 2022/11/08 17:10:39 by dpentlan         ###   ########.fr       */\n",
            "/*                                                                            */\n",
            "/* ************************************************************************** */\n",
            "\n",
            "#include \"libft.h\"\n",
            "\n",
            "int\tft_isalnum(char c)\n",
            "{\n",
            "\tif (ft_isalpha(c) || ft_isdigit(c))\n",
            "\t\treturn (1);\n",
            "\telse\n",
            "\t\treturn (0);\n",
            "}\n"
         ]
      },
      {
         "cell_type": "markdown",
         "metadata": {},
         "source": [
            "#### isalnum_test.c"
         ]
      },
      {
         "cell_type": "code",
         "execution_count": null,
         "metadata": {},
         "outputs": [],
         "source": [
            "%%file"
         ]
      },
      {
         "cell_type": "markdown",
         "metadata": {},
         "source": [
            "### isascii"
         ]
      },
      {
         "cell_type": "markdown",
         "metadata": {},
         "source": [
            "#### ft_isascii.c"
         ]
      },
      {
         "cell_type": "code",
         "execution_count": 8,
         "metadata": {},
         "outputs": [
            {
               "name": "stdout",
               "output_type": "stream",
               "text": [
                  "Overwriting ../libft/ft_isascii.c\n"
               ]
            }
         ],
         "source": [
            "%%file ../libft/ft_isascii.c\n",
            "/* ************************************************************************** */\n",
            "/*                                                                            */\n",
            "/*                                                        :::      ::::::::   */\n",
            "/*   ft_isascii.c                                       :+:      :+:    :+:   */\n",
            "/*                                                    +:+ +:+         +:+     */\n",
            "/*   By: dpentlan <marvin@42.fr>                    +#+  +:+       +#+        */\n",
            "/*                                                +#+#+#+#+#+   +#+           */\n",
            "/*   Created: 2022/11/11 12:56:54 by dpentlan          #+#    #+#             */\n",
            "/*   Updated: 2022/11/11 12:57:01 by dpentlan         ###   ########.fr       */\n",
            "/*                                                                            */\n",
            "/* ************************************************************************** */\n",
            "\n",
            "#include \"libft.h\"\n",
            "\n",
            "int\tft_isascii(int c)\n",
            "{\n",
            "\tif (c >= 0 && c <= 127)\n",
            "\t\treturn (1);\n",
            "\telse\n",
            "\t\treturn (0);\n",
            "}\n"
         ]
      },
      {
         "cell_type": "markdown",
         "metadata": {},
         "source": [
            "#### isascii_test.c"
         ]
      },
      {
         "cell_type": "code",
         "execution_count": null,
         "metadata": {},
         "outputs": [],
         "source": [
            "%%file"
         ]
      },
      {
         "cell_type": "markdown",
         "metadata": {},
         "source": [
            "### isprint"
         ]
      },
      {
         "cell_type": "markdown",
         "metadata": {},
         "source": [
            "#### ft_isprint.c"
         ]
      },
      {
         "cell_type": "code",
         "execution_count": 9,
         "metadata": {},
         "outputs": [
            {
               "name": "stdout",
               "output_type": "stream",
               "text": [
                  "Overwriting ../libft/ft_isprint.c\n"
               ]
            }
         ],
         "source": [
            "%%file ../libft/ft_isprint.c\n",
            "/* ************************************************************************** */\n",
            "/*                                                                            */\n",
            "/*                                                        :::      ::::::::   */\n",
            "/*   ft_isprint.c                                       :+:      :+:    :+:   */\n",
            "/*                                                    +:+ +:+         +:+     */\n",
            "/*   By: dpentlan <marvin@42.fr>                    +#+  +:+       +#+        */\n",
            "/*                                                +#+#+#+#+#+   +#+           */\n",
            "/*   Created: 2022/11/11 12:57:41 by dpentlan          #+#    #+#             */\n",
            "/*   Updated: 2022/11/11 12:57:45 by dpentlan         ###   ########.fr       */\n",
            "/*                                                                            */\n",
            "/* ************************************************************************** */\n",
            "\n",
            "#include \"libft.h\"\n",
            "\n",
            "int\tft_isprint(char c)\n",
            "{\n",
            "\tif (c >= 32 && c <= 126)\n",
            "\t\treturn (1);\n",
            "\telse\n",
            "\t\treturn (0);\n",
            "}\n"
         ]
      },
      {
         "cell_type": "markdown",
         "metadata": {},
         "source": [
            "#### isprint_test.c"
         ]
      },
      {
         "cell_type": "code",
         "execution_count": null,
         "metadata": {},
         "outputs": [],
         "source": [
            "%%file"
         ]
      },
      {
         "cell_type": "markdown",
         "metadata": {},
         "source": [
            "### strlen"
         ]
      },
      {
         "cell_type": "markdown",
         "metadata": {},
         "source": [
            "#### ft_strlen.c"
         ]
      },
      {
         "cell_type": "code",
         "execution_count": 10,
         "metadata": {},
         "outputs": [
            {
               "name": "stdout",
               "output_type": "stream",
               "text": [
                  "Overwriting ../libft/ft_strlen.c\n"
               ]
            }
         ],
         "source": [
            "%%file ../libft/ft_strlen.c\n",
            "/* ************************************************************************** */\n",
            "/*                                                                            */\n",
            "/*                                                        :::      ::::::::   */\n",
            "/*   ft_strlen.c                                        :+:      :+:    :+:   */\n",
            "/*                                                    +:+ +:+         +:+     */\n",
            "/*   By: dpentlan <marvin@42.fr>                    +#+  +:+       +#+        */\n",
            "/*                                                +#+#+#+#+#+   +#+           */\n",
            "/*   Created: 2022/11/11 12:59:37 by dpentlan          #+#    #+#             */\n",
            "/*   Updated: 2022/11/11 12:59:45 by dpentlan         ###   ########.fr       */\n",
            "/*                                                                            */\n",
            "/* ************************************************************************** */\n",
            "\n",
            "#include \"libft.h\"\n",
            "\n",
            "long\tft_strlen(const char *str)\n",
            "{\n",
            "\tlong\ti;\n",
            "\n",
            "\ti = 0;\n",
            "\twhile (str[i] != '\\0')\n",
            "\t\ti++;\n",
            "\treturn (i);\n",
            "}\n"
         ]
      },
      {
         "cell_type": "markdown",
         "metadata": {},
         "source": [
            "#### strlen_test.c"
         ]
      },
      {
         "cell_type": "code",
         "execution_count": null,
         "metadata": {},
         "outputs": [],
         "source": [
            "%%file"
         ]
      },
      {
         "cell_type": "markdown",
         "metadata": {},
         "source": [
            "### memset"
         ]
      },
      {
         "cell_type": "markdown",
         "metadata": {},
         "source": [
            "#### ft_memset.c"
         ]
      },
      {
         "cell_type": "code",
         "execution_count": 11,
         "metadata": {},
         "outputs": [
            {
               "name": "stdout",
               "output_type": "stream",
               "text": [
                  "Overwriting ../libft/ft_memset.c\n"
               ]
            }
         ],
         "source": [
            "%%file ../libft/ft_memset.c\n",
            "/* ************************************************************************** */\n",
            "/*                                                                            */\n",
            "/*                                                        :::      ::::::::   */\n",
            "/*   ft_memset.c                                        :+:      :+:    :+:   */\n",
            "/*                                                    +:+ +:+         +:+     */\n",
            "/*   By: dpentlan <marvin@42.fr>                    +#+  +:+       +#+        */\n",
            "/*                                                +#+#+#+#+#+   +#+           */\n",
            "/*   Created: 2022/11/11 12:58:28 by dpentlan          #+#    #+#             */\n",
            "/*   Updated: 2022/11/11 12:58:38 by dpentlan         ###   ########.fr       */\n",
            "/*                                                                            */\n",
            "/* ************************************************************************** */\n",
            "\n",
            "#include \"libft.h\"\n",
            "\n",
            "void\t*ft_memset(void *str, int c, size_t len)\n",
            "{\n",
            "\tunsigned int\ti;\n",
            "\n",
            "\ti = 0;\n",
            "\twhile (i < len)\n",
            "\t{\n",
            "\t\t*(char *)str = c;\n",
            "\t\tstr++;\n",
            "\t\ti++;\n",
            "\t}\n",
            "\treturn (str);\n",
            "}\n"
         ]
      },
      {
         "cell_type": "markdown",
         "metadata": {},
         "source": [
            "#### memset_test.c"
         ]
      },
      {
         "cell_type": "code",
         "execution_count": 14,
         "metadata": {},
         "outputs": [
            {
               "name": "stdout",
               "output_type": "stream",
               "text": [
                  "Overwriting memset_test.c\n"
               ]
            }
         ],
         "source": [
            "%%file memset_test.c\n",
            "#include <stdio.h>\n",
            "#include <stdlib.h>\n",
            "#include <string.h>\n",
            "#include \"../libft/libft.h\"\n",
            "#define SIZE 10\n",
            "#define CHAR 'W'\n",
            "\n",
            "int main (void)\n",
            "{\n",
            "    char string[] = \"This is a sample string.\";\n",
            "\n",
            "    printf(\"memset\\n\");\n",
            "    printf(\"\\tString before: %s\\n\", string);\n",
            "    printf(\"\\tsizeof(char)lksjd: %ld\\n\", sizeof(char));\n",
            "    memset(string, CHAR, SIZE*sizeof(char));\n",
            "    printf(\"\\tString after : %s\\n\", string);\n",
            "\n",
            "    char string1[] = \"This is a sample string.\";\n",
            "    printf(\"\\nft_memset\\n\");\n",
            "    printf(\"\\tString before: %s\\n\", string1);\n",
            "    printf(\"\\tsizeof(char)lksjd: %ld\\n\", sizeof(char));\n",
            "    ft_memset(string1, CHAR, SIZE*sizeof(char));\n",
            "    printf(\"\\tString after : %s\\n\", string1);\n",
            "    return (0);\n",
            "}"
         ]
      },
      {
         "cell_type": "markdown",
         "metadata": {},
         "source": [
            "### bzero"
         ]
      },
      {
         "cell_type": "markdown",
         "metadata": {},
         "source": [
            "#### ft_bzero.c"
         ]
      },
      {
         "cell_type": "markdown",
         "metadata": {},
         "source": [
            "- Norminette wouldnt allow empty return. So i deleted it. hope this does break anything."
         ]
      },
      {
         "cell_type": "code",
         "execution_count": 16,
         "metadata": {},
         "outputs": [
            {
               "name": "stdout",
               "output_type": "stream",
               "text": [
                  "Overwriting ../libft/ft_bzero.c\n"
               ]
            }
         ],
         "source": [
            "%%file ../libft/ft_bzero.c\n",
            "/* ************************************************************************** */\n",
            "/*                                                                            */\n",
            "/*                                                        :::      ::::::::   */\n",
            "/*   ft_bzero.c                                         :+:      :+:    :+:   */\n",
            "/*                                                    +:+ +:+         +:+     */\n",
            "/*   By: dpentlan <marvin@42.fr>                    +#+  +:+       +#+        */\n",
            "/*                                                +#+#+#+#+#+   +#+           */\n",
            "/*   Created: 2022/11/11 12:56:13 by dpentlan          #+#    #+#             */\n",
            "/*   Updated: 2022/11/11 12:56:23 by dpentlan         ###   ########.fr       */\n",
            "/*                                                                            */\n",
            "/* ************************************************************************** */\n",
            "\n",
            "#include \"libft.h\"\n",
            "\n",
            "void\tft_bzero(void *str, size_t len)\n",
            "{\n",
            "\tsize_t\ti;\n",
            "\n",
            "\ti = 0;\n",
            "\twhile (i < len)\n",
            "\t{\n",
            "\t\t*(char *)str = 0;\n",
            "\t\tstr++;\n",
            "\t\ti++;\n",
            "\t}\n",
            "}\n"
         ]
      },
      {
         "cell_type": "markdown",
         "metadata": {},
         "source": [
            "#### bzero_test.c"
         ]
      },
      {
         "cell_type": "code",
         "execution_count": 18,
         "metadata": {},
         "outputs": [
            {
               "name": "stdout",
               "output_type": "stream",
               "text": [
                  "Overwriting bzero_test.c\n"
               ]
            }
         ],
         "source": [
            "%%file bzero_test.c\n",
            "#include <stdio.h>\n",
            "#include <stdlib.h>\n",
            "#include <string.h>\n",
            "#include \"../libft/libft.h\"\n",
            "#define OFFSET 15\n",
            "#define SIZE 5\n",
            "\n",
            "int main (void)\n",
            "{\n",
            "    int str_len;\n",
            "    int i;\n",
            "    char string[] = \"Hi this is a string.\";\n",
            "    char string1[] = \"Hi this is a string.\";\n",
            "\n",
            "    printf(\"Function,Action,Result\\n\");\n",
            "\n",
            "    // Code for testing bzero.\n",
            "    str_len = 0;\n",
            "    str_len = strlen(string);\n",
            "    printf(\"bzero,Before bzero,%s\\n\", string);\n",
            "    bzero(string + OFFSET, SIZE);\n",
            "    printf(\"bzero,After bzero,%s\\n\", string);\n",
            "    printf(\"bzero,Full String,\");\n",
            "    i = 0;\n",
            "    while (i < str_len)\n",
            "    {\n",
            "        printf(\"%c\", string[i]);\n",
            "        i++;\n",
            "    }\n",
            "    printf(\"\\n\");\n",
            "\n",
            "    // Code for testing ft_bzero.\n",
            "    printf(\"ft_bzero,Before ft_bzero,%s\\n\", string1);\n",
            "    ft_bzero(string1 + OFFSET, SIZE);\n",
            "    printf(\"ft_bzero,After ft_bzero,%s\\n\", string1);\n",
            "    printf(\"ft_bzero,Full String,\");\n",
            "    i = 0;\n",
            "    while (i < str_len)\n",
            "    {\n",
            "        printf(\"%c\", string1[i]);\n",
            "        i++;\n",
            "    }\n",
            "    printf(\"\\n\");\n",
            "\n",
            "    return (0);\n",
            "}"
         ]
      },
      {
         "cell_type": "markdown",
         "metadata": {},
         "source": [
            "### memcpy"
         ]
      },
      {
         "cell_type": "markdown",
         "metadata": {},
         "source": [
            "#### ft_memcpy.c"
         ]
      },
      {
         "cell_type": "code",
         "execution_count": 20,
         "metadata": {},
         "outputs": [
            {
               "name": "stdout",
               "output_type": "stream",
               "text": [
                  "Overwriting ../libft/ft_memcpy.c\n"
               ]
            }
         ],
         "source": [
            "%%file ../libft/ft_memcpy.c\n",
            "/* ************************************************************************** */\n",
            "/*                                                                            */\n",
            "/*                                                        :::      ::::::::   */\n",
            "/*   ft_memcpy.c                                        :+:      :+:    :+:   */\n",
            "/*                                                    +:+ +:+         +:+     */\n",
            "/*   By: dpentlan <marvin@42.fr>                    +#+  +:+       +#+        */\n",
            "/*                                                +#+#+#+#+#+   +#+           */\n",
            "/*   Created: 2022/11/11 12:57:55 by dpentlan          #+#    #+#             */\n",
            "/*   Updated: 2022/11/11 12:57:56 by dpentlan         ###   ########.fr       */\n",
            "/*                                                                            */\n",
            "/* ************************************************************************** */\n",
            "\n",
            "#include \"libft.h\"\n",
            "\n",
            "void\t*ft_memcpy(void *dest, const void *src, size_t len)\n",
            "{\n",
            "\tsize_t\ti;\n",
            "\n",
            "\ti = 0;\n",
            "\twhile (i < len)\n",
            "\t{\n",
            "\t\t*(char *)dest = *(char *)src;\n",
            "\t\tdest++;\n",
            "\t\tsrc++;\n",
            "\t\ti++;\n",
            "\t}\n",
            "\treturn (dest);\n",
            "}\n"
         ]
      },
      {
         "cell_type": "markdown",
         "metadata": {},
         "source": [
            "#### memcpy_test.c"
         ]
      },
      {
         "cell_type": "code",
         "execution_count": 21,
         "metadata": {},
         "outputs": [
            {
               "name": "stdout",
               "output_type": "stream",
               "text": [
                  "Overwriting memcpy_test.c\n"
               ]
            }
         ],
         "source": [
            "%%file memcpy_test.c\n",
            "#include <stdio.h>\n",
            "#include <stdlib.h>\n",
            "#include <string.h>\n",
            "#include \"../libft/libft.h\"\n",
            "#define SIZE 6\n",
            "\n",
            "int main (void)\n",
            "{\n",
            "    char string_src[50] = \"This is a sample string.\";\n",
            "    char string_dest[50];\n",
            "    char string1_src[50] = \"This is a sample string.\";\n",
            "    char string1_dest[50];\n",
            "\n",
            "    printf(\"function,action,result\\n\");\n",
            "\n",
            "    printf(\"memcpy,Before memcpy,%s\\n\", string_dest);\n",
            "    memcpy(string_dest, string_src, SIZE);\n",
            "    printf(\"memcpy,After memcpy,%s\\n\", string_dest);\n",
            "\n",
            "    printf(\"ft_memcpy,Before ft_memcpy,%s\\n\", string1_dest);\n",
            "    ft_memcpy(string1_dest, string1_src, SIZE);\n",
            "    printf(\"ft_memcpy,After ft_memcpy,%s\\n\", string1_dest);\n",
            "\n",
            "    return(0);\n",
            "}"
         ]
      },
      {
         "cell_type": "markdown",
         "metadata": {},
         "source": [
            "### memmove"
         ]
      },
      {
         "cell_type": "markdown",
         "metadata": {},
         "source": [
            "#### ft_memmove.c"
         ]
      },
      {
         "cell_type": "markdown",
         "metadata": {},
         "source": [
            "- Did a rework after norminette on 11/14. may need to retest."
         ]
      },
      {
         "cell_type": "code",
         "execution_count": 22,
         "metadata": {},
         "outputs": [
            {
               "name": "stdout",
               "output_type": "stream",
               "text": [
                  "Overwriting ../libft/ft_memmove.c\n"
               ]
            }
         ],
         "source": [
            "%%file ../libft/ft_memmove.c\n",
            "/* ************************************************************************** */\n",
            "/*                                                                            */\n",
            "/*                                                        :::      ::::::::   */\n",
            "/*   ft_memmove.c                                       :+:      :+:    :+:   */\n",
            "/*                                                    +:+ +:+         +:+     */\n",
            "/*   By: dpentlan <marvin@42.fr>                    +#+  +:+       +#+        */\n",
            "/*                                                +#+#+#+#+#+   +#+           */\n",
            "/*   Created: 2022/11/11 12:58:05 by dpentlan          #+#    #+#             */\n",
            "/*   Updated: 2022/11/11 12:58:20 by dpentlan         ###   ########.fr       */\n",
            "/*                                                                            */\n",
            "/* ************************************************************************** */\n",
            "\n",
            "#include \"libft.h\"\n",
            "#include <stdio.h>\n",
            "\n",
            "void\t*ft_memmove(void *dest, const void *src, size_t len)\n",
            "{\n",
            "\tsize_t\ti;\n",
            "\n",
            "\ti = 0U;\n",
            "\tif ((unsigned long int)dest - (unsigned long int)src >= len)\n",
            "\t{\n",
            "\t\twhile (i < len)\n",
            "\t\t{\n",
            "\t\t\t*(char *)(dest + i) = *(char *)(src + i);\n",
            "\t\t\tprintf(\"in first loop, i = %ld\\n\", i);\n",
            "\t\t\ti++;\n",
            "\t\t}\n",
            "\t}\n",
            "\telse\n",
            "\t{\n",
            "\t\twhile (i < len)\n",
            "\t\t{\n",
            "\t\t\t*(char *)(dest + (len - i)) = *(char *)(src + (len - i));\n",
            "\t\t\tprintf(\"in second loop, i = %ld\\n\", i);\n",
            "\t\t\ti++;\n",
            "\t\t}\n",
            "\t}\n",
            "\treturn (dest);\n",
            "}"
         ]
      },
      {
         "cell_type": "markdown",
         "metadata": {},
         "source": [
            "#### memmove_test.c"
         ]
      },
      {
         "cell_type": "code",
         "execution_count": 23,
         "metadata": {},
         "outputs": [
            {
               "name": "stdout",
               "output_type": "stream",
               "text": [
                  "Overwriting memmove_test.c\n"
               ]
            }
         ],
         "source": [
            "%%file memmove_test.c\n",
            "#include <stdio.h>\n",
            "#include <stdlib.h>\n",
            "#include <string.h>\n",
            "#include \"../libft/libft.h\"\n",
            "\n",
            "int main (int argc, char* argv[])\n",
            "{\n",
            "    char string_src[50] = \"This is a sample string.\";\n",
            "    char string_dest[50];\n",
            "    char string1_src[50] = \"This is a sample string.\";\n",
            "    char string1_dest[50];\n",
            "    int size;\n",
            "\n",
            "    size = atoi(argv[1]);\n",
            "\n",
            "    printf(\"memmove,Before memmove,%s\\r\\n\", string_dest);\n",
            "    memmove(string_dest, string_src, size);\n",
            "    printf(\"memmove,After memmove,%s\\r\\n\", string_dest);\n",
            "\n",
            "    printf(\"ft_memmove,Before memmove,%s\\n\", string1_dest);\n",
            "    ft_memmove(string1_dest, string1_src, size);\n",
            "    printf(\"ft_memmove,After memmove,%s\\n\", string1_dest);\n",
            "\n",
            "    return (0);\n",
            "}"
         ]
      },
      {
         "cell_type": "markdown",
         "metadata": {},
         "source": [
            "### strlcpy"
         ]
      },
      {
         "cell_type": "markdown",
         "metadata": {},
         "source": [
            "#### ft_strlcpy"
         ]
      },
      {
         "cell_type": "code",
         "execution_count": 3,
         "metadata": {},
         "outputs": [
            {
               "name": "stdout",
               "output_type": "stream",
               "text": [
                  "Overwriting ../libft/ft_strlcpy.c\n"
               ]
            }
         ],
         "source": [
            "%%file ../libft/ft_strlcpy.c\n",
            "/* ************************************************************************** */\n",
            "/*                                                                            */\n",
            "/*                                                        :::      ::::::::   */\n",
            "/*   ft_strlcpy.c                                       :+:      :+:    :+:   */\n",
            "/*                                                    +:+ +:+         +:+     */\n",
            "/*   By: dpentlan <marvin@42.fr>                    +#+  +:+       +#+        */\n",
            "/*                                                +#+#+#+#+#+   +#+           */\n",
            "/*   Created: 2022/11/11 12:59:12 by dpentlan          #+#    #+#             */\n",
            "/*   Updated: 2022/11/11 12:59:13 by dpentlan         ###   ########.fr       */\n",
            "/*                                                                            */\n",
            "/* ************************************************************************** */\n",
            "\n",
            "#include \"libft.h\"\n",
            "\n",
            "size_t\tft_strlcpy(char *dest, char *src, size_t size)\n",
            "{\n",
            "\tsize_t\ti;\n",
            "\n",
            "\ti = 0U;\n",
            "\twhile (*src != '\\0')\n",
            "\t{\n",
            "\t\tif (i + 1 < size)\n",
            "\t\t{\n",
            "\t\t\t*dest = *src;\n",
            "\t\t\tdest++;\n",
            "\t\t}\n",
            "\t\tsrc++;\n",
            "\t\ti++;\n",
            "\t}\n",
            "\tif (size != 0)\n",
            "\t\t*dest = '\\0';\n",
            "\treturn (i);\n",
            "}\n"
         ]
      },
      {
         "cell_type": "markdown",
         "metadata": {},
         "source": [
            "#### strlcpy_test.c\n",
            "- This test will take 2 arguments.\n",
            "    - First one is either 0 or 1 which indicates if the program is going to use bsd strlcpy or ft strlcpy. \n",
            "    - second is the number of characters to copy over. \n",
            "- The bash script runs a loop for each and then compares the diff."
         ]
      },
      {
         "cell_type": "code",
         "execution_count": 24,
         "metadata": {},
         "outputs": [
            {
               "name": "stdout",
               "output_type": "stream",
               "text": [
                  "Overwriting strlcpy_test.c\n"
               ]
            }
         ],
         "source": [
            "%%file strlcpy_test.c\n",
            "#include <stdio.h>\n",
            "#include <stdlib.h>\n",
            "#include <string.h>\n",
            "#include <bsd/string.h>\n",
            "#include \"../libft/libft.h\"\n",
            "\n",
            "int main (int argc, char* argv[])\n",
            "{\n",
            "    char string_src[50] = \"Hi this is a source sting.\";\n",
            "    char string_dest[50];\n",
            "    int size;\n",
            "    int return_val;\n",
            "\n",
            "    size = atoi(argv[2]);\n",
            "    if (atoi(argv[1]) == 0)\n",
            "    {\n",
            "        //printf(\"strlcpy,before,%d,%s\\n\",size, string_dest);\n",
            "        return_val = strlcpy(string_dest, string_src, size);\n",
            "        printf(\"strlcpy,after,%d,%s,%d\\n\",size, string_dest, return_val);\n",
            "    }\n",
            "    else if (atoi(argv[1]) == 1)\n",
            "    {\n",
            "        //printf(\"ft_strlcpy,before,%d,%s\\n\",size, string1_dest);\n",
            "        return_val = ft_strlcpy(string_dest, string_src, size);\n",
            "        printf(\"ft_strlcpy,after,%d,%s,%d\\n\",size, string_dest, return_val);\n",
            "    }\n",
            "    return (0);\n",
            "}\n"
         ]
      },
      {
         "cell_type": "markdown",
         "metadata": {},
         "source": [
            "### strlcat"
         ]
      },
      {
         "cell_type": "markdown",
         "metadata": {},
         "source": [
            "#### ft_strlcat.c"
         ]
      },
      {
         "cell_type": "code",
         "execution_count": 341,
         "metadata": {},
         "outputs": [
            {
               "name": "stdout",
               "output_type": "stream",
               "text": [
                  "Overwriting ft_strlcat.c\n"
               ]
            }
         ],
         "source": [
            "%%file ../libft/ft_strlcat.c\n",
            "/* ************************************************************************** */\n",
            "/*                                                                            */\n",
            "/*                                                        :::      ::::::::   */\n",
            "/*   ft_strlcat.c                                       :+:      :+:    :+:   */\n",
            "/*                                                    +:+ +:+         +:+     */\n",
            "/*   By: dpentlan <marvin@42.fr>                    +#+  +:+       +#+        */\n",
            "/*                                                +#+#+#+#+#+   +#+           */\n",
            "/*   Created: 2022/11/11 12:58:53 by dpentlan          #+#    #+#             */\n",
            "/*   Updated: 2022/11/11 12:59:00 by dpentlan         ###   ########.fr       */\n",
            "/*                                                                            */\n",
            "/* ************************************************************************** */\n",
            "\n",
            "#include \"libft.h\"\n",
            "\n",
            "size_t\tft_strlcat(char *dest, char *src, size_t size)\n",
            "{\n",
            "\tsize_t\tdest_len;\n",
            "\tsize_t\tsrc_len;\n",
            "\tsize_t\ti;\n",
            "\n",
            "\tdest_len = 0U;\n",
            "\tsrc_len = 0U;\n",
            "\ti = 0U;\n",
            "\twhile (dest[dest_len] != '\\0')\n",
            "\t\tdest_len++;\n",
            "\twhile (src[src_len] != '\\0')\n",
            "\t\tsrc_len++;\n",
            "\tif (size == 0)\n",
            "\t\treturn (src_len);\n",
            "\twhile (src[i] != '\\0' && dest_len + i < size - 1)\n",
            "\t{\n",
            "\t\tdest[dest_len + i] = src[i];\n",
            "\t\ti++;\n",
            "\t}\n",
            "\tdest[dest_len + i] = '\\0';\n",
            "\tif (dest_len > size)\n",
            "\t\treturn (src_len + size);\n",
            "\treturn (dest_len + src_len);\n",
            "}\n"
         ]
      },
      {
         "cell_type": "markdown",
         "metadata": {},
         "source": [
            "#### strlcat_test.c"
         ]
      },
      {
         "cell_type": "code",
         "execution_count": 25,
         "metadata": {},
         "outputs": [
            {
               "name": "stdout",
               "output_type": "stream",
               "text": [
                  "Overwriting strlcat_test.c\n"
               ]
            }
         ],
         "source": [
            "%%file strlcat_test.c\n",
            "#include <stdio.h>\n",
            "#include <stdlib.h>\n",
            "#include <string.h>\n",
            "#include <bsd/string.h>\n",
            "#include \"../libft/libft.h\"\n",
            "\n",
            "int main (int argc, char* argv[])\n",
            "{\n",
            "    char string_src[50] = \"Hi this is a source string.\";\n",
            "    char string_dest[50]= \"\";\n",
            "    int size;\n",
            "    int return_val;\n",
            "\n",
            "    size = atoi(argv[2]);\n",
            "    if (atoi(argv[1]) == 0)\n",
            "    {\n",
            "        //printf(\"strlcpy,before,%d,%s\\n\",size, string_dest);\n",
            "        return_val = strlcat(string_dest, string_src, size);\n",
            "        printf(\"strlcpy,after,%d,%s,%d\\n\",size, string_dest, return_val);\n",
            "    }\n",
            "    else if (atoi(argv[1]) == 1)\n",
            "    {\n",
            "        //printf(\"ft_strlcpy,before,%d,%s\\n\",size, string1_dest);\n",
            "        return_val = ft_strlcat(string_dest, string_src, size);\n",
            "        printf(\"ft_strlcpy,after,%d,%s,%d\\n\",size, string_dest, return_val);\n",
            "    }\n",
            "    return (0);\n",
            "}\n"
         ]
      },
      {
         "cell_type": "markdown",
         "metadata": {},
         "source": [
            "### toupper"
         ]
      },
      {
         "cell_type": "markdown",
         "metadata": {},
         "source": [
            "#### ft_toupper.c"
         ]
      },
      {
         "cell_type": "code",
         "execution_count": 26,
         "metadata": {},
         "outputs": [
            {
               "name": "stdout",
               "output_type": "stream",
               "text": [
                  "Overwriting ../libft/ft_toupper.c\n"
               ]
            }
         ],
         "source": [
            "%%file ../libft/ft_toupper.c\n",
            "/* ************************************************************************** */\n",
            "/*                                                                            */\n",
            "/*                                                        :::      ::::::::   */\n",
            "/*   ft_toupper.c                                       :+:      :+:    :+:   */\n",
            "/*                                                    +:+ +:+         +:+     */\n",
            "/*   By: dpentlan <marvin@42.fr>                    +#+  +:+       +#+        */\n",
            "/*                                                +#+#+#+#+#+   +#+           */\n",
            "/*   Created: 2022/11/11 13:06:56 by dpentlan          #+#    #+#             */\n",
            "/*   Updated: 2022/11/11 13:06:58 by dpentlan         ###   ########.fr       */\n",
            "/*                                                                            */\n",
            "/* ************************************************************************** */\n",
            "\n",
            "#include \"libft.h\"\n",
            "\n",
            "int\tft_toupper(int c)\n",
            "{\n",
            "\tif (c >= 97 && c <= 122)\n",
            "\t\treturn (c - 32);\n",
            "\telse\n",
            "\t\treturn (c);\n",
            "}"
         ]
      },
      {
         "cell_type": "markdown",
         "metadata": {},
         "source": [
            "#### toupper_test.c"
         ]
      },
      {
         "cell_type": "code",
         "execution_count": null,
         "metadata": {},
         "outputs": [
            {
               "name": "stdout",
               "output_type": "stream",
               "text": [
                  "Overwriting ../libft_testing/function_remakes/toupper_test.c\n"
               ]
            }
         ],
         "source": [
            "%%file toupper_test.c\n",
            "#include <stdio.h>\n",
            "#include <stdlib.h>\n",
            "#include <string.h>\n",
            "#include <ctype.h>\n",
            "#include \"../libft/libft.h\"\n",
            "\n",
            "int main (int argc, char* argv[])\n",
            "{\n",
            "    char string_src[50] = \"Hi this is a source string.\";\n",
            "    char string_all_ascii_vals[128] = \"\";\n",
            "    int i;\n",
            "    int return_val;\n",
            "    int len;\n",
            "\n",
            "    len = strlen(string_src);\n",
            "    i = 1;\n",
            "\n",
            "    while (i < 128)\n",
            "    {\n",
            "        string_all_ascii_vals[i] = i;\n",
            "        i++;\n",
            "    }\n",
            "\n",
            "    i = 0;\n",
            "    while (i < len)\n",
            "    {\n",
            "        if (atoi(argv[1]) == 0)\n",
            "        {\n",
            "            return_val = toupper(string_src[i]);\n",
            "            printf(\"toupper,%d,%d,%d,%c,%c\\n\", string_src[i], return_val, len, string_src[i], return_val);\n",
            "        }\n",
            "        else if (atoi(argv[1]) == 1)\n",
            "        {\n",
            "            return_val = ft_toupper(string_src[i]);\n",
            "            printf(\"toupper,%d,%d,%d,%c,%c\\n\", string_src[i], return_val, len, string_src[i], return_val);\n",
            "        }\n",
            "        i++;\n",
            "    }\n",
            "\n",
            "    i = 0;\n",
            "    while (i < 128)\n",
            "    {\n",
            "        if (atoi(argv[1]) == 0)\n",
            "        {\n",
            "            return_val = toupper(string_all_ascii_vals[i]);\n",
            "            printf(\"toupper,%d,%d,%d,%c,%c\\n\", string_all_ascii_vals[i], return_val, len, string_all_ascii_vals[i], return_val);\n",
            "        }\n",
            "        else if (atoi(argv[1]) == 1)\n",
            "        {\n",
            "            return_val = ft_toupper(string_all_ascii_vals[i]);\n",
            "            printf(\"toupper,%d,%d,%d,%c,%c\\n\", string_all_ascii_vals[i], return_val, len, string_all_ascii_vals[i], return_val);\n",
            "        }\n",
            "        i++;\n",
            "    }\n",
            "    return (0);\n",
            "}\n"
         ]
      },
      {
         "cell_type": "markdown",
         "metadata": {},
         "source": [
            "### tolower"
         ]
      },
      {
         "cell_type": "markdown",
         "metadata": {},
         "source": [
            "#### ft_tolower.c"
         ]
      },
      {
         "cell_type": "code",
         "execution_count": 27,
         "metadata": {},
         "outputs": [
            {
               "name": "stdout",
               "output_type": "stream",
               "text": [
                  "Overwriting ../libft/ft_tolower.c\n"
               ]
            }
         ],
         "source": [
            "%%file ../libft/ft_tolower.c\n",
            "/* ************************************************************************** */\n",
            "/*                                                                            */\n",
            "/*                                                        :::      ::::::::   */\n",
            "/*   ft_tolower.c                                       :+:      :+:    :+:   */\n",
            "/*                                                    +:+ +:+         +:+     */\n",
            "/*   By: dpentlan <marvin@42.fr>                    +#+  +:+       +#+        */\n",
            "/*                                                +#+#+#+#+#+   +#+           */\n",
            "/*   Created: 2022/11/11 13:57:33 by dpentlan          #+#    #+#             */\n",
            "/*   Updated: 2022/11/11 13:57:37 by dpentlan         ###   ########.fr       */\n",
            "/*                                                                            */\n",
            "/* ************************************************************************** */\n",
            "\n",
            "#include \"libft.h\"\n",
            "\n",
            "int\tft_tolower(int c)\n",
            "{\n",
            "\tif (c >= 65 && c <= 90)\n",
            "\t\treturn (c + 32);\n",
            "\telse\n",
            "\t\treturn (c);\n",
            "}\n"
         ]
      },
      {
         "cell_type": "markdown",
         "metadata": {},
         "source": [
            "#### tolower_test.c"
         ]
      },
      {
         "cell_type": "code",
         "execution_count": 28,
         "metadata": {},
         "outputs": [
            {
               "name": "stdout",
               "output_type": "stream",
               "text": [
                  "Overwriting tolower_test.c\n"
               ]
            }
         ],
         "source": [
            "%%file tolower_test.c\n",
            "#include <stdio.h>\n",
            "#include <stdlib.h>\n",
            "#include <string.h>\n",
            "#include <ctype.h>\n",
            "#include \"../libft/libft.h\"\n",
            "\n",
            "int main (int argc, char* argv[])\n",
            "{\n",
            "    char string_src[50] = \"Hi this is a source string.\";\n",
            "    char string_all_ascii_vals[128] = \"\";\n",
            "    int i;\n",
            "    int return_val;\n",
            "    int len;\n",
            "\n",
            "    len = strlen(string_src);\n",
            "    i = 1;\n",
            "\n",
            "    while (i < 128)\n",
            "    {\n",
            "        string_all_ascii_vals[i] = i;\n",
            "        i++;\n",
            "    }\n",
            "\n",
            "    i = 0;\n",
            "    while (i < len)\n",
            "    {\n",
            "        if (atoi(argv[1]) == 0)\n",
            "        {\n",
            "            return_val = tolower(string_src[i]);\n",
            "            printf(\"tolower,%d,%d,%d,%c,%c\\n\", string_src[i], return_val, len, string_src[i], return_val);\n",
            "        }\n",
            "        else if (atoi(argv[1]) == 1)\n",
            "        {\n",
            "            return_val = ft_tolower(string_src[i]);\n",
            "            printf(\"ft_tolower,%d,%d,%d,%c,%c\\n\", string_src[i], return_val, len, string_src[i], return_val);\n",
            "        }\n",
            "        i++;\n",
            "    }\n",
            "\n",
            "    i = 0;\n",
            "    while (i < 128)\n",
            "    {\n",
            "        if (atoi(argv[1]) == 0)\n",
            "        {\n",
            "            return_val = tolower(string_all_ascii_vals[i]);\n",
            "            printf(\"tolower,%d,%d,%d,%c,%c\\n\", string_all_ascii_vals[i], return_val, len, string_all_ascii_vals[i], return_val);\n",
            "        }\n",
            "        else if (atoi(argv[1]) == 1)\n",
            "        {\n",
            "            return_val = ft_tolower(string_all_ascii_vals[i]);\n",
            "            printf(\"ft_tolower,%d,%d,%d,%c,%c\\n\", string_all_ascii_vals[i], return_val, len, string_all_ascii_vals[i], return_val);\n",
            "        }\n",
            "        i++;\n",
            "    }\n",
            "    return (0);\n",
            "}\n"
         ]
      },
      {
         "cell_type": "markdown",
         "metadata": {},
         "source": [
            "### strchr"
         ]
      },
      {
         "cell_type": "markdown",
         "metadata": {},
         "source": [
            "#### ft_strchr.c"
         ]
      },
      {
         "cell_type": "code",
         "execution_count": 29,
         "metadata": {},
         "outputs": [
            {
               "name": "stdout",
               "output_type": "stream",
               "text": [
                  "Overwriting ../libft/ft_strchr.c\n"
               ]
            }
         ],
         "source": [
            "%%file ../libft/ft_strchr.c\n",
            "/* ************************************************************************** */\n",
            "/*                                                                            */\n",
            "/*                                                        :::      ::::::::   */\n",
            "/*   ft_strchr.c                                        :+:      :+:    :+:   */\n",
            "/*                                                    +:+ +:+         +:+     */\n",
            "/*   By: dpentlan <marvin@42.fr>                    +#+  +:+       +#+        */\n",
            "/*                                                +#+#+#+#+#+   +#+           */\n",
            "/*   Created: 2022/11/11 15:07:07 by dpentlan          #+#    #+#             */\n",
            "/*   Updated: 2022/11/11 15:07:10 by dpentlan         ###   ########.fr       */\n",
            "/*                                                                            */\n",
            "/* ************************************************************************** */\n",
            "\n",
            "#include \"libft.h\"\n",
            "\n",
            "char\t*ft_strchr(const char *s, int c)\n",
            "{\n",
            "\tint\ti;\n",
            "\n",
            "\ti = 0;\n",
            "\twhile (s[i] != 0)\n",
            "\t{\n",
            "\t\tif (s[i] == c)\n",
            "\t\t\treturn ((char *)&s[i]);\n",
            "\t\ti++;\n",
            "\t}\n",
            "\treturn (0);\n",
            "}"
         ]
      },
      {
         "cell_type": "markdown",
         "metadata": {},
         "source": [
            "#### strchr_test.c"
         ]
      },
      {
         "cell_type": "code",
         "execution_count": 30,
         "metadata": {},
         "outputs": [
            {
               "name": "stdout",
               "output_type": "stream",
               "text": [
                  "Overwriting strchr_test.c\n"
               ]
            }
         ],
         "source": [
            "%%file strchr_test.c\n",
            "#include <stdio.h>\n",
            "#include <stdlib.h>\n",
            "#include <string.h>\n",
            "#include \"../libft/libft.h\"\n",
            "\n",
            "int main (int argc, char* argv[])\n",
            "{\n",
            "\tchar \tstring[] = \"Hi there this is a sample string with a lot of characters. The quick brown fox jumps over the lazy dog.\";\n",
            "\tchar*\treturn_val = 0;\n",
            "\tint\t\ti;\n",
            "\tchar \tall_printable[200];\n",
            "\tint\t\tlen;\n",
            "\n",
            "\ti = 32;\n",
            "\twhile(i < 128)\n",
            "\t{\n",
            "\t\tall_printable[i - 32] = i;\n",
            "\t\ti++;\n",
            "\t}\n",
            "\t// >=32 <= 127\n",
            "\n",
            "\ti = 0;\n",
            "\tlen = 95;\t\t//strlen(all_printable);\n",
            "\twhile (i < len)\n",
            "\t{\n",
            "\t\tif (atoi(argv[1]) == 0)\n",
            "\t\t{\n",
            "\t\t\treturn_val = strchr(string, all_printable[i]);\n",
            "\t\t\tprintf(\"strchr,%c,%s\\n\", all_printable[i], return_val);\n",
            "\t\t}\n",
            "\t\telse\n",
            "\t\t{\n",
            "\t\t\treturn_val = ft_strchr(string, all_printable[i]);\n",
            "\t\t\tprintf(\"strchr,%c,%s\\n\", all_printable[i], return_val);\n",
            "\t\t}\n",
            "\t\ti++;\n",
            "\t}\n",
            "\treturn (0);\n",
            "}\n"
         ]
      },
      {
         "cell_type": "markdown",
         "metadata": {},
         "source": [
            "### strrchr"
         ]
      },
      {
         "cell_type": "markdown",
         "metadata": {},
         "source": [
            "- Like strchr but returns the last instance of a char rather than the first."
         ]
      },
      {
         "cell_type": "markdown",
         "metadata": {},
         "source": [
            "#### ft_strrchr.c"
         ]
      },
      {
         "cell_type": "code",
         "execution_count": 31,
         "metadata": {},
         "outputs": [
            {
               "name": "stdout",
               "output_type": "stream",
               "text": [
                  "Overwriting ../libft/ft_strrchr.c\n"
               ]
            }
         ],
         "source": [
            "%%file ../libft/ft_strrchr.c\n",
            "/* ************************************************************************** */\n",
            "/*                                                                            */\n",
            "/*                                                        :::      ::::::::   */\n",
            "/*   ft_strrchr.c                                       :+:      :+:    :+:   */\n",
            "/*                                                    +:+ +:+         +:+     */\n",
            "/*   By: dpentlan <marvin@42.fr>                    +#+  +:+       +#+        */\n",
            "/*                                                +#+#+#+#+#+   +#+           */\n",
            "/*   Created: 2022/11/11 17:18:16 by dpentlan          #+#    #+#             */\n",
            "/*   Updated: 2022/11/11 17:18:18 by dpentlan         ###   ########.fr       */\n",
            "/*                                                                            */\n",
            "/* ************************************************************************** */\n",
            "\n",
            "#include \"libft.h\"\n",
            "\n",
            "char\t*ft_strrchr(const char *s, int c)\n",
            "{\n",
            "\tint\t\ti;\n",
            "\tchar\t*last;\n",
            "\n",
            "\tlast = 0;\n",
            "\ti = 0;\n",
            "\twhile (s[i] != 0)\n",
            "\t{\n",
            "\t\tif (s[i] == c)\n",
            "\t\t\tlast = (char *)&s[i];\n",
            "\t\ti++;\n",
            "\t}\n",
            "\treturn (last);\n",
            "}"
         ]
      },
      {
         "cell_type": "markdown",
         "metadata": {},
         "source": [
            "#### strrchr_test.c"
         ]
      },
      {
         "cell_type": "code",
         "execution_count": 32,
         "metadata": {},
         "outputs": [
            {
               "name": "stdout",
               "output_type": "stream",
               "text": [
                  "Overwriting strrchr_test.c\n"
               ]
            }
         ],
         "source": [
            "%%file strrchr_test.c\n",
            "#include <stdio.h>\n",
            "#include <stdlib.h>\n",
            "#include <string.h>\n",
            "#include \"../libft/libft.h\"\n",
            "\n",
            "//\ta.out takes 2 arguments. \n",
            "//\tFirst is 0 or 1 which indicates which function to use (original or 42)\n",
            "//\tSecond is a string to pass to the function.\n",
            "\n",
            "int main (int argc, char* argv[])\n",
            "{\n",
            "\tchar*\treturn_val = 0;\n",
            "\tint\t\ti;\n",
            "\tchar \tall_printable[200];\n",
            "\tint\t\tlen;\n",
            "\n",
            "\ti = 32;\n",
            "\twhile(i < 128)\n",
            "\t{\n",
            "\t\tall_printable[i - 32] = i;\n",
            "\t\ti++;\n",
            "\t}\n",
            "\t// >=32 <= 127\n",
            "\n",
            "\ti = 0;\n",
            "\tlen = 95;\t\t//strlen(all_printable);\n",
            "\twhile (i < len)\n",
            "\t{\n",
            "\t\tif (atoi(argv[1]) == 0)\n",
            "\t\t{\n",
            "\t\t\treturn_val = strrchr(argv[2], all_printable[i]);\n",
            "\t\t\tprintf(\"strrchr,%s,%c,%s\\n\", argv[2], all_printable[i], return_val);\n",
            "\t\t}\n",
            "\t\telse\n",
            "\t\t{\n",
            "\t\t\treturn_val = ft_strrchr(argv[2], all_printable[i]);\n",
            "\t\t\tprintf(\"strrchr,%s,%c,%s\\n\",argv[2], all_printable[i], return_val);\n",
            "\t\t}\n",
            "\t\ti++;\n",
            "\t}\n",
            "\treturn (0);\n",
            "}\n"
         ]
      },
      {
         "cell_type": "markdown",
         "metadata": {},
         "source": [
            "### strncmp"
         ]
      },
      {
         "cell_type": "markdown",
         "metadata": {},
         "source": [
            "#### ft_strncmp.c"
         ]
      },
      {
         "cell_type": "code",
         "execution_count": 121,
         "metadata": {},
         "outputs": [
            {
               "name": "stdout",
               "output_type": "stream",
               "text": [
                  "Overwriting ../libft/ft_strncmp.c\n"
               ]
            }
         ],
         "source": [
            "%%file ../libft/ft_strncmp.c\n",
            "/* ************************************************************************** */\n",
            "/*                                                                            */\n",
            "/*                                                        :::      ::::::::   */\n",
            "/*   ft_strncmp.c                                       :+:      :+:    :+:   */\n",
            "/*                                                    +:+ +:+         +:+     */\n",
            "/*   By: dpentlan <dpentlan@student.42.fr>          +#+  +:+       +#+        */\n",
            "/*                                                +#+#+#+#+#+   +#+           */\n",
            "/*   Created: 2022/11/13 10:13:09 by dpentlan          #+#    #+#             */\n",
            "/*   Updated: 2022/11/13 10:13:35 by dpentlan         ###   ########.fr       */\n",
            "/*                                                                            */\n",
            "/* ************************************************************************** */\n",
            "\n",
            "#include \"libft.h\"\n",
            "\n",
            "int\tft_strncmp(const char *s1, const char *s2, size_t n)\n",
            "{\n",
            "\tsize_t\ti;\n",
            "\n",
            "\ti = 0;\n",
            "\twhile (s1[i] == s2[i] && s1[i] != '\\0' && i < n)\n",
            "\t\ti++;\n",
            "\tif (i == n)\n",
            "\t\treturn (0);\n",
            "\telse\n",
            "\t\treturn (s1[i] - s2[i]);\n",
            "}"
         ]
      },
      {
         "cell_type": "markdown",
         "metadata": {},
         "source": [
            "#### strncmp_test.c"
         ]
      },
      {
         "cell_type": "code",
         "execution_count": 145,
         "metadata": {},
         "outputs": [
            {
               "name": "stdout",
               "output_type": "stream",
               "text": [
                  "Overwriting strncmp_test.c\n"
               ]
            }
         ],
         "source": [
            "%%file strncmp_test.c\n",
            "#include <stdio.h>\n",
            "#include <string.h>\n",
            "#include <stdlib.h>\n",
            "#include \"../libft/libft.h\"\n",
            "\n",
            "int main (int argc, char *argv[])\n",
            "{\n",
            "\tint n;\n",
            "\tint\treturn_val_1;\n",
            "\tint\treturn_val_2;\n",
            "\n",
            "\tif (atoi(argv[1]) == 0)\n",
            "\t{\n",
            "\t\tprintf(\"Function,Input String 1,Input String 2,Input n,Return Value\\n\");\n",
            "\t}\n",
            "\telse if (atoi(argv[1]) == 1)\n",
            "\t{\n",
            "\t\tn = atoi(argv[4]);\n",
            "\t\treturn_val_1 = strncmp(argv[2], argv[3], n);\n",
            "\t\tprintf(\"strncmp,%s,%s,%d,%d\\n\", argv[2], argv[3], n,return_val_1);\n",
            "\t}\n",
            "\telse if (atoi(argv[1]) == 2)\n",
            "\t{\n",
            "\t\tn = atoi(argv[4]);\n",
            "\t\treturn_val_2 = ft_strncmp(argv[2], argv[3], n);\n",
            "\t\tprintf(\"strncmp,%s,%s,%d,%d\\n\", argv[2], argv[3], n,return_val_2);\n",
            "\t}\n",
            "\n",
            "\treturn (0);\n",
            "}\n"
         ]
      },
      {
         "cell_type": "markdown",
         "metadata": {},
         "source": [
            "### memchr"
         ]
      },
      {
         "cell_type": "markdown",
         "metadata": {},
         "source": [
            "#### ft_memchr.c"
         ]
      },
      {
         "cell_type": "code",
         "execution_count": 35,
         "metadata": {},
         "outputs": [
            {
               "name": "stdout",
               "output_type": "stream",
               "text": [
                  "Overwriting ../libft/ft_memchr.c\n"
               ]
            }
         ],
         "source": [
            "%%file ../libft/ft_memchr.c\n",
            "/* ************************************************************************** */\n",
            "/*                                                                            */\n",
            "/*                                                        :::      ::::::::   */\n",
            "/*   ft_memchr.c                                        :+:      :+:    :+:   */\n",
            "/*                                                    +:+ +:+         +:+     */\n",
            "/*   By: dpentlan <marvin@42.fr>                    +#+  +:+       +#+        */\n",
            "/*                                                +#+#+#+#+#+   +#+           */\n",
            "/*   Created: 2022/11/14 10:58:12 by dpentlan          #+#    #+#             */\n",
            "/*   Updated: 2022/11/14 10:58:16 by dpentlan         ###   ########.fr       */\n",
            "/*                                                                            */\n",
            "/* ************************************************************************** */\n",
            "\n",
            "#include \"libft.h\"\n",
            "\n",
            "void\t*ft_memchr(const void *s, int c, size_t n)\n",
            "{\n",
            "\tsize_t\ti;\n",
            "\n",
            "\ti = 0;\n",
            "\twhile (i < n)\n",
            "\t{\n",
            "\t\tif (*((char *)s + i) == (unsigned char)c)\n",
            "\t\t\treturn (((char *)s + i));\n",
            "\t\ti++;\n",
            "\t}\n",
            "\treturn (0);\n",
            "}\n"
         ]
      },
      {
         "cell_type": "markdown",
         "metadata": {},
         "source": [
            "#### memchr_test.c"
         ]
      },
      {
         "cell_type": "code",
         "execution_count": 36,
         "metadata": {},
         "outputs": [
            {
               "name": "stdout",
               "output_type": "stream",
               "text": [
                  "Overwriting memchr_test.c\n"
               ]
            }
         ],
         "source": [
            "%%file memchr_test.c\n",
            "#include <string.h>\n",
            "#include <stdio.h>\n",
            "#include <stdlib.h>\n",
            "#include \"../libft/libft.h\"\n",
            "\n",
            "int main (int argc, char *argv[])\n",
            "{\n",
            "\tchar\t*return_value;\n",
            "\tsize_t\tlen;\n",
            "\n",
            "\n",
            "\tif (atoi(argv[1]) == 0)\n",
            "\t{\n",
            "\t\tprintf(\"Function,Input String,Search Char,Size,Return Value\");\n",
            "\t}\n",
            "\tif (atoi(argv[1]) == 1)\n",
            "\t{\n",
            "\t\tlen = strlen(argv[2]);\n",
            "\t\treturn_value = memchr(argv[2], argv[3][0], len);\n",
            "\t\tprintf(\"memchr,%s,%c,%ld,%s\\n\", argv[2], argv[3][0], len, return_value);\n",
            "\t}\n",
            "\telse if (atoi(argv[1]) == 2)\n",
            "\t{\n",
            "\t\tlen = strlen(argv[2]);\n",
            "\t\treturn_value = ft_memchr(argv[2], argv[3][0], len);\n",
            "\t\tprintf(\"memchr,%s,%c,%ld,%s\\n\", argv[2], argv[3][0], len, return_value);\n",
            "\t}\n",
            "\treturn (0);\n",
            "}"
         ]
      },
      {
         "cell_type": "markdown",
         "metadata": {},
         "source": [
            "### memcmp"
         ]
      },
      {
         "cell_type": "markdown",
         "metadata": {},
         "source": [
            "#### ft_memcmp.c"
         ]
      },
      {
         "cell_type": "code",
         "execution_count": 37,
         "metadata": {},
         "outputs": [
            {
               "name": "stdout",
               "output_type": "stream",
               "text": [
                  "Overwriting ../libft/ft_memcmp.c\n"
               ]
            }
         ],
         "source": [
            "%%file ../libft/ft_memcmp.c\n",
            "/* ************************************************************************** */\n",
            "/*                                                                            */\n",
            "/*                                                        :::      ::::::::   */\n",
            "/*   ft_memcmp.c                                        :+:      :+:    :+:   */\n",
            "/*                                                    +:+ +:+         +:+     */\n",
            "/*   By: dpentlan <marvin@42.fr>                    +#+  +:+       +#+        */\n",
            "/*                                                +#+#+#+#+#+   +#+           */\n",
            "/*   Created: 2022/11/14 11:58:30 by dpentlan          #+#    #+#             */\n",
            "/*   Updated: 2022/11/14 11:58:33 by dpentlan         ###   ########.fr       */\n",
            "/*                                                                            */\n",
            "/* ************************************************************************** */\n",
            "\n",
            "#include \"libft.h\"\n",
            "\n",
            "int\tft_memcmp(const void *s1, const void *s2, size_t n)\n",
            "{\n",
            "\tsize_t\ti;\n",
            "\n",
            "\ti = 0;\n",
            "\twhile (*((unsigned char *)s1 + i) == *((unsigned char *)s2 + i) && i < n)\n",
            "\t{\n",
            "\t\ti++;\n",
            "\t}\n",
            "\treturn (*((unsigned char *)s1 + i) - *((unsigned char *)s2 + i));\n",
            "}"
         ]
      },
      {
         "cell_type": "markdown",
         "metadata": {},
         "source": [
            "#### memcmp_test.c"
         ]
      },
      {
         "cell_type": "code",
         "execution_count": 38,
         "metadata": {},
         "outputs": [
            {
               "name": "stdout",
               "output_type": "stream",
               "text": [
                  "Overwriting memcmp_test.c\n"
               ]
            }
         ],
         "source": [
            "%%file memcmp_test.c\n",
            "#include <stdio.h>\n",
            "#include <stdlib.h>\n",
            "#include <string.h>\n",
            "#include \"../libft/libft.h\"\n",
            "#include <math.h>\n",
            "\n",
            "int main (int argc, char* argv[])\n",
            "{\n",
            "\tint return_value;\n",
            "\n",
            "\n",
            "\treturn_value = 0;\n",
            "\tif (atoi(argv[1]) == 0)\n",
            "\t{\n",
            "\t\tprintf(\"Function,Input String,Cmp String,Size,Return Value(d),Return Value(c)\");\n",
            "\n",
            "\t}\n",
            "\telse if (atoi(argv[1]) == 1)\n",
            "\t{\n",
            "\t\treturn_value = memcmp(argv[2], argv[3], atoi(argv[4]));\n",
            "\t\tprintf(\"memcmp,%s,%s,%d,%d,%c\\n\", argv[2], argv[3], atoi(argv[4]), return_value, abs(return_value));\n",
            "\t}\n",
            "\telse if (atoi(argv[1]) == 2)\n",
            "\t{\n",
            "\t\treturn_value = ft_memcmp(argv[2], argv[3], atoi(argv[4]));\n",
            "\t\tprintf(\"ft_memcmp,%s,%s,%d,%d,%c\\n\", argv[2], argv[3], atoi(argv[4]), return_value, abs(return_value));\n",
            "\t}\n",
            "\treturn (0);\n",
            "}"
         ]
      },
      {
         "cell_type": "markdown",
         "metadata": {},
         "source": [
            "### strnstr"
         ]
      },
      {
         "cell_type": "markdown",
         "metadata": {},
         "source": [
            "#### ft_strnstr.c"
         ]
      },
      {
         "cell_type": "code",
         "execution_count": 39,
         "metadata": {},
         "outputs": [
            {
               "name": "stdout",
               "output_type": "stream",
               "text": [
                  "Overwriting ../libft/ft_strnstr.c\n"
               ]
            }
         ],
         "source": [
            "%%file ../libft/ft_strnstr.c\n",
            "/* ************************************************************************** */\n",
            "/*                                                                            */\n",
            "/*                                                        :::      ::::::::   */\n",
            "/*   ft_strnstr.c                                       :+:      :+:    :+:   */\n",
            "/*                                                    +:+ +:+         +:+     */\n",
            "/*   By: dpentlan <marvin@42.fr>                    +#+  +:+       +#+        */\n",
            "/*                                                +#+#+#+#+#+   +#+           */\n",
            "/*   Created: 2022/11/14 14:39:37 by dpentlan          #+#    #+#             */\n",
            "/*   Updated: 2022/11/14 14:39:38 by dpentlan         ###   ########.fr       */\n",
            "/*                                                                            */\n",
            "/* ************************************************************************** */\n",
            "\n",
            "#include \"libft.h\"\n",
            "\n",
            "char\t*ft_strnstr(const char *big, const char *little, size_t len)\n",
            "{\n",
            "\tsize_t\ti;\n",
            "\tsize_t\tj;\n",
            "\n",
            "\ti = 0;\n",
            "\tif (*little == 0)\n",
            "\t\treturn ((char *)big);\n",
            "\twhile (big[i] && i < len)\n",
            "\t{\n",
            "\t\tj = 0;\n",
            "\t\twhile (big[i + j] == little[j] && little[j] != 0)\n",
            "\t\t{\n",
            "\t\t\tj++;\n",
            "\t\t}\n",
            "\t\tif (little[j] == 0 && i + j <= len)\n",
            "\t\t\treturn ((char *)big + i);\n",
            "\t\ti++;\n",
            "\t}\n",
            "\treturn (0);\n",
            "}"
         ]
      },
      {
         "cell_type": "markdown",
         "metadata": {},
         "source": [
            "#### strnstr_test.c"
         ]
      },
      {
         "cell_type": "code",
         "execution_count": 70,
         "metadata": {},
         "outputs": [
            {
               "name": "stdout",
               "output_type": "stream",
               "text": [
                  "Overwriting strnstr_test.c\n"
               ]
            }
         ],
         "source": [
            "%%file strnstr_test.c\n",
            "#include <stdio.h>\n",
            "#include <stdlib.h>\n",
            "#include <bsd/string.h>\n",
            "#include \"../libft/libft.h\"\n",
            "#include <math.h>\n",
            "\n",
            "int main (int argc, char* argv[])\n",
            "{\n",
            "\tchar\t*return_value;\n",
            "\n",
            "\treturn_value = 0;\n",
            "\tif (atoi(argv[1]) == 0)\n",
            "\t{\n",
            "\t\tprintf(\"Function,Big,Little,len,Return Value\\n\");\n",
            "\t}\n",
            "\telse if (atoi(argv[1]) == 1)\n",
            "\t{\n",
            "\t\treturn_value = strnstr(argv[2], argv[3], atoi(argv[4]));\n",
            "\t\tprintf(\"strnstr,%s,%s,%d,%s\\n\", argv[2], argv[3], atoi(argv[4]), return_value);\n",
            "\t}\n",
            "\telse if (atoi(argv[1]) == 2)\n",
            "\t{\n",
            "\t\treturn_value = ft_strnstr(argv[2], argv[3], atoi(argv[4]));\n",
            "\t\tprintf(\"strnstr,%s,%s,%d,%s\\n\", argv[2], argv[3], atoi(argv[4]), return_value);\n",
            "\t}\n",
            "\treturn (0);\n",
            "}"
         ]
      },
      {
         "cell_type": "markdown",
         "metadata": {},
         "source": [
            "### atoi"
         ]
      },
      {
         "cell_type": "markdown",
         "metadata": {},
         "source": [
            "#### ft_atoi.c"
         ]
      },
      {
         "cell_type": "code",
         "execution_count": 145,
         "metadata": {},
         "outputs": [
            {
               "name": "stdout",
               "output_type": "stream",
               "text": [
                  "Overwriting ../libft/ft_atoi.c\n"
               ]
            }
         ],
         "source": [
            "%%file ../libft/ft_atoi.c\n",
            "/* ************************************************************************** */\n",
            "/*                                                                            */\n",
            "/*                                                        :::      ::::::::   */\n",
            "/*   ft_atoi.c                                          :+:      :+:    :+:   */\n",
            "/*                                                    +:+ +:+         +:+     */\n",
            "/*   By: dpentlan <dpentlan@student.42.fr>          +#+  +:+       +#+        */\n",
            "/*                                                +#+#+#+#+#+   +#+           */\n",
            "/*   Created: 2022/11/16 10:15:41 by dpentlan          #+#    #+#             */\n",
            "/*   Updated: 2022/11/16 10:15:42 by dpentlan         ###   ########.fr       */\n",
            "/*                                                                            */\n",
            "/* ************************************************************************** */\n",
            "\n",
            "#include \"libft.h\"\n",
            "\n",
            "int\tint_build(char *str)\n",
            "{\n",
            "\tint\tret_int;\n",
            "\n",
            "\tret_int = 0;\n",
            "\twhile (*str >= '0' && *str <= '9')\n",
            "\t{\n",
            "\t\tret_int += *str - '0';\n",
            "\t\tif (str[1] >= '0' && str[1] <= '9')\n",
            "\t\t\tret_int *= 10;\n",
            "\t\tstr++;\n",
            "\t}\n",
            "\treturn (ret_int);\n",
            "}\n",
            "\n",
            "int\tft_atoi(const char *nptr)\n",
            "{\n",
            "\tint\tmult;\n",
            "\n",
            "\tmult = 1;\n",
            "\twhile (*nptr == 32 || *nptr == '\\f' || *nptr == '\\n'\n",
            "\t\t|| *nptr == '\\r' || *nptr == '\\t' || *nptr == '\\v')\n",
            "\t\tnptr++;\n",
            "\twhile (*nptr == '-' || *nptr == 43)\n",
            "\t{\n",
            "\t\tif (*nptr == '-')\n",
            "\t\t\tmult *= -1;\n",
            "\t\tnptr++;\n",
            "\t}\n",
            "\twhile (*nptr)\n",
            "\t{\n",
            "\t\tif (*nptr >= '0' && *nptr <= '9')\n",
            "\t\t\treturn (int_build((char *)nptr) * mult);\n",
            "\t\telse\n",
            "\t\t\treturn (0);\n",
            "\t}\n",
            "\treturn (0);\n",
            "}\n"
         ]
      },
      {
         "cell_type": "markdown",
         "metadata": {},
         "source": [
            "#### atoi_test.c"
         ]
      },
      {
         "cell_type": "code",
         "execution_count": 36,
         "metadata": {},
         "outputs": [
            {
               "name": "stdout",
               "output_type": "stream",
               "text": [
                  "Overwriting atoi_test.c\n"
               ]
            }
         ],
         "source": [
            "%%file atoi_test.c\n",
            "#include <stdio.h>\n",
            "#include <stdlib.h>\n",
            "#include <string.h>\n",
            "#include \"../libft/libft.h\"\n",
            "#include <math.h>\n",
            "\n",
            "int main (int argc, char *argv[])\n",
            "{\n",
            "\tint\treturn_value;\n",
            "\n",
            "\treturn_value = 0;\n",
            "\tif (atoi(argv[1]) == 0)\n",
            "\t{\n",
            "\t\tprintf(\"Function,Input String, Return Int\\n\");\n",
            "\t}\n",
            "\telse if (atoi(argv[1]) == 1)\n",
            "\t{\n",
            "\t\treturn_value = atoi(argv[2]);\n",
            "\t\tprintf(\"atoi,%s,%d\\n\", argv[2], return_value);\n",
            "\t}\n",
            "\telse if (atoi(argv[1]) == 2)\n",
            "\t{\n",
            "\t\treturn_value = ft_atoi(argv[2]);\n",
            "\t\tprintf(\"atoi,%s,%d\\n\", argv[2], return_value);\n",
            "\t}\n",
            "\treturn (0);\n",
            "}"
         ]
      },
      {
         "cell_type": "code",
         "execution_count": 13,
         "metadata": {},
         "outputs": [
            {
               "name": "stdout",
               "output_type": "stream",
               "text": [
                  "atoi,2147483650,-2147483646\n"
               ]
            }
         ],
         "source": [
            "%%bash\n",
            "gcc atoi_test.c -L../libft/\t-lft\n",
            "./a.out 1 \"2147483650\""
         ]
      },
      {
         "cell_type": "markdown",
         "metadata": {},
         "source": [
            "### calloc"
         ]
      },
      {
         "cell_type": "markdown",
         "metadata": {},
         "source": [
            "#### ft_calloc.c\n",
            "- Need to allocate like with malloc and initiate all memory to 0 with bzero."
         ]
      },
      {
         "cell_type": "code",
         "execution_count": 158,
         "metadata": {},
         "outputs": [
            {
               "name": "stdout",
               "output_type": "stream",
               "text": [
                  "Overwriting ../libft/ft_calloc.c\n"
               ]
            }
         ],
         "source": [
            "%%file ../libft/ft_calloc.c\n",
            "/* ************************************************************************** */\n",
            "/*                                                                            */\n",
            "/*                                                        :::      ::::::::   */\n",
            "/*   ft_calloc.c                                        :+:      :+:    :+:   */\n",
            "/*                                                    +:+ +:+         +:+     */\n",
            "/*   By: dpentlan <dpentlan@student.42.fr>          +#+  +:+       +#+        */\n",
            "/*                                                +#+#+#+#+#+   +#+           */\n",
            "/*   Created: 2022/11/17 10:57:36 by dpentlan          #+#    #+#             */\n",
            "/*   Updated: 2022/11/17 10:57:39 by dpentlan         ###   ########.fr       */\n",
            "/*                                                                            */\n",
            "/* ************************************************************************** */\n",
            "\n",
            "#include \"libft.h\"\n",
            "\n",
            "void\t*ft_calloc(size_t num_elem, size_t elem_size)\n",
            "{\n",
            "\tregister void\t*ptr;\n",
            "\n",
            "\tif (num_elem == 0 || elem_size == 0)\n",
            "\t{\n",
            "\t\tnum_elem = 1;\n",
            "\t\telem_size = 1;\n",
            "\t}\n",
            "\tptr = malloc(num_elem * elem_size);\n",
            "\tif (ptr)\n",
            "\t\tft_bzero (ptr, num_elem * elem_size);\n",
            "\treturn (ptr);\n",
            "}"
         ]
      },
      {
         "cell_type": "markdown",
         "metadata": {},
         "source": [
            "#### calloc_test.c"
         ]
      },
      {
         "cell_type": "code",
         "execution_count": 15,
         "metadata": {},
         "outputs": [
            {
               "name": "stdout",
               "output_type": "stream",
               "text": [
                  "Overwriting calloc_test.c\n"
               ]
            }
         ],
         "source": [
            "%%file calloc_test.c\n",
            "#include <stdio.h>\n",
            "#include <stdlib.h>\n",
            "#include <string.h>\n",
            "#include \"../libft/libft.h\"\n",
            "#include <math.h>\n",
            "\n",
            "int main (int argc, char *argv[])\n",
            "{\n",
            "\tint\treturn_value;\n",
            "\tchar\t*ptr;\n",
            "\tint\ti;\n",
            "\tsize_t\tnum_elem;\n",
            "\t\n",
            "\tnum_elem = atoi(argv[2]);\n",
            "\treturn_value = 0;\n",
            "\tif (atoi(argv[1]) == 0)\n",
            "\t{\n",
            "\t\tprintf(\"Function,Number Elements,Size Elements,Direct Memory Print(Before strlcpy),Direct Memory Print(After strlcpy)\\n\");\n",
            "\t}\n",
            "\telse if (atoi(argv[1]) == 1)\n",
            "\t{\n",
            "\t\tptr = (char *)calloc(num_elem, sizeof(char));\n",
            "\t\tprintf(\"calloc,%ld,%ld,\", num_elem, sizeof(char));\n",
            "\t\ti = 0;\n",
            "\t\twhile (i < num_elem) \n",
            "\t\t{\n",
            "\t\t\tprintf(\"%c \", ptr[i]);\n",
            "\t\t\ti++;\n",
            "\t\t}\n",
            "\t\tft_strlcpy(ptr, argv[3], num_elem);\n",
            "\t\tprintf(\",\");\n",
            "\t\ti = 0;\n",
            "\t\twhile (i < num_elem) \n",
            "\t\t{\n",
            "\t\t\tprintf(\"%c \", ptr[i]);\n",
            "\t\t\ti++;\n",
            "\t\t}\n",
            "\t\tprintf(\"\\n\");\n",
            "\t\tfree(ptr);\n",
            "\t}\n",
            "\telse if (atoi(argv[1]) == 2)\n",
            "\t{\n",
            "\t\tptr = (char *)ft_calloc(num_elem, sizeof(char));\n",
            "\t\tprintf(\"calloc,%ld,%ld,\", num_elem, sizeof(char));\n",
            "\t\ti = 0;\n",
            "\t\twhile (i < num_elem) \n",
            "\t\t{\n",
            "\t\t\tprintf(\"%c \", ptr[i]);\n",
            "\t\t\ti++;\n",
            "\t\t}\n",
            "\t\tft_strlcpy(ptr, argv[3], num_elem);\n",
            "\t\tprintf(\",\");\n",
            "\t\ti = 0;\n",
            "\t\twhile (i < num_elem) \n",
            "\t\t{\n",
            "\t\t\tprintf(\"%c \", ptr[i]);\n",
            "\t\t\ti++;\n",
            "\t\t}\n",
            "\t\tprintf(\"\\n\");\n",
            "\t\tfree(ptr);\n",
            "\t}\n",
            "\treturn (0);\n",
            "}"
         ]
      },
      {
         "cell_type": "code",
         "execution_count": 106,
         "metadata": {},
         "outputs": [
            {
               "name": "stdout",
               "output_type": "stream",
               "text": [
                  "Function,Number Elements,Size Elements,Direct Memory Print(Before strlcpy),Direct Memory Print(After strlcpy)\n",
                  "calloc,10,1,\u0000 \u0000 \u0000 \u0000 \u0000 \u0000 \u0000 \u0000 \u0000 \u0000 ,H e l l o   h o w \u0000 \n",
                  "ft_calloc,10,1,\u0000 \u0000 \u0000 \u0000 \u0000 \u0000 \u0000 \u0000 \u0000 \u0000 ,H e l l o   h o w \u0000 \n"
               ]
            }
         ],
         "source": [
            "%%bash\n",
            "gcc calloc_test.c -L../libft/ -lft\n",
            "./a.out 0 0 \n",
            "./a.out 1 10 \"Hello how are you\"\n",
            "./a.out 2 10 \"Hello how are you\""
         ]
      },
      {
         "cell_type": "markdown",
         "metadata": {},
         "source": [
            "### strdup"
         ]
      },
      {
         "cell_type": "markdown",
         "metadata": {},
         "source": [
            "#### ft_strdup.c"
         ]
      },
      {
         "cell_type": "code",
         "execution_count": 150,
         "metadata": {},
         "outputs": [
            {
               "name": "stdout",
               "output_type": "stream",
               "text": [
                  "Overwriting ../libft/ft_strdup.c\n"
               ]
            }
         ],
         "source": [
            "%%file ../libft/ft_strdup.c\n",
            "/* ************************************************************************** */\n",
            "/*                                                                            */\n",
            "/*                                                        :::      ::::::::   */\n",
            "/*   ft_strdup.c                                        :+:      :+:    :+:   */\n",
            "/*                                                    +:+ +:+         +:+     */\n",
            "/*   By: dpentlan <dpentlan@student.42.fr>          +#+  +:+       +#+        */\n",
            "/*                                                +#+#+#+#+#+   +#+           */\n",
            "/*   Created: 2022/11/17 13:22:54 by dpentlan          #+#    #+#             */\n",
            "/*   Updated: 2022/11/17 13:23:34 by dpentlan         ###   ########.fr       */\n",
            "/*                                                                            */\n",
            "/* ************************************************************************** */\n",
            "\n",
            "#include \"libft.h\"\n",
            "\n",
            "char\t*ft_strdup(const char *src)\n",
            "{\n",
            "\tchar\t*str_ret;\n",
            "\tint\t\tsrc_len;\n",
            "\tint\t\ti;\n",
            "\n",
            "\ti = 0;\n",
            "\tsrc_len = ft_strlen(src);\n",
            "\tstr_ret = (char *)malloc(src_len * sizeof(char) + 1);\n",
            "\tif (!str_ret)\n",
            "\t\treturn (0);\n",
            "\twhile (src[i])\n",
            "\t{\n",
            "\t\tstr_ret[i] = src[i];\n",
            "\t\ti++;\n",
            "\t}\n",
            "\tstr_ret[i] = '\\0';\n",
            "\treturn (str_ret);\n",
            "}\n"
         ]
      },
      {
         "cell_type": "markdown",
         "metadata": {},
         "source": [
            "#### strdup_test.c"
         ]
      },
      {
         "cell_type": "code",
         "execution_count": 73,
         "metadata": {},
         "outputs": [
            {
               "name": "stdout",
               "output_type": "stream",
               "text": [
                  "Overwriting strdup_test.c\n"
               ]
            }
         ],
         "source": [
            "%%file strdup_test.c\n",
            "#include <stdio.h>\n",
            "#include <stdlib.h>\n",
            "#include <string.h>\n",
            "#include \"../libft/libft.h\"\n",
            "#include <math.h>\n",
            "\n",
            "int main (int argc, char *argv[])\n",
            "{\n",
            "\tchar\t*return_string;\n",
            "\tsize_t\tnum_elem;\n",
            "\t\n",
            "\tif (atoi(argv[1]) == 0)\n",
            "\t{\n",
            "\t\tprintf(\"Function,Input String,Return String\\n\");\n",
            "\t}\n",
            "\telse if (atoi(argv[1]) == 1)\n",
            "\t{\n",
            "\t\treturn_string = strdup(argv[2]);\n",
            "\t\tprintf(\"strdup,%s,%s\\n\", argv[2], return_string);\n",
            "\t\tfree(return_string);\n",
            "\t}\n",
            "\telse if (atoi(argv[1]) == 2)\n",
            "\t{\n",
            "\t\treturn_string = ft_strdup(argv[2]);\n",
            "\t\tprintf(\"strdup,%s,%s\\n\", argv[2], return_string);\n",
            "\t\tfree(return_string);\n",
            "\t}\n",
            "\treturn (0);\n",
            "}"
         ]
      },
      {
         "cell_type": "code",
         "execution_count": 60,
         "metadata": {},
         "outputs": [
            {
               "name": "stdout",
               "output_type": "stream",
               "text": [
                  "Function,Input String,Return String\n",
                  "strdup,This is a sample string,This is a sample string\n",
                  "ft_strdup,This is a sample string,This is a sample string\n"
               ]
            }
         ],
         "source": [
            "%%bash\n",
            "gcc strdup_test.c -L../libft/ -lft\n",
            "./a.out 0 0 \n",
            "./a.out 1 \"This is a sample string\"\n",
            "./a.out 2 \"This is a sample string\""
         ]
      },
      {
         "cell_type": "markdown",
         "metadata": {},
         "source": [
            "### substr"
         ]
      },
      {
         "cell_type": "markdown",
         "metadata": {},
         "source": [
            "#### ft_substr.c"
         ]
      },
      {
         "cell_type": "code",
         "execution_count": 124,
         "metadata": {},
         "outputs": [
            {
               "name": "stdout",
               "output_type": "stream",
               "text": [
                  "Overwriting ../libft/ft_substr.c\n"
               ]
            }
         ],
         "source": [
            "%%file ../libft/ft_substr.c\n",
            "/* ************************************************************************** */\n",
            "/*                                                                            */\n",
            "/*                                                        :::      ::::::::   */\n",
            "/*   ft_substr.c                                        :+:      :+:    :+:   */\n",
            "/*                                                    +:+ +:+         +:+     */\n",
            "/*   By: dpentlan <dpentlan@student.42.fr>          +#+  +:+       +#+        */\n",
            "/*                                                +#+#+#+#+#+   +#+           */\n",
            "/*   Created: 2022/11/17 14:00:02 by dpentlan          #+#    #+#             */\n",
            "/*   Updated: 2022/11/17 14:00:15 by dpentlan         ###   ########.fr       */\n",
            "/*                                                                            */\n",
            "/* ************************************************************************** */\n",
            "\n",
            "#include \"libft.h\"\n",
            "\n",
            "char\t*ft_substr(char const *s, unsigned int start, size_t len)\n",
            "{\n",
            "\tchar\t*ptr;\n",
            "\n",
            "\tptr = (char *)malloc((len + 1) * sizeof(char));\n",
            "\tif (ptr)\n",
            "\t\tft_bzero(ptr, (len + 1));\n",
            "\tif (ptr)\n",
            "\t\tft_strlcpy(ptr, (char *)s + start, (len + 1));\n",
            "\treturn (ptr);\n",
            "}"
         ]
      },
      {
         "cell_type": "markdown",
         "metadata": {},
         "source": [
            "#### substr_test.c"
         ]
      },
      {
         "cell_type": "code",
         "execution_count": 115,
         "metadata": {},
         "outputs": [
            {
               "name": "stdout",
               "output_type": "stream",
               "text": [
                  "Overwriting substr_test.c\n"
               ]
            }
         ],
         "source": [
            "%%file substr_test.c\n",
            "#include <stdio.h>\n",
            "#include <stdlib.h>\n",
            "#include <string.h>\n",
            "#include \"../libft/libft.h\"\n",
            "#include <math.h>\n",
            "\n",
            "int main (int argc, char *argv[])\n",
            "{\n",
            "\tchar *return_value;\n",
            "\n",
            "\treturn_value = 0;\n",
            "\tif (atoi(argv[1]) == 0)\n",
            "\t{\n",
            "\t\tprintf(\"Function,Input String,Input Start,Input len,Return Value\\n\");\n",
            "\t}\n",
            "\telse if (atoi(argv[1]) == 1)\n",
            "\t{\n",
            "\t\t//return_value = atoi(argv[2]);\n",
            "\t\t//printf(\"atoi,%s,%d\\n\", argv[2], return_value);\n",
            "\t}\n",
            "\telse if (atoi(argv[1]) == 2)\n",
            "\t{\n",
            "\t\treturn_value = ft_substr(argv[2], atoi(argv[3]), atoi(argv[4]));\n",
            "\t\tprintf(\"ft_substr,%s,%d,%d,%s\\n\", argv[2], atoi(argv[3]), atoi(argv[4]), return_value);\n",
            "\t\tfree(return_value);\n",
            "\t}\n",
            "\treturn (0);\n",
            "}"
         ]
      },
      {
         "cell_type": "code",
         "execution_count": 130,
         "metadata": {},
         "outputs": [
            {
               "name": "stdout",
               "output_type": "stream",
               "text": [
                  "Function,Input String,Input Start,Input len,Return Value\n",
                  "ft_substr,This is the input String,24,1,\n"
               ]
            }
         ],
         "source": [
            "%%bash\n",
            "gcc substr_test.c -L../libft/ -lft\n",
            "./a.out 0\n",
            "./a.out 2 \"This is the input String\" 24 1"
         ]
      },
      {
         "cell_type": "markdown",
         "metadata": {},
         "source": [
            "### strjoin"
         ]
      },
      {
         "cell_type": "markdown",
         "metadata": {},
         "source": [
            "#### ft_strjoin.c"
         ]
      },
      {
         "cell_type": "code",
         "execution_count": 32,
         "metadata": {},
         "outputs": [
            {
               "name": "stdout",
               "output_type": "stream",
               "text": [
                  "Overwriting ../libft/ft_strjoin.c\n"
               ]
            }
         ],
         "source": [
            "%%file ../libft/ft_strjoin.c\n",
            "/* ************************************************************************** */\n",
            "/*                                                                            */\n",
            "/*                                                        :::      ::::::::   */\n",
            "/*   ft_strjoin.c                                       :+:      :+:    :+:   */\n",
            "/*                                                    +:+ +:+         +:+     */\n",
            "/*   By: dpentlan <dpentlan@student.42.fr>                    +#+  +:+       +#+        */\n",
            "/*                                                +#+#+#+#+#+   +#+           */\n",
            "/*   Created: 2022/11/17 15:16:23 by dpentlan          #+#    #+#             */\n",
            "/*   Updated: 2022/11/17 15:16:34 by dpentlan         ###   ########.fr       */\n",
            "/*                                                                            */\n",
            "/* ************************************************************************** */\n",
            "\n",
            "#include \"libft.h\"\n",
            "#include <stdio.h>\n",
            "\n",
            "char\t*ft_strjoin(char const *s1, char const *s2)\n",
            "{\n",
            "\tchar\t*ptr;\n",
            "\tsize_t\ts1_len;\n",
            "\tsize_t\ts2_len;\n",
            "\n",
            "\ts1_len = ft_strlen(s1);\n",
            "\ts2_len = ft_strlen(s2);\n",
            "\tptr = (char *)malloc((s1_len + s2_len + 1) * sizeof(char));\n",
            "\tif (ptr)\n",
            "\t{\n",
            "\t\tft_bzero(ptr, (s1_len + s2_len + 1));\n",
            "\t\tft_memcpy(ptr, (char *)s1, s1_len);\n",
            "\t\tft_memcpy((ptr + s1_len), (char *)s2, s2_len);\n",
            "\t}\n",
            "\treturn (ptr);\n",
            "}\n"
         ]
      },
      {
         "cell_type": "markdown",
         "metadata": {},
         "source": [
            "#### strjoin_test.c"
         ]
      },
      {
         "cell_type": "code",
         "execution_count": 43,
         "metadata": {},
         "outputs": [
            {
               "name": "stdout",
               "output_type": "stream",
               "text": [
                  "Overwriting strjoin_test.c\n"
               ]
            }
         ],
         "source": [
            "%%file strjoin_test.c\n",
            "#include <stdio.h>\n",
            "#include <stdlib.h>\n",
            "#include <string.h>\n",
            "#include \"../libft/libft.h\"\n",
            "#include <math.h>\n",
            "\n",
            "int main (int argc, char *argv[])\n",
            "{\n",
            "\tchar *return_value;\n",
            "\n",
            "\treturn_value = 0;\n",
            "\tif (atoi(argv[1]) == 0)\n",
            "\t{\n",
            "\t\tprintf(\"Function,s1,s1 len,s2,s2 len,Return Value,Return Value len\\n\");\n",
            "\t}\n",
            "\telse if (atoi(argv[1]) == 1)\n",
            "\t{\n",
            "\t}\n",
            "\telse if (atoi(argv[1]) == 2)\n",
            "\t{\n",
            "\t\treturn_value = ft_strjoin(argv[2], argv[3]);\n",
            "\t\tprintf(\"ft_strjoin,%s,%ld,%s,%ld,%s,%ld\\n\", argv[2], strlen(argv[2]), argv[3], strlen(argv[3]), return_value, strlen(return_value));\n",
            "\t\tfree(return_value);\n",
            "\t}\n",
            "\treturn (0);\n",
            "}"
         ]
      },
      {
         "cell_type": "code",
         "execution_count": 44,
         "metadata": {},
         "outputs": [
            {
               "name": "stdout",
               "output_type": "stream",
               "text": [
                  "Function,s1,s1 len,s2,s2 len,Return Value,Return Value len\n",
                  "ft_strjoin,First,5,Second,6,FirstSecond,11\n"
               ]
            }
         ],
         "source": [
            "%%bash\n",
            "gcc strjoin_test.c -L../libft/ -lft\n",
            "./a.out 0\n",
            "./a.out 2 \"First\" \"Second\""
         ]
      },
      {
         "cell_type": "markdown",
         "metadata": {},
         "source": [
            "### strtrim"
         ]
      },
      {
         "cell_type": "markdown",
         "metadata": {},
         "source": [
            "#### ft_strtrim.c"
         ]
      },
      {
         "cell_type": "code",
         "execution_count": 138,
         "metadata": {},
         "outputs": [
            {
               "name": "stdout",
               "output_type": "stream",
               "text": [
                  "Overwriting ../libft/ft_strtrim.c\n"
               ]
            }
         ],
         "source": [
            "%%file ../libft/ft_strtrim.c\n",
            "/* ************************************************************************** */\n",
            "/*                                                                            */\n",
            "/*                                                        :::      ::::::::   */\n",
            "/*   ft_strtrim.c                                       :+:      :+:    :+:   */\n",
            "/*                                                    +:+ +:+         +:+     */\n",
            "/*   By: dpentlan <dpentlan@student.42.fr>          +#+  +:+       +#+        */\n",
            "/*                                                +#+#+#+#+#+   +#+           */\n",
            "/*   Created: 2022/11/17 17:20:47 by dpentlan          #+#    #+#             */\n",
            "/*   Updated: 2022/11/17 17:21:34 by dpentlan         ###   ########.fr       */\n",
            "/*                                                                            */\n",
            "/* ************************************************************************** */\n",
            "\n",
            "#include \"libft.h\"\n",
            "\n",
            "int\tin_charset(char c, char *set)\n",
            "{\n",
            "\tint i;\n",
            "\n",
            "\ti = 0;\n",
            "\twhile (set)\n",
            "\t{\n",
            "\t\tif (set[0] == c)\n",
            "\n",
            "\t}\n",
            "\n",
            "}\n",
            "\n",
            "char\t*ft_strtrim(char const *s1, char const *set)\n",
            "{\n",
            "\t\n",
            "\t\n",
            "}"
         ]
      },
      {
         "cell_type": "markdown",
         "metadata": {},
         "source": [
            "#### strtrim_test.c"
         ]
      },
      {
         "cell_type": "code",
         "execution_count": null,
         "metadata": {},
         "outputs": [],
         "source": []
      },
      {
         "cell_type": "markdown",
         "metadata": {},
         "source": [
            "## Makefile"
         ]
      },
      {
         "cell_type": "markdown",
         "metadata": {},
         "source": [
            "#### Makefile"
         ]
      },
      {
         "cell_type": "code",
         "execution_count": 1,
         "metadata": {},
         "outputs": [
            {
               "name": "stdout",
               "output_type": "stream",
               "text": [
                  "Overwriting ../libft/Makefile\n"
               ]
            }
         ],
         "source": [
            "%%file ../libft/Makefile\n",
            "# **************************************************************************** #\n",
            "#                                                                              #\n",
            "#                                                         :::      ::::::::    #\n",
            "#    Makefile                                           :+:      :+:    :+:    #\n",
            "#                                                     +:+ +:+         +:+      #\n",
            "#    By: dpentlan <marvin@42.fr>                    +#+  +:+       +#+         #\n",
            "#                                                 +#+#+#+#+#+   +#+            #\n",
            "#    Created: 2022/11/07 14:36:56 by dpentlan          #+#    #+#              #\n",
            "#    Updated: 2022/11/07 14:36:58 by dpentlan         ###   ########.fr        #\n",
            "#                                                                              #\n",
            "# **************************************************************************** #\n",
            "\n",
            "# This makefile is going to compile all the .c source files into .o object files\n",
            "# Then package them with the archiver \"ar\" command. \n",
            "\n",
            "NAME = libft.a\n",
            "\n",
            "SRCS =  ft_isalpha.c \\\n",
            "        ft_isdigit.c \\\n",
            "\tft_isalnum.c \\\n",
            "        ft_isascii.c \\\n",
            "        ft_isprint.c \\\n",
            "        ft_strlen.c \\\n",
            "        ft_memset.c \\\n",
            "        ft_bzero.c \\\n",
            "        ft_memcpy.c \\\n",
            "        ft_memmove.c \\\n",
            "        ft_strlcpy.c \\\n",
            "        ft_strlcat.c \\\n",
            "        ft_toupper.c \\\n",
            "        ft_tolower.c \\\n",
            "        ft_strchr.c \\\n",
            "        ft_strrchr.c \\\n",
            "        ft_strncmp.c \\\n",
            "        ft_memchr.c \\\n",
            "        ft_memcmp.c \\\n",
            "        ft_strnstr.c \\\n",
            "        ft_atoi.c \\\n",
            "        ft_calloc.c \\\n",
            "        ft_strdup.c \\\n",
            "        ft_substr.c \\\n",
            "        ft_strjoin.c \\\n",
            "        # ft_strtrim.c\n",
            "# ft_split.c \\ \n",
            "# ft_itoa.c \\ \n",
            "# ft_strmapi.c \\ \n",
            "# ft_striteri.c \\ \n",
            "# ft_putchar_fd.c \\ \n",
            "# ft_putstr_fd.c \\ \n",
            "# ft_putendl_fd.c \\ \n",
            "# ft_putnbr_fd.c \\ \n",
            "# Not finished. Check Bonus.\n",
            "\n",
            "# Need to look up the syntax here.\n",
            "OBJS = ${SRCS:.c=.o}\n",
            "\n",
            "INCS = libft.h\n",
            "\n",
            "CFLAGS = -Wall -Wextra -Werror\n",
            "\n",
            "all: $(NAME)\n",
            "\n",
            "$(NAME): $(OBJS) $(INCS)\n",
            "\tar rcs $(NAME) -o $(OBJS)\n",
            "\n",
            "# Need to look up the syntax here.\n",
            ".c.o:\n",
            "\tgcc ${CFLAGS} -c $< -o ${<:.c=.o}\n",
            "\n",
            "# clean only deletes object files.\n",
            "clean:\n",
            "\trm -f $(OBJS)\n",
            "\n",
            "# fclean deletes object files and the binary.\n",
            "fclean:\tclean\n",
            "\trm -f $(NAME)\n",
            "\n",
            "# re will delete the object files and binary and then re run all. Fresh start.\n",
            "re:\tfclean all\n",
            "\n",
            "# Was coppied makefile to learn from.\n",
            "\n",
            "# NAME    = libft.a\n",
            "# \n",
            "# SRCS    = ft_atoi.c\\\n",
            "    #   ft_bzero.c\\\n",
            "    #   ft_calloc.c\\\n",
            "    #   ft_isalnum.c\\\n",
            "    #   ft_isalpha.c\\\n",
            "    #   ft_isascii.c\\\n",
            "    #   ft_isdigit.c\\\n",
            "    #   ft_isprint.c\\\n",
            "    #   ft_strlen.c\\\n",
            "    #   ft_itoa.c\\\n",
            "    #   ft_memset.c\\\n",
            "    #   ft_memcpy.c\\\n",
            "# \n",
            "# OBJS    = ${SRCS:.c=.o}\n",
            "# \n",
            "# INCS    = libft.h\n",
            "# \n",
            "# RM     = rm -f\n",
            "# \n",
            "# LIB    = ar rcs\n",
            "# \n",
            "# GCC    = gcc\n",
            "# \n",
            "# CFLAGS    = -Wall -Wextra -Werror\n",
            "# \n",
            "# .c.o:\n",
            "        # ${GCC} ${CFLAGS} -c $< -o ${<:.c=.o}\n",
            "# \n",
            "# $(NAME):    ${OBJS} ${INCS}\n",
            "        # ${LIB} ${NAME} ${OBJS}\n",
            "# \n",
            "# all:        ${NAME}\n",
            "# \n",
            "# clean:\n",
            "        # rm -f ${OBJS}\n",
            "# \n",
            "# fclean:        clean\n",
            "        # rm  -f ${NAME}\n",
            "# "
         ]
      },
      {
         "cell_type": "markdown",
         "metadata": {},
         "source": [
            "#### Build"
         ]
      },
      {
         "cell_type": "code",
         "execution_count": 13,
         "metadata": {},
         "outputs": [
            {
               "name": "stdout",
               "output_type": "stream",
               "text": [
                  "rm -f ft_isalpha.o ft_isdigit.o ft_isalnum.o ft_isascii.o ft_isprint.o ft_strlen.o ft_memset.o ft_bzero.o ft_memcpy.o ft_memmove.o ft_strlcpy.o ft_strlcat.o ft_toupper.o ft_tolower.o ft_strchr.o ft_strrchr.o ft_strncmp.o ft_memchr.o ft_memcmp.o ft_strnstr.o ft_atoi.o ft_calloc.o ft_strdup.o ft_substr.o ft_strjoin.o\n",
                  "rm -f libft.a\n",
                  "gcc -Wall -Wextra -Werror -c ft_isalpha.c -o ft_isalpha.o\n",
                  "gcc -Wall -Wextra -Werror -c ft_isdigit.c -o ft_isdigit.o\n",
                  "gcc -Wall -Wextra -Werror -c ft_isalnum.c -o ft_isalnum.o\n",
                  "gcc -Wall -Wextra -Werror -c ft_isascii.c -o ft_isascii.o\n",
                  "gcc -Wall -Wextra -Werror -c ft_isprint.c -o ft_isprint.o\n",
                  "gcc -Wall -Wextra -Werror -c ft_strlen.c -o ft_strlen.o\n",
                  "gcc -Wall -Wextra -Werror -c ft_memset.c -o ft_memset.o\n",
                  "gcc -Wall -Wextra -Werror -c ft_bzero.c -o ft_bzero.o\n",
                  "gcc -Wall -Wextra -Werror -c ft_memcpy.c -o ft_memcpy.o\n",
                  "gcc -Wall -Wextra -Werror -c ft_memmove.c -o ft_memmove.o\n",
                  "gcc -Wall -Wextra -Werror -c ft_strlcpy.c -o ft_strlcpy.o\n",
                  "gcc -Wall -Wextra -Werror -c ft_strlcat.c -o ft_strlcat.o\n",
                  "gcc -Wall -Wextra -Werror -c ft_toupper.c -o ft_toupper.o\n",
                  "gcc -Wall -Wextra -Werror -c ft_tolower.c -o ft_tolower.o\n",
                  "gcc -Wall -Wextra -Werror -c ft_strchr.c -o ft_strchr.o\n",
                  "gcc -Wall -Wextra -Werror -c ft_strrchr.c -o ft_strrchr.o\n",
                  "gcc -Wall -Wextra -Werror -c ft_strncmp.c -o ft_strncmp.o\n",
                  "gcc -Wall -Wextra -Werror -c ft_memchr.c -o ft_memchr.o\n",
                  "gcc -Wall -Wextra -Werror -c ft_memcmp.c -o ft_memcmp.o\n",
                  "gcc -Wall -Wextra -Werror -c ft_strnstr.c -o ft_strnstr.o\n",
                  "gcc -Wall -Wextra -Werror -c ft_atoi.c -o ft_atoi.o\n",
                  "gcc -Wall -Wextra -Werror -c ft_calloc.c -o ft_calloc.o\n",
                  "gcc -Wall -Wextra -Werror -c ft_strdup.c -o ft_strdup.o\n",
                  "gcc -Wall -Wextra -Werror -c ft_substr.c -o ft_substr.o\n",
                  "gcc -Wall -Wextra -Werror -c ft_strjoin.c -o ft_strjoin.o\n",
                  "ar rcs libft.a -o ft_isalpha.o ft_isdigit.o ft_isalnum.o ft_isascii.o ft_isprint.o ft_strlen.o ft_memset.o ft_bzero.o ft_memcpy.o ft_memmove.o ft_strlcpy.o ft_strlcat.o ft_toupper.o ft_tolower.o ft_strchr.o ft_strrchr.o ft_strncmp.o ft_memchr.o ft_memcmp.o ft_strnstr.o ft_atoi.o ft_calloc.o ft_strdup.o ft_substr.o ft_strjoin.o\n",
                  "rm -f ft_isalpha.o ft_isdigit.o ft_isalnum.o ft_isascii.o ft_isprint.o ft_strlen.o ft_memset.o ft_bzero.o ft_memcpy.o ft_memmove.o ft_strlcpy.o ft_strlcat.o ft_toupper.o ft_tolower.o ft_strchr.o ft_strrchr.o ft_strncmp.o ft_memchr.o ft_memcmp.o ft_strnstr.o ft_atoi.o ft_calloc.o ft_strdup.o ft_substr.o ft_strjoin.o\n",
                  "ft_isalpha.o\n",
                  "ft_isdigit.o\n",
                  "ft_isalnum.o\n",
                  "ft_isascii.o\n",
                  "ft_isprint.o\n",
                  "ft_strlen.o\n",
                  "ft_memset.o\n",
                  "ft_bzero.o\n",
                  "ft_memcpy.o\n",
                  "ft_memmove.o\n",
                  "ft_strlcpy.o\n",
                  "ft_strlcat.o\n",
                  "ft_toupper.o\n",
                  "ft_tolower.o\n",
                  "ft_strchr.o\n",
                  "ft_strrchr.o\n",
                  "ft_strncmp.o\n",
                  "ft_memchr.o\n",
                  "ft_memcmp.o\n",
                  "ft_strnstr.o\n",
                  "ft_atoi.o\n",
                  "ft_calloc.o\n",
                  "ft_strdup.o\n",
                  "ft_substr.o\n",
                  "ft_strjoin.o\n"
               ]
            }
         ],
         "source": [
            "%%bash\n",
            "cd ../libft\n",
            "make re\n",
            "make clean\n",
            "ar -t libft.a"
         ]
      },
      {
         "cell_type": "markdown",
         "metadata": {},
         "source": [
            "## Mini Moulinette"
         ]
      },
      {
         "cell_type": "code",
         "execution_count": 103,
         "metadata": {
            "tags": []
         },
         "outputs": [
            {
               "name": "stdout",
               "output_type": "stream",
               "text": [
                  "Writing strjoin_test.py\n"
               ]
            }
         ],
         "source": [
            "import string #Python module for strings. It contains a collection of string constants\n",
            "import random #Python's module for generating random objects\n",
            "import os"
         ]
      },
      {
         "cell_type": "code",
         "execution_count": 104,
         "metadata": {},
         "outputs": [
            {
               "name": "stdout",
               "output_type": "stream",
               "text": [
                  "Appending to strjoin_test.py\n"
               ]
            }
         ],
         "source": [
            "settings = {\"C tester path\": \"strjoin_test.c\",\n",
            "\t\t\t\"libft path\": \"../libft/\",\n",
            "\t\t\t\"word_list size\": 1000,\n",
            "\t\t\t\"max word len\": 30,\n",
            "\t\t\t\"csv header\": \"\",\n",
            "\t\t\t\"extra libs\": \"\",\n",
            "}"
         ]
      },
      {
         "cell_type": "code",
         "execution_count": 105,
         "metadata": {},
         "outputs": [
            {
               "name": "stdout",
               "output_type": "stream",
               "text": [
                  "Appending to strjoin_test.py\n"
               ]
            }
         ],
         "source": [
            "lowercase_letters = string.ascii_lowercase #A constant containing lowercase letters\n",
            "uppercase_letters = string.ascii_uppercase #A constant containing uppercase letters\n",
            "digits = string.digits\n",
            "symbols = string.punctuation\n",
            "symbols = symbols.replace('\"', '0')\n",
            "symbols = symbols.replace(\"'\", '0')\n",
            "symbols = symbols.replace('\\\\', '0')\n",
            "symbols = symbols.replace(',', '0')\n",
            "symbols = symbols.replace(';', '0')\n",
            "symbols = symbols.replace('(', '0')\n",
            "symbols = symbols.replace(')', '0')\n",
            "whitespace = string.whitespace\n",
            "sign = \"+- \"\n",
            "custom_word_symbols = lowercase_letters + uppercase_letters + digits + symbols\n",
            "\n",
            "\n",
            "def uppercase_word(): #The function responsible for generating #random words which are in uppercase\n",
            "    word = '' #The variable which will hold the random word\n",
            "    random_word_length = random.randint(1,settings[\"max word len\"]) #The random length of the word\n",
            "    while len(word) != random_word_length: #While loop\n",
            "        word += random.choice(uppercase_letters)\n",
            "    return word\n",
            "\n",
            "\n",
            "def lowercase_word(): #The function responsible for generating #random words which are in uppercase\n",
            "    word = '' #The variable which will hold the random word\n",
            "    random_word_length = random.randint(1,settings[\"max word len\"]) #The random length of the word\n",
            "    while len(word) != random_word_length: #While loop\n",
            "        word += random.choice(lowercase_letters)\n",
            "    return word\n",
            "    \n",
            "\n",
            "def custom_word(): # This function generates a word with any mix of characters you like.\n",
            "    word = '' #The variable which will hold the random word\n",
            "    random_word_length = random.randint(1,settings[\"max word len\"]) #The random length of the word\n",
            "    while len(word) != random_word_length: #While loop\n",
            "        word += random.choice(lowercase_letters + uppercase_letters + digits)\n",
            "    return word\n",
            "\n",
            "\n",
            "def digit_word():\n",
            "    word = '' #The variable which will hold the random word\n",
            "    random_word_length = random.randint(1,settings[\"max word len\"]) #The random length of the word\n",
            "    while len(word) != random_word_length: #While loop\n",
            "        word += random.choice(digits + whitespace)\n",
            "    return word\n",
            "\n",
            "symbols, whitespace, sign"
         ]
      },
      {
         "cell_type": "code",
         "execution_count": 106,
         "metadata": {},
         "outputs": [
            {
               "name": "stdout",
               "output_type": "stream",
               "text": [
                  "Appending to strjoin_test.py\n"
               ]
            }
         ],
         "source": [
            "def input_args(item, item2):\n",
            "\tchoice = random.choice(item)\n",
            "\trand_number1 = random.randint(0, len(item))\n",
            "\trand_number2 = random.randint(0, len(item))\n",
            "\trand_letter1 = random.randint(1, len(item))\n",
            "\trand_letter2 = random.randint(1, len(item))\n",
            "\tws_str = ''\n",
            "\tdigit_str = ''\n",
            "\tfor element in range(random.randint(0, 15)):\n",
            "\t\tws_str += random.choice(\" \")\n",
            "\tfor element in range(random.randint(10, 19)):\n",
            "\t\tdigit_str += random.choice(digits + \" \")\n",
            "\t\n",
            "\t\n",
            "\treturn_string = item + \" \" + item2\n",
            "\treturn return_string"
         ]
      },
      {
         "cell_type": "code",
         "execution_count": 107,
         "metadata": {},
         "outputs": [
            {
               "name": "stdout",
               "output_type": "stream",
               "text": [
                  "Appending to strjoin_test.py\n"
               ]
            }
         ],
         "source": [
            "word_list = []\n",
            "\n",
            "for item in range(int(settings[\"word_list size\"])):\t\t\t\t\t\t# Generate wordlist 200 long. 100 upper case and 100 lower case\n",
            "\t# word_list.append(uppercase_word())\n",
            "\t# word_list.append(lowercase_word())\n",
            "\tword_list.append(custom_word())\t\t\t\t# get ready for syntax errors if you use this! lol\n",
            "\t# word_list.append(digit_word())"
         ]
      },
      {
         "cell_type": "code",
         "execution_count": 108,
         "metadata": {},
         "outputs": [
            {
               "name": "stdout",
               "output_type": "stream",
               "text": [
                  "Appending to strjoin_test.py\n"
               ]
            }
         ],
         "source": [
            "word_list_2 = []\n",
            "\n",
            "for item in range(int(settings[\"word_list size\"])):\t\t\t\t\t\t# Generate wordlist 200 long. 100 upper case and 100 lower case\n",
            "\t# word_list.append(uppercase_word())\n",
            "\t# word_list.append(lowercase_word())\n",
            "\tword_list_2.append(custom_word())\t\t\t\t# get ready for syntax errors if you use this! lol\n",
            "\t# word_list.append(digit_word())"
         ]
      },
      {
         "cell_type": "code",
         "execution_count": 109,
         "metadata": {},
         "outputs": [
            {
               "name": "stdout",
               "output_type": "stream",
               "text": [
                  "Appending to strjoin_test.py\n"
               ]
            }
         ],
         "source": [
            "with open(\"word_list.txt\", \"w\") as file_wl:\t\t# open file to save word_list\n",
            "\tfor item in word_list:\n",
            "\t\tfile_wl.write(f\"{item}\\n\")"
         ]
      },
      {
         "cell_type": "code",
         "execution_count": 110,
         "metadata": {},
         "outputs": [
            {
               "name": "stdout",
               "output_type": "stream",
               "text": [
                  "Appending to strjoin_test.py\n"
               ]
            }
         ],
         "source": [
            "with open(\"word_list_2.txt\", \"w\") as file_wl:\t\t# open file to save word_list\n",
            "\tfor item in word_list_2:\n",
            "\t\tfile_wl.write(f\"{item}\\n\")"
         ]
      },
      {
         "cell_type": "code",
         "execution_count": 111,
         "metadata": {},
         "outputs": [
            {
               "name": "stdout",
               "output_type": "stream",
               "text": [
                  "Appending to strjoin_test.py\n"
               ]
            }
         ],
         "source": [
            "os.system(f\"gcc {settings['C tester path']} -L{settings['libft path']} -lft {settings['extra libs']}\")\t\t# compile *_test.c Adjust path as needed."
         ]
      },
      {
         "cell_type": "code",
         "execution_count": 112,
         "metadata": {},
         "outputs": [
            {
               "name": "stdout",
               "output_type": "stream",
               "text": [
                  "Appending to strjoin_test.py\n"
               ]
            }
         ],
         "source": [
            "settings[\"csv header\"] = os.system(\"./a.out 0 > header.txt\")\n",
            "with open(\"header.txt\", \"r\") as fl:\n",
            "\tlines = fl.readlines()\n",
            "\tsettings[\"csv header\"] = f\"{lines[0]}\\n\"\n",
            "os.system('rm header.txt')\n",
            "settings[\"csv header\"]"
         ]
      },
      {
         "cell_type": "code",
         "execution_count": 113,
         "metadata": {},
         "outputs": [
            {
               "name": "stdout",
               "output_type": "stream",
               "text": [
                  "Appending to strjoin_test.py\n"
               ]
            }
         ],
         "source": [
            "with open(\"output_OF.csv\", \"w\") as OF:\n",
            "    OF.write(settings[\"csv header\"])\n",
            "with open(\"output_ft.csv\", \"w\") as ft:\n",
            "    ft.write(settings[\"csv header\"])\n",
            "for item in range(settings['word_list size']):\n",
            "    input_string = input_args(word_list[item], word_list_2[item])\n",
            "    # os.system(f\"./a.out 1 {input_string} >> output_OF.csv\")\n",
            "    os.system(f\"./a.out 2 {input_string} >> output_ft.csv\")"
         ]
      },
      {
         "cell_type": "code",
         "execution_count": 114,
         "metadata": {},
         "outputs": [
            {
               "name": "stdout",
               "output_type": "stream",
               "text": [
                  "Appending to strjoin_test.py\n"
               ]
            }
         ],
         "source": [
            "if (os.system(f\"diff output_OF.csv output_ft.csv\") == 0):\n",
            "\tprint(\"Congrats! No diff!\")"
         ]
      },
      {
         "cell_type": "code",
         "execution_count": null,
         "metadata": {},
         "outputs": [],
         "source": []
      }
   ],
   "metadata": {
      "kernelspec": {
         "display_name": "Python 3.9.13",
         "language": "python",
         "name": "python3"
      },
      "language_info": {
         "codemirror_mode": {
            "name": "ipython",
            "version": 3
         },
         "file_extension": ".py",
         "mimetype": "text/x-python",
         "name": "python",
         "nbconvert_exporter": "python",
         "pygments_lexer": "ipython3",
         "version": "3.9.13"
      },
      "orig_nbformat": 4,
      "vscode": {
         "interpreter": {
            "hash": "35159eb0463b8d05d6ebfa33c61ec94116d03e3b5624b7d5f509435ae71b39b3"
         }
      }
   },
   "nbformat": 4,
   "nbformat_minor": 2
}
