{
   "cells": [
      {
         "cell_type": "markdown",
         "metadata": {},
         "source": [
            "# LIBFT\n",
            "- This notebook is for the libft project in Ecole 42.\n",
            "- Note that we can save directly to files with the %%file prefix.\n",
            "- Similarly you can use %%bash to run any bash commands you'd like for testing."
         ]
      },
      {
         "attachments": {},
         "cell_type": "markdown",
         "metadata": {},
         "source": [
            "- 4/2/23 Added get_next_line_bonus by dumping everything in the main folder.\n",
            "\t- I'd really like to organize the folders and the makefile more. It feels like a mess.\n",
            "\t- I don't know if I'm allowed to add directories though since it's not in the subject.\n",
            "\t- Will need to check before doing so."
         ]
      },
      {
         "cell_type": "markdown",
         "metadata": {},
         "source": [
            "## Libft.h"
         ]
      },
      {
         "cell_type": "code",
         "execution_count": 1,
         "metadata": {},
         "outputs": [
            {
               "name": "stdout",
               "output_type": "stream",
               "text": [
                  "Overwriting ../libft/libft.h\n"
               ]
            }
         ],
         "source": [
            "%%file ../libft/libft.h\n",
            "/* ************************************************************************** */\n",
            "/*                                                                            */\n",
            "/*                                                        :::      ::::::::   */\n",
            "/*   libft.h                                            :+:      :+:    :+:   */\n",
            "/*                                                    +:+ +:+         +:+     */\n",
            "/*   By: dpentlan <dpentlan@student.42.fr>          +#+  +:+       +#+        */\n",
            "/*                                                +#+#+#+#+#+   +#+           */\n",
            "/*   Created: 2022/11/07 14:31:39 by dpentlan          #+#    #+#             */\n",
            "/*   Updated: 2022/11/30 07:25:16 by dpentlan         ###   ########.fr       */\n",
            "/*                                                                            */\n",
            "/* ************************************************************************** */\n",
            "\n",
            "//  header for my libft files.\n",
            "\n",
            "#ifndef LIBFT_H\n",
            "# define LIBFT_H\n",
            "# include <stdlib.h>\n",
            "# include <stddef.h>\n",
            "# include <string.h>\n",
            "# include <bsd/string.h>\n",
            "# include <stdbool.h>\n",
            "# include <assert.h>\n",
            "# include <unistd.h>\n",
            "# include <ctype.h>\n",
            "# include <stdint.h>\n",
            "# include <assert.h>\n",
            "# include <sys/types.h>\n",
            "# include <stdio.h>\n",
            "# include <sys/stat.h>\n",
            "# include <fcntl.h>\n",
            "\n",
            "//\tAdditional projects\n",
            "# include \"get_next_line_bonus.h\"\n",
            "\n",
            "typedef struct s_list\n",
            "{\n",
            "\tvoid\t\t\t*content;\n",
            "\tstruct s_list\t*next;\n",
            "}\t\t\t\t\tt_list;\n",
            "\n",
            "int\t\tft_isalpha(int c);\n",
            "int\t\tft_isdigit(int c);\n",
            "int\t\tft_isalnum(int c);\n",
            "int\t\tft_isascii(int c);\n",
            "int\t\tft_isprint(int c);\n",
            "size_t\tft_strlen(const char *str);\n",
            "void\t*ft_memset(void *str, int c, size_t len);\n",
            "void\tft_bzero(void *str, size_t len);\n",
            "void\t*ft_memcpy(void *dest, const void *src, size_t len);\n",
            "void\t*ft_memmove(void *dest, const void *src, size_t len);\n",
            "size_t\tft_strlcpy(char *dest, const char *src, size_t size);\n",
            "size_t\tft_strlcat(char *dest, const char *src, size_t size);\n",
            "int\t\tft_toupper(int c);\n",
            "int\t\tft_tolower(int c);\n",
            "char\t*ft_strchr(const char *s, int c);\n",
            "char\t*ft_strrchr(const char *s, int c);\n",
            "int\t\tft_strncmp(const char *s1, const char *s2, size_t n);\n",
            "void\t*ft_memchr(const void *s, int c, size_t n);\n",
            "int\t\tft_memcmp(const void *s1, const void *s2, size_t n);\n",
            "char\t*ft_strnstr(const char *big, const char *little, size_t len);\n",
            "int\t\tft_atoi(const char *nptr);\n",
            "void\t*ft_calloc(size_t num_elem, size_t elem_size);\n",
            "char\t*ft_strdup(const char *src);\n",
            "char\t*ft_substr(char const *s, unsigned int start, size_t len);\n",
            "char\t*ft_strjoin(char const *s1, char const *s2);\n",
            "char\t*ft_strtrim(char const *s1, char const *set);\n",
            "char\t**ft_split(char const *s, char c);\n",
            "char\t*ft_itoa(int n);\n",
            "char\t*ft_strmapi(char const *s, char (*f)(unsigned int, char));\n",
            "void\tft_striteri(char *s, void (*f)(unsigned int, char *));\n",
            "void\tft_putchar_fd(char c, int fd);\n",
            "void\tft_putstr_fd(char *s, int fd);\n",
            "void\tft_putendl_fd(char *s, int fd);\n",
            "void\tft_putnbr_fd(int n, int fd);\n",
            "t_list\t*ft_lstnew(void *content);\n",
            "void\tft_lstadd_front(t_list **lst, t_list *new);\n",
            "int\t\tft_lstsize(t_list *lst);\n",
            "t_list\t*ft_lstlast(t_list *lst);\n",
            "void\tft_lstadd_back(t_list **lst, t_list *new);\n",
            "void\tft_lstdelone(t_list *lst, void (*del)(void *));\n",
            "void\tft_lstclear(t_list **lst, void (*del)(void *));\n",
            "void\tft_lstiter(t_list *lst, void (*f)(void *));\n",
            "t_list\t*ft_lstmap(t_list *lst, void *(*f)(void *), void (*del)(void *));\n",
            "\n",
            "#endif\n"
         ]
      },
      {
         "cell_type": "markdown",
         "metadata": {},
         "source": [
            "## ~M~A~N~D~A~T~O~R~Y~"
         ]
      },
      {
         "cell_type": "markdown",
         "metadata": {},
         "source": [
            "### isalpha"
         ]
      },
      {
         "cell_type": "markdown",
         "metadata": {},
         "source": [
            "#### ft_isalpha.c"
         ]
      },
      {
         "cell_type": "code",
         "execution_count": 17,
         "metadata": {},
         "outputs": [
            {
               "name": "stdout",
               "output_type": "stream",
               "text": [
                  "Overwriting ../libft/ft_isalpha.c\n"
               ]
            }
         ],
         "source": [
            "%%file ../libft/ft_isalpha.c\n",
            "/* ************************************************************************** */\n",
            "/*                                                                            */\n",
            "/*                                                        :::      ::::::::   */\n",
            "/*   ft_isalpha.c                                       :+:      :+:    :+:   */\n",
            "/*                                                    +:+ +:+         +:+     */\n",
            "/*   By: dpentlan <dpentlan@student.42.fr>          +#+  +:+       +#+        */\n",
            "/*                                                +#+#+#+#+#+   +#+           */\n",
            "/*   Created: 2022/11/07 15:11:16 by dpentlan          #+#    #+#             */\n",
            "/*   Updated: 2022/11/07 15:11:19 by dpentlan         ###   ########.fr       */\n",
            "/*                                                                            */\n",
            "/* ************************************************************************** */\n",
            "\n",
            "#include \"libft.h\"\n",
            "\n",
            "/*  *** ft_isalpha (42 is alphabetical) ***\n",
            " *\n",
            " *  Takes an integer value for ascii character.\n",
            " *  returns 1 if the character is an alphabet character.\n",
            " *  returns 0 if the character is not an alphabet character.\n",
            " */\n",
            "\n",
            "int\tft_isalpha(int c)\n",
            "{\n",
            "\tif ((c >= 65 && c <= 90) || (c >= 97 && c <= 122))\n",
            "\t\treturn (1);\n",
            "\telse\n",
            "\t\treturn (0);\n",
            "}\n"
         ]
      },
      {
         "cell_type": "markdown",
         "metadata": {},
         "source": [
            "#### isalpha_test.c"
         ]
      },
      {
         "cell_type": "code",
         "execution_count": 5,
         "metadata": {},
         "outputs": [
            {
               "name": "stdout",
               "output_type": "stream",
               "text": [
                  "Overwriting isalpha_test.c\n"
               ]
            }
         ],
         "source": [
            "%%file isalpha_test.c\n",
            "#include <ctype.h>\n",
            "#include <stdio.h>\n",
            "\n",
            "// Returns true/false for a single character.\n",
            "\n",
            "int main(void)\n",
            "{\n",
            "    char string[] = \"Hi, this is a sample string.\";\n",
            "    if (isalpha(string[2]))\n",
            "        printf(\"Statement was true.\");\n",
            "    else\n",
            "        printf(\"Statement was false.\");\n",
            "    return (0);\n",
            "}"
         ]
      },
      {
         "cell_type": "markdown",
         "metadata": {},
         "source": [
            "### isdigit"
         ]
      },
      {
         "cell_type": "markdown",
         "metadata": {},
         "source": [
            "#### ft_isdigit.c"
         ]
      },
      {
         "cell_type": "code",
         "execution_count": 18,
         "metadata": {},
         "outputs": [
            {
               "name": "stdout",
               "output_type": "stream",
               "text": [
                  "Overwriting ../libft/ft_isdigit.c\n"
               ]
            }
         ],
         "source": [
            "%%file ../libft/ft_isdigit.c\n",
            "/* ************************************************************************** */\n",
            "/*                                                                            */\n",
            "/*                                                        :::      ::::::::   */\n",
            "/*   ft_isdigit.c                                       :+:      :+:    :+:   */\n",
            "/*                                                    +:+ +:+         +:+     */\n",
            "/*   By: dpentlan <dpentlan@student.42.fr>          +#+  +:+       +#+        */\n",
            "/*                                                +#+#+#+#+#+   +#+           */\n",
            "/*   Created: 2022/11/08 16:53:10 by dpentlan          #+#    #+#             */\n",
            "/*   Updated: 2022/11/08 16:53:14 by dpentlan         ###   ########.fr       */\n",
            "/*                                                                            */\n",
            "/* ************************************************************************** */\n",
            "\n",
            "#include \"libft.h\"\n",
            "\n",
            "/*  *** ft_isdigit (42 is digit) ***\n",
            " *\n",
            " *  Takes an integer value for ascii character.\n",
            " *  returns 1 if the character is a digit character.\n",
            " *  returns 0 if the character is not a digit character.\n",
            " */\n",
            "\n",
            "int\tft_isdigit(int c)\n",
            "{\n",
            "\tif (c >= 48 && c <= 57)\n",
            "\t\treturn (1);\n",
            "\telse\n",
            "\t\treturn (0);\n",
            "}\n"
         ]
      },
      {
         "cell_type": "markdown",
         "metadata": {},
         "source": [
            "#### isdigit_test.c"
         ]
      },
      {
         "cell_type": "code",
         "execution_count": null,
         "metadata": {},
         "outputs": [],
         "source": [
            "%%file"
         ]
      },
      {
         "cell_type": "markdown",
         "metadata": {},
         "source": [
            "### isalnum"
         ]
      },
      {
         "cell_type": "markdown",
         "metadata": {},
         "source": [
            "#### ft_isalnum.c"
         ]
      },
      {
         "cell_type": "code",
         "execution_count": 19,
         "metadata": {},
         "outputs": [
            {
               "name": "stdout",
               "output_type": "stream",
               "text": [
                  "Overwriting ../libft/ft_isalnum.c\n"
               ]
            }
         ],
         "source": [
            "%%file ../libft/ft_isalnum.c\n",
            "/* ************************************************************************** */\n",
            "/*                                                                            */\n",
            "/*                                                        :::      ::::::::   */\n",
            "/*   ft_isalnum.c                                       :+:      :+:    :+:   */\n",
            "/*                                                    +:+ +:+         +:+     */\n",
            "/*   By: dpentlan <dpentlan@student.42.fr>          +#+  +:+       +#+        */\n",
            "/*                                                +#+#+#+#+#+   +#+           */\n",
            "/*   Created: 2022/11/08 17:10:36 by dpentlan          #+#    #+#             */\n",
            "/*   Updated: 2022/11/08 17:10:39 by dpentlan         ###   ########.fr       */\n",
            "/*                                                                            */\n",
            "/* ************************************************************************** */\n",
            "\n",
            "#include \"libft.h\"\n",
            "\n",
            "/*  *** ft_isalnum (42 is alpha-numeric) ***\n",
            " *\n",
            " *  Takes an integer value for ascii character.\n",
            " *  Inclusive OR of result of ft_isalpha and ft_isdigit functions.\n",
            " *  Returns 1 if the character is an alpha-numeric character.\n",
            " *  Returns 0 if the character is not an alpha-numeric character.\n",
            " */\n",
            "\n",
            "int\tft_isalnum(int c)\n",
            "{\n",
            "\tif (ft_isalpha(c) || ft_isdigit(c))\n",
            "\t\treturn (1);\n",
            "\telse\n",
            "\t\treturn (0);\n",
            "}\n"
         ]
      },
      {
         "cell_type": "markdown",
         "metadata": {},
         "source": [
            "#### isalnum_test.c"
         ]
      },
      {
         "cell_type": "code",
         "execution_count": null,
         "metadata": {},
         "outputs": [],
         "source": [
            "%%file"
         ]
      },
      {
         "cell_type": "markdown",
         "metadata": {},
         "source": [
            "### isascii"
         ]
      },
      {
         "cell_type": "markdown",
         "metadata": {},
         "source": [
            "#### ft_isascii.c"
         ]
      },
      {
         "cell_type": "code",
         "execution_count": 20,
         "metadata": {},
         "outputs": [
            {
               "name": "stdout",
               "output_type": "stream",
               "text": [
                  "Overwriting ../libft/ft_isascii.c\n"
               ]
            }
         ],
         "source": [
            "%%file ../libft/ft_isascii.c\n",
            "/* ************************************************************************** */\n",
            "/*                                                                            */\n",
            "/*                                                        :::      ::::::::   */\n",
            "/*   ft_isascii.c                                       :+:      :+:    :+:   */\n",
            "/*                                                    +:+ +:+         +:+     */\n",
            "/*   By: dpentlan <dpentlan@student.42.fr>          +#+  +:+       +#+        */\n",
            "/*                                                +#+#+#+#+#+   +#+           */\n",
            "/*   Created: 2022/11/11 12:56:54 by dpentlan          #+#    #+#             */\n",
            "/*   Updated: 2022/11/11 12:57:01 by dpentlan         ###   ########.fr       */\n",
            "/*                                                                            */\n",
            "/* ************************************************************************** */\n",
            "\n",
            "#include \"libft.h\"\n",
            "\n",
            "/*  *** ft_ascii (42 is ascii) ***\n",
            " *\n",
            " *  Takes an integer value for ascii character.\n",
            " *  returns 1 if the character is an ascii character.\n",
            " *  returns 0 if the character is not an ascii character.\n",
            " */\n",
            "\n",
            "int\tft_isascii(int c)\n",
            "{\n",
            "\tif (c >= 0 && c <= 127)\n",
            "\t\treturn (1);\n",
            "\telse\n",
            "\t\treturn (0);\n",
            "}\n"
         ]
      },
      {
         "cell_type": "markdown",
         "metadata": {},
         "source": [
            "#### isascii_test.c"
         ]
      },
      {
         "cell_type": "code",
         "execution_count": null,
         "metadata": {},
         "outputs": [],
         "source": [
            "%%file"
         ]
      },
      {
         "cell_type": "markdown",
         "metadata": {},
         "source": [
            "### isprint"
         ]
      },
      {
         "cell_type": "markdown",
         "metadata": {},
         "source": [
            "#### ft_isprint.c"
         ]
      },
      {
         "cell_type": "code",
         "execution_count": 21,
         "metadata": {},
         "outputs": [
            {
               "name": "stdout",
               "output_type": "stream",
               "text": [
                  "Overwriting ../libft/ft_isprint.c\n"
               ]
            }
         ],
         "source": [
            "%%file ../libft/ft_isprint.c\n",
            "/* ************************************************************************** */\n",
            "/*                                                                            */\n",
            "/*                                                        :::      ::::::::   */\n",
            "/*   ft_isprint.c                                       :+:      :+:    :+:   */\n",
            "/*                                                    +:+ +:+         +:+     */\n",
            "/*   By: dpentlan <dpentlan@student.42.fr>          +#+  +:+       +#+        */\n",
            "/*                                                +#+#+#+#+#+   +#+           */\n",
            "/*   Created: 2022/11/11 12:57:41 by dpentlan          #+#    #+#             */\n",
            "/*   Updated: 2022/11/11 12:57:45 by dpentlan         ###   ########.fr       */\n",
            "/*                                                                            */\n",
            "/* ************************************************************************** */\n",
            "\n",
            "#include \"libft.h\"\n",
            "\n",
            "/*  *** ft_isprint (42 is printable) ***\n",
            " *\n",
            " *  Takes an integer value for ascii character.\n",
            " *  returns 1 if the character is a printable character.\n",
            " *  returns 0 if the character is not a printable character.\n",
            " */\n",
            "\n",
            "int\tft_isprint(int c)\n",
            "{\n",
            "\tif (c >= 32 && c <= 126)\n",
            "\t\treturn (1);\n",
            "\telse\n",
            "\t\treturn (0);\n",
            "}\n"
         ]
      },
      {
         "cell_type": "markdown",
         "metadata": {},
         "source": [
            "#### isprint_test.c"
         ]
      },
      {
         "cell_type": "code",
         "execution_count": null,
         "metadata": {},
         "outputs": [],
         "source": [
            "%%file"
         ]
      },
      {
         "cell_type": "markdown",
         "metadata": {},
         "source": [
            "### strlen"
         ]
      },
      {
         "cell_type": "markdown",
         "metadata": {},
         "source": [
            "#### ft_strlen.c"
         ]
      },
      {
         "cell_type": "code",
         "execution_count": 34,
         "metadata": {},
         "outputs": [
            {
               "name": "stdout",
               "output_type": "stream",
               "text": [
                  "Overwriting ../libft/ft_strlen.c\n"
               ]
            }
         ],
         "source": [
            "%%file ../libft/ft_strlen.c\n",
            "/* ************************************************************************** */\n",
            "/*                                                                            */\n",
            "/*                                                        :::      ::::::::   */\n",
            "/*   ft_strlen.c                                        :+:      :+:    :+:   */\n",
            "/*                                                    +:+ +:+         +:+     */\n",
            "/*   By: dpentlan <dpentlan@student.42.fr>          +#+  +:+       +#+        */\n",
            "/*                                                +#+#+#+#+#+   +#+           */\n",
            "/*   Created: 2022/11/11 12:59:37 by dpentlan          #+#    #+#             */\n",
            "/*   Updated: 2022/11/11 12:59:45 by dpentlan         ###   ########.fr       */\n",
            "/*                                                                            */\n",
            "/* ************************************************************************** */\n",
            "\n",
            "#include \"libft.h\"\n",
            "\n",
            "/*  *** ft_strlen (42 string length) ***\n",
            " *\n",
            " *  Takes a character pointer.\n",
            " *  Returns size_t number of 8 bit memory spaces between input pointer and\n",
            " *  the first null terminator.\n",
            " */\n",
            "\n",
            "size_t\tft_strlen(const char *str)\n",
            "{\n",
            "\tsize_t\ti;\n",
            "\n",
            "\ti = 0;\n",
            "\twhile (str && str[i])\n",
            "\t\ti++;\n",
            "\treturn (i);\n",
            "}\n"
         ]
      },
      {
         "cell_type": "markdown",
         "metadata": {},
         "source": [
            "#### strlen_test.c"
         ]
      },
      {
         "cell_type": "code",
         "execution_count": null,
         "metadata": {},
         "outputs": [],
         "source": [
            "%%file"
         ]
      },
      {
         "cell_type": "markdown",
         "metadata": {},
         "source": [
            "### memset"
         ]
      },
      {
         "cell_type": "markdown",
         "metadata": {},
         "source": [
            "#### ft_memset.c"
         ]
      },
      {
         "cell_type": "code",
         "execution_count": 23,
         "metadata": {},
         "outputs": [
            {
               "name": "stdout",
               "output_type": "stream",
               "text": [
                  "Overwriting ../libft/ft_memset.c\n"
               ]
            }
         ],
         "source": [
            "%%file ../libft/ft_memset.c\n",
            "/* ************************************************************************** */\n",
            "/*                                                                            */\n",
            "/*                                                        :::      ::::::::   */\n",
            "/*   ft_memset.c                                        :+:      :+:    :+:   */\n",
            "/*                                                    +:+ +:+         +:+     */\n",
            "/*   By: dpentlan <dpentlan@student.42.fr>          +#+  +:+       +#+        */\n",
            "/*                                                +#+#+#+#+#+   +#+           */\n",
            "/*   Created: 2022/11/11 12:58:28 by dpentlan          #+#    #+#             */\n",
            "/*   Updated: 2022/11/11 12:58:38 by dpentlan         ###   ########.fr       */\n",
            "/*                                                                            */\n",
            "/* ************************************************************************** */\n",
            "\n",
            "#include \"libft.h\"\n",
            "\n",
            "/*  *** ft_memset (42 memory set) ***\n",
            " *\n",
            " *  Takes a character pointer 'str', an integer 'c', and a size_t 'len'.\n",
            " *  Sets 'len' number of memory addresses to value of 'c'.\n",
            " *  Returns a pointer to 'str'.\n",
            " */\n",
            "\n",
            "void\t*ft_memset(void *str, int c, size_t len)\n",
            "{\n",
            "\tsize_t\ti;\n",
            "\n",
            "\ti = 0;\n",
            "\twhile (i < len)\n",
            "\t{\n",
            "\t\t*(char *)(str + i) = (unsigned char)c;\n",
            "\t\ti++;\n",
            "\t}\n",
            "\treturn (str);\n",
            "}\n"
         ]
      },
      {
         "cell_type": "markdown",
         "metadata": {},
         "source": [
            "#### memset_test.c"
         ]
      },
      {
         "cell_type": "code",
         "execution_count": 14,
         "metadata": {},
         "outputs": [
            {
               "name": "stdout",
               "output_type": "stream",
               "text": [
                  "Overwriting memset_test.c\n"
               ]
            }
         ],
         "source": [
            "%%file memset_test.c\n",
            "#include <stdio.h>\n",
            "#include <stdlib.h>\n",
            "#include <string.h>\n",
            "#include \"../libft/libft.h\"\n",
            "#define SIZE 10\n",
            "#define CHAR 'W'\n",
            "\n",
            "int main (void)\n",
            "{\n",
            "    char string[] = \"This is a sample string.\";\n",
            "\n",
            "    printf(\"memset\\n\");\n",
            "    printf(\"\\tString before: %s\\n\", string);\n",
            "    printf(\"\\tsizeof(char)lksjd: %ld\\n\", sizeof(char));\n",
            "    memset(string, CHAR, SIZE*sizeof(char));\n",
            "    printf(\"\\tString after : %s\\n\", string);\n",
            "\n",
            "    char string1[] = \"This is a sample string.\";\n",
            "    printf(\"\\nft_memset\\n\");\n",
            "    printf(\"\\tString before: %s\\n\", string1);\n",
            "    printf(\"\\tsizeof(char)lksjd: %ld\\n\", sizeof(char));\n",
            "    ft_memset(string1, CHAR, SIZE*sizeof(char));\n",
            "    printf(\"\\tString after : %s\\n\", string1);\n",
            "    return (0);\n",
            "}"
         ]
      },
      {
         "cell_type": "markdown",
         "metadata": {},
         "source": [
            "### bzero"
         ]
      },
      {
         "cell_type": "markdown",
         "metadata": {},
         "source": [
            "#### ft_bzero.c"
         ]
      },
      {
         "cell_type": "markdown",
         "metadata": {},
         "source": [
            "- Norminette wouldnt allow empty return. So i deleted it. hope this does break anything."
         ]
      },
      {
         "cell_type": "code",
         "execution_count": 24,
         "metadata": {},
         "outputs": [
            {
               "name": "stdout",
               "output_type": "stream",
               "text": [
                  "Overwriting ../libft/ft_bzero.c\n"
               ]
            }
         ],
         "source": [
            "%%file ../libft/ft_bzero.c\n",
            "/* ************************************************************************** */\n",
            "/*                                                                            */\n",
            "/*                                                        :::      ::::::::   */\n",
            "/*   ft_bzero.c                                         :+:      :+:    :+:   */\n",
            "/*                                                    +:+ +:+         +:+     */\n",
            "/*   By: dpentlan <dpentlan@student.42.fr>          +#+  +:+       +#+        */\n",
            "/*                                                +#+#+#+#+#+   +#+           */\n",
            "/*   Created: 2022/11/11 12:56:13 by dpentlan          #+#    #+#             */\n",
            "/*   Updated: 2022/11/11 12:56:23 by dpentlan         ###   ########.fr       */\n",
            "/*                                                                            */\n",
            "/* ************************************************************************** */\n",
            "\n",
            "#include \"libft.h\"\n",
            "\n",
            "/*  *** ft_bzero (42 byte zero) ***\n",
            " *\n",
            " *  Takes a pointer 'str', and a size_t 'len'.\n",
            " *  Sets 'len' number of memory addresses to 0 starting from address 'str'.\n",
            " *  Returns nothing.\n",
            " */\n",
            "\n",
            "void\tft_bzero(void *str, size_t len)\n",
            "{\n",
            "\tsize_t\ti;\n",
            "\n",
            "\ti = 0;\n",
            "\twhile (i < len)\n",
            "\t{\n",
            "\t\t*(char *)str = 0;\n",
            "\t\tstr++;\n",
            "\t\ti++;\n",
            "\t}\n",
            "}\n"
         ]
      },
      {
         "cell_type": "markdown",
         "metadata": {},
         "source": [
            "#### bzero_test.c"
         ]
      },
      {
         "cell_type": "code",
         "execution_count": 18,
         "metadata": {},
         "outputs": [
            {
               "name": "stdout",
               "output_type": "stream",
               "text": [
                  "Overwriting bzero_test.c\n"
               ]
            }
         ],
         "source": [
            "%%file bzero_test.c\n",
            "#include <stdio.h>\n",
            "#include <stdlib.h>\n",
            "#include <string.h>\n",
            "#include \"../libft/libft.h\"\n",
            "#define OFFSET 15\n",
            "#define SIZE 5\n",
            "\n",
            "int main (void)\n",
            "{\n",
            "    int str_len;\n",
            "    int i;\n",
            "    char string[] = \"Hi this is a string.\";\n",
            "    char string1[] = \"Hi this is a string.\";\n",
            "\n",
            "    printf(\"Function,Action,Result\\n\");\n",
            "\n",
            "    // Code for testing bzero.\n",
            "    str_len = 0;\n",
            "    str_len = strlen(string);\n",
            "    printf(\"bzero,Before bzero,%s\\n\", string);\n",
            "    bzero(string + OFFSET, SIZE);\n",
            "    printf(\"bzero,After bzero,%s\\n\", string);\n",
            "    printf(\"bzero,Full String,\");\n",
            "    i = 0;\n",
            "    while (i < str_len)\n",
            "    {\n",
            "        printf(\"%c\", string[i]);\n",
            "        i++;\n",
            "    }\n",
            "    printf(\"\\n\");\n",
            "\n",
            "    // Code for testing ft_bzero.\n",
            "    printf(\"ft_bzero,Before ft_bzero,%s\\n\", string1);\n",
            "    ft_bzero(string1 + OFFSET, SIZE);\n",
            "    printf(\"ft_bzero,After ft_bzero,%s\\n\", string1);\n",
            "    printf(\"ft_bzero,Full String,\");\n",
            "    i = 0;\n",
            "    while (i < str_len)\n",
            "    {\n",
            "        printf(\"%c\", string1[i]);\n",
            "        i++;\n",
            "    }\n",
            "    printf(\"\\n\");\n",
            "\n",
            "    return (0);\n",
            "}"
         ]
      },
      {
         "cell_type": "markdown",
         "metadata": {},
         "source": [
            "### memcpy"
         ]
      },
      {
         "cell_type": "markdown",
         "metadata": {},
         "source": [
            "#### ft_memcpy.c"
         ]
      },
      {
         "cell_type": "code",
         "execution_count": 2,
         "metadata": {},
         "outputs": [
            {
               "name": "stdout",
               "output_type": "stream",
               "text": [
                  "Overwriting ../libft/ft_memcpy.c\n"
               ]
            }
         ],
         "source": [
            "%%file ../libft/ft_memcpy.c\n",
            "/* ************************************************************************** */\n",
            "/*                                                                            */\n",
            "/*                                                        :::      ::::::::   */\n",
            "/*   ft_memcpy.c                                        :+:      :+:    :+:   */\n",
            "/*                                                    +:+ +:+         +:+     */\n",
            "/*   By: dpentlan <dpentlan@student.42.fr>          +#+  +:+       +#+        */\n",
            "/*                                                +#+#+#+#+#+   +#+           */\n",
            "/*   Created: 2022/11/11 12:57:55 by dpentlan          #+#    #+#             */\n",
            "/*   Updated: 2022/11/11 12:57:56 by dpentlan         ###   ########.fr       */\n",
            "/*                                                                            */\n",
            "/* ************************************************************************** */\n",
            "\n",
            "#include \"libft.h\"\n",
            "\n",
            "/*  *** ft_memcpy (42 memory copy) ***\n",
            " *\n",
            " *  Takes a destination pointer 'dest', a source pointer 'src',\n",
            " *  and a size_t 'len'.\n",
            " *  Copies byte by byte starting from memory address 'src' to memory address\n",
            " *  'dest' for 'len' number of bytes.\n",
            " *  Returns pointer to beginning of 'dest'.\n",
            " */\n",
            "\n",
            "void\t*ft_memcpy(void *dest, const void *src, size_t len)\n",
            "{\n",
            "\tsize_t\ti;\n",
            "\n",
            "\ti = 0;\n",
            "\tif (dest == 0 && src == 0)\n",
            "\t\treturn (0);\n",
            "\twhile (i < len)\n",
            "\t{\n",
            "\t\t*(char *)(dest + i) = *(char *)(src + i);\n",
            "\t\ti++;\n",
            "\t}\n",
            "\treturn (dest);\n",
            "}\n"
         ]
      },
      {
         "cell_type": "markdown",
         "metadata": {},
         "source": [
            "#### memcpy_test.c"
         ]
      },
      {
         "cell_type": "code",
         "execution_count": 21,
         "metadata": {},
         "outputs": [
            {
               "name": "stdout",
               "output_type": "stream",
               "text": [
                  "Overwriting memcpy_test.c\n"
               ]
            }
         ],
         "source": [
            "%%file memcpy_test.c\n",
            "#include <stdio.h>\n",
            "#include <stdlib.h>\n",
            "#include <string.h>\n",
            "#include \"../libft/libft.h\"\n",
            "#define SIZE 6\n",
            "\n",
            "int main (void)\n",
            "{\n",
            "    char string_src[50] = \"This is a sample string.\";\n",
            "    char string_dest[50];\n",
            "    char string1_src[50] = \"This is a sample string.\";\n",
            "    char string1_dest[50];\n",
            "\n",
            "    printf(\"function,action,result\\n\");\n",
            "\n",
            "    printf(\"memcpy,Before memcpy,%s\\n\", string_dest);\n",
            "    memcpy(string_dest, string_src, SIZE);\n",
            "    printf(\"memcpy,After memcpy,%s\\n\", string_dest);\n",
            "\n",
            "    printf(\"ft_memcpy,Before ft_memcpy,%s\\n\", string1_dest);\n",
            "    ft_memcpy(string1_dest, string1_src, SIZE);\n",
            "    printf(\"ft_memcpy,After ft_memcpy,%s\\n\", string1_dest);\n",
            "\n",
            "    return(0);\n",
            "}"
         ]
      },
      {
         "cell_type": "markdown",
         "metadata": {},
         "source": [
            "### memmove"
         ]
      },
      {
         "cell_type": "markdown",
         "metadata": {},
         "source": [
            "#### ft_memmove.c"
         ]
      },
      {
         "cell_type": "markdown",
         "metadata": {},
         "source": [
            "- Did a rework after norminette on 11/14. may need to retest.\n",
            "- 19/11 - Needs rework with tester. Doesn't copy adjacent memory addresses correctly."
         ]
      },
      {
         "cell_type": "code",
         "execution_count": 26,
         "metadata": {},
         "outputs": [
            {
               "name": "stdout",
               "output_type": "stream",
               "text": [
                  "Overwriting ../libft/ft_memmove.c\n"
               ]
            }
         ],
         "source": [
            "%%file ../libft/ft_memmove.c\n",
            "/* ************************************************************************** */\n",
            "/*                                                                            */\n",
            "/*                                                        :::      ::::::::   */\n",
            "/*   ft_memmove.c                                       :+:      :+:    :+:   */\n",
            "/*                                                    +:+ +:+         +:+     */\n",
            "/*   By: dpentlan <dpentlan@student.42.fr>          +#+  +:+       +#+        */\n",
            "/*                                                +#+#+#+#+#+   +#+           */\n",
            "/*   Created: 2022/11/11 12:58:05 by dpentlan          #+#    #+#             */\n",
            "/*   Updated: 2022/11/11 12:58:20 by dpentlan         ###   ########.fr       */\n",
            "/*                                                                            */\n",
            "/* ************************************************************************** */\n",
            "\n",
            "#include \"libft.h\"\n",
            "\n",
            "/*  *** ft_memmove (42 memory move) ***\n",
            " *\n",
            " *  Takes destination pointer 'dest', source pointer 'src', and size_t len.\n",
            " *  Copies 'len' number of bytes from memory area 'src' to memory area 'dest'.\n",
            " *  Returns pointer 'dest'.\n",
            " */\n",
            "\n",
            "void\t*ft_memmove(void *dest, const void *src, size_t len)\n",
            "{\n",
            "\tsize_t\ti;\n",
            "\n",
            "\ti = 0;\n",
            "\tif (src == 0 && dest == 0)\n",
            "\t\treturn (0);\n",
            "\tif ((unsigned long int)dest - (unsigned long int)src >= len)\n",
            "\t{\n",
            "\t\twhile (i < len)\n",
            "\t\t{\n",
            "\t\t\t*(char *)(dest + i) = *(char *)(src + i);\n",
            "\t\t\ti++;\n",
            "\t\t}\n",
            "\t}\n",
            "\telse\n",
            "\t{\n",
            "\t\twhile (i < len)\n",
            "\t\t{\n",
            "\t\t\t*(char *)(dest + (len - 1 - i)) = *(char *)(src + (len - 1 - i));\n",
            "\t\t\ti++;\n",
            "\t\t}\n",
            "\t}\n",
            "\treturn (dest);\n",
            "}"
         ]
      },
      {
         "cell_type": "markdown",
         "metadata": {},
         "source": [
            "#### memmove_test.c"
         ]
      },
      {
         "cell_type": "code",
         "execution_count": 23,
         "metadata": {},
         "outputs": [
            {
               "name": "stdout",
               "output_type": "stream",
               "text": [
                  "Overwriting memmove_test.c\n"
               ]
            }
         ],
         "source": [
            "%%file memmove_test.c\n",
            "#include <stdio.h>\n",
            "#include <stdlib.h>\n",
            "#include <string.h>\n",
            "#include \"../libft/libft.h\"\n",
            "\n",
            "int main (int argc, char* argv[])\n",
            "{\n",
            "    char string_src[50] = \"This is a sample string.\";\n",
            "    char string_dest[50];\n",
            "    char string1_src[50] = \"This is a sample string.\";\n",
            "    char string1_dest[50];\n",
            "    int size;\n",
            "\n",
            "    size = atoi(argv[1]);\n",
            "\n",
            "    printf(\"memmove,Before memmove,%s\\r\\n\", string_dest);\n",
            "    memmove(string_dest, string_src, size);\n",
            "    printf(\"memmove,After memmove,%s\\r\\n\", string_dest);\n",
            "\n",
            "    printf(\"ft_memmove,Before memmove,%s\\n\", string1_dest);\n",
            "    ft_memmove(string1_dest, string1_src, size);\n",
            "    printf(\"ft_memmove,After memmove,%s\\n\", string1_dest);\n",
            "\n",
            "    return (0);\n",
            "}"
         ]
      },
      {
         "cell_type": "markdown",
         "metadata": {},
         "source": [
            "### strlcpy"
         ]
      },
      {
         "cell_type": "markdown",
         "metadata": {},
         "source": [
            "#### ft_strlcpy"
         ]
      },
      {
         "cell_type": "code",
         "execution_count": 27,
         "metadata": {},
         "outputs": [
            {
               "name": "stdout",
               "output_type": "stream",
               "text": [
                  "Overwriting ../libft/ft_strlcpy.c\n"
               ]
            }
         ],
         "source": [
            "%%file ../libft/ft_strlcpy.c\n",
            "/* ************************************************************************** */\n",
            "/*                                                                            */\n",
            "/*                                                        :::      ::::::::   */\n",
            "/*   ft_strlcpy.c                                       :+:      :+:    :+:   */\n",
            "/*                                                    +:+ +:+         +:+     */\n",
            "/*   By: dpentlan <dpentlan@student.42.fr>          +#+  +:+       +#+        */\n",
            "/*                                                +#+#+#+#+#+   +#+           */\n",
            "/*   Created: 2022/11/11 12:59:12 by dpentlan          #+#    #+#             */\n",
            "/*   Updated: 2022/11/11 12:59:13 by dpentlan         ###   ########.fr       */\n",
            "/*                                                                            */\n",
            "/* ************************************************************************** */\n",
            "\n",
            "#include \"libft.h\"\n",
            "\n",
            "/*  *** ft_strlcpy (42 size-bounded string copy) ***\n",
            " *\n",
            " *  Takes destination string 'dest', source string 'stc', and size_t 'size'.\n",
            " *  Copies maximum of 'size' bytes from 'src' to 'dest'.\n",
            " *  Returns size_t number of bytes coppied.\n",
            " */\n",
            "\n",
            "size_t\tft_strlcpy(char *dest, const char *src, size_t size)\n",
            "{\n",
            "\tsize_t\ti;\n",
            "\n",
            "\ti = 0U;\n",
            "\twhile (*src != '\\0')\n",
            "\t{\n",
            "\t\tif (i + 1 < size)\n",
            "\t\t{\n",
            "\t\t\t*dest = *src;\n",
            "\t\t\tdest++;\n",
            "\t\t}\n",
            "\t\tsrc++;\n",
            "\t\ti++;\n",
            "\t}\n",
            "\tif (size != 0)\n",
            "\t\t*dest = '\\0';\n",
            "\treturn (i);\n",
            "}\n"
         ]
      },
      {
         "cell_type": "markdown",
         "metadata": {},
         "source": [
            "#### strlcpy_test.c\n",
            "- This test will take 2 arguments.\n",
            "    - First one is either 0 or 1 which indicates if the program is going to use bsd strlcpy or ft strlcpy. \n",
            "    - second is the number of characters to copy over. \n",
            "- The bash script runs a loop for each and then compares the diff."
         ]
      },
      {
         "cell_type": "code",
         "execution_count": 24,
         "metadata": {},
         "outputs": [
            {
               "name": "stdout",
               "output_type": "stream",
               "text": [
                  "Overwriting strlcpy_test.c\n"
               ]
            }
         ],
         "source": [
            "%%file strlcpy_test.c\n",
            "#include <stdio.h>\n",
            "#include <stdlib.h>\n",
            "#include <string.h>\n",
            "#include <bsd/string.h>\n",
            "#include \"../libft/libft.h\"\n",
            "\n",
            "int main (int argc, char* argv[])\n",
            "{\n",
            "    char string_src[50] = \"Hi this is a source sting.\";\n",
            "    char string_dest[50];\n",
            "    int size;\n",
            "    int return_val;\n",
            "\n",
            "    size = atoi(argv[2]);\n",
            "    if (atoi(argv[1]) == 0)\n",
            "    {\n",
            "        //printf(\"strlcpy,before,%d,%s\\n\",size, string_dest);\n",
            "        return_val = strlcpy(string_dest, string_src, size);\n",
            "        printf(\"strlcpy,after,%d,%s,%d\\n\",size, string_dest, return_val);\n",
            "    }\n",
            "    else if (atoi(argv[1]) == 1)\n",
            "    {\n",
            "        //printf(\"ft_strlcpy,before,%d,%s\\n\",size, string1_dest);\n",
            "        return_val = ft_strlcpy(string_dest, string_src, size);\n",
            "        printf(\"ft_strlcpy,after,%d,%s,%d\\n\",size, string_dest, return_val);\n",
            "    }\n",
            "    return (0);\n",
            "}\n"
         ]
      },
      {
         "cell_type": "markdown",
         "metadata": {},
         "source": [
            "### strlcat"
         ]
      },
      {
         "cell_type": "markdown",
         "metadata": {},
         "source": [
            "#### ft_strlcat.c"
         ]
      },
      {
         "cell_type": "code",
         "execution_count": 17,
         "metadata": {},
         "outputs": [
            {
               "name": "stdout",
               "output_type": "stream",
               "text": [
                  "Overwriting ../libft/ft_strlcat.c\n"
               ]
            }
         ],
         "source": [
            "%%file ../libft/ft_strlcat.c\n",
            "/* ************************************************************************** */\n",
            "/*                                                                            */\n",
            "/*                                                        :::      ::::::::   */\n",
            "/*   ft_strlcat.c                                       :+:      :+:    :+:   */\n",
            "/*                                                    +:+ +:+         +:+     */\n",
            "/*   By: dpentlan <dpentlan@student.42.fr>          +#+  +:+       +#+        */\n",
            "/*                                                +#+#+#+#+#+   +#+           */\n",
            "/*   Created: 2022/11/11 12:58:53 by dpentlan          #+#    #+#             */\n",
            "/*   Updated: 2022/11/11 12:59:00 by dpentlan         ###   ########.fr       */\n",
            "/*                                                                            */\n",
            "/* ************************************************************************** */\n",
            "\n",
            "#include \"libft.h\"\n",
            "\n",
            "/*  *** ft_strlcat (42 size-bounded string concatination) ***\n",
            " *\n",
            " *  Takes destination pointer 'dest', source string 'src', and size_t 'size'.\n",
            " *  Concatenates string 'src' to the end of 'dest' by first seeking the first\n",
            " *  Null terminator at the end of 'dest' and copying 'size' number of bytes\n",
            " *  from 'src' to the end of 'dest'.\n",
            " *  Returns number of bytes coppied.\n",
            " */\n",
            "\n",
            "size_t\tft_strlcat(char *dest, const char *src, size_t size)\n",
            "{\n",
            "\tsize_t\tdest_len;\n",
            "\tsize_t\tsrc_len;\n",
            "\tsize_t\ti;\n",
            "\n",
            "\tdest_len = 0U;\n",
            "\tsrc_len = 0U;\n",
            "\ti = 0U;\n",
            "\tif (src == 0 || dest == 0)\n",
            "\t\treturn (0);\n",
            "\twhile (dest[dest_len] != '\\0')\n",
            "\t\tdest_len++;\n",
            "\twhile (src[src_len] != '\\0')\n",
            "\t\tsrc_len++;\n",
            "\tif (size == 0)\n",
            "\t\treturn (src_len);\n",
            "\twhile (src[i] != '\\0' && dest_len + i < size - 1)\n",
            "\t{\n",
            "\t\tdest[dest_len + i] = src[i];\n",
            "\t\ti++;\n",
            "\t}\n",
            "\tdest[dest_len + i] = '\\0';\n",
            "\tif (dest_len > size)\n",
            "\t\treturn (src_len + size);\n",
            "\treturn (dest_len + src_len);\n",
            "}\n"
         ]
      },
      {
         "cell_type": "markdown",
         "metadata": {},
         "source": [
            "#### strlcat_test.c"
         ]
      },
      {
         "cell_type": "code",
         "execution_count": 25,
         "metadata": {},
         "outputs": [
            {
               "name": "stdout",
               "output_type": "stream",
               "text": [
                  "Overwriting strlcat_test.c\n"
               ]
            }
         ],
         "source": [
            "%%file strlcat_test.c\n",
            "#include <stdio.h>\n",
            "#include <stdlib.h>\n",
            "#include <string.h>\n",
            "#include <bsd/string.h>\n",
            "#include \"../libft/libft.h\"\n",
            "\n",
            "int main (int argc, char* argv[])\n",
            "{\n",
            "    char string_src[50] = \"Hi this is a source string.\";\n",
            "    char string_dest[50]= \"\";\n",
            "    int size;\n",
            "    int return_val;\n",
            "\n",
            "    size = atoi(argv[2]);\n",
            "    if (atoi(argv[1]) == 0)\n",
            "    {\n",
            "        //printf(\"strlcpy,before,%d,%s\\n\",size, string_dest);\n",
            "        return_val = strlcat(string_dest, string_src, size);\n",
            "        printf(\"strlcpy,after,%d,%s,%d\\n\",size, string_dest, return_val);\n",
            "    }\n",
            "    else if (atoi(argv[1]) == 1)\n",
            "    {\n",
            "        //printf(\"ft_strlcpy,before,%d,%s\\n\",size, string1_dest);\n",
            "        return_val = ft_strlcat(string_dest, string_src, size);\n",
            "        printf(\"ft_strlcpy,after,%d,%s,%d\\n\",size, string_dest, return_val);\n",
            "    }\n",
            "    return (0);\n",
            "}\n"
         ]
      },
      {
         "cell_type": "code",
         "execution_count": 53,
         "metadata": {},
         "outputs": [
            {
               "name": "stdout",
               "output_type": "stream",
               "text": [
                  "Overwriting strlcat_test.c\n"
               ]
            }
         ],
         "source": [
            "%%file strlcat_test.c\n",
            "#include <stdio.h>\n",
            "#include <stdlib.h>\n",
            "#include <string.h>\n",
            "#include <bsd/string.h>\n",
            "#include \"../libft/libft.h\"\n",
            "\n",
            "int main (void)\n",
            "{\n",
            "\tchar\t*dest;\n",
            "\n",
            "\tdest = (char *)malloc(sizeof(char) * 100);\n",
            "\tprintf(\"%ld\", ft_strlcat(dest, \"lorem ipsum dolor sit amet\", 5));\n",
            "\treturn 0;\n",
            "}"
         ]
      },
      {
         "cell_type": "code",
         "execution_count": 54,
         "metadata": {},
         "outputs": [
            {
               "name": "stdout",
               "output_type": "stream",
               "text": [
                  "rm -f ft_isalpha.o ft_isdigit.o ft_isalnum.o ft_isascii.o ft_isprint.o ft_strlen.o ft_memset.o ft_bzero.o ft_memcpy.o ft_memmove.o ft_strlcpy.o ft_strlcat.o ft_toupper.o ft_tolower.o ft_strchr.o ft_strrchr.o ft_strncmp.o ft_memchr.o ft_memcmp.o ft_strnstr.o ft_atoi.o ft_calloc.o ft_strdup.o ft_substr.o ft_strjoin.o ft_strtrim.o ft_split.o ft_itoa.o ft_strmapi.o ft_striteri.o ft_putchar_fd.o ft_putstr_fd.o ft_putendl_fd.o ft_putnbr_fd.o ft_lstnew.o ft_lstadd_front.o ft_lstsize.o ft_lstlast.o ft_lstadd_back.o ft_lstdelone.o ft_lstclear.o ft_lstiter.o ft_lstmap.o\n",
                  "rm -f libft.a\n",
                  "cc -Wall -Wextra -Werror -c ft_isalpha.c -o ft_isalpha.o\n",
                  "cc -Wall -Wextra -Werror -c ft_isdigit.c -o ft_isdigit.o\n",
                  "cc -Wall -Wextra -Werror -c ft_isalnum.c -o ft_isalnum.o\n",
                  "cc -Wall -Wextra -Werror -c ft_isascii.c -o ft_isascii.o\n",
                  "cc -Wall -Wextra -Werror -c ft_isprint.c -o ft_isprint.o\n",
                  "cc -Wall -Wextra -Werror -c ft_strlen.c -o ft_strlen.o\n",
                  "cc -Wall -Wextra -Werror -c ft_memset.c -o ft_memset.o\n",
                  "cc -Wall -Wextra -Werror -c ft_bzero.c -o ft_bzero.o\n",
                  "cc -Wall -Wextra -Werror -c ft_memcpy.c -o ft_memcpy.o\n",
                  "cc -Wall -Wextra -Werror -c ft_memmove.c -o ft_memmove.o\n",
                  "cc -Wall -Wextra -Werror -c ft_strlcpy.c -o ft_strlcpy.o\n",
                  "cc -Wall -Wextra -Werror -c ft_strlcat.c -o ft_strlcat.o\n",
                  "cc -Wall -Wextra -Werror -c ft_toupper.c -o ft_toupper.o\n",
                  "cc -Wall -Wextra -Werror -c ft_tolower.c -o ft_tolower.o\n",
                  "cc -Wall -Wextra -Werror -c ft_strchr.c -o ft_strchr.o\n",
                  "cc -Wall -Wextra -Werror -c ft_strrchr.c -o ft_strrchr.o\n",
                  "cc -Wall -Wextra -Werror -c ft_strncmp.c -o ft_strncmp.o\n",
                  "cc -Wall -Wextra -Werror -c ft_memchr.c -o ft_memchr.o\n",
                  "cc -Wall -Wextra -Werror -c ft_memcmp.c -o ft_memcmp.o\n",
                  "cc -Wall -Wextra -Werror -c ft_strnstr.c -o ft_strnstr.o\n",
                  "cc -Wall -Wextra -Werror -c ft_atoi.c -o ft_atoi.o\n",
                  "cc -Wall -Wextra -Werror -c ft_calloc.c -o ft_calloc.o\n",
                  "cc -Wall -Wextra -Werror -c ft_strdup.c -o ft_strdup.o\n",
                  "cc -Wall -Wextra -Werror -c ft_substr.c -o ft_substr.o\n",
                  "cc -Wall -Wextra -Werror -c ft_strjoin.c -o ft_strjoin.o\n",
                  "cc -Wall -Wextra -Werror -c ft_strtrim.c -o ft_strtrim.o\n",
                  "cc -Wall -Wextra -Werror -c ft_split.c -o ft_split.o\n",
                  "cc -Wall -Wextra -Werror -c ft_itoa.c -o ft_itoa.o\n",
                  "cc -Wall -Wextra -Werror -c ft_strmapi.c -o ft_strmapi.o\n",
                  "cc -Wall -Wextra -Werror -c ft_striteri.c -o ft_striteri.o\n",
                  "cc -Wall -Wextra -Werror -c ft_putchar_fd.c -o ft_putchar_fd.o\n",
                  "cc -Wall -Wextra -Werror -c ft_putstr_fd.c -o ft_putstr_fd.o\n",
                  "cc -Wall -Wextra -Werror -c ft_putendl_fd.c -o ft_putendl_fd.o\n",
                  "cc -Wall -Wextra -Werror -c ft_putnbr_fd.c -o ft_putnbr_fd.o\n",
                  "ar rcs libft.a -o ft_isalpha.o ft_isdigit.o ft_isalnum.o ft_isascii.o ft_isprint.o ft_strlen.o ft_memset.o ft_bzero.o ft_memcpy.o ft_memmove.o ft_strlcpy.o ft_strlcat.o ft_toupper.o ft_tolower.o ft_strchr.o ft_strrchr.o ft_strncmp.o ft_memchr.o ft_memcmp.o ft_strnstr.o ft_atoi.o ft_calloc.o ft_strdup.o ft_substr.o ft_strjoin.o ft_strtrim.o ft_split.o ft_itoa.o ft_strmapi.o ft_striteri.o ft_putchar_fd.o ft_putstr_fd.o ft_putendl_fd.o ft_putnbr_fd.o\n",
                  "26"
               ]
            }
         ],
         "source": [
            "%%bash\n",
            "cd ../libft\n",
            "make re\n",
            "cd ../libft_testing\n",
            "gcc strlcat_test.c -lft -L../libft/ -g -lbsd\n",
            "./a.out\n"
         ]
      },
      {
         "cell_type": "markdown",
         "metadata": {},
         "source": [
            "### toupper"
         ]
      },
      {
         "cell_type": "markdown",
         "metadata": {},
         "source": [
            "#### ft_toupper.c"
         ]
      },
      {
         "cell_type": "code",
         "execution_count": 29,
         "metadata": {},
         "outputs": [
            {
               "name": "stdout",
               "output_type": "stream",
               "text": [
                  "Overwriting ../libft/ft_toupper.c\n"
               ]
            }
         ],
         "source": [
            "%%file ../libft/ft_toupper.c\n",
            "/* ************************************************************************** */\n",
            "/*                                                                            */\n",
            "/*                                                        :::      ::::::::   */\n",
            "/*   ft_toupper.c                                       :+:      :+:    :+:   */\n",
            "/*                                                    +:+ +:+         +:+     */\n",
            "/*   By: dpentlan <dpentlan@student.42.fr>          +#+  +:+       +#+        */\n",
            "/*                                                +#+#+#+#+#+   +#+           */\n",
            "/*   Created: 2022/11/11 13:06:56 by dpentlan          #+#    #+#             */\n",
            "/*   Updated: 2022/11/11 13:06:58 by dpentlan         ###   ########.fr       */\n",
            "/*                                                                            */\n",
            "/* ************************************************************************** */\n",
            "\n",
            "#include \"libft.h\"\n",
            "\n",
            "/*  *** ft_toupper (42 to uppercase) ***\n",
            " *\n",
            " *  Takes an ascii character 'c'.\n",
            " *  Returns corresponding character in uppercase.\n",
            " */\n",
            "\n",
            "int\tft_toupper(int c)\n",
            "{\n",
            "\tif (c >= 97 && c <= 122)\n",
            "\t\treturn (c - 32);\n",
            "\telse\n",
            "\t\treturn (c);\n",
            "}"
         ]
      },
      {
         "cell_type": "markdown",
         "metadata": {},
         "source": [
            "#### toupper_test.c"
         ]
      },
      {
         "cell_type": "code",
         "execution_count": null,
         "metadata": {},
         "outputs": [
            {
               "name": "stdout",
               "output_type": "stream",
               "text": [
                  "Overwriting ../libft_testing/function_remakes/toupper_test.c\n"
               ]
            }
         ],
         "source": [
            "%%file toupper_test.c\n",
            "#include <stdio.h>\n",
            "#include <stdlib.h>\n",
            "#include <string.h>\n",
            "#include <ctype.h>\n",
            "#include \"../libft/libft.h\"\n",
            "\n",
            "int main (int argc, char* argv[])\n",
            "{\n",
            "    char string_src[50] = \"Hi this is a source string.\";\n",
            "    char string_all_ascii_vals[128] = \"\";\n",
            "    int i;\n",
            "    int return_val;\n",
            "    int len;\n",
            "\n",
            "    len = strlen(string_src);\n",
            "    i = 1;\n",
            "\n",
            "    while (i < 128)\n",
            "    {\n",
            "        string_all_ascii_vals[i] = i;\n",
            "        i++;\n",
            "    }\n",
            "\n",
            "    i = 0;\n",
            "    while (i < len)\n",
            "    {\n",
            "        if (atoi(argv[1]) == 0)\n",
            "        {\n",
            "            return_val = toupper(string_src[i]);\n",
            "            printf(\"toupper,%d,%d,%d,%c,%c\\n\", string_src[i], return_val, len, string_src[i], return_val);\n",
            "        }\n",
            "        else if (atoi(argv[1]) == 1)\n",
            "        {\n",
            "            return_val = ft_toupper(string_src[i]);\n",
            "            printf(\"toupper,%d,%d,%d,%c,%c\\n\", string_src[i], return_val, len, string_src[i], return_val);\n",
            "        }\n",
            "        i++;\n",
            "    }\n",
            "\n",
            "    i = 0;\n",
            "    while (i < 128)\n",
            "    {\n",
            "        if (atoi(argv[1]) == 0)\n",
            "        {\n",
            "            return_val = toupper(string_all_ascii_vals[i]);\n",
            "            printf(\"toupper,%d,%d,%d,%c,%c\\n\", string_all_ascii_vals[i], return_val, len, string_all_ascii_vals[i], return_val);\n",
            "        }\n",
            "        else if (atoi(argv[1]) == 1)\n",
            "        {\n",
            "            return_val = ft_toupper(string_all_ascii_vals[i]);\n",
            "            printf(\"toupper,%d,%d,%d,%c,%c\\n\", string_all_ascii_vals[i], return_val, len, string_all_ascii_vals[i], return_val);\n",
            "        }\n",
            "        i++;\n",
            "    }\n",
            "    return (0);\n",
            "}\n"
         ]
      },
      {
         "cell_type": "markdown",
         "metadata": {},
         "source": [
            "### tolower"
         ]
      },
      {
         "cell_type": "markdown",
         "metadata": {},
         "source": [
            "#### ft_tolower.c"
         ]
      },
      {
         "cell_type": "code",
         "execution_count": 30,
         "metadata": {},
         "outputs": [
            {
               "name": "stdout",
               "output_type": "stream",
               "text": [
                  "Overwriting ../libft/ft_tolower.c\n"
               ]
            }
         ],
         "source": [
            "%%file ../libft/ft_tolower.c\n",
            "/* ************************************************************************** */\n",
            "/*                                                                            */\n",
            "/*                                                        :::      ::::::::   */\n",
            "/*   ft_tolower.c                                       :+:      :+:    :+:   */\n",
            "/*                                                    +:+ +:+         +:+     */\n",
            "/*   By: dpentlan <dpentlan@student.42.fr>          +#+  +:+       +#+        */\n",
            "/*                                                +#+#+#+#+#+   +#+           */\n",
            "/*   Created: 2022/11/11 13:57:33 by dpentlan          #+#    #+#             */\n",
            "/*   Updated: 2022/11/11 13:57:37 by dpentlan         ###   ########.fr       */\n",
            "/*                                                                            */\n",
            "/* ************************************************************************** */\n",
            "\n",
            "#include \"libft.h\"\n",
            "\n",
            "/*  *** ft_tolower (42 to lowercase) ***\n",
            " *\n",
            " *  Takes an ascii character 'c'.\n",
            " *  Returns corresponding character in lowercase.\n",
            " */\n",
            "\n",
            "int\tft_tolower(int c)\n",
            "{\n",
            "\tif (c >= 65 && c <= 90)\n",
            "\t\treturn (c + 32);\n",
            "\telse\n",
            "\t\treturn (c);\n",
            "}\n"
         ]
      },
      {
         "cell_type": "markdown",
         "metadata": {},
         "source": [
            "#### tolower_test.c"
         ]
      },
      {
         "cell_type": "code",
         "execution_count": 28,
         "metadata": {},
         "outputs": [
            {
               "name": "stdout",
               "output_type": "stream",
               "text": [
                  "Overwriting tolower_test.c\n"
               ]
            }
         ],
         "source": [
            "%%file tolower_test.c\n",
            "#include <stdio.h>\n",
            "#include <stdlib.h>\n",
            "#include <string.h>\n",
            "#include <ctype.h>\n",
            "#include \"../libft/libft.h\"\n",
            "\n",
            "int main (int argc, char* argv[])\n",
            "{\n",
            "    char string_src[50] = \"Hi this is a source string.\";\n",
            "    char string_all_ascii_vals[128] = \"\";\n",
            "    int i;\n",
            "    int return_val;\n",
            "    int len;\n",
            "\n",
            "    len = strlen(string_src);\n",
            "    i = 1;\n",
            "\n",
            "    while (i < 128)\n",
            "    {\n",
            "        string_all_ascii_vals[i] = i;\n",
            "        i++;\n",
            "    }\n",
            "\n",
            "    i = 0;\n",
            "    while (i < len)\n",
            "    {\n",
            "        if (atoi(argv[1]) == 0)\n",
            "        {\n",
            "            return_val = tolower(string_src[i]);\n",
            "            printf(\"tolower,%d,%d,%d,%c,%c\\n\", string_src[i], return_val, len, string_src[i], return_val);\n",
            "        }\n",
            "        else if (atoi(argv[1]) == 1)\n",
            "        {\n",
            "            return_val = ft_tolower(string_src[i]);\n",
            "            printf(\"ft_tolower,%d,%d,%d,%c,%c\\n\", string_src[i], return_val, len, string_src[i], return_val);\n",
            "        }\n",
            "        i++;\n",
            "    }\n",
            "\n",
            "    i = 0;\n",
            "    while (i < 128)\n",
            "    {\n",
            "        if (atoi(argv[1]) == 0)\n",
            "        {\n",
            "            return_val = tolower(string_all_ascii_vals[i]);\n",
            "            printf(\"tolower,%d,%d,%d,%c,%c\\n\", string_all_ascii_vals[i], return_val, len, string_all_ascii_vals[i], return_val);\n",
            "        }\n",
            "        else if (atoi(argv[1]) == 1)\n",
            "        {\n",
            "            return_val = ft_tolower(string_all_ascii_vals[i]);\n",
            "            printf(\"ft_tolower,%d,%d,%d,%c,%c\\n\", string_all_ascii_vals[i], return_val, len, string_all_ascii_vals[i], return_val);\n",
            "        }\n",
            "        i++;\n",
            "    }\n",
            "    return (0);\n",
            "}\n"
         ]
      },
      {
         "cell_type": "markdown",
         "metadata": {},
         "source": [
            "### strchr"
         ]
      },
      {
         "cell_type": "markdown",
         "metadata": {},
         "source": [
            "#### ft_strchr.c"
         ]
      },
      {
         "cell_type": "code",
         "execution_count": 31,
         "metadata": {},
         "outputs": [
            {
               "name": "stdout",
               "output_type": "stream",
               "text": [
                  "Overwriting ../libft/ft_strchr.c\n"
               ]
            }
         ],
         "source": [
            "%%file ../libft/ft_strchr.c\n",
            "/* ************************************************************************** */\n",
            "/*                                                                            */\n",
            "/*                                                        :::      ::::::::   */\n",
            "/*   ft_strchr.c                                        :+:      :+:    :+:   */\n",
            "/*                                                    +:+ +:+         +:+     */\n",
            "/*   By: dpentlan <dpentlan@student.42.fr>          +#+  +:+       +#+        */\n",
            "/*                                                +#+#+#+#+#+   +#+           */\n",
            "/*   Created: 2022/11/11 15:07:07 by dpentlan          #+#    #+#             */\n",
            "/*   Updated: 2022/11/11 15:07:10 by dpentlan         ###   ########.fr       */\n",
            "/*                                                                            */\n",
            "/* ************************************************************************** */\n",
            "\n",
            "#include \"libft.h\"\n",
            "\n",
            "/*  *** ft_strchr (42 string character) ***\n",
            " *\n",
            " *  Takes a string pointer 's' and a character 'c'.\n",
            " *  Returns the address of the first instance of character 'c'.\n",
            " */\n",
            "\n",
            "char\t*ft_strchr(const char *s, int c)\n",
            "{\n",
            "\tint\ti;\n",
            "\n",
            "\ti = 0;\n",
            "\twhile (s[i] != 0)\n",
            "\t{\n",
            "\t\tif (s[i] == (unsigned char)c)\n",
            "\t\t\treturn ((char *)&s[i]);\n",
            "\t\ti++;\n",
            "\t}\n",
            "\tif (s[i] == (unsigned char)c)\n",
            "\t\treturn ((char *)&s[i]);\n",
            "\treturn (0);\n",
            "}"
         ]
      },
      {
         "cell_type": "markdown",
         "metadata": {},
         "source": [
            "#### strchr_test.c"
         ]
      },
      {
         "cell_type": "code",
         "execution_count": 30,
         "metadata": {},
         "outputs": [
            {
               "name": "stdout",
               "output_type": "stream",
               "text": [
                  "Overwriting strchr_test.c\n"
               ]
            }
         ],
         "source": [
            "%%file strchr_test.c\n",
            "#include <stdio.h>\n",
            "#include <stdlib.h>\n",
            "#include <string.h>\n",
            "#include \"../libft/libft.h\"\n",
            "\n",
            "int main (int argc, char* argv[])\n",
            "{\n",
            "\tchar \tstring[] = \"Hi there this is a sample string with a lot of characters. The quick brown fox jumps over the lazy dog.\";\n",
            "\tchar*\treturn_val = 0;\n",
            "\tint\t\ti;\n",
            "\tchar \tall_printable[200];\n",
            "\tint\t\tlen;\n",
            "\n",
            "\ti = 32;\n",
            "\twhile(i < 128)\n",
            "\t{\n",
            "\t\tall_printable[i - 32] = i;\n",
            "\t\ti++;\n",
            "\t}\n",
            "\t// >=32 <= 127\n",
            "\n",
            "\ti = 0;\n",
            "\tlen = 95;\t\t//strlen(all_printable);\n",
            "\twhile (i < len)\n",
            "\t{\n",
            "\t\tif (atoi(argv[1]) == 0)\n",
            "\t\t{\n",
            "\t\t\treturn_val = strchr(string, all_printable[i]);\n",
            "\t\t\tprintf(\"strchr,%c,%s\\n\", all_printable[i], return_val);\n",
            "\t\t}\n",
            "\t\telse\n",
            "\t\t{\n",
            "\t\t\treturn_val = ft_strchr(string, all_printable[i]);\n",
            "\t\t\tprintf(\"strchr,%c,%s\\n\", all_printable[i], return_val);\n",
            "\t\t}\n",
            "\t\ti++;\n",
            "\t}\n",
            "\treturn (0);\n",
            "}\n"
         ]
      },
      {
         "cell_type": "markdown",
         "metadata": {},
         "source": [
            "### strrchr"
         ]
      },
      {
         "cell_type": "markdown",
         "metadata": {},
         "source": [
            "- Like strchr but returns the last instance of a char rather than the first."
         ]
      },
      {
         "cell_type": "markdown",
         "metadata": {},
         "source": [
            "#### ft_strrchr.c"
         ]
      },
      {
         "cell_type": "code",
         "execution_count": 33,
         "metadata": {},
         "outputs": [
            {
               "name": "stdout",
               "output_type": "stream",
               "text": [
                  "Overwriting ../libft/ft_strrchr.c\n"
               ]
            }
         ],
         "source": [
            "%%file ../libft/ft_strrchr.c\n",
            "/* ************************************************************************** */\n",
            "/*                                                                            */\n",
            "/*                                                        :::      ::::::::   */\n",
            "/*   ft_strrchr.c                                       :+:      :+:    :+:   */\n",
            "/*                                                    +:+ +:+         +:+     */\n",
            "/*   By: dpentlan <dpentlan@student.42.fr>          +#+  +:+       +#+        */\n",
            "/*                                                +#+#+#+#+#+   +#+           */\n",
            "/*   Created: 2022/11/11 17:18:16 by dpentlan          #+#    #+#             */\n",
            "/*   Updated: 2022/11/11 17:18:18 by dpentlan         ###   ########.fr       */\n",
            "/*                                                                            */\n",
            "/* ************************************************************************** */\n",
            "\n",
            "#include \"libft.h\"\n",
            "\n",
            "/*  *** ft_strrchr (42 string reverse character)\n",
            " *\n",
            " *  Takes a string 's' and a character 'c'.\n",
            " *  Returns the address of the last instance of character 'c' in string 's'.\n",
            " */\n",
            "\n",
            "char\t*ft_strrchr(const char *s, int c)\n",
            "{\n",
            "\tint\t\ti;\n",
            "\tchar\t*last;\n",
            "\n",
            "\tlast = 0;\n",
            "\ti = 0;\n",
            "\tif ((unsigned char)c == 0)\n",
            "\t\treturn ((char *)s + ft_strlen(s));\n",
            "\twhile (s[i] != 0)\n",
            "\t{\n",
            "\t\tif (s[i] == (unsigned char)c)\n",
            "\t\t\tlast = (char *)&s[i];\n",
            "\t\ti++;\n",
            "\t}\n",
            "\treturn (last);\n",
            "}"
         ]
      },
      {
         "cell_type": "markdown",
         "metadata": {},
         "source": [
            "#### strrchr_test.c"
         ]
      },
      {
         "cell_type": "code",
         "execution_count": 32,
         "metadata": {},
         "outputs": [
            {
               "name": "stdout",
               "output_type": "stream",
               "text": [
                  "Overwriting strrchr_test.c\n"
               ]
            }
         ],
         "source": [
            "%%file strrchr_test.c\n",
            "#include <stdio.h>\n",
            "#include <stdlib.h>\n",
            "#include <string.h>\n",
            "#include \"../libft/libft.h\"\n",
            "\n",
            "//\ta.out takes 2 arguments. \n",
            "//\tFirst is 0 or 1 which indicates which function to use (original or 42)\n",
            "//\tSecond is a string to pass to the function.\n",
            "\n",
            "int main (int argc, char* argv[])\n",
            "{\n",
            "\tchar*\treturn_val = 0;\n",
            "\tint\t\ti;\n",
            "\tchar \tall_printable[200];\n",
            "\tint\t\tlen;\n",
            "\n",
            "\ti = 32;\n",
            "\twhile(i < 128)\n",
            "\t{\n",
            "\t\tall_printable[i - 32] = i;\n",
            "\t\ti++;\n",
            "\t}\n",
            "\t// >=32 <= 127\n",
            "\n",
            "\ti = 0;\n",
            "\tlen = 95;\t\t//strlen(all_printable);\n",
            "\twhile (i < len)\n",
            "\t{\n",
            "\t\tif (atoi(argv[1]) == 0)\n",
            "\t\t{\n",
            "\t\t\treturn_val = strrchr(argv[2], all_printable[i]);\n",
            "\t\t\tprintf(\"strrchr,%s,%c,%s\\n\", argv[2], all_printable[i], return_val);\n",
            "\t\t}\n",
            "\t\telse\n",
            "\t\t{\n",
            "\t\t\treturn_val = ft_strrchr(argv[2], all_printable[i]);\n",
            "\t\t\tprintf(\"strrchr,%s,%c,%s\\n\",argv[2], all_printable[i], return_val);\n",
            "\t\t}\n",
            "\t\ti++;\n",
            "\t}\n",
            "\treturn (0);\n",
            "}\n"
         ]
      },
      {
         "cell_type": "markdown",
         "metadata": {},
         "source": [
            "### strncmp"
         ]
      },
      {
         "cell_type": "markdown",
         "metadata": {},
         "source": [
            "#### ft_strncmp.c"
         ]
      },
      {
         "cell_type": "code",
         "execution_count": 2,
         "metadata": {},
         "outputs": [
            {
               "name": "stdout",
               "output_type": "stream",
               "text": [
                  "Overwriting ../libft/ft_strncmp.c\n"
               ]
            }
         ],
         "source": [
            "%%file ../libft/ft_strncmp.c\n",
            "/* ************************************************************************** */\n",
            "/*                                                                            */\n",
            "/*                                                        :::      ::::::::   */\n",
            "/*   ft_strncmp.c                                       :+:      :+:    :+:   */\n",
            "/*                                                    +:+ +:+         +:+     */\n",
            "/*   By: dpentlan <dpentlan@student.42.fr>          +#+  +:+       +#+        */\n",
            "/*                                                +#+#+#+#+#+   +#+           */\n",
            "/*   Created: 2022/11/13 10:13:09 by dpentlan          #+#    #+#             */\n",
            "/*   Updated: 2022/11/13 10:13:35 by dpentlan         ###   ########.fr       */\n",
            "/*                                                                            */\n",
            "/* ************************************************************************** */\n",
            "\n",
            "#include \"libft.h\"\n",
            "\n",
            "/*  *** ft_strncmp (42 string number compare) ***\n",
            " *\n",
            " *  Takes 2 strings 's1' and 's2' and size_t 'n'.\n",
            " *  Compares the first string to the second string for 'n' number of bytes.\n",
            " *  Returns the difference of first byte found that is different if one is found.\n",
            " *  Returns 0 if no difference is found.\n",
            " */\n",
            "\n",
            "int\tft_strncmp(const char *s1, const char *s2, size_t n)\n",
            "{\n",
            "\tsize_t\ti;\n",
            "\n",
            "\ti = 0;\n",
            "\twhile (s1[i] == s2[i] && s1[i] != '\\0' && i < n)\n",
            "\t\ti++;\n",
            "\tif (i == n)\n",
            "\t\treturn (0);\n",
            "\telse\n",
            "\t\treturn ((unsigned char)s1[i] - (unsigned char)s2[i]);\n",
            "}"
         ]
      },
      {
         "cell_type": "markdown",
         "metadata": {},
         "source": [
            "#### strncmp_test.c"
         ]
      },
      {
         "cell_type": "code",
         "execution_count": 145,
         "metadata": {},
         "outputs": [
            {
               "name": "stdout",
               "output_type": "stream",
               "text": [
                  "Overwriting strncmp_test.c\n"
               ]
            }
         ],
         "source": [
            "%%file strncmp_test.c\n",
            "#include <stdio.h>\n",
            "#include <string.h>\n",
            "#include <stdlib.h>\n",
            "#include \"../libft/libft.h\"\n",
            "\n",
            "int main (int argc, char *argv[])\n",
            "{\n",
            "\tint n;\n",
            "\tint\treturn_val_1;\n",
            "\tint\treturn_val_2;\n",
            "\n",
            "\tif (atoi(argv[1]) == 0)\n",
            "\t{\n",
            "\t\tprintf(\"Function,Input String 1,Input String 2,Input n,Return Value\\n\");\n",
            "\t}\n",
            "\telse if (atoi(argv[1]) == 1)\n",
            "\t{\n",
            "\t\tn = atoi(argv[4]);\n",
            "\t\treturn_val_1 = strncmp(argv[2], argv[3], n);\n",
            "\t\tprintf(\"strncmp,%s,%s,%d,%d\\n\", argv[2], argv[3], n,return_val_1);\n",
            "\t}\n",
            "\telse if (atoi(argv[1]) == 2)\n",
            "\t{\n",
            "\t\tn = atoi(argv[4]);\n",
            "\t\treturn_val_2 = ft_strncmp(argv[2], argv[3], n);\n",
            "\t\tprintf(\"strncmp,%s,%s,%d,%d\\n\", argv[2], argv[3], n,return_val_2);\n",
            "\t}\n",
            "\n",
            "\treturn (0);\n",
            "}\n"
         ]
      },
      {
         "cell_type": "markdown",
         "metadata": {},
         "source": [
            "### memchr"
         ]
      },
      {
         "cell_type": "markdown",
         "metadata": {},
         "source": [
            "#### ft_memchr.c"
         ]
      },
      {
         "cell_type": "code",
         "execution_count": 3,
         "metadata": {},
         "outputs": [
            {
               "name": "stdout",
               "output_type": "stream",
               "text": [
                  "Overwriting ../libft/ft_memchr.c\n"
               ]
            }
         ],
         "source": [
            "%%file ../libft/ft_memchr.c\n",
            "/* ************************************************************************** */\n",
            "/*                                                                            */\n",
            "/*                                                        :::      ::::::::   */\n",
            "/*   ft_memchr.c                                        :+:      :+:    :+:   */\n",
            "/*                                                    +:+ +:+         +:+     */\n",
            "/*   By: dpentlan <dpentlan@student.42.fr>          +#+  +:+       +#+        */\n",
            "/*                                                +#+#+#+#+#+   +#+           */\n",
            "/*   Created: 2022/11/14 10:58:12 by dpentlan          #+#    #+#             */\n",
            "/*   Updated: 2022/11/14 10:58:16 by dpentlan         ###   ########.fr       */\n",
            "/*                                                                            */\n",
            "/* ************************************************************************** */\n",
            "\n",
            "#include \"libft.h\"\n",
            "\n",
            "/*  *** ft_memchr (42 memory character) ***\n",
            " *\n",
            " *  Takes a pointer 's', an integer 'c' and size_t 'n'.\n",
            " *  Checks 'n' number of bytes for character 'c'.\n",
            " *  Returns address of first found byte that matches 'c'.\n",
            " *  If none is found, returns 0.\n",
            " */\n",
            "\n",
            "void\t*ft_memchr(const void *s, int c, size_t n)\n",
            "{\n",
            "\tsize_t\ti;\n",
            "\n",
            "\ti = 0;\n",
            "\twhile (i < n)\n",
            "\t{\n",
            "\t\tif (*((unsigned char *)s + i) == (unsigned char)c)\n",
            "\t\t\treturn (((unsigned char *)s + i));\n",
            "\t\ti++;\n",
            "\t}\n",
            "\treturn (0);\n",
            "}\n"
         ]
      },
      {
         "cell_type": "markdown",
         "metadata": {},
         "source": [
            "#### memchr_test.c"
         ]
      },
      {
         "cell_type": "code",
         "execution_count": 4,
         "metadata": {},
         "outputs": [
            {
               "name": "stdout",
               "output_type": "stream",
               "text": [
                  "Overwriting memchr_test.c\n"
               ]
            }
         ],
         "source": [
            "%%file memchr_test.c\n",
            "#include <string.h>\n",
            "#include <stdio.h>\n",
            "#include <stdlib.h>\n",
            "#include \"../libft/libft.h\"\n",
            "\n",
            "int main (int argc, char *argv[])\n",
            "{\n",
            "\tchar\t*return_value;\n",
            "\tsize_t\tlen;\n",
            "\n",
            "\n",
            "\tif (atoi(argv[1]) == 0)\n",
            "\t{\n",
            "\t\tprintf(\"Function,Input String,Search Char,Size,Return Value\");\n",
            "\t}\n",
            "\tif (atoi(argv[1]) == 1)\n",
            "\t{\n",
            "\t\tlen = strlen(argv[2]);\n",
            "\t\treturn_value = memchr(argv[2], argv[3][0], len);\n",
            "\t\tprintf(\"memchr,%s,%c,%ld,%s\\n\", argv[2], argv[3][0], len, return_value);\n",
            "\t}\n",
            "\telse if (atoi(argv[1]) == 2)\n",
            "\t{\n",
            "\t\tlen = strlen(argv[2]);\n",
            "\t\treturn_value = ft_memchr(argv[2], argv[3][0], len);\n",
            "\t\tprintf(\"memchr,%s,%c,%ld,%s\\n\", argv[2], argv[3][0], len, return_value);\n",
            "\t}\n",
            "\treturn (0);\n",
            "}"
         ]
      },
      {
         "cell_type": "markdown",
         "metadata": {},
         "source": [
            "### memcmp"
         ]
      },
      {
         "cell_type": "markdown",
         "metadata": {},
         "source": [
            "#### ft_memcmp.c"
         ]
      },
      {
         "cell_type": "code",
         "execution_count": 4,
         "metadata": {},
         "outputs": [
            {
               "name": "stdout",
               "output_type": "stream",
               "text": [
                  "Overwriting ../libft/ft_memcmp.c\n"
               ]
            }
         ],
         "source": [
            "%%file ../libft/ft_memcmp.c\n",
            "/* ************************************************************************** */\n",
            "/*                                                                            */\n",
            "/*                                                        :::      ::::::::   */\n",
            "/*   ft_memcmp.c                                        :+:      :+:    :+:   */\n",
            "/*                                                    +:+ +:+         +:+     */\n",
            "/*   By: dpentlan <dpentlan@student.42.fr>          +#+  +:+       +#+        */\n",
            "/*                                                +#+#+#+#+#+   +#+           */\n",
            "/*   Created: 2022/11/14 11:58:30 by dpentlan          #+#    #+#             */\n",
            "/*   Updated: 2022/11/14 11:58:33 by dpentlan         ###   ########.fr       */\n",
            "/*                                                                            */\n",
            "/* ************************************************************************** */\n",
            "\n",
            "#include \"libft.h\"\n",
            "\n",
            "/*  *** ft_memcmp (42 memory compare) ***\n",
            " *\n",
            " *  Compares memory space 's1' with memory space 's2' for size_t 'n' bytes.\n",
            " *  Returns 0 if no difference found.\n",
            " *  Returns difference of byte values if a difference is found while comparing.\n",
            " */\n",
            "\n",
            "int\tft_memcmp(const void *s1, const void *s2, size_t n)\n",
            "{\n",
            "\tsize_t\ti;\n",
            "\n",
            "\tif (n == 0)\n",
            "\t\treturn (0);\n",
            "\ti = 0;\n",
            "\twhile (*((char *)s1 + i) == *((char *)s2 + i) && i < n - 1)\n",
            "\t{\n",
            "\t\ti++;\n",
            "\t}\n",
            "\tif (i == n)\n",
            "\t\treturn (0);\n",
            "\telse\n",
            "\t\treturn (*((unsigned char *)s1 + i) - *((unsigned char *)s2 + i));\n",
            "}"
         ]
      },
      {
         "cell_type": "markdown",
         "metadata": {},
         "source": [
            "#### memcmp_test.c"
         ]
      },
      {
         "cell_type": "code",
         "execution_count": 38,
         "metadata": {},
         "outputs": [
            {
               "name": "stdout",
               "output_type": "stream",
               "text": [
                  "Overwriting memcmp_test.c\n"
               ]
            }
         ],
         "source": [
            "%%file memcmp_test.c\n",
            "#include <stdio.h>\n",
            "#include <stdlib.h>\n",
            "#include <string.h>\n",
            "#include \"../libft/libft.h\"\n",
            "#include <math.h>\n",
            "\n",
            "int main (int argc, char* argv[])\n",
            "{\n",
            "\tint return_value;\n",
            "\n",
            "\n",
            "\treturn_value = 0;\n",
            "\tif (atoi(argv[1]) == 0)\n",
            "\t{\n",
            "\t\tprintf(\"Function,Input String,Cmp String,Size,Return Value(d),Return Value(c)\");\n",
            "\n",
            "\t}\n",
            "\telse if (atoi(argv[1]) == 1)\n",
            "\t{\n",
            "\t\treturn_value = memcmp(argv[2], argv[3], atoi(argv[4]));\n",
            "\t\tprintf(\"memcmp,%s,%s,%d,%d,%c\\n\", argv[2], argv[3], atoi(argv[4]), return_value, abs(return_value));\n",
            "\t}\n",
            "\telse if (atoi(argv[1]) == 2)\n",
            "\t{\n",
            "\t\treturn_value = ft_memcmp(argv[2], argv[3], atoi(argv[4]));\n",
            "\t\tprintf(\"ft_memcmp,%s,%s,%d,%d,%c\\n\", argv[2], argv[3], atoi(argv[4]), return_value, abs(return_value));\n",
            "\t}\n",
            "\treturn (0);\n",
            "}"
         ]
      },
      {
         "cell_type": "markdown",
         "metadata": {},
         "source": [
            "### strnstr"
         ]
      },
      {
         "cell_type": "markdown",
         "metadata": {},
         "source": [
            "#### ft_strnstr.c"
         ]
      },
      {
         "cell_type": "code",
         "execution_count": 6,
         "metadata": {},
         "outputs": [
            {
               "name": "stdout",
               "output_type": "stream",
               "text": [
                  "Overwriting ../libft/ft_strnstr.c\n"
               ]
            }
         ],
         "source": [
            "%%file ../libft/ft_strnstr.c\n",
            "/* ************************************************************************** */\n",
            "/*                                                                            */\n",
            "/*                                                        :::      ::::::::   */\n",
            "/*   ft_strnstr.c                                       :+:      :+:    :+:   */\n",
            "/*                                                    +:+ +:+         +:+     */\n",
            "/*   By: dpentlan <dpentlan@student.42.fr>          +#+  +:+       +#+        */\n",
            "/*                                                +#+#+#+#+#+   +#+           */\n",
            "/*   Created: 2022/11/14 14:39:37 by dpentlan          #+#    #+#             */\n",
            "/*   Updated: 2022/11/14 14:39:38 by dpentlan         ###   ########.fr       */\n",
            "/*                                                                            */\n",
            "/* ************************************************************************** */\n",
            "\n",
            "#include \"libft.h\"\n",
            "\n",
            "/*  *** ft_strnstr (42 string n string) ***\n",
            " *\n",
            " *  Takes a big string 'big' and a little string 'little' and size_t 'len'.\n",
            " *  Searches through 'big' for the first occurance of 'little' substring.\n",
            " *  Searches max 'len' number of bytes.\n",
            " *  Returns address of first instance of 'little' in 'big'.\n",
            " *  Returns 0 if no match found.\n",
            " */\n",
            "\n",
            "char\t*ft_strnstr(const char *big, const char *little, size_t len)\n",
            "{\n",
            "\tsize_t\ti;\n",
            "\tsize_t\tj;\n",
            "\n",
            "\ti = 0;\n",
            "\tif (*little == 0 || big == 0)\n",
            "\t\treturn ((char *)big);\n",
            "\twhile (big[i] && i < len)\n",
            "\t{\n",
            "\t\tj = 0;\n",
            "\t\twhile (big[i + j] == little[j] && little[j] != 0)\n",
            "\t\t{\n",
            "\t\t\tj++;\n",
            "\t\t}\n",
            "\t\tif (little[j] == 0 && i + j <= len)\n",
            "\t\t\treturn ((char *)big + i);\n",
            "\t\ti++;\n",
            "\t}\n",
            "\treturn (0);\n",
            "}"
         ]
      },
      {
         "cell_type": "markdown",
         "metadata": {},
         "source": [
            "#### strnstr_test.c"
         ]
      },
      {
         "cell_type": "code",
         "execution_count": 70,
         "metadata": {},
         "outputs": [
            {
               "name": "stdout",
               "output_type": "stream",
               "text": [
                  "Overwriting strnstr_test.c\n"
               ]
            }
         ],
         "source": [
            "%%file strnstr_test.c\n",
            "#include <stdio.h>\n",
            "#include <stdlib.h>\n",
            "#include <bsd/string.h>\n",
            "#include \"../libft/libft.h\"\n",
            "#include <math.h>\n",
            "\n",
            "int main (int argc, char* argv[])\n",
            "{\n",
            "\tchar\t*return_value;\n",
            "\n",
            "\treturn_value = 0;\n",
            "\tif (atoi(argv[1]) == 0)\n",
            "\t{\n",
            "\t\tprintf(\"Function,Big,Little,len,Return Value\\n\");\n",
            "\t}\n",
            "\telse if (atoi(argv[1]) == 1)\n",
            "\t{\n",
            "\t\treturn_value = strnstr(argv[2], argv[3], atoi(argv[4]));\n",
            "\t\tprintf(\"strnstr,%s,%s,%d,%s\\n\", argv[2], argv[3], atoi(argv[4]), return_value);\n",
            "\t}\n",
            "\telse if (atoi(argv[1]) == 2)\n",
            "\t{\n",
            "\t\treturn_value = ft_strnstr(argv[2], argv[3], atoi(argv[4]));\n",
            "\t\tprintf(\"strnstr,%s,%s,%d,%s\\n\", argv[2], argv[3], atoi(argv[4]), return_value);\n",
            "\t}\n",
            "\treturn (0);\n",
            "}"
         ]
      },
      {
         "cell_type": "markdown",
         "metadata": {},
         "source": [
            "### atoi"
         ]
      },
      {
         "cell_type": "markdown",
         "metadata": {},
         "source": [
            "#### ft_atoi.c"
         ]
      },
      {
         "cell_type": "code",
         "execution_count": 28,
         "metadata": {},
         "outputs": [
            {
               "name": "stdout",
               "output_type": "stream",
               "text": [
                  "Overwriting ../libft/ft_atoi.c\n"
               ]
            }
         ],
         "source": [
            "%%file ../libft/ft_atoi.c\n",
            "/* ************************************************************************** */\n",
            "/*                                                                            */\n",
            "/*                                                        :::      ::::::::   */\n",
            "/*   ft_atoi.c                                          :+:      :+:    :+:   */\n",
            "/*                                                    +:+ +:+         +:+     */\n",
            "/*   By: dpentlan <dpentlan@student.42.fr>          +#+  +:+       +#+        */\n",
            "/*                                                +#+#+#+#+#+   +#+           */\n",
            "/*   Created: 2022/11/16 10:15:41 by dpentlan          #+#    #+#             */\n",
            "/*   Updated: 2022/11/16 10:15:42 by dpentlan         ###   ########.fr       */\n",
            "/*                                                                            */\n",
            "/* ************************************************************************** */\n",
            "\n",
            "#include \"libft.h\"\n",
            "\n",
            "/*  *** int_build (integer build) ***\n",
            " *\n",
            " *  Takes a string of ascii numerical characters and builds an integer\n",
            " *  of the same value.\n",
            " *  Returns integer representation of input string.\n",
            " */\n",
            "\n",
            "static int\tint_build(char *str)\n",
            "{\n",
            "\tint\tret_int;\n",
            "\n",
            "\tret_int = 0;\n",
            "\twhile (*str >= '0' && *str <= '9')\n",
            "\t{\n",
            "\t\tret_int += *str - '0';\n",
            "\t\tif (str[1] >= '0' && str[1] <= '9')\n",
            "\t\t\tret_int *= 10;\n",
            "\t\tstr++;\n",
            "\t}\n",
            "\treturn (ret_int);\n",
            "}\n",
            "\n",
            "/*  *** ft_atoi (42 ascii to integer) ***\n",
            " *\n",
            " *  Takes a string with ascii numbers, spaces or a single '+' or '-' sign.\n",
            " *  Returns a signed integer representation of of the string entered.\n",
            " */\n",
            "\n",
            "int\tft_atoi(const char *nptr)\n",
            "{\n",
            "\tint\tmult;\n",
            "\n",
            "\tmult = 1;\n",
            "\twhile (*nptr == 32 || *nptr == '\\f' || *nptr == '\\n'\n",
            "\t\t|| *nptr == '\\r' || *nptr == '\\t' || *nptr == '\\v')\n",
            "\t\tnptr++;\n",
            "\tif (*nptr == '-' || *nptr == 43)\n",
            "\t{\n",
            "\t\tif (*nptr == '-')\n",
            "\t\t\tmult *= -1;\n",
            "\t\tnptr++;\n",
            "\t}\n",
            "\twhile (*nptr)\n",
            "\t{\n",
            "\t\tif (*nptr >= '0' && *nptr <= '9')\n",
            "\t\t\treturn (int_build((char *)nptr) * mult);\n",
            "\t\telse\n",
            "\t\t\treturn (0);\n",
            "\t}\n",
            "\treturn (0);\n",
            "}\n"
         ]
      },
      {
         "cell_type": "markdown",
         "metadata": {},
         "source": [
            "#### atoi_test.c"
         ]
      },
      {
         "cell_type": "code",
         "execution_count": 36,
         "metadata": {},
         "outputs": [
            {
               "name": "stdout",
               "output_type": "stream",
               "text": [
                  "Overwriting atoi_test.c\n"
               ]
            }
         ],
         "source": [
            "%%file atoi_test.c\n",
            "#include <stdio.h>\n",
            "#include <stdlib.h>\n",
            "#include <string.h>\n",
            "#include \"../libft/libft.h\"\n",
            "#include <math.h>\n",
            "\n",
            "int main (int argc, char *argv[])\n",
            "{\n",
            "\tint\treturn_value;\n",
            "\n",
            "\treturn_value = 0;\n",
            "\tif (atoi(argv[1]) == 0)\n",
            "\t{\n",
            "\t\tprintf(\"Function,Input String, Return Int\\n\");\n",
            "\t}\n",
            "\telse if (atoi(argv[1]) == 1)\n",
            "\t{\n",
            "\t\treturn_value = atoi(argv[2]);\n",
            "\t\tprintf(\"atoi,%s,%d\\n\", argv[2], return_value);\n",
            "\t}\n",
            "\telse if (atoi(argv[1]) == 2)\n",
            "\t{\n",
            "\t\treturn_value = ft_atoi(argv[2]);\n",
            "\t\tprintf(\"atoi,%s,%d\\n\", argv[2], return_value);\n",
            "\t}\n",
            "\treturn (0);\n",
            "}"
         ]
      },
      {
         "cell_type": "code",
         "execution_count": 13,
         "metadata": {},
         "outputs": [
            {
               "name": "stdout",
               "output_type": "stream",
               "text": [
                  "atoi,2147483650,-2147483646\n"
               ]
            }
         ],
         "source": [
            "%%bash\n",
            "gcc atoi_test.c -L../libft/\t-lft\n",
            "./a.out 1 \"2147483650\""
         ]
      },
      {
         "cell_type": "markdown",
         "metadata": {},
         "source": [
            "### calloc"
         ]
      },
      {
         "cell_type": "markdown",
         "metadata": {},
         "source": [
            "#### ft_calloc.c\n",
            "- Need to allocate like with malloc and initiate all memory to 0 with bzero."
         ]
      },
      {
         "cell_type": "code",
         "execution_count": 80,
         "metadata": {},
         "outputs": [
            {
               "name": "stdout",
               "output_type": "stream",
               "text": [
                  "Overwriting ../libft/ft_calloc.c\n"
               ]
            }
         ],
         "source": [
            "%%file ../libft/ft_calloc.c\n",
            "/* ************************************************************************** */\n",
            "/*                                                                            */\n",
            "/*                                                        :::      ::::::::   */\n",
            "/*   ft_calloc.c                                        :+:      :+:    :+:   */\n",
            "/*                                                    +:+ +:+         +:+     */\n",
            "/*   By: dpentlan <dpentlan@student.42.fr>          +#+  +:+       +#+        */\n",
            "/*                                                +#+#+#+#+#+   +#+           */\n",
            "/*   Created: 2022/11/17 10:57:36 by dpentlan          #+#    #+#             */\n",
            "/*   Updated: 2022/11/17 10:57:39 by dpentlan         ###   ########.fr       */\n",
            "/*                                                                            */\n",
            "/* ************************************************************************** */\n",
            "\n",
            "#include \"libft.h\"\n",
            "\n",
            "/*  *** ft_calloc (42 contiguous allocation) ***\n",
            " *\n",
            " *  Takes a size_t 'nmemb' (number of members) and a size_t 'size' (member size).\n",
            " *  Allocates memory for the product of 'nmemb' and 'size'\n",
            " *  and initializes all memory to 0.\n",
            " *  Returns freeable pointer to 1 NULL byte if 'nmemb' or 'size' is 0.\n",
            " *  Returns address to allocated memory space.\n",
            " */\n",
            "\n",
            "void\t*ft_calloc(size_t nmemb, size_t size)\n",
            "{\n",
            "\tvoid\t*pvoid;\n",
            "\tchar\t*pchar;\n",
            "\n",
            "\tif (nmemb == 0 || size == 0)\n",
            "\t{\n",
            "\t\tpchar = malloc(sizeof(char));\n",
            "\t\tif (!pchar)\n",
            "\t\t\treturn (0);\n",
            "\t\tpchar[0] = 0;\n",
            "\t\treturn (pchar);\n",
            "\t}\n",
            "\tif (nmemb > SIZE_MAX / size)\n",
            "\t\treturn (0);\n",
            "\tpvoid = malloc(nmemb * size);\n",
            "\tif (pvoid)\n",
            "\t\tft_bzero (pvoid, nmemb * size);\n",
            "\treturn (pvoid);\n",
            "}\n"
         ]
      },
      {
         "cell_type": "markdown",
         "metadata": {},
         "source": [
            "#### calloc_test.c"
         ]
      },
      {
         "cell_type": "code",
         "execution_count": 71,
         "metadata": {},
         "outputs": [
            {
               "name": "stdout",
               "output_type": "stream",
               "text": [
                  "Overwriting calloc_test.c\n"
               ]
            }
         ],
         "source": [
            "%%file calloc_test.c\n",
            "#include <stdio.h>\n",
            "#include <stdlib.h>\n",
            "#include <string.h>\n",
            "#include \"../libft/libft.h\"\n",
            "#include <math.h>\n",
            "\n",
            "int main (int argc, char *argv[])\n",
            "{\n",
            "\tint\treturn_value;\n",
            "\tchar\t*ptr;\n",
            "\tint\ti;\n",
            "\tsize_t\tnum_elem;\n",
            "\t\n",
            "\tnum_elem = atoi(argv[2]);\n",
            "\treturn_value = 0;\n",
            "\tif (atoi(argv[1]) == 0)\n",
            "\t{\n",
            "\t\tprintf(\"Function,Number Elements,Size Elements,Direct Memory Print(Before strlcpy),Direct Memory Print(After strlcpy)\\n\");\n",
            "\t}\n",
            "\telse if (atoi(argv[1]) == 1)\n",
            "\t{\n",
            "\t\tptr = (char *)calloc(num_elem, sizeof(char));\n",
            "\t\tprintf(\"calloc,%ld,%ld,\", num_elem, sizeof(char));\n",
            "\t\ti = 0;\n",
            "\t\twhile (i < num_elem) \n",
            "\t\t{\n",
            "\t\t\tprintf(\"%c \", ptr[i]);\n",
            "\t\t\ti++;\n",
            "\t\t}\n",
            "\t\tft_strlcpy(ptr, argv[3], num_elem);\n",
            "\t\tprintf(\",\");\n",
            "\t\ti = 0;\n",
            "\t\twhile (i < num_elem) \n",
            "\t\t{\n",
            "\t\t\tprintf(\"%c \", ptr[i]);\n",
            "\t\t\ti++;\n",
            "\t\t}\n",
            "\t\tprintf(\"\\n\");\n",
            "\t\tfree(ptr);\n",
            "\t}\n",
            "\telse if (atoi(argv[1]) == 2)\n",
            "\t{\n",
            "\t\tptr = (char *)ft_calloc(num_elem, sizeof(char));\n",
            "\t\tprintf(\"calloc,%ld,%ld,\", num_elem, sizeof(char));\n",
            "\t\ti = 0;\n",
            "\t\twhile (i < num_elem) \n",
            "\t\t{\n",
            "\t\t\tprintf(\"%c \", ptr[i]);\n",
            "\t\t\ti++;\n",
            "\t\t}\n",
            "\t\tft_strlcpy(ptr, argv[3], num_elem);\n",
            "\t\tprintf(\",\");\n",
            "\t\ti = 0;\n",
            "\t\twhile (i < num_elem) \n",
            "\t\t{\n",
            "\t\t\tprintf(\"%c \", ptr[i]);\n",
            "\t\t\ti++;\n",
            "\t\t}\n",
            "\t\tprintf(\"\\n\");\n",
            "\t\tfree(ptr);\n",
            "\t}\n",
            "\treturn (0);\n",
            "}"
         ]
      },
      {
         "cell_type": "code",
         "execution_count": 73,
         "metadata": {},
         "outputs": [
            {
               "name": "stdout",
               "output_type": "stream",
               "text": [
                  "Function,Number Elements,Size Elements,Direct Memory Print(Before strlcpy),Direct Memory Print(After strlcpy)\n",
                  "calloc,10,1,\u0000 \u0000 \u0000 \u0000 \u0000 \u0000 \u0000 \u0000 \u0000 \u0000 ,H e l l o   h o w \u0000 \n",
                  "calloc,10,1,\u0000 \u0000 \u0000 \u0000 \u0000 \u0000 \u0000 \u0000 \u0000 \u0000 ,H e l l o   h o w \u0000 \n"
               ]
            }
         ],
         "source": [
            "%%bash\n",
            "gcc calloc_test.c -L../libft/ -lft\n",
            "./a.out 0 0 \n",
            "./a.out 1 10 \"Hello how are you\"\n",
            "./a.out 2 10 \"Hello how are you\""
         ]
      },
      {
         "cell_type": "markdown",
         "metadata": {},
         "source": [
            "### strdup"
         ]
      },
      {
         "cell_type": "markdown",
         "metadata": {},
         "source": [
            "#### ft_strdup.c"
         ]
      },
      {
         "cell_type": "code",
         "execution_count": 16,
         "metadata": {},
         "outputs": [
            {
               "name": "stdout",
               "output_type": "stream",
               "text": [
                  "Overwriting ../libft/ft_strdup.c\n"
               ]
            }
         ],
         "source": [
            "%%file ../libft/ft_strdup.c\n",
            "/* ************************************************************************** */\n",
            "/*                                                                            */\n",
            "/*                                                        :::      ::::::::   */\n",
            "/*   ft_strdup.c                                        :+:      :+:    :+:   */\n",
            "/*                                                    +:+ +:+         +:+     */\n",
            "/*   By: dpentlan <dpentlan@student.42.fr>          +#+  +:+       +#+        */\n",
            "/*                                                +#+#+#+#+#+   +#+           */\n",
            "/*   Created: 2022/11/17 13:22:54 by dpentlan          #+#    #+#             */\n",
            "/*   Updated: 2022/11/17 13:23:34 by dpentlan         ###   ########.fr       */\n",
            "/*                                                                            */\n",
            "/* ************************************************************************** */\n",
            "\n",
            "#include \"libft.h\"\n",
            "\n",
            "/*  *** ft_strdup (42 string duplicate) ***\n",
            " *\n",
            " *  Takes a string 'src'.\n",
            " *  Returns a newly allocated memory space which contains a duplicate of \n",
            " *  memory space 'src'.\n",
            " *  Returns 0 if malloc fails.\n",
            " */\n",
            "\n",
            "char\t*ft_strdup(const char *src)\n",
            "{\n",
            "\tchar\t*str_ret;\n",
            "\tsize_t\tsrc_len;\n",
            "\tsize_t\ti;\n",
            "\n",
            "\ti = 0;\n",
            "\tsrc_len = ft_strlen(src);\n",
            "\tstr_ret = (char *)malloc(src_len * sizeof(char) + 1);\n",
            "\tif (!str_ret)\n",
            "\t\treturn (0);\n",
            "\twhile (src[i])\n",
            "\t{\n",
            "\t\tstr_ret[i] = src[i];\n",
            "\t\ti++;\n",
            "\t}\n",
            "\tstr_ret[i] = '\\0';\n",
            "\treturn (str_ret);\n",
            "}\n"
         ]
      },
      {
         "cell_type": "markdown",
         "metadata": {},
         "source": [
            "#### strdup_test.c"
         ]
      },
      {
         "cell_type": "code",
         "execution_count": 73,
         "metadata": {},
         "outputs": [
            {
               "name": "stdout",
               "output_type": "stream",
               "text": [
                  "Overwriting strdup_test.c\n"
               ]
            }
         ],
         "source": [
            "%%file strdup_test.c\n",
            "#include <stdio.h>\n",
            "#include <stdlib.h>\n",
            "#include <string.h>\n",
            "#include \"../libft/libft.h\"\n",
            "#include <math.h>\n",
            "\n",
            "int main (int argc, char *argv[])\n",
            "{\n",
            "\tchar\t*return_string;\n",
            "\tsize_t\tnum_elem;\n",
            "\t\n",
            "\tif (atoi(argv[1]) == 0)\n",
            "\t{\n",
            "\t\tprintf(\"Function,Input String,Return String\\n\");\n",
            "\t}\n",
            "\telse if (atoi(argv[1]) == 1)\n",
            "\t{\n",
            "\t\treturn_string = strdup(argv[2]);\n",
            "\t\tprintf(\"strdup,%s,%s\\n\", argv[2], return_string);\n",
            "\t\tfree(return_string);\n",
            "\t}\n",
            "\telse if (atoi(argv[1]) == 2)\n",
            "\t{\n",
            "\t\treturn_string = ft_strdup(argv[2]);\n",
            "\t\tprintf(\"strdup,%s,%s\\n\", argv[2], return_string);\n",
            "\t\tfree(return_string);\n",
            "\t}\n",
            "\treturn (0);\n",
            "}"
         ]
      },
      {
         "cell_type": "code",
         "execution_count": 60,
         "metadata": {},
         "outputs": [
            {
               "name": "stdout",
               "output_type": "stream",
               "text": [
                  "Function,Input String,Return String\n",
                  "strdup,This is a sample string,This is a sample string\n",
                  "ft_strdup,This is a sample string,This is a sample string\n"
               ]
            }
         ],
         "source": [
            "%%bash\n",
            "gcc strdup_test.c -L../libft/ -lft\n",
            "./a.out 0 0 \n",
            "./a.out 1 \"This is a sample string\"\n",
            "./a.out 2 \"This is a sample string\""
         ]
      },
      {
         "cell_type": "markdown",
         "metadata": {},
         "source": [
            "### substr"
         ]
      },
      {
         "cell_type": "markdown",
         "metadata": {},
         "source": [
            "#### ft_substr.c"
         ]
      },
      {
         "cell_type": "code",
         "execution_count": 10,
         "metadata": {},
         "outputs": [
            {
               "name": "stdout",
               "output_type": "stream",
               "text": [
                  "Overwriting ../libft/ft_substr.c\n"
               ]
            }
         ],
         "source": [
            "%%file ../libft/ft_substr.c\n",
            "/* ************************************************************************** */\n",
            "/*                                                                            */\n",
            "/*                                                        :::      ::::::::   */\n",
            "/*   ft_substr.c                                        :+:      :+:    :+:   */\n",
            "/*                                                    +:+ +:+         +:+     */\n",
            "/*   By: dpentlan <dpentlan@student.42.fr>          +#+  +:+       +#+        */\n",
            "/*                                                +#+#+#+#+#+   +#+           */\n",
            "/*   Created: 2022/11/17 14:00:02 by dpentlan          #+#    #+#             */\n",
            "/*   Updated: 2022/11/17 14:00:15 by dpentlan         ###   ########.fr       */\n",
            "/*                                                                            */\n",
            "/* ************************************************************************** */\n",
            "\n",
            "#include \"libft.h\"\n",
            "\n",
            "/*  *** ft_substr (42 sub-string) ***\n",
            " *\n",
            " *  Takes string 's', unsigned int 'start', and size_t 'len'.\n",
            " *  Returns a newly allocated memory space containing a copy of the byte\n",
            " *  values after 'start' byte offset for 'len' number of bytes.\n",
            " */\n",
            "\n",
            "char\t*ft_substr(char const *s, unsigned int start, size_t len)\n",
            "{\n",
            "\tchar\t*ptr;\n",
            "\tsize_t\ts_len;\n",
            "\n",
            "\tif (s == 0)\n",
            "\t\treturn (0);\n",
            "\tif (start > ft_strlen(s))\n",
            "\t\ts_len = 0;\n",
            "\telse\n",
            "\t\ts_len = ft_strlen((char *)s + start);\n",
            "\tif (s_len < len)\n",
            "\t{\n",
            "\t\tptr = (char *)ft_calloc((s_len + 1), sizeof(char));\n",
            "\t\tif (s_len > 0 && ptr)\n",
            "\t\t\tft_strlcpy(ptr, (char *)s + start, s_len + 1);\n",
            "\t}\n",
            "\telse\n",
            "\t{\n",
            "\t\tptr = (char *)ft_calloc((len + 1), sizeof(char));\n",
            "\t\tif (ptr)\n",
            "\t\t\tft_strlcpy(ptr, (char *)s + start, len + 1);\n",
            "\t}\n",
            "\treturn (ptr);\n",
            "}"
         ]
      },
      {
         "cell_type": "markdown",
         "metadata": {},
         "source": [
            "#### substr_test.c"
         ]
      },
      {
         "cell_type": "code",
         "execution_count": 115,
         "metadata": {},
         "outputs": [
            {
               "name": "stdout",
               "output_type": "stream",
               "text": [
                  "Overwriting substr_test.c\n"
               ]
            }
         ],
         "source": [
            "%%file substr_test.c\n",
            "#include <stdio.h>\n",
            "#include <stdlib.h>\n",
            "#include <string.h>\n",
            "#include \"../libft/libft.h\"\n",
            "#include <math.h>\n",
            "\n",
            "int main (int argc, char *argv[])\n",
            "{\n",
            "\tchar *return_value;\n",
            "\n",
            "\treturn_value = 0;\n",
            "\tif (atoi(argv[1]) == 0)\n",
            "\t{\n",
            "\t\tprintf(\"Function,Input String,Input Start,Input len,Return Value\\n\");\n",
            "\t}\n",
            "\telse if (atoi(argv[1]) == 1)\n",
            "\t{\n",
            "\t\t//return_value = atoi(argv[2]);\n",
            "\t\t//printf(\"atoi,%s,%d\\n\", argv[2], return_value);\n",
            "\t}\n",
            "\telse if (atoi(argv[1]) == 2)\n",
            "\t{\n",
            "\t\treturn_value = ft_substr(argv[2], atoi(argv[3]), atoi(argv[4]));\n",
            "\t\tprintf(\"ft_substr,%s,%d,%d,%s\\n\", argv[2], atoi(argv[3]), atoi(argv[4]), return_value);\n",
            "\t\tfree(return_value);\n",
            "\t}\n",
            "\treturn (0);\n",
            "}"
         ]
      },
      {
         "cell_type": "code",
         "execution_count": 130,
         "metadata": {},
         "outputs": [
            {
               "name": "stdout",
               "output_type": "stream",
               "text": [
                  "Function,Input String,Input Start,Input len,Return Value\n",
                  "ft_substr,This is the input String,24,1,\n"
               ]
            }
         ],
         "source": [
            "%%bash\n",
            "gcc substr_test.c -L../libft/ -lft\n",
            "./a.out 0\n",
            "./a.out 2 \"This is the input String\" 24 1"
         ]
      },
      {
         "cell_type": "markdown",
         "metadata": {},
         "source": [
            "### strjoin"
         ]
      },
      {
         "cell_type": "markdown",
         "metadata": {},
         "source": [
            "#### ft_strjoin.c"
         ]
      },
      {
         "cell_type": "code",
         "execution_count": 12,
         "metadata": {},
         "outputs": [
            {
               "name": "stdout",
               "output_type": "stream",
               "text": [
                  "Overwriting ../libft/ft_strjoin.c\n"
               ]
            }
         ],
         "source": [
            "%%file ../libft/ft_strjoin.c\n",
            "/* ************************************************************************** */\n",
            "/*                                                                            */\n",
            "/*                                                        :::      ::::::::   */\n",
            "/*   ft_strjoin.c                                       :+:      :+:    :+:   */\n",
            "/*                                                    +:+ +:+         +:+     */\n",
            "/*   By: dpentlan <dpentlan@student.42.fr>          +#+  +:+       +#+        */\n",
            "/*                                                +#+#+#+#+#+   +#+           */\n",
            "/*   Created: 2022/11/17 15:16:23 by dpentlan          #+#    #+#             */\n",
            "/*   Updated: 2022/11/17 15:16:34 by dpentlan         ###   ########.fr       */\n",
            "/*                                                                            */\n",
            "/* ************************************************************************** */\n",
            "\n",
            "#include \"libft.h\"\n",
            "\n",
            "/*  *** ft_strjoin (42 string join) ***\n",
            " *\n",
            " *  Takes two strings 's1' and 's2'.\n",
            " *  Returns a newly allocated memory space containing copies of 's1' memory\n",
            " *  space followed by 's2' memory space.\n",
            " */\n",
            "\n",
            "char\t*ft_strjoin(char const *s1, char const *s2)\n",
            "{\n",
            "\tchar\t*ptr;\n",
            "\tsize_t\ts1_len;\n",
            "\tsize_t\ts2_len;\n",
            "\n",
            "\tif (s1 == 0 || s2 == 0)\n",
            "\t\treturn (0);\n",
            "\ts1_len = ft_strlen(s1);\n",
            "\ts2_len = ft_strlen(s2);\n",
            "\tptr = (char *)malloc((s1_len + s2_len + 1) * sizeof(char));\n",
            "\tif (ptr == 0)\n",
            "\t\treturn (0);\n",
            "\tft_bzero(ptr, (s1_len + s2_len + 1));\n",
            "\tft_memcpy(ptr, (char *)s1, s1_len);\n",
            "\tft_memcpy((ptr + s1_len), (char *)s2, s2_len);\n",
            "\treturn (ptr);\n",
            "}\n"
         ]
      },
      {
         "cell_type": "markdown",
         "metadata": {},
         "source": [
            "#### strjoin_test.c"
         ]
      },
      {
         "cell_type": "code",
         "execution_count": 43,
         "metadata": {},
         "outputs": [
            {
               "name": "stdout",
               "output_type": "stream",
               "text": [
                  "Overwriting strjoin_test.c\n"
               ]
            }
         ],
         "source": [
            "%%file strjoin_test.c\n",
            "#include <stdio.h>\n",
            "#include <stdlib.h>\n",
            "#include <string.h>\n",
            "#include \"../libft/libft.h\"\n",
            "#include <math.h>\n",
            "\n",
            "int main (int argc, char *argv[])\n",
            "{\n",
            "\tchar *return_value;\n",
            "\n",
            "\treturn_value = 0;\n",
            "\tif (atoi(argv[1]) == 0)\n",
            "\t{\n",
            "\t\tprintf(\"Function,s1,s1 len,s2,s2 len,Return Value,Return Value len\\n\");\n",
            "\t}\n",
            "\telse if (atoi(argv[1]) == 1)\n",
            "\t{\n",
            "\t}\n",
            "\telse if (atoi(argv[1]) == 2)\n",
            "\t{\n",
            "\t\treturn_value = ft_strjoin(argv[2], argv[3]);\n",
            "\t\tprintf(\"ft_strjoin,%s,%ld,%s,%ld,%s,%ld\\n\", argv[2], strlen(argv[2]), argv[3], strlen(argv[3]), return_value, strlen(return_value));\n",
            "\t\tfree(return_value);\n",
            "\t}\n",
            "\treturn (0);\n",
            "}"
         ]
      },
      {
         "cell_type": "code",
         "execution_count": 44,
         "metadata": {},
         "outputs": [
            {
               "name": "stdout",
               "output_type": "stream",
               "text": [
                  "Function,s1,s1 len,s2,s2 len,Return Value,Return Value len\n",
                  "ft_strjoin,First,5,Second,6,FirstSecond,11\n"
               ]
            }
         ],
         "source": [
            "%%bash\n",
            "gcc strjoin_test.c -L../libft/ -lft\n",
            "./a.out 0\n",
            "./a.out 2 \"First\" \"Second\""
         ]
      },
      {
         "cell_type": "markdown",
         "metadata": {},
         "source": [
            "### strtrim"
         ]
      },
      {
         "cell_type": "markdown",
         "metadata": {},
         "source": [
            "#### ft_strtrim.c"
         ]
      },
      {
         "cell_type": "code",
         "execution_count": 14,
         "metadata": {},
         "outputs": [
            {
               "name": "stdout",
               "output_type": "stream",
               "text": [
                  "Overwriting ../libft/ft_strtrim.c\n"
               ]
            }
         ],
         "source": [
            "%%file ../libft/ft_strtrim.c\n",
            "/* ************************************************************************** */\n",
            "/*                                                                            */\n",
            "/*                                                        :::      ::::::::   */\n",
            "/*   ft_strtrim.c                                       :+:      :+:    :+:   */\n",
            "/*                                                    +:+ +:+         +:+     */\n",
            "/*   By: dpentlan <dpentlan@student.42.fr>          +#+  +:+       +#+        */\n",
            "/*                                                +#+#+#+#+#+   +#+           */\n",
            "/*   Created: 2022/11/17 17:20:47 by dpentlan          #+#    #+#             */\n",
            "/*   Updated: 2022/11/17 17:21:34 by dpentlan         ###   ########.fr       */\n",
            "/*                                                                            */\n",
            "/* ************************************************************************** */\n",
            "\n",
            "#include \"libft.h\"\n",
            "\n",
            "/*  *** ft_in_charset (42 in character set) ***\n",
            " *\n",
            " *  Takes int 'c' as a character and string 'set'.\n",
            " *  Returns 1 if character 'c' is found in 'set'.\n",
            " *  Returns 0 if character 'c' is not found in 'set'.\n",
            " */\n",
            "\n",
            "static int\tft_in_charset(int c, char *set)\n",
            "{\n",
            "\twhile (*set)\n",
            "\t{\n",
            "\t\tif (*set == (unsigned char)c)\n",
            "\t\t\treturn (1);\n",
            "\t\tset++;\n",
            "\t}\n",
            "\treturn (0);\n",
            "}\n",
            "\n",
            "/*  *** ft_strtrim (42 string trim) ***\n",
            " *\n",
            " *  Takes a string 's1' and a character set 'set'.\n",
            " *  Returns a newly allocated memory space (via ft_substr)\n",
            " *  with any characters present in 'set' removed from the beginning\n",
            " *  and the end of the 's1'.\n",
            " *  Returns 0 if either 's1' or 'set' are 0.\n",
            " */\n",
            "\n",
            "char\t*ft_strtrim(char const *s1, char const *set)\n",
            "{\n",
            "\tsize_t\ti;\n",
            "\tsize_t\tj;\n",
            "\tchar\t*ptr;\n",
            "\tsize_t\ts1_len;\n",
            "\n",
            "\ti = 0;\n",
            "\tj = 0;\n",
            "\tif (s1 == 0 || set == 0)\n",
            "\t\treturn (0);\n",
            "\ts1_len = ft_strlen(s1);\n",
            "\twhile (ft_in_charset(*((char *)s1 + i), (char *)set))\n",
            "\t\ti++;\n",
            "\twhile (ft_in_charset(*((char *)s1 + (s1_len - 1 - j)), (char *)set))\n",
            "\t\tj++;\n",
            "\tptr = ft_substr(s1, i, (s1_len - (i + j)));\n",
            "\treturn (ptr);\n",
            "}"
         ]
      },
      {
         "cell_type": "markdown",
         "metadata": {},
         "source": [
            "#### strtrim_test.c"
         ]
      },
      {
         "cell_type": "code",
         "execution_count": null,
         "metadata": {},
         "outputs": [],
         "source": []
      },
      {
         "cell_type": "markdown",
         "metadata": {},
         "source": [
            "### split"
         ]
      },
      {
         "cell_type": "markdown",
         "metadata": {},
         "source": [
            "#### ft_split.c"
         ]
      },
      {
         "cell_type": "code",
         "execution_count": 76,
         "metadata": {},
         "outputs": [
            {
               "name": "stdout",
               "output_type": "stream",
               "text": [
                  "Overwriting ../libft/ft_split.c\n"
               ]
            }
         ],
         "source": [
            "%%file ../libft/ft_split.c\n",
            "/* ************************************************************************** */\n",
            "/*                                                                            */\n",
            "/*                                                        :::      ::::::::   */\n",
            "/*   ft_split.c                                         :+:      :+:    :+:   */\n",
            "/*                                                    +:+ +:+         +:+     */\n",
            "/*   By: dpentlan <dpentlan@student.42.fr>          +#+  +:+       +#+        */\n",
            "/*                                                +#+#+#+#+#+   +#+           */\n",
            "/*   Created: 2022/11/19 20:06:00 by dpentlan          #+#    #+#             */\n",
            "/*   Updated: 2022/11/19 20:06:02 by dpentlan         ###   ########.fr       */\n",
            "/*                                                                            */\n",
            "/* ************************************************************************** */\n",
            "\n",
            "#include \"libft.h\"\n",
            "\n",
            "/*  *** count_words (count words) ***\n",
            " *\n",
            " *  Takes a string 's' and a character 'c'.\n",
            " *  Returns the number of strings that would result from splitting string 's'\n",
            " *  every time character 'c' is encountered.\n",
            " */\n",
            "\n",
            "static int\tcount_words(char *s, char c)\n",
            "{\n",
            "\tint\ti;\n",
            "\tint\tword_count;\n",
            "\n",
            "\ti = 0;\n",
            "\tword_count = 0;\n",
            "\twhile (s[i])\n",
            "\t{\n",
            "\t\tif (i == 0 && s[i] != c)\n",
            "\t\t\tword_count++;\n",
            "\t\tif (s[i] == c && s[i + 1] != c && s[i + 1] != 0)\n",
            "\t\t\tword_count++;\n",
            "\t\ti++;\n",
            "\t}\n",
            "\treturn (word_count);\n",
            "}\n",
            "\n",
            "/*  *** empty_table (empty table) ***\n",
            " *\n",
            " *  Takes an address to a table of strings (pointer to pointer to pointer).\n",
            " *  Each element in 'split_table' (each element is a string) is freed.\n",
            " *  Finally the memory space for 'split_table' is reset to 0 with ft_bzero.\n",
            " *  Returns nothing.\n",
            " */\n",
            "\n",
            "static void\tempty_table(char ***split_table)\n",
            "{\n",
            "\tint\ti;\n",
            "\n",
            "\ti = 0;\n",
            "\twhile ((*split_table)[i])\n",
            "\t{\n",
            "\t\tfree((*split_table)[i]);\n",
            "\t\ti++;\n",
            "\t}\n",
            "\tft_bzero(*split_table, i);\n",
            "\tfree(*split_table);\n",
            "\t*split_table = 0;\n",
            "}\n",
            "\n",
            "/*  *** add_word (add word) ***\n",
            " *\n",
            " *  Takes a table of strings (pointer to pointer), a word to add to\n",
            " *  the table 'str' and size_t 'len'.\n",
            " *  Seeks for the first empty element in the string table, then assigns\n",
            " *  that table element to adds a newly allocated memory space (via substr)\n",
            " *  which contains 'str' of size 'len'.\n",
            " *  Returns number of bytes copied on success.\n",
            " *  Returns 0 if malloc fails.\n",
            " */\n",
            "\n",
            "static int\tadd_word(char **split_table, char *src, size_t len)\n",
            "{\n",
            "\tint\tj;\n",
            "\n",
            "\tj = 0;\n",
            "\twhile (split_table[j])\n",
            "\t\tj++;\n",
            "\tsplit_table[j] = ft_substr(src, 0, len);\n",
            "\tif (!split_table[j])\n",
            "\t{\n",
            "\t\tempty_table(&split_table);\n",
            "\t\treturn (0);\n",
            "\t}\n",
            "\treturn (len);\n",
            "}\n",
            "\n",
            "/*  *** fill_table (fill table) ***\n",
            " *\n",
            " *  Takes a table of strings 'split_table', a string 's', and a character 'c'.\n",
            " *  Iterates over string 's' looking for character separator 'c', when one\n",
            " *  is found, that word is coppied (via add_word) to the 'split_table'.\n",
            " *  Returns a table of individually malloced strings.\n",
            " *  Returns 0 if error with memory allocation.\n",
            " */\n",
            "\n",
            "static char\t**fill_table(char **split_table, char *s, char c)\n",
            "{\n",
            "\tsize_t\tstart;\n",
            "\tsize_t\ti;\n",
            "\n",
            "\tstart = 0;\n",
            "\ti = 0;\n",
            "\twhile (s[i] && s[i] == c)\n",
            "\t\ti++;\n",
            "\twhile (s[i])\n",
            "\t{\n",
            "\t\tif (s[i])\n",
            "\t\t\tstart = i;\n",
            "\t\twhile (s[i] && s[i] != c)\n",
            "\t\t\ti++;\n",
            "\t\tif (i > start)\n",
            "\t\t{\n",
            "\t\t\tif (!add_word(split_table, (s + start), (i - start)))\n",
            "\t\t\t\treturn (0);\n",
            "\t\t}\n",
            "\t\twhile (s[i] && s[i] == c)\n",
            "\t\t\ti++;\n",
            "\t}\n",
            "\treturn (split_table);\n",
            "}\n",
            "\n",
            "/*  *** ft_split (42 split) ***\n",
            " *\n",
            " *  Takes a string 's' and a character 'c'.\n",
            " *  Returns a table of pointers that point to strings derived from splitting\n",
            " *  string 's' into smaller strings every time a character 'c' is found.\n",
            " *  Returns 0 if memory allocations fail or 's' is null.\n",
            " */\n",
            "\n",
            "char\t**ft_split(char const *s, char c)\n",
            "{\n",
            "\tint\t\tword_count;\t\n",
            "\tchar\t**split_table;\n",
            "\n",
            "\tsplit_table = 0;\n",
            "\tword_count = 0;\n",
            "\tif (s == 0)\n",
            "\t\treturn (0);\n",
            "\tword_count = count_words((char *)s, c);\n",
            "\tsplit_table = (char **)ft_calloc((word_count + 1), sizeof(char *));\n",
            "\tif (!split_table)\n",
            "\t\treturn (0);\n",
            "\tif (!fill_table(split_table, (char *)s, c))\n",
            "\t{\n",
            "\t\tempty_table(&split_table);\n",
            "\t\treturn (0);\n",
            "\t}\n",
            "\treturn (split_table);\n",
            "}\n"
         ]
      },
      {
         "cell_type": "markdown",
         "metadata": {},
         "source": [
            "#### split_test.c"
         ]
      },
      {
         "cell_type": "code",
         "execution_count": 55,
         "metadata": {},
         "outputs": [
            {
               "name": "stdout",
               "output_type": "stream",
               "text": [
                  "Overwriting split_test.c\n"
               ]
            }
         ],
         "source": [
            "%%file split_test.c\n",
            "#include <stdio.h>\n",
            "#include <stdlib.h>\n",
            "#include \"../libft/libft.h\"\n",
            "\n",
            "void\tprint_return(char **tab)\n",
            "{\n",
            "\tint i;\n",
            "\n",
            "\ti = 0;\n",
            "\twhile (tab[i])\n",
            "\t{\n",
            "\t\tprintf(\"tab[%d]:%s\\n\", i, tab[i]);\n",
            "\t\ti++;\n",
            "\t}\n",
            "\treturn ;\t\n",
            "}\n",
            "\n",
            "int main (int argc, char *argv[])\n",
            "{\n",
            "\tchar\t**split_array;\n",
            "\tint\t\treturn_len;\n",
            "\tint\t\ti;\n",
            "\n",
            "\ti = 0;\n",
            "\treturn_len = 0;\n",
            "\tsplit_array = ft_split(\"      \", ' ');\n",
            "\n",
            "\tif (!split_array)\n",
            "\t\tprintf(\"No return\\n\");\n",
            "\telse \n",
            "\t\tprint_return(split_array);\n",
            "\n",
            "\tif (split_array)\n",
            "\t{\n",
            "\t\twhile (split_array[i])\n",
            "\t\t{\n",
            "\t\t\tfree(split_array[i]);\n",
            "\t\t\ti++;\n",
            "\t\t}\n",
            "\t\tfree(split_array);\n",
            "\t}\n",
            "\treturn (0);\n",
            "}"
         ]
      },
      {
         "cell_type": "code",
         "execution_count": 57,
         "metadata": {},
         "outputs": [],
         "source": [
            "%%bash\n",
            "cd ../libft\n",
            "rm libft.so &>/dev/null\n",
            "make fclean &>/dev/null\n",
            "make &>/dev/null\n",
            "make clean &>/dev/null\n",
            "cd ../libft_testing\n",
            "gcc split_test.c -g -L../libft -lft &>/dev/null\n",
            "./a.out"
         ]
      },
      {
         "cell_type": "markdown",
         "metadata": {},
         "source": [
            "### itoa"
         ]
      },
      {
         "cell_type": "markdown",
         "metadata": {},
         "source": [
            "#### ft_itoa.c"
         ]
      },
      {
         "cell_type": "code",
         "execution_count": 2,
         "metadata": {},
         "outputs": [
            {
               "name": "stdout",
               "output_type": "stream",
               "text": [
                  "Overwriting ../libft/ft_itoa.c\n"
               ]
            }
         ],
         "source": [
            "%%file ../libft/ft_itoa.c\n",
            "/* ************************************************************************** */\n",
            "/*                                                                            */\n",
            "/*                                                        :::      ::::::::   */\n",
            "/*   ft_itoa.c                                          :+:      :+:    :+:   */\n",
            "/*                                                    +:+ +:+         +:+     */\n",
            "/*   By: dpentlan <dpentlan@student.42.fr>          +#+  +:+       +#+        */\n",
            "/*                                                +#+#+#+#+#+   +#+           */\n",
            "/*   Created: 2022/11/25 19:26:08 by dpentlan          #+#    #+#             */\n",
            "/*   Updated: 2022/11/25 19:26:13 by dpentlan         ###   ########.fr       */\n",
            "/*                                                                            */\n",
            "/* ************************************************************************** */\n",
            "\n",
            "#include \"libft.h\"\n",
            "\n",
            "/*  *** ft_count (count) ***\n",
            " *\n",
            " *  Takes integer 'n'.\n",
            " *  Returns the number of bytes needed to represent integer 'n' as a string.\n",
            " */\n",
            "\n",
            "static int\tft_count(int n)\n",
            "{\n",
            "\tint\tn_size;\n",
            "\n",
            "\tn_size = 0;\n",
            "\tif (n == 0)\n",
            "\t\treturn (1);\n",
            "\tif (n < 0)\n",
            "\t{\n",
            "\t\tn_size += 2;\n",
            "\t\tn /= -10;\n",
            "\t}\n",
            "\twhile (n != 0)\n",
            "\t{\n",
            "\t\tn_size += 1;\n",
            "\t\tn /= 10;\n",
            "\t}\n",
            "\treturn (n_size);\n",
            "}\n",
            "\n",
            "/*  *** ft_itoa (42 integer to ascii) ***\n",
            " *\n",
            " *  Takes an integer 'n'.\n",
            " *  Returns a newly allocated memory space containing a string \n",
            " *  representation of int 'n'.\n",
            " */\n",
            "\n",
            "char\t*ft_itoa(int n)\n",
            "{\n",
            "\tstatic int\ts_len;\n",
            "\tchar\t\t*s;\n",
            "\n",
            "\ts_len = 0;\n",
            "\ts_len = ft_count(n);\n",
            "\ts = (char *)ft_calloc(1, (s_len + 1) * sizeof(char));\n",
            "\tif (!s)\n",
            "\t\treturn (0);\n",
            "\tif (n == 0)\n",
            "\t\t*s = '0';\n",
            "\tif (n < 0)\n",
            "\t{\n",
            "\t\ts[0] = '-';\n",
            "\t\tn *= -1;\n",
            "\t}\n",
            "\twhile ((unsigned int) n > 0)\n",
            "\t{\n",
            "\t\ts[(s_len - 1)] = ((unsigned int) n % 10) + '0';\n",
            "\t\tn = (unsigned int) n / 10;\n",
            "\t\ts_len--;\n",
            "\t}\n",
            "\treturn (s);\n",
            "}"
         ]
      },
      {
         "cell_type": "markdown",
         "metadata": {},
         "source": [
            "#### itoa_test.c"
         ]
      },
      {
         "cell_type": "code",
         "execution_count": 124,
         "metadata": {},
         "outputs": [
            {
               "name": "stdout",
               "output_type": "stream",
               "text": [
                  "Overwriting itoa_test.c\n"
               ]
            }
         ],
         "source": [
            "%%file itoa_test.c\n",
            "#include <stdio.h>\n",
            "#include <stdlib.h>\n",
            "#include <string.h>\n",
            "#include \"../libft/libft.h\"\n",
            "\n",
            "int main (void)\n",
            "{\n",
            "\tchar *result;\n",
            "\tint min;\n",
            "\tmin = -2147483648;\n",
            "\tprintf(\"int min signed: %d\\n\", min);\n",
            "\tprintf(\"int min unsigned: %u\\n\", (unsigned int) min);\n",
            "\tresult = ft_itoa(-2147483648);\n",
            "\tprintf(\"result is: %s\\n\", result);\n",
            "\tresult = ft_itoa(2147483647);\n",
            "\tprintf(\"result is: %s\\n\", result);\n",
            "\tif (result)\n",
            "\t\tfree(result);\n",
            "\treturn (0);\n",
            "}"
         ]
      },
      {
         "cell_type": "code",
         "execution_count": 125,
         "metadata": {},
         "outputs": [
            {
               "name": "stdout",
               "output_type": "stream",
               "text": [
                  "int min signed: -2147483648\n",
                  "int min unsigned: 2147483648\n",
                  "result is: -2147483648\n",
                  "result is: 2147483647\n"
               ]
            }
         ],
         "source": [
            "%%bash\n",
            "gcc itoa_test.c -g -L../libft -lft\n",
            "./a.out"
         ]
      },
      {
         "cell_type": "markdown",
         "metadata": {},
         "source": [
            "### strmapi"
         ]
      },
      {
         "cell_type": "markdown",
         "metadata": {},
         "source": [
            "#### ft_strmapi.c"
         ]
      },
      {
         "cell_type": "code",
         "execution_count": 7,
         "metadata": {},
         "outputs": [
            {
               "name": "stdout",
               "output_type": "stream",
               "text": [
                  "Overwriting ../libft/ft_strmapi.c\n"
               ]
            }
         ],
         "source": [
            "%%file ../libft/ft_strmapi.c\n",
            "/* ************************************************************************** */\n",
            "/*                                                                            */\n",
            "/*                                                        :::      ::::::::   */\n",
            "/*   ft_strmapi.c                                       :+:      :+:    :+:   */\n",
            "/*                                                    +:+ +:+         +:+     */\n",
            "/*   By: dpentlan <dpentlan@student.42.fr>          +#+  +:+       +#+        */\n",
            "/*                                                +#+#+#+#+#+   +#+           */\n",
            "/*   Created: 2022/11/26 12:41:51 by dpentlan          #+#    #+#             */\n",
            "/*   Updated: 2022/11/26 12:41:54 by dpentlan         ###   ########.fr       */\n",
            "/*                                                                            */\n",
            "/* ************************************************************************** */\n",
            "\n",
            "#include \"libft.h\"\n",
            "\n",
            "/*  *** ft_strmapi (42 string map by index) ***\n",
            " *\n",
            " *  Applies function f to each character of the string 's', and passing its \n",
            " *  index as the first argument to create a newly allocated string, resulting\n",
            " *  from successive applications of 'f'.\n",
            " *  Returns newly allocated string.\n",
            " *  Returns 0 if ft_strdup fails or either argument is null.\n",
            " */\n",
            "\n",
            "char\t*ft_strmapi(char const *s, char (*f)(unsigned int, char))\n",
            "{\n",
            "\tchar\t*s_new;\n",
            "\tint\t\ti;\n",
            "\n",
            "\ti = 0;\n",
            "\ts_new = 0;\n",
            "\tif (s == 0 || f == 0)\n",
            "\t\treturn (0);\n",
            "\ts_new = ft_strdup((char *)s);\n",
            "\tif (!s_new)\n",
            "\t\treturn (0);\n",
            "\twhile (s_new[i])\n",
            "\t{\n",
            "\t\ts_new[i] = f(i, s_new[i]);\n",
            "\t\ti++;\n",
            "\t}\n",
            "\treturn (s_new);\n",
            "}"
         ]
      },
      {
         "cell_type": "markdown",
         "metadata": {},
         "source": [
            "#### strmapi_test.c"
         ]
      },
      {
         "cell_type": "code",
         "execution_count": 153,
         "metadata": {},
         "outputs": [
            {
               "name": "stdout",
               "output_type": "stream",
               "text": [
                  "Overwriting strmapi_test.c\n"
               ]
            }
         ],
         "source": [
            "%%file strmapi_test.c\n",
            "#include \"../libft/libft.h\"\n",
            "#include <stdio.h>\n",
            "\n",
            "char\tadd_one(unsigned int n, char c)\n",
            "{\n",
            "\tc = c + 1;\n",
            "\treturn (c);\n",
            "}\n",
            "\n",
            "int main (void)\n",
            "{\n",
            "\tchar string[] = \"Hi this is a string.\";\n",
            "\tchar *new_string;\n",
            "\n",
            "\tnew_string = 0;\n",
            "\tnew_string = ft_strmapi(string, add_one);\n",
            "\tprintf(\"string: %s\\n\", string);\n",
            "\tprintf(\"new_string: %s\\n\", new_string);\n",
            "\tif (new_string)\n",
            "\t\tfree(new_string);\n",
            "\n",
            "\treturn (0);\n",
            "}"
         ]
      },
      {
         "cell_type": "code",
         "execution_count": 154,
         "metadata": {},
         "outputs": [
            {
               "name": "stdout",
               "output_type": "stream",
               "text": [
                  "string: Hi this is a string.\n",
                  "new_string: Ij!uijt!jt!b!tusjoh/\n"
               ]
            }
         ],
         "source": [
            "%%bash\n",
            "gcc strmapi_test.c -g -L../libft -lft\n",
            "./a.out"
         ]
      },
      {
         "cell_type": "markdown",
         "metadata": {},
         "source": [
            "### striteri"
         ]
      },
      {
         "cell_type": "markdown",
         "metadata": {},
         "source": [
            "#### ft_striteri.c"
         ]
      },
      {
         "cell_type": "code",
         "execution_count": 5,
         "metadata": {},
         "outputs": [
            {
               "name": "stdout",
               "output_type": "stream",
               "text": [
                  "Overwriting ../libft/ft_striteri.c\n"
               ]
            }
         ],
         "source": [
            "%%file ../libft/ft_striteri.c\n",
            "/* ************************************************************************** */\n",
            "/*                                                                            */\n",
            "/*                                                        :::      ::::::::   */\n",
            "/*   ft_striteri.c                                      :+:      :+:    :+:   */\n",
            "/*                                                    +:+ +:+         +:+     */\n",
            "/*   By: dpentlan <dpentlan@student.42.fr>          +#+  +:+       +#+        */\n",
            "/*                                                +#+#+#+#+#+   +#+           */\n",
            "/*   Created: 2022/11/26 13:11:16 by dpentlan          #+#    #+#             */\n",
            "/*   Updated: 2022/11/26 13:11:17 by dpentlan         ###   ########.fr       */\n",
            "/*                                                                            */\n",
            "/* ************************************************************************** */\n",
            "\n",
            "#include \"libft.h\"\n",
            "\n",
            "/*  *** ft_striteri (42 iterate by index) ***\n",
            " *\n",
            " *  Applies the function 'f' on each character of the string passed\n",
            " *  argument, passing its index as the first argument. Each character is\n",
            " *  passed by address to 'f' to be modified if necessary.\n",
            " *  Returns nothing.\n",
            " */\n",
            "\n",
            "void\tft_striteri(char *s, void (*f)(unsigned int, char *))\n",
            "{\n",
            "\tint\t\ti;\n",
            "\n",
            "\ti = 0;\n",
            "\tif (s != 0 && f != 0)\n",
            "\t{\n",
            "\t\twhile (s[i])\n",
            "\t\t{\n",
            "\t\t\tf(i, &s[i]);\n",
            "\t\t\ti++;\n",
            "\t\t}\n",
            "\t}\n",
            "}\n"
         ]
      },
      {
         "cell_type": "markdown",
         "metadata": {},
         "source": [
            "#### striteri_test.c"
         ]
      },
      {
         "cell_type": "code",
         "execution_count": 177,
         "metadata": {},
         "outputs": [
            {
               "name": "stdout",
               "output_type": "stream",
               "text": [
                  "Overwriting striteri_test.c\n"
               ]
            }
         ],
         "source": [
            "%%file striteri_test.c\n",
            "#include <stdio.h>\n",
            "#include \"../libft/libft.h\"\n",
            "\n",
            "void do_something(unsigned int n, char *s)\n",
            "{\n",
            "\t*s = *s + 1;\t\n",
            "}\n",
            "\n",
            "int main (void)\n",
            "{\n",
            "\tchar string[] = \"This is a dope string.\";\n",
            "\n",
            "\tprintf(\"Before: %s\\n\", string);\n",
            "\tft_striteri(string, do_something);\n",
            "\tprintf(\"After: %s\\n\", string);\n",
            "\n",
            "\treturn (0);\n",
            "}"
         ]
      },
      {
         "cell_type": "code",
         "execution_count": 178,
         "metadata": {},
         "outputs": [
            {
               "name": "stdout",
               "output_type": "stream",
               "text": [
                  "Before: This is a dope string.\n",
                  "After: Uijt!jt!b!epqf!tusjoh/\n"
               ]
            }
         ],
         "source": [
            "%%bash\n",
            "gcc striteri_test.c -g -L../libft -lft\n",
            "./a.out"
         ]
      },
      {
         "cell_type": "markdown",
         "metadata": {},
         "source": [
            "### putchar_fd"
         ]
      },
      {
         "cell_type": "markdown",
         "metadata": {},
         "source": [
            "#### ft_putchar_fd.c"
         ]
      },
      {
         "cell_type": "code",
         "execution_count": 10,
         "metadata": {},
         "outputs": [
            {
               "name": "stdout",
               "output_type": "stream",
               "text": [
                  "Overwriting ../libft/ft_putchar_fd.c\n"
               ]
            }
         ],
         "source": [
            "%%file ../libft/ft_putchar_fd.c\n",
            "/* ************************************************************************** */\n",
            "/*                                                                            */\n",
            "/*                                                        :::      ::::::::   */\n",
            "/*   ft_putchar_fd.c                                    :+:      :+:    :+:   */\n",
            "/*                                                    +:+ +:+         +:+     */\n",
            "/*   By: dpentlan <dpentlan@student.42.fr>          +#+  +:+       +#+        */\n",
            "/*                                                +#+#+#+#+#+   +#+           */\n",
            "/*   Created: 2022/11/26 13:33:09 by dpentlan          #+#    #+#             */\n",
            "/*   Updated: 2022/11/26 13:33:13 by dpentlan         ###   ########.fr       */\n",
            "/*                                                                            */\n",
            "/* ************************************************************************** */\n",
            "\n",
            "#include \"libft.h\"\n",
            "\n",
            "/*  *** ft_putchar_fd (42 put character file descriptor) ***\n",
            " *\n",
            " *  Outputs the character 'c' to the given file descriptor.\n",
            " *  Returns nothing.\n",
            " */\n",
            "\n",
            "void\tft_putchar_fd(char c, int fd)\n",
            "{\n",
            "\twrite(fd, &c, 1);\n",
            "}"
         ]
      },
      {
         "cell_type": "markdown",
         "metadata": {},
         "source": [
            "#### putchar_fd_test.c"
         ]
      },
      {
         "cell_type": "code",
         "execution_count": 201,
         "metadata": {},
         "outputs": [
            {
               "name": "stdout",
               "output_type": "stream",
               "text": [
                  "Overwriting putchar_fd_test.c\n"
               ]
            }
         ],
         "source": [
            "%%file putchar_fd_test.c\n",
            "#include \"../libft/libft.h\"\n",
            "\n",
            "int main (void)\n",
            "{\n",
            "\tft_putchar_fd('Y', 1);\n",
            "\n",
            "\treturn (0);\n",
            "}"
         ]
      },
      {
         "cell_type": "code",
         "execution_count": 202,
         "metadata": {},
         "outputs": [
            {
               "name": "stdout",
               "output_type": "stream",
               "text": [
                  "Y"
               ]
            }
         ],
         "source": [
            "%%bash\n",
            "gcc putchar_fd_test.c -g -L../libft -lft\n",
            "./a.out"
         ]
      },
      {
         "cell_type": "markdown",
         "metadata": {},
         "source": [
            "### putstr_fd"
         ]
      },
      {
         "cell_type": "markdown",
         "metadata": {},
         "source": [
            "#### ft_putstr_fd.c"
         ]
      },
      {
         "cell_type": "code",
         "execution_count": 12,
         "metadata": {},
         "outputs": [
            {
               "name": "stdout",
               "output_type": "stream",
               "text": [
                  "Overwriting ../libft/ft_putstr_fd.c\n"
               ]
            }
         ],
         "source": [
            "%%file ../libft/ft_putstr_fd.c\n",
            "/* ************************************************************************** */\n",
            "/*                                                                            */\n",
            "/*                                                        :::      ::::::::   */\n",
            "/*   ft_putstr_fd.c                                     :+:      :+:    :+:   */\n",
            "/*                                                    +:+ +:+         +:+     */\n",
            "/*   By: dpentlan <dpentlan@student.42.fr>          +#+  +:+       +#+        */\n",
            "/*                                                +#+#+#+#+#+   +#+           */\n",
            "/*   Created: 2022/11/26 13:53:30 by dpentlan          #+#    #+#             */\n",
            "/*   Updated: 2022/11/26 13:53:32 by dpentlan         ###   ########.fr       */\n",
            "/*                                                                            */\n",
            "/* ************************************************************************** */\n",
            "\n",
            "#include \"libft.h\"\n",
            "\n",
            "/*  *** ft_putstr_fd (42 put string file descriptor) ***\n",
            " *\n",
            " *  Outputs the string 's' to the given file descriptor.\n",
            " *  Returns nothing.\n",
            " */\n",
            "\n",
            "void\tft_putstr_fd(char *s, int fd)\n",
            "{\n",
            "\tif (s == 0)\n",
            "\t\treturn ;\n",
            "\twrite(fd, s, ft_strlen(s));\n",
            "}"
         ]
      },
      {
         "cell_type": "markdown",
         "metadata": {},
         "source": [
            "#### putstr_fd_test.c"
         ]
      },
      {
         "cell_type": "code",
         "execution_count": 205,
         "metadata": {},
         "outputs": [
            {
               "name": "stdout",
               "output_type": "stream",
               "text": [
                  "Writing putstr_fd_test.c\n"
               ]
            }
         ],
         "source": [
            "%%file putstr_fd_test.c\n",
            "hi"
         ]
      },
      {
         "cell_type": "markdown",
         "metadata": {},
         "source": [
            "### putendl_fd"
         ]
      },
      {
         "cell_type": "markdown",
         "metadata": {},
         "source": [
            "#### ft_putendl_fd.c"
         ]
      },
      {
         "cell_type": "code",
         "execution_count": 13,
         "metadata": {},
         "outputs": [
            {
               "name": "stdout",
               "output_type": "stream",
               "text": [
                  "Overwriting ../libft/ft_putendl_fd.c\n"
               ]
            }
         ],
         "source": [
            "%%file ../libft/ft_putendl_fd.c\n",
            "/* ************************************************************************** */\n",
            "/*                                                                            */\n",
            "/*                                                        :::      ::::::::   */\n",
            "/*   ft_putendl_fd.c                                    :+:      :+:    :+:   */\n",
            "/*                                                    +:+ +:+         +:+     */\n",
            "/*   By: dpentlan <dpentlan@student.42.fr>          +#+  +:+       +#+        */\n",
            "/*                                                +#+#+#+#+#+   +#+           */\n",
            "/*   Created: 2022/11/26 13:53:40 by dpentlan          #+#    #+#             */\n",
            "/*   Updated: 2022/11/26 13:53:41 by dpentlan         ###   ########.fr       */\n",
            "/*                                                                            */\n",
            "/* ************************************************************************** */\n",
            "\n",
            "#include \"libft.h\"\n",
            "\n",
            "/*  *** ft_putendl_fd (42 put end line file descriptor) ***\n",
            " *\n",
            " *  Outputs the string 's' to the given file descriptor followed by a newline.\n",
            " *  Returns nothing.\n",
            " */\n",
            "\n",
            "void\tft_putendl_fd(char *s, int fd)\n",
            "{\n",
            "\tif (s == 0)\n",
            "\t\treturn ;\n",
            "\twrite(fd, s, ft_strlen(s));\n",
            "\twrite(fd, \"\\n\", 1);\n",
            "}"
         ]
      },
      {
         "cell_type": "markdown",
         "metadata": {},
         "source": [
            "#### putendl_fd_test.c"
         ]
      },
      {
         "cell_type": "code",
         "execution_count": 208,
         "metadata": {},
         "outputs": [
            {
               "name": "stdout",
               "output_type": "stream",
               "text": [
                  "Writing putendl_fd_test.c\n"
               ]
            }
         ],
         "source": [
            "%%file putendl_fd_test.c\n",
            "hi"
         ]
      },
      {
         "cell_type": "markdown",
         "metadata": {},
         "source": [
            "### putnbr_fd"
         ]
      },
      {
         "cell_type": "markdown",
         "metadata": {},
         "source": [
            "#### ft_putnbr_fd.c"
         ]
      },
      {
         "cell_type": "code",
         "execution_count": 14,
         "metadata": {},
         "outputs": [
            {
               "name": "stdout",
               "output_type": "stream",
               "text": [
                  "Overwriting ../libft/ft_putnbr_fd.c\n"
               ]
            }
         ],
         "source": [
            "%%file ../libft/ft_putnbr_fd.c\n",
            "/* ************************************************************************** */\n",
            "/*                                                                            */\n",
            "/*                                                        :::      ::::::::   */\n",
            "/*   ft_putnbr_fd.c                                     :+:      :+:    :+:   */\n",
            "/*                                                    +:+ +:+         +:+     */\n",
            "/*   By: dpentlan <dpentlan@student.42.fr>          +#+  +:+       +#+        */\n",
            "/*                                                +#+#+#+#+#+   +#+           */\n",
            "/*   Created: 2022/11/26 13:53:54 by dpentlan          #+#    #+#             */\n",
            "/*   Updated: 2022/11/26 13:53:56 by dpentlan         ###   ########.fr       */\n",
            "/*                                                                            */\n",
            "/* ************************************************************************** */\n",
            "\n",
            "#include \"libft.h\"\n",
            "\n",
            "/*  *** ft_putnbr_fd (42 put number file descriptor) ***\n",
            " *\n",
            " *  Outputs the integer 'n' to the given file descriptor.\n",
            " *  Returns nothing.\n",
            " */\n",
            "\n",
            "void\tft_putnbr_fd(int n, int fd)\n",
            "{\n",
            "\tlong\tnbl;\n",
            "\tchar\tc;\n",
            "\n",
            "\tnbl = (long)n;\n",
            "\tif (nbl < 0)\n",
            "\t\twrite(fd, \"-\", 1);\n",
            "\tif (nbl / 10 != 0)\n",
            "\t{\n",
            "\t\tif (nbl < 0)\n",
            "\t\t\tft_putnbr_fd((nbl / 10) * -1, fd);\n",
            "\t\telse\n",
            "\t\t\tft_putnbr_fd(nbl / 10, fd);\n",
            "\t}\n",
            "\tif (nbl < 0)\n",
            "\t\tc = (((nbl % 10) * -1) + '0');\n",
            "\telse\n",
            "\t\tc = (nbl % 10 + '0');\n",
            "\twrite(fd, &c, 1);\n",
            "\treturn ;\n",
            "}"
         ]
      },
      {
         "cell_type": "markdown",
         "metadata": {},
         "source": [
            "#### putnbr_fd_test.c"
         ]
      },
      {
         "cell_type": "code",
         "execution_count": 211,
         "metadata": {},
         "outputs": [
            {
               "name": "stdout",
               "output_type": "stream",
               "text": [
                  "Writing putnbr_fd_test.c\n"
               ]
            }
         ],
         "source": [
            "%%file putnbr_fd_test.c\n",
            "hi"
         ]
      },
      {
         "cell_type": "markdown",
         "metadata": {},
         "source": [
            "## ~B~O~N~U~S~"
         ]
      },
      {
         "cell_type": "markdown",
         "metadata": {},
         "source": [
            "#### lstnew"
         ]
      },
      {
         "cell_type": "markdown",
         "metadata": {},
         "source": [
            "##### ft_lstnew.c"
         ]
      },
      {
         "cell_type": "code",
         "execution_count": 17,
         "metadata": {},
         "outputs": [
            {
               "name": "stdout",
               "output_type": "stream",
               "text": [
                  "Overwriting ../libft/ft_lstnew.c\n"
               ]
            }
         ],
         "source": [
            "%%file ../libft/ft_lstnew.c\n",
            "/* ************************************************************************** */\n",
            "/*                                                                            */\n",
            "/*                                                        :::      ::::::::   */\n",
            "/*   ft_lstnew.c                                        :+:      :+:    :+:   */\n",
            "/*                                                    +:+ +:+         +:+     */\n",
            "/*   By: dpentlan <dpentlan@student.42.fr>          +#+  +:+       +#+        */\n",
            "/*                                                +#+#+#+#+#+   +#+           */\n",
            "/*   Created: 2022/11/26 23:00:36 by dpentlan          #+#    #+#             */\n",
            "/*   Updated: 2022/11/26 23:00:42 by dpentlan         ###   ########.fr       */\n",
            "/*                                                                            */\n",
            "/* ************************************************************************** */\n",
            "\n",
            "#include \"libft.h\"\n",
            "\n",
            "/*  *** ft_lstnew (42 list new) ***\n",
            " *\n",
            " *  Allocates and returns a new node. The member variable 'content' is\n",
            " *  initialized with the value of the parameter 'content'. The variable 'next'\n",
            " *  is initialized to NULL.\n",
            " *  Returns 0 if allocation unsuccessful.\n",
            " *  Returns pointer to new list head if successful.\n",
            " */\n",
            "\n",
            "t_list\t*ft_lstnew(void *content)\n",
            "{\n",
            "\tt_list\t*new;\n",
            "\n",
            "\tnew = (t_list *)malloc(1 * sizeof(t_list));\n",
            "\tif (!new)\n",
            "\t\treturn (0);\n",
            "\tnew->content = content;\n",
            "\tnew->next = NULL;\n",
            "\treturn (new);\n",
            "}\n"
         ]
      },
      {
         "cell_type": "markdown",
         "metadata": {},
         "source": [
            "##### lstnew_test.c"
         ]
      },
      {
         "cell_type": "code",
         "execution_count": 8,
         "metadata": {},
         "outputs": [
            {
               "name": "stdout",
               "output_type": "stream",
               "text": [
                  "Overwriting lstnew_test.c\n"
               ]
            }
         ],
         "source": [
            "%%file lstnew_test.c\n",
            "#include \"../libft/libft.h\"\n",
            "\n",
            "int main (void)\n",
            "{\n",
            "\tchar string[] = \"This is a string.\";\n",
            "\tt_list\t*new;\n",
            "\n",
            "\tnew = ft_lstnew(string);\n",
            "\n",
            "\n",
            "\treturn (0);\n",
            "}"
         ]
      },
      {
         "cell_type": "code",
         "execution_count": 9,
         "metadata": {},
         "outputs": [],
         "source": [
            "%%bash\n",
            "gcc lstnew_test.c -L../libft -lft\n",
            "./a.out"
         ]
      },
      {
         "cell_type": "markdown",
         "metadata": {},
         "source": [
            "#### lstadd_front"
         ]
      },
      {
         "cell_type": "markdown",
         "metadata": {},
         "source": [
            "##### ft_lstadd_front.c"
         ]
      },
      {
         "cell_type": "code",
         "execution_count": 18,
         "metadata": {},
         "outputs": [
            {
               "name": "stdout",
               "output_type": "stream",
               "text": [
                  "Overwriting ../libft/ft_lstadd_front.c\n"
               ]
            }
         ],
         "source": [
            "%%file ../libft/ft_lstadd_front.c\n",
            "/* ************************************************************************** */\n",
            "/*                                                                            */\n",
            "/*                                                        :::      ::::::::   */\n",
            "/*   ft_lstadd_front.c                                  :+:      :+:    :+:   */\n",
            "/*                                                    +:+ +:+         +:+     */\n",
            "/*   By: dpentlan <dpentlan@student.42.fr>          +#+  +:+       +#+        */\n",
            "/*                                                +#+#+#+#+#+   +#+           */\n",
            "/*   Created: 2022/11/27 22:19:28 by dpentlan          #+#    #+#             */\n",
            "/*   Updated: 2022/11/27 22:19:30 by dpentlan         ###   ########.fr       */\n",
            "/*                                                                            */\n",
            "/* ************************************************************************** */\n",
            "\n",
            "#include \"libft.h\"\n",
            "\n",
            "/*  *** ft_lstadd_front (42 list add front) ***\n",
            " *\n",
            " *  Adds the nod 'new' at the beginning of the list 'lst'.\n",
            " *  Returns nothing.\n",
            " */\n",
            "\n",
            "void\tft_lstadd_front(t_list **lst, t_list *new)\n",
            "{\n",
            "\tnew->next = *lst;\n",
            "\t*lst = new;\n",
            "}\n"
         ]
      },
      {
         "cell_type": "markdown",
         "metadata": {},
         "source": [
            "##### lstadd_front_test.c"
         ]
      },
      {
         "cell_type": "code",
         "execution_count": 36,
         "metadata": {},
         "outputs": [
            {
               "name": "stdout",
               "output_type": "stream",
               "text": [
                  "Overwriting lstadd_front_test.c\n"
               ]
            }
         ],
         "source": [
            "%%file lstadd_front_test.c\n",
            "#include \"../libft/libft.h\"\n",
            "#include <stdio.h>\n",
            "\n",
            "int main (void)\n",
            "{\n",
            "\tchar string_1[] = \"Here is a string.\";\n",
            "\tchar string_2[] = \"Here is another string.\";\n",
            "\tt_list *first;\n",
            "\tt_list *new;\n",
            "\n",
            "\tfirst = ft_lstnew(string_1);\n",
            "\tnew = ft_lstnew(string_2);\n",
            "\n",
            "\tft_lstadd_front(&first, new);\n",
            "\n",
            "\tprintf(\"first content:%s\\n\", (char *)first->content);\n",
            "\tprintf(\"first next:%p\\n\", first->next);\n",
            "\tprintf(\"new content:%s\\n\", (char *)new->content);\n",
            "\tprintf(\"new next:%p\\n\", new->next);\n",
            "\tprintf(\"new->next->content%s\\n\", (char *)new->next->content);\n",
            "\t\n",
            "\tfree(first);\n",
            "\tfree(new);\n",
            "\n",
            "\treturn (0);\n",
            "}"
         ]
      },
      {
         "cell_type": "code",
         "execution_count": 37,
         "metadata": {},
         "outputs": [
            {
               "name": "stdout",
               "output_type": "stream",
               "text": [
                  "first content:Here is a string.\n",
                  "first next:(nil)\n",
                  "new content:Here is another string.\n",
                  "new next:0x55c997a982a0\n",
                  "new->next->contentHere is a string.\n"
               ]
            }
         ],
         "source": [
            "%%bash\n",
            "gcc lstadd_front_test.c -L../libft -lft\n",
            "./a.out"
         ]
      },
      {
         "cell_type": "markdown",
         "metadata": {},
         "source": [
            "#### lstsize"
         ]
      },
      {
         "cell_type": "markdown",
         "metadata": {},
         "source": [
            "##### ft_lstsize.c"
         ]
      },
      {
         "cell_type": "code",
         "execution_count": 20,
         "metadata": {},
         "outputs": [
            {
               "name": "stdout",
               "output_type": "stream",
               "text": [
                  "Overwriting ../libft/ft_lstsize.c\n"
               ]
            }
         ],
         "source": [
            "%%file ../libft/ft_lstsize.c\n",
            "/* ************************************************************************** */\n",
            "/*                                                                            */\n",
            "/*                                                        :::      ::::::::   */\n",
            "/*   ft_lstsize.c                                       :+:      :+:    :+:   */\n",
            "/*                                                    +:+ +:+         +:+     */\n",
            "/*   By: dpentlan <dpentlan@student.42.fr>          +#+  +:+       +#+        */\n",
            "/*                                                +#+#+#+#+#+   +#+           */\n",
            "/*   Created: 2022/11/27 22:44:55 by dpentlan          #+#    #+#             */\n",
            "/*   Updated: 2022/11/27 22:44:56 by dpentlan         ###   ########.fr       */\n",
            "/*                                                                            */\n",
            "/* ************************************************************************** */\n",
            "\n",
            "#include \"libft.h\"\n",
            "\n",
            "/*  *** ft_lstsize (42 list size) ***\n",
            " *\n",
            " *  Counts the number of nodes in a list.\n",
            " *  Counts by moving to next node and count number of moves until lst->next\n",
            " *  equals NULL.\n",
            " *  Returns number of nodes as an int.\n",
            " */\n",
            "\n",
            "int\tft_lstsize(t_list *lst)\n",
            "{\n",
            "\tint\tsize;\n",
            "\n",
            "\tif (!lst)\n",
            "\t\treturn (0);\n",
            "\tsize = 1;\n",
            "\twhile (lst->next)\n",
            "\t{\n",
            "\t\tlst = lst->next;\n",
            "\t\tsize++;\n",
            "\t}\n",
            "\treturn (size);\n",
            "}"
         ]
      },
      {
         "cell_type": "markdown",
         "metadata": {},
         "source": [
            "##### lstsize_test.c"
         ]
      },
      {
         "cell_type": "code",
         "execution_count": 73,
         "metadata": {},
         "outputs": [
            {
               "name": "stdout",
               "output_type": "stream",
               "text": [
                  "Overwriting lstsize_test.c\n"
               ]
            }
         ],
         "source": [
            "%%file lstsize_test.c\n",
            "#include \"../libft/libft.h\"\n",
            "#include <stdio.h>\n",
            "\n",
            "int main (void)\n",
            "{\n",
            "\tt_list\t*first;\n",
            "\tt_list\t*second;\n",
            "\tt_list\t*third;\n",
            "\tchar string[] = \"Can I offer you a nail?\";\n",
            "\n",
            "\tfirst = ft_lstnew(string);\n",
            "\tsecond = ft_lstnew(string);\n",
            "\tthird = ft_lstnew(string);\n",
            "\n",
            "\tft_lstadd_front(&third, second);\n",
            "\tft_lstadd_front(&second, first);\n",
            "\n",
            "\tprintf(\"return len: %d\", ft_lstsize(first));\n",
            "\n",
            "\treturn (0);\n",
            "}"
         ]
      },
      {
         "cell_type": "code",
         "execution_count": 74,
         "metadata": {},
         "outputs": [
            {
               "name": "stdout",
               "output_type": "stream",
               "text": [
                  "return len: 3"
               ]
            }
         ],
         "source": [
            "%%bash\n",
            "gcc lstsize_test.c -L../libft -lft\n",
            "./a.out"
         ]
      },
      {
         "cell_type": "markdown",
         "metadata": {},
         "source": [
            "#### lstlast"
         ]
      },
      {
         "cell_type": "markdown",
         "metadata": {},
         "source": [
            "##### ft_lstlast.c"
         ]
      },
      {
         "cell_type": "code",
         "execution_count": 21,
         "metadata": {},
         "outputs": [
            {
               "name": "stdout",
               "output_type": "stream",
               "text": [
                  "Overwriting ../libft/ft_lstlast.c\n"
               ]
            }
         ],
         "source": [
            "%%file ../libft/ft_lstlast.c\n",
            "/* ************************************************************************** */\n",
            "/*                                                                            */\n",
            "/*                                                        :::      ::::::::   */\n",
            "/*   ft_lstlast.c                                       :+:      :+:    :+:   */\n",
            "/*                                                    +:+ +:+         +:+     */\n",
            "/*   By: dpentlan <dpentlan@student.42.fr>          +#+  +:+       +#+        */\n",
            "/*                                                +#+#+#+#+#+   +#+           */\n",
            "/*   Created: 2022/11/28 11:15:14 by dpentlan          #+#    #+#             */\n",
            "/*   Updated: 2022/11/28 11:15:21 by dpentlan         ###   ########.fr       */\n",
            "/*                                                                            */\n",
            "/* ************************************************************************** */\n",
            "\n",
            "#include \"libft.h\"\n",
            "\n",
            "/*  *** ft_lstlast (42 list last) ***\n",
            " *\n",
            " *  Returns the last node of the list.\n",
            " */\n",
            "\n",
            "t_list\t*ft_lstlast(t_list *lst)\n",
            "{\n",
            "\tt_list\t*current;\n",
            "\n",
            "\tcurrent = lst;\n",
            "\tif (!current)\n",
            "\t\treturn (0);\n",
            "\twhile (current->next)\n",
            "\t\tcurrent = current->next;\n",
            "\treturn (current);\n",
            "}"
         ]
      },
      {
         "cell_type": "markdown",
         "metadata": {},
         "source": [
            "##### lstlast_test.c"
         ]
      },
      {
         "cell_type": "code",
         "execution_count": 17,
         "metadata": {},
         "outputs": [
            {
               "name": "stdout",
               "output_type": "stream",
               "text": [
                  "Overwriting lstlast_test.c\n"
               ]
            }
         ],
         "source": [
            "%%file lstlast_test.c\n",
            "#include \"../libft/libft.h\"\n",
            "#include <stdio.h>\n",
            "\n",
            "int main (void)\n",
            "{\n",
            "\tt_list\t*first;\n",
            "\tt_list\t*second;\n",
            "\tt_list\t*third;\n",
            "\tt_list\t*last;\n",
            "\tchar string_1[] = \"First node.\";\n",
            "\tchar string_2[] = \"Second node.\";\n",
            "\tchar string_3[] = \"Third node.\";\n",
            "\n",
            "\tfirst = ft_lstnew(string_1);\n",
            "\tsecond = ft_lstnew(string_2);\n",
            "\tthird = ft_lstnew(string_3);\n",
            "\n",
            "\tft_lstadd_front(&third, second);\n",
            "\tft_lstadd_front(&second, first);\n",
            "\n",
            "\tlast = ft_lstlast(first);\n",
            "\tprintf(\"content of last: %s\\n\", (char *)last->content);\n",
            "\n",
            "\treturn (0);\n",
            "}"
         ]
      },
      {
         "cell_type": "code",
         "execution_count": 18,
         "metadata": {},
         "outputs": [
            {
               "name": "stdout",
               "output_type": "stream",
               "text": [
                  "content of last: Third node.\n"
               ]
            }
         ],
         "source": [
            "%%bash\n",
            "gcc lstlast_test.c -L../libft -lft\n",
            "./a.out"
         ]
      },
      {
         "cell_type": "markdown",
         "metadata": {},
         "source": [
            "#### lstadd_back"
         ]
      },
      {
         "cell_type": "markdown",
         "metadata": {},
         "source": [
            "##### ft_lstadd_back.c"
         ]
      },
      {
         "cell_type": "code",
         "execution_count": 23,
         "metadata": {},
         "outputs": [
            {
               "name": "stdout",
               "output_type": "stream",
               "text": [
                  "Overwriting ../libft/ft_lstadd_back.c\n"
               ]
            }
         ],
         "source": [
            "%%file ../libft/ft_lstadd_back.c\n",
            "/* ************************************************************************** */\n",
            "/*                                                                            */\n",
            "/*                                                        :::      ::::::::   */\n",
            "/*   ft_lstadd_back.c                                   :+:      :+:    :+:   */\n",
            "/*                                                    +:+ +:+         +:+     */\n",
            "/*   By: dpentlan <dpentlan@student.42.fr>          +#+  +:+       +#+        */\n",
            "/*                                                +#+#+#+#+#+   +#+           */\n",
            "/*   Created: 2022/11/28 11:26:39 by dpentlan          #+#    #+#             */\n",
            "/*   Updated: 2022/11/28 11:26:49 by dpentlan         ###   ########.fr       */\n",
            "/*                                                                            */\n",
            "/* ************************************************************************** */\n",
            "\n",
            "#include \"libft.h\"\n",
            "\n",
            "/*  *** ft_lstadd_back (42 list add back) ***\n",
            " *\n",
            " *  Adds the node 'new' at the end of the list.\n",
            " *  Returns nothing.\n",
            " */\n",
            "\n",
            "void\tft_lstadd_back(t_list **lst, t_list *new)\n",
            "{\n",
            "\tt_list\t*current;\n",
            "\n",
            "\tcurrent = 0;\n",
            "\tcurrent = ft_lstlast(*lst);\n",
            "\tif (!current)\n",
            "\t\t*lst = new;\n",
            "\telse\n",
            "\t\tcurrent->next = new;\n",
            "}"
         ]
      },
      {
         "cell_type": "markdown",
         "metadata": {},
         "source": [
            "##### lstadd_back_test.c"
         ]
      },
      {
         "cell_type": "code",
         "execution_count": 43,
         "metadata": {},
         "outputs": [
            {
               "name": "stdout",
               "output_type": "stream",
               "text": [
                  "Overwriting lstadd_back_test.c\n"
               ]
            }
         ],
         "source": [
            "%%file lstadd_back_test.c\n",
            "#include \"../libft/libft.h\"\n",
            "#include <stdio.h>\n",
            "\n",
            "int main (void)\n",
            "{\n",
            "\tchar string_1[] = \"First node.\";\n",
            "\tchar string_2[] = \"Second node.\";\n",
            "\tchar string_3[] = \"Third node.\";\n",
            "\tchar string_n[] = \"New node.\";\n",
            "\n",
            "\tt_list *first;\n",
            "\tt_list *second;\n",
            "\tt_list *third;\n",
            "\tt_list *new;\n",
            "\n",
            "\tfirst = ft_lstnew(string_1);\n",
            "\tsecond = ft_lstnew(string_2);\n",
            "\tthird = ft_lstnew(string_3);\n",
            "\tnew = ft_lstnew(string_n);\n",
            "\n",
            "\tfirst->next = second;\n",
            "\tsecond->next = third;\n",
            "\n",
            "\n",
            "\tprintf(\"BEFORE\\n\");\n",
            "\tprintf(\"first address:%p\\n\", first);\n",
            "\tprintf(\"first content:%s\\n\", (char *)first->content);\n",
            "\tprintf(\"first next:%p\\n\", first->next);\n",
            "\tprintf(\"second address:%p\\n\", second);\n",
            "\tprintf(\"second content:%s\\n\", (char *)second->content);\n",
            "\tprintf(\"second next:%p\\n\", second->next);\n",
            "\tprintf(\"third address:%p\\n\", third);\n",
            "\tprintf(\"third content:%s\\n\", (char *)third->content);\n",
            "\tprintf(\"third next:%p\\n\", third->next);\n",
            "\tprintf(\"new address:%p\\n\", new);\n",
            "\tprintf(\"new content:%s\\n\", (char *)new->content);\n",
            "\tprintf(\"new next:%p\\n\", new->next);\n",
            "\n",
            "\tft_lstadd_back(&first, new);\n",
            "\t\n",
            "\tprintf(\"AFTER\\n\");\n",
            "\tprintf(\"first address:%p\\n\", first);\n",
            "\tprintf(\"first content:%s\\n\", (char *)first->content);\n",
            "\tprintf(\"first next:%p\\n\", first->next);\n",
            "\tprintf(\"second address:%p\\n\", second);\n",
            "\tprintf(\"second content:%s\\n\", (char *)second->content);\n",
            "\tprintf(\"second next:%p\\n\", second->next);\n",
            "\tprintf(\"third address:%p\\n\", third);\n",
            "\tprintf(\"third content:%s\\n\", (char *)third->content);\n",
            "\tprintf(\"third next:%p\\n\", third->next);\n",
            "\tprintf(\"new address:%p\\n\", new);\n",
            "\tprintf(\"new content:%s\\n\", (char *)new->content);\n",
            "\tprintf(\"new next:%p\\n\", new->next);\n",
            "\n",
            "\tfree(first);\n",
            "\tfree(second);\n",
            "\tfree(third);\n",
            "\tfree(new);\n",
            "\n",
            "\treturn (0);\n",
            "}"
         ]
      },
      {
         "cell_type": "code",
         "execution_count": 50,
         "metadata": {},
         "outputs": [
            {
               "name": "stdout",
               "output_type": "stream",
               "text": [
                  "BEFORE\n",
                  "first address:0x556a563c52a0\n",
                  "first content:First node.\n",
                  "first next:0x556a563c52c0\n",
                  "second address:0x556a563c52c0\n",
                  "second content:Second node.\n",
                  "second next:0x556a563c52e0\n",
                  "third address:0x556a563c52e0\n",
                  "third content:Third node.\n",
                  "third next:(nil)\n",
                  "new address:0x556a563c5300\n",
                  "new content:New node.\n",
                  "new next:(nil)\n",
                  "AFTER\n",
                  "first address:0x556a563c52a0\n",
                  "first content:First node.\n",
                  "first next:0x556a563c52c0\n",
                  "second address:0x556a563c52c0\n",
                  "second content:Second node.\n",
                  "second next:0x556a563c52e0\n",
                  "third address:0x556a563c52e0\n",
                  "third content:Third node.\n",
                  "third next:0x556a563c5300\n",
                  "new address:0x556a563c5300\n",
                  "new content:New node.\n",
                  "new next:(nil)\n"
               ]
            }
         ],
         "source": [
            "%%bash\n",
            "gcc lstadd_back_test.c -L../libft -lft\n",
            "./a.out"
         ]
      },
      {
         "cell_type": "markdown",
         "metadata": {},
         "source": [
            "#### lstdelone"
         ]
      },
      {
         "cell_type": "markdown",
         "metadata": {},
         "source": [
            "##### ft_lstdelone.c"
         ]
      },
      {
         "cell_type": "code",
         "execution_count": 24,
         "metadata": {},
         "outputs": [
            {
               "name": "stdout",
               "output_type": "stream",
               "text": [
                  "Overwriting ../libft/ft_lstdelone.c\n"
               ]
            }
         ],
         "source": [
            "%%file ../libft/ft_lstdelone.c\n",
            "/* ************************************************************************** */\n",
            "/*                                                                            */\n",
            "/*                                                        :::      ::::::::   */\n",
            "/*   ft_lstdelone.c                                     :+:      :+:    :+:   */\n",
            "/*                                                    +:+ +:+         +:+     */\n",
            "/*   By: dpentlan <dpentlan@student.42.fr>          +#+  +:+       +#+        */\n",
            "/*                                                +#+#+#+#+#+   +#+           */\n",
            "/*   Created: 2022/11/28 11:48:08 by dpentlan          #+#    #+#             */\n",
            "/*   Updated: 2022/11/28 11:48:10 by dpentlan         ###   ########.fr       */\n",
            "/*                                                                            */\n",
            "/* ************************************************************************** */\n",
            "\n",
            "#include \"libft.h\"\n",
            "\n",
            "/*  *** ft_lstdelone (42 list delete one) ***\n",
            " *\n",
            " *  Takes as a parameter a node and frees the memory of the node's content using\n",
            " *  the function 'del' given as a parameter and free the node.\n",
            " *  The memory address 'next' is not freed.\n",
            " *  Returns nothing.\n",
            " */\n",
            "\n",
            "void\tft_lstdelone(t_list *lst, void (*del)(void *))\n",
            "{\n",
            "\tif (lst == 0 || del == 0)\n",
            "\t\treturn ;\n",
            "\tdel(lst->content);\n",
            "\tfree(lst);\n",
            "}\n"
         ]
      },
      {
         "cell_type": "markdown",
         "metadata": {},
         "source": [
            "##### lstdelone_test.c"
         ]
      },
      {
         "cell_type": "code",
         "execution_count": 105,
         "metadata": {},
         "outputs": [
            {
               "name": "stdout",
               "output_type": "stream",
               "text": [
                  "Overwriting lstdelone_test.c\n"
               ]
            }
         ],
         "source": [
            "%%file lstdelone_test.c\n",
            "#include \"../libft/libft.h\"\n",
            "#include <stdio.h>\n",
            "\n",
            "int\tprint_list(t_list *lst)\n",
            "{\n",
            "\tint i;\n",
            "\n",
            "\ti = 0;\n",
            "\tprintf(\"\\n\");\n",
            "\twhile (lst->next)\n",
            "\t{\n",
            "\t\tprintf(\"Content: %s\\n\", (char *)lst->content);\n",
            "\t\tlst = lst->next;\n",
            "\t\ti++;\n",
            "\t}\n",
            "\tprintf(\"\\n\");\n",
            "\treturn (0);\n",
            "}\n",
            "\n",
            "void\tdelete_content(void *content)\n",
            "{\n",
            "\tfree(content);\n",
            "}\n",
            "\n",
            "int main (void)\n",
            "{\n",
            "\tchar \tstring[] = \"This is a string \";\n",
            "\tchar \t**string_t;\n",
            "\tchar\t*string_buff;\n",
            "\tint\t\ti;\n",
            "\n",
            "\tprintf(\"%ld\\n\", ft_strlen(string));\n",
            "\tstring_t = (char **)malloc(11 * sizeof(char *));\n",
            "\tft_bzero(string_t, 11);\n",
            "\tstring_buff = (char *)malloc(sizeof(char) * (ft_strlen(string) + 3));\n",
            "\n",
            "\tt_list *first;\n",
            "\tt_list *current;\n",
            "\n",
            "\twhile (i < 10)\n",
            "\t{\n",
            "\t\tft_strlcpy(string_buff, string, ft_strlen(string) + 3);\n",
            "\t\tft_strlcat(string_buff, ft_itoa(i), ft_strlen(string) + 3);\n",
            "\t\tstring_t[i] = ft_strdup(string_buff);\n",
            "\t\ti++;\n",
            "\t}\n",
            "\ti = 0;\n",
            "\tfirst = ft_lstnew(string_t[0]);\n",
            "\tfirst->next = ft_lstnew(string_t[1]);\n",
            "\tcurrent = first->next;\n",
            "\ti = 0;\n",
            "\twhile (i < 9)\n",
            "\t{\n",
            "\t\tcurrent->next = ft_lstnew(string_t[i + 2]);\n",
            "\t\tcurrent = current->next;\n",
            "\t\ti++;\n",
            "\t}\n",
            "\tcurrent = current->next;\n",
            "\n",
            "\tprint_list(first);\n",
            "\n",
            "\tft_lstdelone(first->next->next, delete_content);\n",
            "\t\n",
            "\tprint_list(first);\n",
            "\n",
            "\t//free(first);\n",
            "\n",
            "\treturn (0);\n",
            "}"
         ]
      },
      {
         "cell_type": "code",
         "execution_count": 106,
         "metadata": {},
         "outputs": [
            {
               "name": "stdout",
               "output_type": "stream",
               "text": [
                  "17\n",
                  "\n",
                  "Content: This is a string 0\n",
                  "Content: This is a string 1\n",
                  "Content: This is a string 2\n",
                  "Content: This is a string 3\n",
                  "Content: This is a string 4\n",
                  "Content: This is a string 5\n",
                  "Content: This is a string 6\n",
                  "Content: This is a string 7\n",
                  "Content: This is a string 8\n",
                  "Content: This is a string 9\n",
                  "\n",
                  "\n",
                  "Content: This is a string 0\n",
                  "Content: This is a string 1\n",
                  "Content: (null)\n",
                  "Content: This is a string 3\n",
                  "Content: This is a string 4\n",
                  "Content: This is a string 5\n",
                  "Content: This is a string 6\n",
                  "Content: This is a string 7\n",
                  "Content: This is a string 8\n",
                  "Content: This is a string 9\n",
                  "\n"
               ]
            }
         ],
         "source": [
            "%%bash\n",
            "gcc lstdelone_test.c -g -L../libft -lft\n",
            "./a.out"
         ]
      },
      {
         "cell_type": "markdown",
         "metadata": {},
         "source": [
            "#### lstclear"
         ]
      },
      {
         "cell_type": "markdown",
         "metadata": {},
         "source": [
            "##### ft_lstclear.c"
         ]
      },
      {
         "cell_type": "code",
         "execution_count": 25,
         "metadata": {},
         "outputs": [
            {
               "name": "stdout",
               "output_type": "stream",
               "text": [
                  "Overwriting ../libft/ft_lstclear.c\n"
               ]
            }
         ],
         "source": [
            "%%file ../libft/ft_lstclear.c\n",
            "/* ************************************************************************** */\n",
            "/*                                                                            */\n",
            "/*                                                        :::      ::::::::   */\n",
            "/*   ft_lstclear.c                                      :+:      :+:    :+:   */\n",
            "/*                                                    +:+ +:+         +:+     */\n",
            "/*   By: dpentlan <dpentlan@student.42.fr>          +#+  +:+       +#+        */\n",
            "/*                                                +#+#+#+#+#+   +#+           */\n",
            "/*   Created: 2022/11/28 12:02:47 by dpentlan          #+#    #+#             */\n",
            "/*   Updated: 2022/11/28 12:02:49 by dpentlan         ###   ########.fr       */\n",
            "/*                                                                            */\n",
            "/* ************************************************************************** */\n",
            "\n",
            "#include \"libft.h\"\n",
            "\n",
            "/*  *** ft_lstclear (42 list clear) ***\n",
            " *\n",
            " *  Deletes and frees the given node and every successor of the that node,\n",
            " *  using the function 'del' and free.\n",
            " *  Finally, the pointer to the list is set to NULL.\n",
            " *  Returns nothing.\n",
            " */\n",
            "\n",
            "void\tft_lstclear(t_list **lst, void (*del)(void *))\n",
            "{\n",
            "\tt_list\t*current;\n",
            "\tt_list\t*next_node;\n",
            "\n",
            "\tif (lst == 0 || del == 0)\n",
            "\t\treturn ;\n",
            "\tcurrent = *lst;\n",
            "\twhile (current)\n",
            "\t{\n",
            "\t\tdel(current->content);\n",
            "\t\tnext_node = current->next;\n",
            "\t\tfree(current);\n",
            "\t\tcurrent = next_node;\n",
            "\t}\n",
            "\t*lst = 0;\n",
            "}"
         ]
      },
      {
         "cell_type": "markdown",
         "metadata": {},
         "source": [
            "##### lstclear_test.c"
         ]
      },
      {
         "cell_type": "code",
         "execution_count": 211,
         "metadata": {},
         "outputs": [
            {
               "name": "stdout",
               "output_type": "stream",
               "text": [
                  "Overwriting lstclear_test.c\n"
               ]
            }
         ],
         "source": [
            "%%file lstclear_test.c\n",
            "#include \"../libft/libft.h\"\n",
            "#include <stdio.h>\n",
            "\n",
            "int\tprint_list(t_list *lst)\n",
            "{\n",
            "\tint i;\n",
            "\n",
            "\ti = 0;\n",
            "\tprintf(\"\\n\");\n",
            "\twhile (lst->next)\n",
            "\t{\n",
            "\t\tprintf(\"Content: %s\\n\", (char *)lst->content);\n",
            "\t\tlst = lst->next;\n",
            "\t\ti++;\n",
            "\t}\n",
            "\tprintf(\"\\n\");\n",
            "\treturn (0);\n",
            "}\n",
            "\n",
            "void\tdelete_content(void *content)\n",
            "{\n",
            "\tfree(content);\n",
            "}\n",
            "\n",
            "int main (void)\n",
            "{\n",
            "\tchar \tstring[] = \"This is a string \";\n",
            "\tchar \t**string_t;\n",
            "\tchar\t*string_buff;\n",
            "\tint\t\ti;\n",
            "\n",
            "\tprintf(\"%ld\\n\", ft_strlen(string));\n",
            "\tstring_t = (char **)malloc(11 * sizeof(char *));\n",
            "\tft_bzero(string_t, 11);\n",
            "\tstring_buff = (char *)malloc(sizeof(char) * (ft_strlen(string) + 3));\n",
            "\n",
            "\tt_list *first;\n",
            "\tt_list *current;\n",
            "\n",
            "\twhile (i < 10)\n",
            "\t{\n",
            "\t\tft_strlcpy(string_buff, string, ft_strlen(string) + 3);\n",
            "\t\tft_strlcat(string_buff, ft_itoa(i), ft_strlen(string) + 3);\n",
            "\t\tstring_t[i] = ft_strdup(string_buff);\n",
            "\t\ti++;\n",
            "\t}\n",
            "\ti = 0;\n",
            "\tfirst = ft_lstnew(string_t[0]);\n",
            "\tfirst->next = ft_lstnew(string_t[1]);\n",
            "\tcurrent = first->next;\n",
            "\ti = 0;\n",
            "\twhile (i < 9)\n",
            "\t{\n",
            "\t\tcurrent->next = ft_lstnew(string_t[i + 2]);\n",
            "\t\tcurrent = current->next;\n",
            "\t\ti++;\n",
            "\t}\n",
            "\tcurrent = current->next;\n",
            "\n",
            "\tprint_list(first);\n",
            "\n",
            "\tft_lstclear(&(first->next->next->next), delete_content);\n",
            "\t\n",
            "\tprint_list(first);\n",
            "\n",
            "\t//free(first);\n",
            "\n",
            "\treturn (0);\n",
            "}"
         ]
      },
      {
         "cell_type": "code",
         "execution_count": 252,
         "metadata": {},
         "outputs": [
            {
               "name": "stdout",
               "output_type": "stream",
               "text": [
                  "17\n",
                  "\n",
                  "Content: This is a string 0\n",
                  "Content: This is a string 1\n",
                  "Content: This is a string 2\n",
                  "Content: This is a string 3\n",
                  "Content: This is a string 4\n",
                  "Content: This is a string 5\n",
                  "Content: This is a string 6\n",
                  "Content: This is a string 7\n",
                  "Content: This is a string 8\n",
                  "Content: This is a string 9\n",
                  "\n",
                  "\n",
                  "Content: This is a string 0\n",
                  "Content: This is a string 1\n",
                  "\n",
                  "17\n",
                  "\n",
                  "Content: This is a string 0\n",
                  "Content: This is a string 1\n",
                  "Content: This is a string 2\n",
                  "Content: This is a string 3\n",
                  "Content: This is a string 4\n",
                  "Content: This is a string 5\n",
                  "Content: This is a string 6\n",
                  "Content: This is a string 7\n",
                  "Content: This is a string 8\n",
                  "Content: This is a string 9\n",
                  "\n",
                  "\n",
                  "Content: This is a string 0\n",
                  "Content: This is a string 1\n",
                  "\n",
                  "17\n",
                  "\n",
                  "Content: This is a string 0\n",
                  "Content: This is a string 1\n",
                  "Content: This is a string 2\n",
                  "Content: This is a string 3\n",
                  "Content: This is a string 4\n",
                  "Content: This is a string 5\n",
                  "Content: This is a string 6\n",
                  "Content: This is a string 7\n",
                  "Content: This is a string 8\n",
                  "Content: This is a string 9\n",
                  "\n",
                  "\n",
                  "Content: This is a string 0\n",
                  "Content: This is a string 1\n",
                  "\n",
                  "17\n",
                  "\n",
                  "Content: This is a string 0\n",
                  "Content: This is a string 1\n",
                  "Content: This is a string 2\n",
                  "Content: This is a string 3\n",
                  "Content: This is a string 4\n",
                  "Content: This is a string 5\n",
                  "Content: This is a string 6\n",
                  "Content: This is a string 7\n",
                  "Content: This is a string 8\n",
                  "Content: This is a string 9\n",
                  "\n",
                  "\n",
                  "Content: This is a string 0\n",
                  "Content: This is a string 1\n",
                  "\n",
                  "17\n",
                  "\n",
                  "Content: This is a string 0\n",
                  "Content: This is a string 1\n",
                  "Content: This is a string 2\n",
                  "Content: This is a string 3\n",
                  "Content: This is a string 4\n",
                  "Content: This is a string 5\n",
                  "Content: This is a string 6\n",
                  "Content: This is a string 7\n",
                  "Content: This is a string 8\n",
                  "Content: This is a string 9\n",
                  "\n",
                  "\n",
                  "Content: This is a string 0\n",
                  "Content: This is a string 1\n",
                  "\n",
                  "17\n",
                  "\n",
                  "Content: This is a string 0\n",
                  "Content: This is a string 1\n",
                  "Content: This is a string 2\n",
                  "Content: This is a string 3\n",
                  "Content: This is a string 4\n",
                  "Content: This is a string 5\n",
                  "Content: This is a string 6\n",
                  "Content: This is a string 7\n",
                  "Content: This is a string 8\n",
                  "Content: This is a string 9\n",
                  "\n",
                  "\n",
                  "Content: This is a string 0\n",
                  "Content: This is a string 1\n",
                  "\n",
                  "17\n",
                  "\n",
                  "Content: This is a string 0\n",
                  "Content: This is a string 1\n",
                  "Content: This is a string 2\n",
                  "Content: This is a string 3\n",
                  "Content: This is a string 4\n",
                  "Content: This is a string 5\n",
                  "Content: This is a string 6\n",
                  "Content: This is a string 7\n",
                  "Content: This is a string 8\n",
                  "Content: This is a string 9\n",
                  "\n",
                  "\n",
                  "Content: This is a string 0\n",
                  "Content: This is a string 1\n",
                  "\n",
                  "17\n",
                  "\n",
                  "Content: This is a string 0\n",
                  "Content: This is a string 1\n",
                  "Content: This is a string 2\n",
                  "Content: This is a string 3\n",
                  "Content: This is a string 4\n",
                  "Content: This is a string 5\n",
                  "Content: This is a string 6\n",
                  "Content: This is a string 7\n",
                  "Content: This is a string 8\n",
                  "Content: This is a string 9\n",
                  "\n",
                  "\n",
                  "Content: This is a string 0\n",
                  "Content: This is a string 1\n",
                  "\n",
                  "17\n",
                  "\n",
                  "Content: This is a string 0\n",
                  "Content: This is a string 1\n",
                  "Content: This is a string 2\n",
                  "Content: This is a string 3\n",
                  "Content: This is a string 4\n",
                  "Content: This is a string 5\n",
                  "Content: This is a string 6\n",
                  "Content: This is a string 7\n",
                  "Content: This is a string 8\n",
                  "Content: This is a string 9\n",
                  "\n",
                  "\n",
                  "Content: This is a string 0\n",
                  "Content: This is a string 1\n",
                  "\n",
                  "17\n",
                  "\n",
                  "Content: This is a string 0\n",
                  "Content: This is a string 1\n",
                  "Content: This is a string 2\n",
                  "Content: This is a string 3\n",
                  "Content: This is a string 4\n",
                  "Content: This is a string 5\n",
                  "Content: This is a string 6\n",
                  "Content: This is a string 7\n",
                  "Content: This is a string 8\n",
                  "Content: This is a string 9\n",
                  "\n",
                  "\n",
                  "Content: This is a string 0\n",
                  "Content: This is a string 1\n",
                  "\n",
                  "17\n",
                  "\n",
                  "Content: This is a string 0\n",
                  "Content: This is a string 1\n",
                  "Content: This is a string 2\n",
                  "Content: This is a string 3\n",
                  "Content: This is a string 4\n",
                  "Content: This is a string 5\n",
                  "Content: This is a string 6\n",
                  "Content: This is a string 7\n",
                  "Content: This is a string 8\n",
                  "Content: This is a string 9\n",
                  "\n",
                  "\n",
                  "Content: This is a string 0\n",
                  "Content: This is a string 1\n",
                  "\n",
                  "17\n",
                  "\n",
                  "Content: This is a string 0\n",
                  "Content: This is a string 1\n",
                  "Content: This is a string 2\n",
                  "Content: This is a string 3\n",
                  "Content: This is a string 4\n",
                  "Content: This is a string 5\n",
                  "Content: This is a string 6\n",
                  "Content: This is a string 7\n",
                  "Content: This is a string 8\n",
                  "Content: This is a string 9\n",
                  "\n",
                  "\n",
                  "Content: This is a string 0\n",
                  "Content: This is a string 1\n",
                  "\n",
                  "17\n",
                  "\n",
                  "Content: This is a string 0\n",
                  "Content: This is a string 1\n",
                  "Content: This is a string 2\n",
                  "Content: This is a string 3\n",
                  "Content: This is a string 4\n",
                  "Content: This is a string 5\n",
                  "Content: This is a string 6\n",
                  "Content: This is a string 7\n",
                  "Content: This is a string 8\n",
                  "Content: This is a string 9\n",
                  "\n",
                  "\n",
                  "Content: This is a string 0\n",
                  "Content: This is a string 1\n",
                  "\n",
                  "17\n",
                  "\n",
                  "Content: This is a string 0\n",
                  "Content: This is a string 1\n",
                  "Content: This is a string 2\n",
                  "Content: This is a string 3\n",
                  "Content: This is a string 4\n",
                  "Content: This is a string 5\n",
                  "Content: This is a string 6\n",
                  "Content: This is a string 7\n",
                  "Content: This is a string 8\n",
                  "Content: This is a string 9\n",
                  "\n",
                  "\n",
                  "Content: This is a string 0\n",
                  "Content: This is a string 1\n",
                  "\n",
                  "17\n",
                  "\n",
                  "Content: This is a string 0\n",
                  "Content: This is a string 1\n",
                  "Content: This is a string 2\n",
                  "Content: This is a string 3\n",
                  "Content: This is a string 4\n",
                  "Content: This is a string 5\n",
                  "Content: This is a string 6\n",
                  "Content: This is a string 7\n",
                  "Content: This is a string 8\n",
                  "Content: This is a string 9\n",
                  "\n",
                  "\n",
                  "Content: This is a string 0\n",
                  "Content: This is a string 1\n",
                  "\n",
                  "17\n",
                  "\n",
                  "Content: This is a string 0\n",
                  "Content: This is a string 1\n",
                  "Content: This is a string 2\n",
                  "Content: This is a string 3\n",
                  "Content: This is a string 4\n",
                  "Content: This is a string 5\n",
                  "Content: This is a string 6\n",
                  "Content: This is a string 7\n",
                  "Content: This is a string 8\n",
                  "Content: This is a string 9\n",
                  "\n",
                  "\n",
                  "Content: This is a string 0\n",
                  "Content: This is a string 1\n",
                  "\n",
                  "17\n",
                  "\n",
                  "Content: This is a string 0\n",
                  "Content: This is a string 1\n",
                  "Content: This is a string 2\n",
                  "Content: This is a string 3\n",
                  "Content: This is a string 4\n",
                  "Content: This is a string 5\n",
                  "Content: This is a string 6\n",
                  "Content: This is a string 7\n",
                  "Content: This is a string 8\n",
                  "Content: This is a string 9\n",
                  "\n",
                  "\n",
                  "Content: This is a string 0\n",
                  "Content: This is a string 1\n",
                  "\n",
                  "17\n",
                  "\n",
                  "Content: This is a string 0\n",
                  "Content: This is a string 1\n",
                  "Content: This is a string 2\n",
                  "Content: This is a string 3\n",
                  "Content: This is a string 4\n",
                  "Content: This is a string 5\n",
                  "Content: This is a string 6\n",
                  "Content: This is a string 7\n",
                  "Content: This is a string 8\n",
                  "Content: This is a string 9\n",
                  "\n",
                  "\n",
                  "Content: This is a string 0\n",
                  "Content: This is a string 1\n",
                  "\n",
                  "17\n",
                  "\n",
                  "Content: This is a string 0\n",
                  "Content: This is a string 1\n",
                  "Content: This is a string 2\n",
                  "Content: This is a string 3\n",
                  "Content: This is a string 4\n",
                  "Content: This is a string 5\n",
                  "Content: This is a string 6\n",
                  "Content: This is a string 7\n",
                  "Content: This is a string 8\n",
                  "Content: This is a string 9\n",
                  "\n",
                  "\n",
                  "Content: This is a string 0\n",
                  "Content: This is a string 1\n",
                  "\n",
                  "17\n",
                  "\n",
                  "Content: This is a string 0\n",
                  "Content: This is a string 1\n",
                  "Content: This is a string 2\n",
                  "Content: This is a string 3\n",
                  "Content: This is a string 4\n",
                  "Content: This is a string 5\n",
                  "Content: This is a string 6\n",
                  "Content: This is a string 7\n",
                  "Content: This is a string 8\n",
                  "Content: This is a string 9\n",
                  "\n",
                  "\n",
                  "Content: This is a string 0\n",
                  "Content: This is a string 1\n",
                  "\n",
                  "17\n",
                  "\n",
                  "Content: This is a string 0\n",
                  "Content: This is a string 1\n",
                  "Content: This is a string 2\n",
                  "Content: This is a string 3\n",
                  "Content: This is a string 4\n",
                  "Content: This is a string 5\n",
                  "Content: This is a string 6\n",
                  "Content: This is a string 7\n",
                  "Content: This is a string 8\n",
                  "Content: This is a string 9\n",
                  "\n",
                  "\n",
                  "Content: This is a string 0\n",
                  "Content: This is a string 1\n",
                  "\n",
                  "17\n",
                  "\n",
                  "Content: This is a string 0\n",
                  "Content: This is a string 1\n",
                  "Content: This is a string 2\n",
                  "Content: This is a string 3\n",
                  "Content: This is a string 4\n",
                  "Content: This is a string 5\n",
                  "Content: This is a string 6\n",
                  "Content: This is a string 7\n",
                  "Content: This is a string 8\n",
                  "Content: This is a string 9\n",
                  "\n",
                  "\n",
                  "Content: This is a string 0\n",
                  "Content: This is a string 1\n",
                  "\n",
                  "17\n",
                  "\n",
                  "Content: This is a string 0\n",
                  "Content: This is a string 1\n",
                  "Content: This is a string 2\n",
                  "Content: This is a string 3\n",
                  "Content: This is a string 4\n",
                  "Content: This is a string 5\n",
                  "Content: This is a string 6\n",
                  "Content: This is a string 7\n",
                  "Content: This is a string 8\n",
                  "Content: This is a string 9\n",
                  "\n",
                  "\n",
                  "Content: This is a string 0\n",
                  "Content: This is a string 1\n",
                  "\n",
                  "17\n",
                  "\n",
                  "Content: This is a string 0\n",
                  "Content: This is a string 1\n",
                  "Content: This is a string 2\n",
                  "Content: This is a string 3\n",
                  "Content: This is a string 4\n",
                  "Content: This is a string 5\n",
                  "Content: This is a string 6\n",
                  "Content: This is a string 7\n",
                  "Content: This is a string 8\n",
                  "Content: This is a string 9\n",
                  "\n",
                  "\n",
                  "Content: This is a string 0\n",
                  "Content: This is a string 1\n",
                  "\n",
                  "17\n",
                  "\n",
                  "Content: This is a string 0\n",
                  "Content: This is a string 1\n",
                  "Content: This is a string 2\n",
                  "Content: This is a string 3\n",
                  "Content: This is a string 4\n",
                  "Content: This is a string 5\n",
                  "Content: This is a string 6\n",
                  "Content: This is a string 7\n",
                  "Content: This is a string 8\n",
                  "Content: This is a string 9\n",
                  "\n",
                  "\n",
                  "Content: This is a string 0\n",
                  "Content: This is a string 1\n",
                  "\n",
                  "17\n",
                  "\n",
                  "Content: This is a string 0\n",
                  "Content: This is a string 1\n",
                  "Content: This is a string 2\n",
                  "Content: This is a string 3\n",
                  "Content: This is a string 4\n",
                  "Content: This is a string 5\n",
                  "Content: This is a string 6\n",
                  "Content: This is a string 7\n",
                  "Content: This is a string 8\n",
                  "Content: This is a string 9\n",
                  "\n",
                  "\n",
                  "Content: This is a string 0\n",
                  "Content: This is a string 1\n",
                  "\n",
                  "17\n",
                  "\n",
                  "Content: This is a string 0\n",
                  "Content: This is a string 1\n",
                  "Content: This is a string 2\n",
                  "Content: This is a string 3\n",
                  "Content: This is a string 4\n",
                  "Content: This is a string 5\n",
                  "Content: This is a string 6\n",
                  "Content: This is a string 7\n",
                  "Content: This is a string 8\n",
                  "Content: This is a string 9\n",
                  "\n",
                  "\n",
                  "Content: This is a string 0\n",
                  "Content: This is a string 1\n",
                  "\n",
                  "17\n",
                  "\n",
                  "Content: This is a string 0\n",
                  "Content: This is a string 1\n",
                  "Content: This is a string 2\n",
                  "Content: This is a string 3\n",
                  "Content: This is a string 4\n",
                  "Content: This is a string 5\n",
                  "Content: This is a string 6\n",
                  "Content: This is a string 7\n",
                  "Content: This is a string 8\n",
                  "Content: This is a string 9\n",
                  "\n",
                  "\n",
                  "Content: This is a string 0\n",
                  "Content: This is a string 1\n",
                  "\n",
                  "17\n",
                  "\n",
                  "Content: This is a string 0\n",
                  "Content: This is a string 1\n",
                  "Content: This is a string 2\n",
                  "Content: This is a string 3\n",
                  "Content: This is a string 4\n",
                  "Content: This is a string 5\n",
                  "Content: This is a string 6\n",
                  "Content: This is a string 7\n",
                  "Content: This is a string 8\n",
                  "Content: This is a string 9\n",
                  "\n",
                  "\n",
                  "Content: This is a string 0\n",
                  "Content: This is a string 1\n",
                  "\n",
                  "17\n",
                  "\n",
                  "Content: This is a string 0\n",
                  "Content: This is a string 1\n",
                  "Content: This is a string 2\n",
                  "Content: This is a string 3\n",
                  "Content: This is a string 4\n",
                  "Content: This is a string 5\n",
                  "Content: This is a string 6\n",
                  "Content: This is a string 7\n",
                  "Content: This is a string 8\n",
                  "Content: This is a string 9\n",
                  "\n",
                  "\n",
                  "Content: This is a string 0\n",
                  "Content: This is a string 1\n",
                  "\n",
                  "17\n",
                  "\n",
                  "Content: This is a string 0\n",
                  "Content: This is a string 1\n",
                  "Content: This is a string 2\n",
                  "Content: This is a string 3\n",
                  "Content: This is a string 4\n",
                  "Content: This is a string 5\n",
                  "Content: This is a string 6\n",
                  "Content: This is a string 7\n",
                  "Content: This is a string 8\n",
                  "Content: This is a string 9\n",
                  "\n",
                  "\n",
                  "Content: This is a string 0\n",
                  "Content: This is a string 1\n",
                  "\n",
                  "17\n",
                  "\n",
                  "Content: This is a string 0\n",
                  "Content: This is a string 1\n",
                  "Content: This is a string 2\n",
                  "Content: This is a string 3\n",
                  "Content: This is a string 4\n",
                  "Content: This is a string 5\n",
                  "Content: This is a string 6\n",
                  "Content: This is a string 7\n",
                  "Content: This is a string 8\n",
                  "Content: This is a string 9\n",
                  "\n",
                  "\n",
                  "Content: This is a string 0\n",
                  "Content: This is a string 1\n",
                  "\n",
                  "17\n",
                  "\n",
                  "Content: This is a string 0\n",
                  "Content: This is a string 1\n",
                  "Content: This is a string 2\n",
                  "Content: This is a string 3\n",
                  "Content: This is a string 4\n",
                  "Content: This is a string 5\n",
                  "Content: This is a string 6\n",
                  "Content: This is a string 7\n",
                  "Content: This is a string 8\n",
                  "Content: This is a string 9\n",
                  "\n",
                  "\n",
                  "Content: This is a string 0\n",
                  "Content: This is a string 1\n",
                  "\n",
                  "17\n",
                  "\n",
                  "Content: This is a string 0\n",
                  "Content: This is a string 1\n",
                  "Content: This is a string 2\n",
                  "Content: This is a string 3\n",
                  "Content: This is a string 4\n",
                  "Content: This is a string 5\n",
                  "Content: This is a string 6\n",
                  "Content: This is a string 7\n",
                  "Content: This is a string 8\n",
                  "Content: This is a string 9\n",
                  "\n",
                  "\n",
                  "Content: This is a string 0\n",
                  "Content: This is a string 1\n",
                  "\n",
                  "17\n",
                  "\n",
                  "Content: This is a string 0\n",
                  "Content: This is a string 1\n",
                  "Content: This is a string 2\n",
                  "Content: This is a string 3\n",
                  "Content: This is a string 4\n",
                  "Content: This is a string 5\n",
                  "Content: This is a string 6\n",
                  "Content: This is a string 7\n",
                  "Content: This is a string 8\n",
                  "Content: This is a string 9\n",
                  "\n",
                  "\n",
                  "Content: This is a string 0\n",
                  "Content: This is a string 1\n",
                  "\n",
                  "17\n",
                  "\n",
                  "Content: This is a string 0\n",
                  "Content: This is a string 1\n",
                  "Content: This is a string 2\n",
                  "Content: This is a string 3\n",
                  "Content: This is a string 4\n",
                  "Content: This is a string 5\n",
                  "Content: This is a string 6\n",
                  "Content: This is a string 7\n",
                  "Content: This is a string 8\n",
                  "Content: This is a string 9\n",
                  "\n",
                  "\n",
                  "Content: This is a string 0\n",
                  "Content: This is a string 1\n",
                  "\n",
                  "17\n",
                  "\n",
                  "Content: This is a string 0\n",
                  "Content: This is a string 1\n",
                  "Content: This is a string 2\n",
                  "Content: This is a string 3\n",
                  "Content: This is a string 4\n",
                  "Content: This is a string 5\n",
                  "Content: This is a string 6\n",
                  "Content: This is a string 7\n",
                  "Content: This is a string 8\n",
                  "Content: This is a string 9\n",
                  "\n",
                  "\n",
                  "Content: This is a string 0\n",
                  "Content: This is a string 1\n",
                  "\n",
                  "17\n",
                  "\n",
                  "Content: This is a string 0\n",
                  "Content: This is a string 1\n",
                  "Content: This is a string 2\n",
                  "Content: This is a string 3\n",
                  "Content: This is a string 4\n",
                  "Content: This is a string 5\n",
                  "Content: This is a string 6\n",
                  "Content: This is a string 7\n",
                  "Content: This is a string 8\n",
                  "Content: This is a string 9\n",
                  "\n",
                  "\n",
                  "Content: This is a string 0\n",
                  "Content: This is a string 1\n",
                  "\n",
                  "17\n",
                  "\n",
                  "Content: This is a string 0\n",
                  "Content: This is a string 1\n",
                  "Content: This is a string 2\n",
                  "Content: This is a string 3\n",
                  "Content: This is a string 4\n",
                  "Content: This is a string 5\n",
                  "Content: This is a string 6\n",
                  "Content: This is a string 7\n",
                  "Content: This is a string 8\n",
                  "Content: This is a string 9\n",
                  "\n",
                  "\n",
                  "Content: This is a string 0\n",
                  "Content: This is a string 1\n",
                  "\n",
                  "17\n",
                  "\n",
                  "Content: This is a string 0\n",
                  "Content: This is a string 1\n",
                  "Content: This is a string 2\n",
                  "Content: This is a string 3\n",
                  "Content: This is a string 4\n",
                  "Content: This is a string 5\n",
                  "Content: This is a string 6\n",
                  "Content: This is a string 7\n",
                  "Content: This is a string 8\n",
                  "Content: This is a string 9\n",
                  "\n",
                  "\n",
                  "Content: This is a string 0\n",
                  "Content: This is a string 1\n",
                  "\n",
                  "17\n",
                  "\n",
                  "Content: This is a string 0\n",
                  "Content: This is a string 1\n",
                  "Content: This is a string 2\n",
                  "Content: This is a string 3\n",
                  "Content: This is a string 4\n",
                  "Content: This is a string 5\n",
                  "Content: This is a string 6\n",
                  "Content: This is a string 7\n",
                  "Content: This is a string 8\n",
                  "Content: This is a string 9\n",
                  "\n",
                  "\n",
                  "Content: This is a string 0\n",
                  "Content: This is a string 1\n",
                  "\n",
                  "17\n",
                  "\n",
                  "Content: This is a string 0\n",
                  "Content: This is a string 1\n",
                  "Content: This is a string 2\n",
                  "Content: This is a string 3\n",
                  "Content: This is a string 4\n",
                  "Content: This is a string 5\n",
                  "Content: This is a string 6\n",
                  "Content: This is a string 7\n",
                  "Content: This is a string 8\n",
                  "Content: This is a string 9\n",
                  "\n",
                  "\n",
                  "Content: This is a string 0\n",
                  "Content: This is a string 1\n",
                  "\n",
                  "17\n",
                  "\n",
                  "Content: This is a string 0\n",
                  "Content: This is a string 1\n",
                  "Content: This is a string 2\n",
                  "Content: This is a string 3\n",
                  "Content: This is a string 4\n",
                  "Content: This is a string 5\n",
                  "Content: This is a string 6\n",
                  "Content: This is a string 7\n",
                  "Content: This is a string 8\n",
                  "Content: This is a string 9\n",
                  "\n",
                  "\n",
                  "Content: This is a string 0\n",
                  "Content: This is a string 1\n",
                  "\n",
                  "17\n",
                  "\n",
                  "Content: This is a string 0\n",
                  "Content: This is a string 1\n",
                  "Content: This is a string 2\n",
                  "Content: This is a string 3\n",
                  "Content: This is a string 4\n",
                  "Content: This is a string 5\n",
                  "Content: This is a string 6\n",
                  "Content: This is a string 7\n",
                  "Content: This is a string 8\n",
                  "Content: This is a string 9\n",
                  "\n",
                  "\n",
                  "Content: This is a string 0\n",
                  "Content: This is a string 1\n",
                  "\n",
                  "17\n",
                  "\n",
                  "Content: This is a string 0\n",
                  "Content: This is a string 1\n",
                  "Content: This is a string 2\n",
                  "Content: This is a string 3\n",
                  "Content: This is a string 4\n",
                  "Content: This is a string 5\n",
                  "Content: This is a string 6\n",
                  "Content: This is a string 7\n",
                  "Content: This is a string 8\n",
                  "Content: This is a string 9\n",
                  "\n",
                  "\n",
                  "Content: This is a string 0\n",
                  "Content: This is a string 1\n",
                  "\n",
                  "17\n",
                  "\n",
                  "Content: This is a string 0\n",
                  "Content: This is a string 1\n",
                  "Content: This is a string 2\n",
                  "Content: This is a string 3\n",
                  "Content: This is a string 4\n",
                  "Content: This is a string 5\n",
                  "Content: This is a string 6\n",
                  "Content: This is a string 7\n",
                  "Content: This is a string 8\n",
                  "Content: This is a string 9\n",
                  "\n",
                  "\n",
                  "Content: This is a string 0\n",
                  "Content: This is a string 1\n",
                  "\n",
                  "17\n",
                  "\n",
                  "Content: This is a string 0\n",
                  "Content: This is a string 1\n",
                  "Content: This is a string 2\n",
                  "Content: This is a string 3\n",
                  "Content: This is a string 4\n",
                  "Content: This is a string 5\n",
                  "Content: This is a string 6\n",
                  "Content: This is a string 7\n",
                  "Content: This is a string 8\n",
                  "Content: This is a string 9\n",
                  "\n",
                  "\n",
                  "Content: This is a string 0\n",
                  "Content: This is a string 1\n",
                  "\n",
                  "17\n",
                  "\n",
                  "Content: This is a string 0\n",
                  "Content: This is a string 1\n",
                  "Content: This is a string 2\n",
                  "Content: This is a string 3\n",
                  "Content: This is a string 4\n",
                  "Content: This is a string 5\n",
                  "Content: This is a string 6\n",
                  "Content: This is a string 7\n",
                  "Content: This is a string 8\n",
                  "Content: This is a string 9\n",
                  "\n",
                  "\n",
                  "Content: This is a string 0\n",
                  "Content: This is a string 1\n",
                  "\n",
                  "17\n",
                  "\n",
                  "Content: This is a string 0\n",
                  "Content: This is a string 1\n",
                  "Content: This is a string 2\n",
                  "Content: This is a string 3\n",
                  "Content: This is a string 4\n",
                  "Content: This is a string 5\n",
                  "Content: This is a string 6\n",
                  "Content: This is a string 7\n",
                  "Content: This is a string 8\n",
                  "Content: This is a string 9\n",
                  "\n",
                  "\n",
                  "Content: This is a string 0\n",
                  "Content: This is a string 1\n",
                  "\n",
                  "17\n",
                  "\n",
                  "Content: This is a string 0\n",
                  "Content: This is a string 1\n",
                  "Content: This is a string 2\n",
                  "Content: This is a string 3\n",
                  "Content: This is a string 4\n",
                  "Content: This is a string 5\n",
                  "Content: This is a string 6\n",
                  "Content: This is a string 7\n",
                  "Content: This is a string 8\n",
                  "Content: This is a string 9\n",
                  "\n",
                  "\n",
                  "Content: This is a string 0\n",
                  "Content: This is a string 1\n",
                  "\n",
                  "17\n",
                  "\n",
                  "Content: This is a string 0\n",
                  "Content: This is a string 1\n",
                  "Content: This is a string 2\n",
                  "Content: This is a string 3\n",
                  "Content: This is a string 4\n",
                  "Content: This is a string 5\n",
                  "Content: This is a string 6\n",
                  "Content: This is a string 7\n",
                  "Content: This is a string 8\n",
                  "Content: This is a string 9\n",
                  "\n",
                  "\n",
                  "Content: This is a string 0\n",
                  "Content: This is a string 1\n",
                  "\n",
                  "17\n",
                  "\n",
                  "Content: This is a string 0\n",
                  "Content: This is a string 1\n",
                  "Content: This is a string 2\n",
                  "Content: This is a string 3\n",
                  "Content: This is a string 4\n",
                  "Content: This is a string 5\n",
                  "Content: This is a string 6\n",
                  "Content: This is a string 7\n",
                  "Content: This is a string 8\n",
                  "Content: This is a string 9\n",
                  "\n",
                  "\n",
                  "Content: This is a string 0\n",
                  "Content: This is a string 1\n",
                  "\n",
                  "17\n",
                  "\n",
                  "Content: This is a string 0\n",
                  "Content: This is a string 1\n",
                  "Content: This is a string 2\n",
                  "Content: This is a string 3\n",
                  "Content: This is a string 4\n",
                  "Content: This is a string 5\n",
                  "Content: This is a string 6\n",
                  "Content: This is a string 7\n",
                  "Content: This is a string 8\n",
                  "Content: This is a string 9\n",
                  "\n",
                  "\n",
                  "Content: This is a string 0\n",
                  "Content: This is a string 1\n",
                  "\n",
                  "17\n",
                  "\n",
                  "Content: This is a string 0\n",
                  "Content: This is a string 1\n",
                  "Content: This is a string 2\n",
                  "Content: This is a string 3\n",
                  "Content: This is a string 4\n",
                  "Content: This is a string 5\n",
                  "Content: This is a string 6\n",
                  "Content: This is a string 7\n",
                  "Content: This is a string 8\n",
                  "Content: This is a string 9\n",
                  "\n",
                  "\n",
                  "Content: This is a string 0\n",
                  "Content: This is a string 1\n",
                  "\n",
                  "17\n",
                  "\n",
                  "Content: This is a string 0\n",
                  "Content: This is a string 1\n",
                  "Content: This is a string 2\n",
                  "Content: This is a string 3\n",
                  "Content: This is a string 4\n",
                  "Content: This is a string 5\n",
                  "Content: This is a string 6\n",
                  "Content: This is a string 7\n",
                  "Content: This is a string 8\n",
                  "Content: This is a string 9\n",
                  "\n",
                  "\n",
                  "Content: This is a string 0\n",
                  "Content: This is a string 1\n",
                  "\n",
                  "17\n",
                  "\n",
                  "Content: This is a string 0\n",
                  "Content: This is a string 1\n",
                  "Content: This is a string 2\n",
                  "Content: This is a string 3\n",
                  "Content: This is a string 4\n",
                  "Content: This is a string 5\n",
                  "Content: This is a string 6\n",
                  "Content: This is a string 7\n",
                  "Content: This is a string 8\n",
                  "Content: This is a string 9\n",
                  "\n",
                  "\n",
                  "Content: This is a string 0\n",
                  "Content: This is a string 1\n",
                  "\n",
                  "17\n",
                  "\n",
                  "Content: This is a string 0\n",
                  "Content: This is a string 1\n",
                  "Content: This is a string 2\n",
                  "Content: This is a string 3\n",
                  "Content: This is a string 4\n",
                  "Content: This is a string 5\n",
                  "Content: This is a string 6\n",
                  "Content: This is a string 7\n",
                  "Content: This is a string 8\n",
                  "Content: This is a string 9\n",
                  "\n",
                  "\n",
                  "Content: This is a string 0\n",
                  "Content: This is a string 1\n",
                  "\n",
                  "17\n",
                  "\n",
                  "Content: This is a string 0\n",
                  "Content: This is a string 1\n",
                  "Content: This is a string 2\n",
                  "Content: This is a string 3\n",
                  "Content: This is a string 4\n",
                  "Content: This is a string 5\n",
                  "Content: This is a string 6\n",
                  "Content: This is a string 7\n",
                  "Content: This is a string 8\n",
                  "Content: This is a string 9\n",
                  "\n",
                  "\n",
                  "Content: This is a string 0\n",
                  "Content: This is a string 1\n",
                  "\n",
                  "17\n",
                  "\n",
                  "Content: This is a string 0\n",
                  "Content: This is a string 1\n",
                  "Content: This is a string 2\n",
                  "Content: This is a string 3\n",
                  "Content: This is a string 4\n",
                  "Content: This is a string 5\n",
                  "Content: This is a string 6\n",
                  "Content: This is a string 7\n",
                  "Content: This is a string 8\n",
                  "Content: This is a string 9\n",
                  "\n",
                  "\n",
                  "Content: This is a string 0\n",
                  "Content: This is a string 1\n",
                  "\n",
                  "17\n",
                  "\n",
                  "Content: This is a string 0\n",
                  "Content: This is a string 1\n",
                  "Content: This is a string 2\n",
                  "Content: This is a string 3\n",
                  "Content: This is a string 4\n",
                  "Content: This is a string 5\n",
                  "Content: This is a string 6\n",
                  "Content: This is a string 7\n",
                  "Content: This is a string 8\n",
                  "Content: This is a string 9\n",
                  "\n",
                  "\n",
                  "Content: This is a string 0\n",
                  "Content: This is a string 1\n",
                  "\n",
                  "17\n",
                  "\n",
                  "Content: This is a string 0\n",
                  "Content: This is a string 1\n",
                  "Content: This is a string 2\n",
                  "Content: This is a string 3\n",
                  "Content: This is a string 4\n",
                  "Content: This is a string 5\n",
                  "Content: This is a string 6\n",
                  "Content: This is a string 7\n",
                  "Content: This is a string 8\n",
                  "Content: This is a string 9\n",
                  "\n",
                  "\n",
                  "Content: This is a string 0\n",
                  "Content: This is a string 1\n",
                  "\n",
                  "17\n",
                  "\n",
                  "Content: This is a string 0\n",
                  "Content: This is a string 1\n",
                  "Content: This is a string 2\n",
                  "Content: This is a string 3\n",
                  "Content: This is a string 4\n",
                  "Content: This is a string 5\n",
                  "Content: This is a string 6\n",
                  "Content: This is a string 7\n",
                  "Content: This is a string 8\n",
                  "Content: This is a string 9\n",
                  "\n",
                  "\n",
                  "Content: This is a string 0\n",
                  "Content: This is a string 1\n",
                  "\n",
                  "17\n",
                  "\n",
                  "Content: This is a string 0\n",
                  "Content: This is a string 1\n",
                  "Content: This is a string 2\n",
                  "Content: This is a string 3\n",
                  "Content: This is a string 4\n",
                  "Content: This is a string 5\n",
                  "Content: This is a string 6\n",
                  "Content: This is a string 7\n",
                  "Content: This is a string 8\n",
                  "Content: This is a string 9\n",
                  "\n",
                  "\n",
                  "Content: This is a string 0\n",
                  "Content: This is a string 1\n",
                  "\n",
                  "17\n",
                  "\n",
                  "Content: This is a string 0\n",
                  "Content: This is a string 1\n",
                  "Content: This is a string 2\n",
                  "Content: This is a string 3\n",
                  "Content: This is a string 4\n",
                  "Content: This is a string 5\n",
                  "Content: This is a string 6\n",
                  "Content: This is a string 7\n",
                  "Content: This is a string 8\n",
                  "Content: This is a string 9\n",
                  "\n",
                  "\n",
                  "Content: This is a string 0\n",
                  "Content: This is a string 1\n",
                  "\n",
                  "17\n",
                  "\n",
                  "Content: This is a string 0\n",
                  "Content: This is a string 1\n",
                  "Content: This is a string 2\n",
                  "Content: This is a string 3\n",
                  "Content: This is a string 4\n",
                  "Content: This is a string 5\n",
                  "Content: This is a string 6\n",
                  "Content: This is a string 7\n",
                  "Content: This is a string 8\n",
                  "Content: This is a string 9\n",
                  "\n",
                  "\n",
                  "Content: This is a string 0\n",
                  "Content: This is a string 1\n",
                  "\n",
                  "17\n",
                  "\n",
                  "Content: This is a string 0\n",
                  "Content: This is a string 1\n",
                  "Content: This is a string 2\n",
                  "Content: This is a string 3\n",
                  "Content: This is a string 4\n",
                  "Content: This is a string 5\n",
                  "Content: This is a string 6\n",
                  "Content: This is a string 7\n",
                  "Content: This is a string 8\n",
                  "Content: This is a string 9\n",
                  "\n",
                  "\n",
                  "Content: This is a string 0\n",
                  "Content: This is a string 1\n",
                  "\n",
                  "17\n",
                  "\n",
                  "Content: This is a string 0\n",
                  "Content: This is a string 1\n",
                  "Content: This is a string 2\n",
                  "Content: This is a string 3\n",
                  "Content: This is a string 4\n",
                  "Content: This is a string 5\n",
                  "Content: This is a string 6\n",
                  "Content: This is a string 7\n",
                  "Content: This is a string 8\n",
                  "Content: This is a string 9\n",
                  "\n",
                  "\n",
                  "Content: This is a string 0\n",
                  "Content: This is a string 1\n",
                  "\n",
                  "17\n",
                  "\n",
                  "Content: This is a string 0\n",
                  "Content: This is a string 1\n",
                  "Content: This is a string 2\n",
                  "Content: This is a string 3\n",
                  "Content: This is a string 4\n",
                  "Content: This is a string 5\n",
                  "Content: This is a string 6\n",
                  "Content: This is a string 7\n",
                  "Content: This is a string 8\n",
                  "Content: This is a string 9\n",
                  "\n",
                  "\n",
                  "Content: This is a string 0\n",
                  "Content: This is a string 1\n",
                  "\n",
                  "17\n",
                  "\n",
                  "Content: This is a string 0\n",
                  "Content: This is a string 1\n",
                  "Content: This is a string 2\n",
                  "Content: This is a string 3\n",
                  "Content: This is a string 4\n",
                  "Content: This is a string 5\n",
                  "Content: This is a string 6\n",
                  "Content: This is a string 7\n",
                  "Content: This is a string 8\n",
                  "Content: This is a string 9\n",
                  "\n",
                  "\n",
                  "Content: This is a string 0\n",
                  "Content: This is a string 1\n",
                  "\n",
                  "17\n",
                  "\n",
                  "Content: This is a string 0\n",
                  "Content: This is a string 1\n",
                  "Content: This is a string 2\n",
                  "Content: This is a string 3\n",
                  "Content: This is a string 4\n",
                  "Content: This is a string 5\n",
                  "Content: This is a string 6\n",
                  "Content: This is a string 7\n",
                  "Content: This is a string 8\n",
                  "Content: This is a string 9\n",
                  "\n",
                  "\n",
                  "Content: This is a string 0\n",
                  "Content: This is a string 1\n",
                  "\n",
                  "17\n",
                  "\n",
                  "Content: This is a string 0\n",
                  "Content: This is a string 1\n",
                  "Content: This is a string 2\n",
                  "Content: This is a string 3\n",
                  "Content: This is a string 4\n",
                  "Content: This is a string 5\n",
                  "Content: This is a string 6\n",
                  "Content: This is a string 7\n",
                  "Content: This is a string 8\n",
                  "Content: This is a string 9\n",
                  "\n",
                  "\n",
                  "Content: This is a string 0\n",
                  "Content: This is a string 1\n",
                  "\n",
                  "17\n",
                  "\n",
                  "Content: This is a string 0\n",
                  "Content: This is a string 1\n",
                  "Content: This is a string 2\n",
                  "Content: This is a string 3\n",
                  "Content: This is a string 4\n",
                  "Content: This is a string 5\n",
                  "Content: This is a string 6\n",
                  "Content: This is a string 7\n",
                  "Content: This is a string 8\n",
                  "Content: This is a string 9\n",
                  "\n",
                  "\n",
                  "Content: This is a string 0\n",
                  "Content: This is a string 1\n",
                  "\n",
                  "17\n",
                  "\n",
                  "Content: This is a string 0\n",
                  "Content: This is a string 1\n",
                  "Content: This is a string 2\n",
                  "Content: This is a string 3\n",
                  "Content: This is a string 4\n",
                  "Content: This is a string 5\n",
                  "Content: This is a string 6\n",
                  "Content: This is a string 7\n",
                  "Content: This is a string 8\n",
                  "Content: This is a string 9\n",
                  "\n",
                  "\n",
                  "Content: This is a string 0\n",
                  "Content: This is a string 1\n",
                  "\n",
                  "17\n",
                  "\n",
                  "Content: This is a string 0\n",
                  "Content: This is a string 1\n",
                  "Content: This is a string 2\n",
                  "Content: This is a string 3\n",
                  "Content: This is a string 4\n",
                  "Content: This is a string 5\n",
                  "Content: This is a string 6\n",
                  "Content: This is a string 7\n",
                  "Content: This is a string 8\n",
                  "Content: This is a string 9\n",
                  "\n",
                  "\n",
                  "Content: This is a string 0\n",
                  "Content: This is a string 1\n",
                  "\n",
                  "17\n",
                  "\n",
                  "Content: This is a string 0\n",
                  "Content: This is a string 1\n",
                  "Content: This is a string 2\n",
                  "Content: This is a string 3\n",
                  "Content: This is a string 4\n",
                  "Content: This is a string 5\n",
                  "Content: This is a string 6\n",
                  "Content: This is a string 7\n",
                  "Content: This is a string 8\n",
                  "Content: This is a string 9\n",
                  "\n",
                  "\n",
                  "Content: This is a string 0\n",
                  "Content: This is a string 1\n",
                  "\n",
                  "17\n",
                  "\n",
                  "Content: This is a string 0\n",
                  "Content: This is a string 1\n",
                  "Content: This is a string 2\n",
                  "Content: This is a string 3\n",
                  "Content: This is a string 4\n",
                  "Content: This is a string 5\n",
                  "Content: This is a string 6\n",
                  "Content: This is a string 7\n",
                  "Content: This is a string 8\n",
                  "Content: This is a string 9\n",
                  "\n",
                  "\n",
                  "Content: This is a string 0\n",
                  "Content: This is a string 1\n",
                  "\n",
                  "17\n",
                  "\n",
                  "Content: This is a string 0\n",
                  "Content: This is a string 1\n",
                  "Content: This is a string 2\n",
                  "Content: This is a string 3\n",
                  "Content: This is a string 4\n",
                  "Content: This is a string 5\n",
                  "Content: This is a string 6\n",
                  "Content: This is a string 7\n",
                  "Content: This is a string 8\n",
                  "Content: This is a string 9\n",
                  "\n",
                  "\n",
                  "Content: This is a string 0\n",
                  "Content: This is a string 1\n",
                  "\n",
                  "17\n",
                  "\n",
                  "Content: This is a string 0\n",
                  "Content: This is a string 1\n",
                  "Content: This is a string 2\n",
                  "Content: This is a string 3\n",
                  "Content: This is a string 4\n",
                  "Content: This is a string 5\n",
                  "Content: This is a string 6\n",
                  "Content: This is a string 7\n",
                  "Content: This is a string 8\n",
                  "Content: This is a string 9\n",
                  "\n",
                  "\n",
                  "Content: This is a string 0\n",
                  "Content: This is a string 1\n",
                  "\n",
                  "17\n",
                  "\n",
                  "Content: This is a string 0\n",
                  "Content: This is a string 1\n",
                  "Content: This is a string 2\n",
                  "Content: This is a string 3\n",
                  "Content: This is a string 4\n",
                  "Content: This is a string 5\n",
                  "Content: This is a string 6\n",
                  "Content: This is a string 7\n",
                  "Content: This is a string 8\n",
                  "Content: This is a string 9\n",
                  "\n",
                  "\n",
                  "Content: This is a string 0\n",
                  "Content: This is a string 1\n",
                  "\n",
                  "17\n",
                  "\n",
                  "Content: This is a string 0\n",
                  "Content: This is a string 1\n",
                  "Content: This is a string 2\n",
                  "Content: This is a string 3\n",
                  "Content: This is a string 4\n",
                  "Content: This is a string 5\n",
                  "Content: This is a string 6\n",
                  "Content: This is a string 7\n",
                  "Content: This is a string 8\n",
                  "Content: This is a string 9\n",
                  "\n",
                  "\n",
                  "Content: This is a string 0\n",
                  "Content: This is a string 1\n",
                  "\n",
                  "17\n",
                  "\n",
                  "Content: This is a string 0\n",
                  "Content: This is a string 1\n",
                  "Content: This is a string 2\n",
                  "Content: This is a string 3\n",
                  "Content: This is a string 4\n",
                  "Content: This is a string 5\n",
                  "Content: This is a string 6\n",
                  "Content: This is a string 7\n",
                  "Content: This is a string 8\n",
                  "Content: This is a string 9\n",
                  "\n",
                  "\n",
                  "Content: This is a string 0\n",
                  "Content: This is a string 1\n",
                  "\n",
                  "32.9 ms ± 349 µs per loop (mean ± std. dev. of 7 runs, 10 loops each)\n"
               ]
            }
         ],
         "source": [
            "%%bash\n",
            "gcc lstclear_test.c -g -L../libft -lft\n",
            "./a.out"
         ]
      },
      {
         "cell_type": "markdown",
         "metadata": {},
         "source": [
            "#### lstiter"
         ]
      },
      {
         "cell_type": "markdown",
         "metadata": {},
         "source": [
            "##### ft_lstiter.c"
         ]
      },
      {
         "cell_type": "code",
         "execution_count": 26,
         "metadata": {},
         "outputs": [
            {
               "name": "stdout",
               "output_type": "stream",
               "text": [
                  "Overwriting ../libft/ft_lstiter.c\n"
               ]
            }
         ],
         "source": [
            "%%file ../libft/ft_lstiter.c\n",
            "/* ************************************************************************** */\n",
            "/*                                                                            */\n",
            "/*                                                        :::      ::::::::   */\n",
            "/*   ft_lstiter.c                                       :+:      :+:    :+:   */\n",
            "/*                                                    +:+ +:+         +:+     */\n",
            "/*   By: dpentlan <dpentlan@student.42.fr>          +#+  +:+       +#+        */\n",
            "/*                                                +#+#+#+#+#+   +#+           */\n",
            "/*   Created: 2022/11/28 12:03:07 by dpentlan          #+#    #+#             */\n",
            "/*   Updated: 2022/11/28 12:03:10 by dpentlan         ###   ########.fr       */\n",
            "/*                                                                            */\n",
            "/* ************************************************************************** */\n",
            "\n",
            "#include \"libft.h\"\n",
            "\n",
            "/*  *** ft_lstiter (42 list iterate) ***\n",
            " *\n",
            " *  Iterates the list 'lst' and applies the function 'f' on the content of each\n",
            " *  node.\n",
            " *  Returns nothing.\n",
            " */\n",
            "\n",
            "void\tft_lstiter(t_list *lst, void (*f)(void *))\n",
            "{\n",
            "\twhile (lst)\n",
            "\t{\n",
            "\t\tf(lst->content);\n",
            "\t\tlst = lst->next;\n",
            "\t}\n",
            "}\n"
         ]
      },
      {
         "cell_type": "markdown",
         "metadata": {},
         "source": [
            "##### lstiter_test.c"
         ]
      },
      {
         "cell_type": "code",
         "execution_count": null,
         "metadata": {},
         "outputs": [],
         "source": []
      },
      {
         "cell_type": "markdown",
         "metadata": {},
         "source": [
            "#### lstmap"
         ]
      },
      {
         "cell_type": "markdown",
         "metadata": {},
         "source": [
            "##### ft_lstmap.c"
         ]
      },
      {
         "cell_type": "code",
         "execution_count": 27,
         "metadata": {},
         "outputs": [
            {
               "name": "stdout",
               "output_type": "stream",
               "text": [
                  "Overwriting ../libft/ft_lstmap.c\n"
               ]
            }
         ],
         "source": [
            "%%file ../libft/ft_lstmap.c\n",
            "/* ************************************************************************** */\n",
            "/*                                                                            */\n",
            "/*                                                        :::      ::::::::   */\n",
            "/*   ft_lstmap.c                                        :+:      :+:    :+:   */\n",
            "/*                                                    +:+ +:+         +:+     */\n",
            "/*   By: dpentlan <dpentlan@student.42.fr>          +#+  +:+       +#+        */\n",
            "/*                                                +#+#+#+#+#+   +#+           */\n",
            "/*   Created: 2022/11/28 12:03:16 by dpentlan          #+#    #+#             */\n",
            "/*   Updated: 2022/11/28 12:03:17 by dpentlan         ###   ########.fr       */\n",
            "/*                                                                            */\n",
            "/* ************************************************************************** */\n",
            "\n",
            "#include \"libft.h\"\n",
            "\n",
            "/*  *** ft_lstmap (42 list map) ***\n",
            " *\n",
            " *  Iterates the list 'lst' and applies the function 'f' on the content of\n",
            " *  each node. Creates a new list resulting of the successive applications of\n",
            " *  the function 'f'. The 'del' function is used to delete the content of the \n",
            " *  node if needed.\n",
            " *  Returns a pointer to first element in the new list.\n",
            " */\n",
            "\n",
            "t_list\t*ft_lstmap(t_list *lst, void *(*f)(void *), void (*del)(void *))\n",
            "{\n",
            "\tt_list\t*node_new;\n",
            "\tt_list\t*first_new;\n",
            "\n",
            "\tfirst_new = 0;\n",
            "\tnode_new = 0;\n",
            "\twhile (lst)\n",
            "\t{\n",
            "\t\tnode_new = ft_lstnew(f(lst->content));\n",
            "\t\tif (!node_new)\n",
            "\t\t{\n",
            "\t\t\tft_lstclear(&first_new, del);\n",
            "\t\t\treturn (0);\n",
            "\t\t}\n",
            "\t\tft_lstadd_back(&first_new, node_new);\n",
            "\t\tlst = lst->next;\n",
            "\t}\n",
            "\treturn (first_new);\n",
            "}"
         ]
      },
      {
         "cell_type": "markdown",
         "metadata": {},
         "source": [
            "##### lstmap_test.c"
         ]
      },
      {
         "cell_type": "code",
         "execution_count": null,
         "metadata": {},
         "outputs": [],
         "source": []
      },
      {
         "cell_type": "markdown",
         "metadata": {},
         "source": [
            "## Makefile"
         ]
      },
      {
         "cell_type": "markdown",
         "metadata": {},
         "source": [
            "#### Makefile\n",
            "- Since this is my first real makefile, here are some notes.\n",
            "\t- $(SRCS:.c=.0)\n",
            "\t\t- The colon indicates a suffex replacement.\n",
            "\t\t- For each item in SRCS, when a filename ends in .c replace that with .o\n",
            "\t- gcc -c compiler flag\n",
            "\t\t-c means compile to an object file, but do not link.\n",
            "\t- $<\n",
            "\t\t- means the first dependency listed from the above line\n",
            "\t\t\t```\n",
            "\t\t\t%.o: %.c\n",
            "\t\t\t\t$(CC) ${CFLAGS} -c $< -o ${<:.c=.o}\n",
            "\t\t\t```\n",
            "\t\t- Here it means replace $< with %.c\n",
            "\t\t- It's also being used with the suffex replacement in ${<:.c=.o}\n",
            "\t- @\n",
            "\t\t- Any line that starts with @ means dont show command on terminal when executing.\n",
            "\t\t- With this you can hide large commands"
         ]
      },
      {
         "cell_type": "code",
         "execution_count": 14,
         "metadata": {},
         "outputs": [
            {
               "name": "stdout",
               "output_type": "stream",
               "text": [
                  "Overwriting ../libft/Makefile\n"
               ]
            }
         ],
         "source": [
            "%%file ../libft/Makefile\n",
            "# **************************************************************************** #\n",
            "#                                                                              #\n",
            "#                                                         :::      ::::::::    #\n",
            "#    Makefile                                           :+:      :+:    :+:    #\n",
            "#                                                     +:+ +:+         +:+      #\n",
            "#    By: dpentlan <dpentlan@student.42.fr>          +#+  +:+       +#+         #\n",
            "#                                                 +#+#+#+#+#+   +#+            #\n",
            "#    Created: 2022/11/07 14:36:56 by dpentlan          #+#    #+#              #\n",
            "#    Updated: 2022/11/07 14:36:58 by dpentlan         ###   ########.fr        #\n",
            "#                                                                              #\n",
            "# **************************************************************************** #\n",
            "\n",
            ".DEFAULT_GOAL = all\n",
            "\n",
            "NAME = libft.a\n",
            "\n",
            "# ***** Sources *****\n",
            "\n",
            "SRCS =\tft_isalpha.c \\\n",
            "\tft_isdigit.c \\\n",
            "\tft_isalnum.c \\\n",
            "\tft_isascii.c \\\n",
            "\tft_isprint.c \\\n",
            "\tft_strlen.c \\\n",
            "\tft_memset.c \\\n",
            "\tft_bzero.c \\\n",
            "\tft_memcpy.c \\\n",
            "\tft_memmove.c \\\n",
            "\tft_strlcpy.c \\\n",
            "\tft_strlcat.c \\\n",
            "\tft_toupper.c \\\n",
            "\tft_tolower.c \\\n",
            "\tft_strchr.c \\\n",
            "\tft_strrchr.c \\\n",
            "\tft_strncmp.c \\\n",
            "\tft_memchr.c \\\n",
            "\tft_memcmp.c \\\n",
            "\tft_strnstr.c \\\n",
            "\tft_atoi.c \\\n",
            "\tft_calloc.c \\\n",
            "\tft_strdup.c \\\n",
            "\tft_substr.c \\\n",
            "\tft_strjoin.c \\\n",
            "\tft_strtrim.c \\\n",
            "\tft_split.c \\\n",
            "\tft_itoa.c \\\n",
            "\tft_strmapi.c \\\n",
            "\tft_striteri.c \\\n",
            "\tft_putchar_fd.c \\\n",
            "\tft_putstr_fd.c \\\n",
            "\tft_putendl_fd.c \\\n",
            "\tft_putnbr_fd.c \\\n",
            "\t\n",
            "BONUS_SRCS =\tft_lstnew.c \\\n",
            "\tft_lstadd_front.c \\\n",
            "\tft_lstsize.c \\\n",
            "\tft_lstlast.c \\\n",
            "\tft_lstadd_back.c \\\n",
            "\tft_lstdelone.c \\\n",
            "\tft_lstclear.c \\\n",
            "\tft_lstiter.c \\\n",
            "\tft_lstmap.c \\\n",
            "\n",
            "GNL_SRCS = get_next_line_bonus.c \\\n",
            "\tget_next_line_utils_bonus.c \\\n",
            "\n",
            "SRCS_DIR = srcs/mandatory/\n",
            "\n",
            "BONUS_SRCS_DIR = srcs/bonus/\n",
            "\n",
            "GNL_SRCS_DIR = srcs/gnl/\n",
            "\n",
            "# ***** Includes *****\n",
            "\n",
            "INCS = libft.h\n",
            "\n",
            "INCS_DIR = includes/\n",
            "\n",
            "# ***** Objects *****\n",
            "\n",
            "OBJS = $(patsubst %.c,$(OBJS_DIR)%.o,$(SRCS))\n",
            "\n",
            "BONUS_OBJS = $(patsubst %.c,$(BONUS_OBJS_DIR)%.o,$(BONUS_SRCS))\n",
            "\n",
            "GNL_OBJS = $(patsubst %.c,$(GNL_OBJS_DIR)%.o,$(GNL_SRCS))\n",
            "\n",
            "OBJS_DIR = objs/mandatory/\n",
            "\n",
            "BONUS_OBJS_DIR = objs/bonus/\n",
            "\n",
            "GNL_OBJS_DIR = objs/gnl/\n",
            "\n",
            "# ***** Compiler and Archiver *****\n",
            "\n",
            "CFLAGS = -Wall -Wextra -Werror\n",
            "\n",
            "CC = cc\n",
            "\n",
            "SLIB = ar rcs\n",
            "\n",
            "ALL_OBJS = $(OBJS) $(BONUS_OBJS) $(GNL_OBJS)\n",
            "\n",
            "# ***** Build *****\n",
            "\n",
            "all: $(NAME)\n",
            "\n",
            "$(NAME): $(ALL_OBJS)\n",
            "\t$(SLIB) $(NAME) -o $(ALL_OBJS)\n",
            "\n",
            "m: $(OBJS)\n",
            "\t$(SLIB) $(NAME) -o $(OBJS)\n",
            "\n",
            "bonus: $(OBJS) $(BONUS_OBJS)\n",
            "\t$(SLIB) $(NAME) -o $(OBJS) $(BONUS_OBJS)\n",
            "\n",
            "$(OBJS_DIR)%.o: $(SRCS_DIR)%.c\n",
            "\t$(CC) $(CFLAGS) -c -I$(INCS_DIR) $< -o $@\n",
            "\n",
            "$(BONUS_OBJS_DIR)%.o: $(BONUS_SRCS_DIR)%.c\n",
            "\t$(CC) $(CFLAGS) -c -I$(INCS_DIR) $< -o $@\n",
            "\n",
            "$(GNL_OBJS_DIR)%.o: $(GNL_SRCS_DIR)%.c\n",
            "\t$(CC) $(CFLAGS) -c -I$(INCS_DIR) $< -o $@\n",
            "\n",
            "clean:\n",
            "\trm -f $(OBJS) $(BONUS_OBJS) $(GNL_OBJS)\n",
            "\n",
            "fclean:\tclean\n",
            "\trm -f $(NAME)\n",
            "\n",
            "re:\tfclean all\n"
         ]
      },
      {
         "cell_type": "markdown",
         "metadata": {},
         "source": [
            "#### Build Mandatory"
         ]
      },
      {
         "cell_type": "code",
         "execution_count": 4,
         "metadata": {},
         "outputs": [
            {
               "name": "stdout",
               "output_type": "stream",
               "text": [
                  "rm -f ft_isalpha.o ft_isdigit.o ft_isalnum.o ft_isascii.o ft_isprint.o ft_strlen.o ft_memset.o ft_bzero.o ft_memcpy.o ft_memmove.o ft_strlcpy.o ft_strlcat.o ft_toupper.o ft_tolower.o ft_strchr.o ft_strrchr.o ft_strncmp.o ft_memchr.o ft_memcmp.o ft_strnstr.o ft_atoi.o ft_calloc.o ft_strdup.o ft_substr.o ft_strjoin.o ft_strtrim.o ft_split.o ft_itoa.o ft_strmapi.o ft_striteri.o ft_putchar_fd.o ft_putstr_fd.o ft_putendl_fd.o ft_putnbr_fd.o ft_lstnew\n",
                  "rm -f libft.a\n",
                  "cc -Wall -Wextra -Werror -c -g ft_isalpha.c -o ft_isalpha.o\n",
                  "cc -Wall -Wextra -Werror -c -g ft_isdigit.c -o ft_isdigit.o\n",
                  "cc -Wall -Wextra -Werror -c -g ft_isalnum.c -o ft_isalnum.o\n",
                  "cc -Wall -Wextra -Werror -c -g ft_isascii.c -o ft_isascii.o\n",
                  "cc -Wall -Wextra -Werror -c -g ft_isprint.c -o ft_isprint.o\n",
                  "cc -Wall -Wextra -Werror -c -g ft_strlen.c -o ft_strlen.o\n",
                  "cc -Wall -Wextra -Werror -c -g ft_memset.c -o ft_memset.o\n",
                  "cc -Wall -Wextra -Werror -c -g ft_bzero.c -o ft_bzero.o\n",
                  "cc -Wall -Wextra -Werror -c -g ft_memcpy.c -o ft_memcpy.o\n",
                  "cc -Wall -Wextra -Werror -c -g ft_memmove.c -o ft_memmove.o\n",
                  "cc -Wall -Wextra -Werror -c -g ft_strlcpy.c -o ft_strlcpy.o\n",
                  "cc -Wall -Wextra -Werror -c -g ft_strlcat.c -o ft_strlcat.o\n",
                  "cc -Wall -Wextra -Werror -c -g ft_toupper.c -o ft_toupper.o\n",
                  "cc -Wall -Wextra -Werror -c -g ft_tolower.c -o ft_tolower.o\n",
                  "cc -Wall -Wextra -Werror -c -g ft_strchr.c -o ft_strchr.o\n",
                  "cc -Wall -Wextra -Werror -c -g ft_strrchr.c -o ft_strrchr.o\n",
                  "cc -Wall -Wextra -Werror -c -g ft_strncmp.c -o ft_strncmp.o\n",
                  "cc -Wall -Wextra -Werror -c -g ft_memchr.c -o ft_memchr.o\n",
                  "cc -Wall -Wextra -Werror -c -g ft_memcmp.c -o ft_memcmp.o\n",
                  "cc -Wall -Wextra -Werror -c -g ft_strnstr.c -o ft_strnstr.o\n",
                  "cc -Wall -Wextra -Werror -c -g ft_atoi.c -o ft_atoi.o\n",
                  "cc -Wall -Wextra -Werror -c -g ft_calloc.c -o ft_calloc.o\n",
                  "cc -Wall -Wextra -Werror -c -g ft_strdup.c -o ft_strdup.o\n",
                  "cc -Wall -Wextra -Werror -c -g ft_substr.c -o ft_substr.o\n",
                  "cc -Wall -Wextra -Werror -c -g ft_strjoin.c -o ft_strjoin.o\n",
                  "cc -Wall -Wextra -Werror -c -g ft_strtrim.c -o ft_strtrim.o\n",
                  "cc -Wall -Wextra -Werror -c -g ft_split.c -o ft_split.o\n",
                  "cc -Wall -Wextra -Werror -c -g ft_itoa.c -o ft_itoa.o\n",
                  "cc -Wall -Wextra -Werror -c -g ft_strmapi.c -o ft_strmapi.o\n",
                  "cc -Wall -Wextra -Werror -c -g ft_striteri.c -o ft_striteri.o\n",
                  "cc -Wall -Wextra -Werror -c -g ft_putchar_fd.c -o ft_putchar_fd.o\n",
                  "cc -Wall -Wextra -Werror -c -g ft_putstr_fd.c -o ft_putstr_fd.o\n",
                  "cc -Wall -Wextra -Werror -c -g ft_putendl_fd.c -o ft_putendl_fd.o\n",
                  "cc -Wall -Wextra -Werror -c -g ft_putnbr_fd.c -o ft_putnbr_fd.o\n",
                  "ar rcs libft.a -o ft_isalpha.o ft_isdigit.o ft_isalnum.o ft_isascii.o ft_isprint.o ft_strlen.o ft_memset.o ft_bzero.o ft_memcpy.o ft_memmove.o ft_strlcpy.o ft_strlcat.o ft_toupper.o ft_tolower.o ft_strchr.o ft_strrchr.o ft_strncmp.o ft_memchr.o ft_memcmp.o ft_strnstr.o ft_atoi.o ft_calloc.o ft_strdup.o ft_substr.o ft_strjoin.o ft_strtrim.o ft_split.o ft_itoa.o ft_strmapi.o ft_striteri.o ft_putchar_fd.o ft_putstr_fd.o ft_putendl_fd.o ft_putnbr_fd.o\n",
                  "rm -f ft_isalpha.o ft_isdigit.o ft_isalnum.o ft_isascii.o ft_isprint.o ft_strlen.o ft_memset.o ft_bzero.o ft_memcpy.o ft_memmove.o ft_strlcpy.o ft_strlcat.o ft_toupper.o ft_tolower.o ft_strchr.o ft_strrchr.o ft_strncmp.o ft_memchr.o ft_memcmp.o ft_strnstr.o ft_atoi.o ft_calloc.o ft_strdup.o ft_substr.o ft_strjoin.o ft_strtrim.o ft_split.o ft_itoa.o ft_strmapi.o ft_striteri.o ft_putchar_fd.o ft_putstr_fd.o ft_putendl_fd.o ft_putnbr_fd.o ft_lstnew\n",
                  "ft_isalpha.o\n",
                  "ft_isdigit.o\n",
                  "ft_isalnum.o\n",
                  "ft_isascii.o\n",
                  "ft_isprint.o\n",
                  "ft_strlen.o\n",
                  "ft_memset.o\n",
                  "ft_bzero.o\n",
                  "ft_memcpy.o\n",
                  "ft_memmove.o\n",
                  "ft_strlcpy.o\n",
                  "ft_strlcat.o\n",
                  "ft_toupper.o\n",
                  "ft_tolower.o\n",
                  "ft_strchr.o\n",
                  "ft_strrchr.o\n",
                  "ft_strncmp.o\n",
                  "ft_memchr.o\n",
                  "ft_memcmp.o\n",
                  "ft_strnstr.o\n",
                  "ft_atoi.o\n",
                  "ft_calloc.o\n",
                  "ft_strdup.o\n",
                  "ft_substr.o\n",
                  "ft_strjoin.o\n",
                  "ft_strtrim.o\n",
                  "ft_split.o\n",
                  "ft_itoa.o\n",
                  "ft_strmapi.o\n",
                  "ft_striteri.o\n",
                  "ft_putchar_fd.o\n",
                  "ft_putstr_fd.o\n",
                  "ft_putendl_fd.o\n",
                  "ft_putnbr_fd.o\n"
               ]
            }
         ],
         "source": [
            "%%bash\n",
            "cd ../libft\n",
            "make re\n",
            "make clean\n",
            "ar -t libft.a"
         ]
      },
      {
         "cell_type": "markdown",
         "metadata": {},
         "source": [
            "#### Build Mandatory and Bonus"
         ]
      },
      {
         "cell_type": "code",
         "execution_count": 73,
         "metadata": {},
         "outputs": [
            {
               "name": "stdout",
               "output_type": "stream",
               "text": [
                  "ft_putnbr_fd.o\n",
                  "ft_lstnew.o\n",
                  "ft_lstadd_front.o\n",
                  "ft_lstsize.o\n",
                  "ft_lstlast.o\n",
                  "ft_lstadd_back.o\n",
                  "ft_lstdelone.o\n",
                  "ft_lstclear.o\n",
                  "ft_lstiter.o\n",
                  "ft_lstmap.o\n"
               ]
            }
         ],
         "source": [
            "%%bash \n",
            "cd ../libft\n",
            "make fclean\n",
            "make bonus\n",
            "make clean\n",
            "ar -t libft.a | tail -10"
         ]
      },
      {
         "cell_type": "markdown",
         "metadata": {},
         "source": [
            "## Mini Moulinette"
         ]
      },
      {
         "cell_type": "code",
         "execution_count": 1,
         "metadata": {
            "tags": []
         },
         "outputs": [],
         "source": [
            "import string #Python module for strings. It contains a collection of string constants\n",
            "import random #Python's module for generating random objects\n",
            "import os"
         ]
      },
      {
         "cell_type": "code",
         "execution_count": 2,
         "metadata": {},
         "outputs": [],
         "source": [
            "settings = {\"C tester path\": \"strjoin_test.c\",\n",
            "\t\t\t\"libft path\": \"../libft/\",\n",
            "\t\t\t\"word_list size\": 1000,\n",
            "\t\t\t\"max word len\": 30,\n",
            "\t\t\t\"csv header\": \"\",\n",
            "\t\t\t\"extra libs\": \"\",\n",
            "}"
         ]
      },
      {
         "cell_type": "code",
         "execution_count": 3,
         "metadata": {},
         "outputs": [
            {
               "data": {
                  "text/plain": [
                     "('!0#$%&000*+0-./:0<=>?@[0]^_`{|}~', ' \\t\\n\\r\\x0b\\x0c', '+- ')"
                  ]
               },
               "execution_count": 3,
               "metadata": {},
               "output_type": "execute_result"
            }
         ],
         "source": [
            "lowercase_letters = string.ascii_lowercase #A constant containing lowercase letters\n",
            "uppercase_letters = string.ascii_uppercase #A constant containing uppercase letters\n",
            "digits = string.digits\n",
            "symbols = string.punctuation\n",
            "symbols = symbols.replace('\"', '0')\n",
            "symbols = symbols.replace(\"'\", '0')\n",
            "symbols = symbols.replace('\\\\', '0')\n",
            "symbols = symbols.replace(',', '0')\n",
            "symbols = symbols.replace(';', '0')\n",
            "symbols = symbols.replace('(', '0')\n",
            "symbols = symbols.replace(')', '0')\n",
            "whitespace = string.whitespace\n",
            "sign = \"+- \"\n",
            "custom_word_symbols = lowercase_letters + uppercase_letters + digits + symbols\n",
            "\n",
            "\n",
            "def uppercase_word(): #The function responsible for generating #random words which are in uppercase\n",
            "    word = '' #The variable which will hold the random word\n",
            "    random_word_length = random.randint(1,settings[\"max word len\"]) #The random length of the word\n",
            "    while len(word) != random_word_length: #While loop\n",
            "        word += random.choice(uppercase_letters)\n",
            "    return word\n",
            "\n",
            "\n",
            "def lowercase_word(): #The function responsible for generating #random words which are in uppercase\n",
            "    word = '' #The variable which will hold the random word\n",
            "    random_word_length = random.randint(1,settings[\"max word len\"]) #The random length of the word\n",
            "    while len(word) != random_word_length: #While loop\n",
            "        word += random.choice(lowercase_letters)\n",
            "    return word\n",
            "    \n",
            "\n",
            "def custom_word(): # This function generates a word with any mix of characters you like.\n",
            "    word = '' #The variable which will hold the random word\n",
            "    random_word_length = random.randint(1,settings[\"max word len\"]) #The random length of the word\n",
            "    while len(word) != random_word_length: #While loop\n",
            "        word += random.choice(lowercase_letters + uppercase_letters + digits)\n",
            "    return word\n",
            "\n",
            "\n",
            "def digit_word():\n",
            "    word = '' #The variable which will hold the random word\n",
            "    random_word_length = random.randint(1,settings[\"max word len\"]) #The random length of the word\n",
            "    while len(word) != random_word_length: #While loop\n",
            "        word += random.choice(digits + whitespace)\n",
            "    return word\n",
            "\n",
            "symbols, whitespace, sign"
         ]
      },
      {
         "cell_type": "code",
         "execution_count": 4,
         "metadata": {},
         "outputs": [],
         "source": [
            "def input_args(item, item2):\n",
            "\tchoice = random.choice(item)\n",
            "\trand_number1 = random.randint(0, len(item))\n",
            "\trand_number2 = random.randint(0, len(item))\n",
            "\trand_letter1 = random.randint(1, len(item))\n",
            "\trand_letter2 = random.randint(1, len(item))\n",
            "\tws_str = ''\n",
            "\tdigit_str = ''\n",
            "\tfor element in range(random.randint(0, 15)):\n",
            "\t\tws_str += random.choice(\" \")\n",
            "\tfor element in range(random.randint(10, 19)):\n",
            "\t\tdigit_str += random.choice(digits + \" \")\n",
            "\t\n",
            "\t\n",
            "\treturn_string = item + \" \" + item2\n",
            "\treturn return_string"
         ]
      },
      {
         "cell_type": "code",
         "execution_count": 5,
         "metadata": {},
         "outputs": [],
         "source": [
            "word_list = []\n",
            "\n",
            "for item in range(int(settings[\"word_list size\"])):\t\t\t\t\t\t# Generate wordlist 200 long. 100 upper case and 100 lower case\n",
            "\t# word_list.append(uppercase_word())\n",
            "\t# word_list.append(lowercase_word())\n",
            "\tword_list.append(custom_word())\t\t\t\t# get ready for syntax errors if you use this! lol\n",
            "\t# word_list.append(digit_word())"
         ]
      },
      {
         "cell_type": "code",
         "execution_count": 6,
         "metadata": {},
         "outputs": [],
         "source": [
            "word_list_2 = []\n",
            "\n",
            "for item in range(int(settings[\"word_list size\"])):\t\t\t\t\t\t# Generate wordlist 200 long. 100 upper case and 100 lower case\n",
            "\t# word_list.append(uppercase_word())\n",
            "\t# word_list.append(lowercase_word())\n",
            "\tword_list_2.append(custom_word())\t\t\t\t# get ready for syntax errors if you use this! lol\n",
            "\t# word_list.append(digit_word())"
         ]
      },
      {
         "cell_type": "code",
         "execution_count": 8,
         "metadata": {},
         "outputs": [
            {
               "ename": "IndentationError",
               "evalue": "unexpected indent (1600624957.py, line 3)",
               "output_type": "error",
               "traceback": [
                  "\u001b[0;36m  Cell \u001b[0;32mIn [8], line 3\u001b[0;36m\u001b[0m\n\u001b[0;31m    file_wl.write(f\"{item}\\n\")\u001b[0m\n\u001b[0m    ^\u001b[0m\n\u001b[0;31mIndentationError\u001b[0m\u001b[0;31m:\u001b[0m unexpected indent\n"
               ]
            }
         ],
         "source": [
            "with open(\"word_list.txt\", \"w\") as file_wl:\t\t# open file to save word_list\n",
            "\tfor item in word_list:\n",
            "\t\tfile_wl.write(f\"{item}\\n\")"
         ]
      },
      {
         "cell_type": "code",
         "execution_count": 110,
         "metadata": {},
         "outputs": [
            {
               "name": "stdout",
               "output_type": "stream",
               "text": [
                  "Appending to strjoin_test.py\n"
               ]
            }
         ],
         "source": [
            "with open(\"word_list_2.txt\", \"w\") as file_wl:\t\t# open file to save word_list\n",
            "\tfor item in word_list_2:\n",
            "\t\tfile_wl.write(f\"{item}\\n\")"
         ]
      },
      {
         "cell_type": "code",
         "execution_count": 111,
         "metadata": {},
         "outputs": [
            {
               "name": "stdout",
               "output_type": "stream",
               "text": [
                  "Appending to strjoin_test.py\n"
               ]
            }
         ],
         "source": [
            "os.system(f\"gcc {settings['C tester path']} -L{settings['libft path']} -lft {settings['extra libs']}\")\t\t# compile *_test.c Adjust path as needed."
         ]
      },
      {
         "cell_type": "code",
         "execution_count": 112,
         "metadata": {},
         "outputs": [
            {
               "name": "stdout",
               "output_type": "stream",
               "text": [
                  "Appending to strjoin_test.py\n"
               ]
            }
         ],
         "source": [
            "settings[\"csv header\"] = os.system(\"./a.out 0 > header.txt\")\n",
            "with open(\"header.txt\", \"r\") as fl:\n",
            "\tlines = fl.readlines()\n",
            "\tsettings[\"csv header\"] = f\"{lines[0]}\\n\"\n",
            "os.system('rm header.txt')\n",
            "settings[\"csv header\"]"
         ]
      },
      {
         "cell_type": "code",
         "execution_count": 113,
         "metadata": {},
         "outputs": [
            {
               "name": "stdout",
               "output_type": "stream",
               "text": [
                  "Appending to strjoin_test.py\n"
               ]
            }
         ],
         "source": [
            "with open(\"output_OF.csv\", \"w\") as OF:\n",
            "    OF.write(settings[\"csv header\"])\n",
            "with open(\"output_ft.csv\", \"w\") as ft:\n",
            "    ft.write(settings[\"csv header\"])\n",
            "for item in range(settings['word_list size']):\n",
            "    input_string = input_args(word_list[item], word_list_2[item])\n",
            "    os.system(f\"./a.out 1 {input_string} >> output_OF.csv\")\n",
            "    os.system(f\"./a.out 2 {input_string} >> output_ft.csv\")"
         ]
      },
      {
         "cell_type": "code",
         "execution_count": 114,
         "metadata": {},
         "outputs": [
            {
               "name": "stdout",
               "output_type": "stream",
               "text": [
                  "Appending to strjoin_test.py\n"
               ]
            }
         ],
         "source": [
            "if (os.system(f\"diff output_OF.csv output_ft.csv\") == 0):\n",
            "\tprint(\"Congrats! No diff!\")"
         ]
      },
      {
         "cell_type": "markdown",
         "metadata": {},
         "source": [
            "## Scratch"
         ]
      },
      {
         "cell_type": "markdown",
         "metadata": {},
         "source": [
            "### Structs"
         ]
      },
      {
         "cell_type": "markdown",
         "metadata": {},
         "source": [
            "#### Struct Definitions and typedef"
         ]
      },
      {
         "cell_type": "code",
         "execution_count": 31,
         "metadata": {},
         "outputs": [
            {
               "name": "stdout",
               "output_type": "stream",
               "text": [
                  "Overwriting playing_with_structs.c\n"
               ]
            }
         ],
         "source": [
            "%%file playing_with_structs.c\n",
            "#include \"../libft/libft.h\"\n",
            "#include <stdio.h>\n",
            "\n",
            "typedef struct s_list_local\n",
            "{\n",
            "\tvoid\t\t\t\t*content;\n",
            "\tstruct s_list_local\t*next;\n",
            "}\t\t\t\t\t\tt_list_local;\n",
            "\n",
            "typedef int\t\t\t\tnew_int;\n",
            "\n",
            "struct\ts_list_1\n",
            "{\n",
            "\tvoid\t\t\t*content;\n",
            "\tstruct s_list_1\t*next;\n",
            "};\n",
            "\n",
            "struct s_list_2\n",
            "{\n",
            "\tvoid\t\t\t*content;\n",
            "\tstruct s_list_local\t*next;\n",
            "\tint\t\t\tn;\n",
            "}\t\t\t\t\tt_list_2;\n",
            "\n",
            "int main (void)\n",
            "{\n",
            "\tprintf(\"size of int:\\t\\t\\t%ld\\n\", sizeof(int));\n",
            "\tprintf(\"size of pointer:\\t\\t%ld\\n\", sizeof(char *));\n",
            "\tprintf(\"size of s_list_local:\\t\\t%ld\\n\", sizeof(t_list_local));\n",
            "\tprintf(\"size of new_int:\\t\\t%ld\\n\", sizeof(new_int));\n",
            "\n",
            "// Does not work because s_list_1 alone is not the name of the struct. The whole name is \"struct s_list_1\"\n",
            "//\tprintf(\"size of s_list_1:\\t%ld\\n\", sizeof(s_list_1));\n",
            "\tprintf(\"size of struct s_list_1:\\t%ld\\n\", sizeof(struct s_list_1));\n",
            "\n",
            "// We can define new types with typedef. This is like an alias so we dont have to type so much.\n",
            "\tint n;\t\n",
            "\n",
            "\tn = 0;\n",
            "// n is an instance of an int and is initialized so it has a size.\n",
            "\tprintf(\"size of n:\\t\\t\\t%ld\\n\", sizeof(n));\n",
            "\n",
            "// t_list_2 is an initialized instance of s_list_2\n",
            "\tprintf(\"size of t_list_2:\\t\\t%ld\\n\", sizeof(t_list_2));\n",
            "\n",
            "// Becuase t_list_2 is an initialized instance of struct s_list_2, we can access it's content\n",
            "\t//printf(\"value of t_list_2.content:\\t%p\\n\", t_list_2.content);\n",
            "// We cannot access the content of a type (struct s_list_1) because it is not initialized yet.\n",
            "\t//printf(\"value of struct s_list_1.content: %p\\n\", struct s_list_1.content);\n",
            "// Despite not being initialized, we can get it's size with sizeof.\n",
            "\tprintf(\"size of struct s_list_1:\\t%ld\\n\", sizeof(struct s_list_1));\n",
            "\n",
            "\treturn (0);\n",
            "}"
         ]
      },
      {
         "cell_type": "code",
         "execution_count": 32,
         "metadata": {},
         "outputs": [
            {
               "name": "stdout",
               "output_type": "stream",
               "text": [
                  "size of int:\t\t\t4\n",
                  "size of pointer:\t\t8\n",
                  "size of s_list_local:\t\t16\n",
                  "size of new_int:\t\t4\n",
                  "size of struct s_list_1:\t16\n",
                  "size of n:\t\t\t4\n",
                  "size of t_list_2:\t\t24\n",
                  "size of struct s_list_1:\t16\n"
               ]
            }
         ],
         "source": [
            "%%bash\n",
            "gcc playing_with_structs.c -L../libft -lft\n",
            "./a.out"
         ]
      },
      {
         "cell_type": "markdown",
         "metadata": {},
         "source": [
            "#### Struct member access"
         ]
      },
      {
         "cell_type": "code",
         "execution_count": 37,
         "metadata": {},
         "outputs": [
            {
               "name": "stdout",
               "output_type": "stream",
               "text": [
                  "Overwriting playing_with_structs_2.c\n"
               ]
            }
         ],
         "source": [
            "%%file playing_with_structs_2.c\n",
            "#include \"../libft/libft.h\"\n",
            "#include <stdio.h>\n",
            "\n",
            "struct\ts_list_1\n",
            "{\n",
            "\tvoid\t\t\t*content;\n",
            "\tstruct s_list_1\t*next;\n",
            "};\n",
            "\n",
            "int main (void)\n",
            "{\n",
            "\tstruct s_list_1\t\ts_list_1_init;\n",
            "\tstruct s_list_1\t\t*p_s_list_1_init;\n",
            "\tchar string_1[] = \"This is a happy little string.\";\n",
            "\tchar string_2[] = \"This is string is sad af.\";\n",
            "\t\n",
            "// need to use malloc to initialize p_s_list_1_init since we only created a pointer so far.\n",
            "\tp_s_list_1_init = (struct s_list_1 *)malloc(1 * sizeof(struct s_list_1));\n",
            "\n",
            "\ts_list_1_init.content = string_1;\n",
            "\tp_s_list_1_init->content = string_2;\n",
            "\n",
            "\tprintf(\"Content pointed to by s_list_1_init.content:\\t%s\\n\", (char *)s_list_1_init.content);\n",
            "\tprintf(\"Content pointed to by p_s_list_1_init->content:\\t%s\\n\", (char *)p_s_list_1_init->content);\n",
            "\n",
            "// What's nice about using pointer to structs instead of just structs, is we can use the pointer to link structs together.\n",
            "\tp_s_list_1_init->next = &s_list_1_init;\n",
            "\n",
            "// Now we can access s_list_1_init's content from p_s_list_1_init.\n",
            "\tprintf(\"Content pointed to by s_list_1_init from p_s_list_1_init:\\t%s\\n\", (char *)p_s_list_1_init->next->content);\n",
            "\n",
            "// the pstruct->member operator is the same as *pstruct.member\n",
            "// p_s_list_1_init->content\n",
            "// (*p_s_list_1_init).content\n",
            "\n",
            "\tprintf(\"Result of p_s_list_1_init->content:\\t%s\\n\", (char *)p_s_list_1_init->content);\n",
            "\tprintf(\"Result of *p_s_list_1_init.content:\\t%s\\n\", (char *)(*p_s_list_1_init).content);\n",
            "\n",
            "// However if you wanted to access the content of another struct in a list, the syntax is super annoying if you dont use the -> syntax.\n",
            "\n",
            "\tfree(p_s_list_1_init);\n",
            "\treturn (0);\n",
            "}"
         ]
      },
      {
         "cell_type": "code",
         "execution_count": 38,
         "metadata": {},
         "outputs": [
            {
               "name": "stdout",
               "output_type": "stream",
               "text": [
                  "Content pointed to by s_list_1_init.content:\tThis is a happy little string.\n",
                  "Content pointed to by p_s_list_1_init->content:\tThis is string is sad af.\n",
                  "Content pointed to by s_list_1_init from p_s_list_1_init:\tThis is a happy little string.\n",
                  "Result of p_s_list_1_init->content:\tThis is string is sad af.\n",
                  "Result of *p_s_list_1_init.content:\tThis is string is sad af.\n"
               ]
            }
         ],
         "source": [
            "%%bash\n",
            "gcc playing_with_structs_2.c -L../libft -lft\n",
            "./a.out"
         ]
      },
      {
         "cell_type": "markdown",
         "metadata": {},
         "source": [
            "#### Making a linked list"
         ]
      },
      {
         "cell_type": "code",
         "execution_count": 39,
         "metadata": {},
         "outputs": [
            {
               "name": "stdout",
               "output_type": "stream",
               "text": [
                  "Overwriting playing_with_structs_3.c\n"
               ]
            }
         ],
         "source": [
            "%%file playing_with_structs_3.c\n",
            "#include \"../libft/libft.h\"\n",
            "#include <stdio.h>\n",
            "\n",
            "int main (void)\n",
            "{\n",
            "\tt_list\t*first;\n",
            "\tt_list\t*second;\n",
            "\tt_list\t*third;\n",
            "\n",
            "\tchar string_1[] = \"This is a string\";\n",
            "\tchar string_2[] = \"Second String\";\n",
            "\tchar string_3[] = \"Third String\";\n",
            "\n",
            "\tfirst = (t_list *)malloc(1 * sizeof(t_list));\n",
            "\tsecond = (t_list *)malloc(1 * sizeof(t_list));\n",
            "\tthird = (t_list *)malloc(1 * sizeof(t_list));\n",
            "\n",
            "\tfirst->content = string_1;\n",
            "\tsecond->content = string_2;\n",
            "\tthird->content = string_3;\n",
            "\n",
            "\tfirst->next = second;\n",
            "\tsecond->next = third;\n",
            "\tthird->next = NULL;\n",
            "\t\n",
            "\tprintf(\"Content in first->content:\\t%s\\n\", (char *)first->content);\n",
            "\tprintf(\"Content in second->content:\\t%s\\n\", (char *)second->content);\n",
            "\tprintf(\"Content in third->content:\\t%s\\n\", (char *)third->content);\n",
            "\n",
            "\tprintf(\"Content in first->content:\\t\\t%s\\n\", (char *)first->content);\n",
            "\tprintf(\"Content in first->next->content:\\t%s\\n\", (char *)first->next->content);\n",
            "\tprintf(\"Content in first->next->next->content:\\t%s\\n\", (char *)first->next->next->content);\n",
            "\tprintf(\"Content in first->next->next->next:\\t%s\\n\", (char *)first->next->next->next);\n",
            "\n",
            "\tfree(first);\n",
            "\tfree(second);\n",
            "\tfree(third);\n",
            "\n",
            "\treturn (0);\n",
            "}"
         ]
      },
      {
         "cell_type": "code",
         "execution_count": 40,
         "metadata": {},
         "outputs": [
            {
               "name": "stdout",
               "output_type": "stream",
               "text": [
                  "Content in first->content:\tThis is a string\n",
                  "Content in second->content:\tSecond String\n",
                  "Content in third->content:\tThird String\n",
                  "Content in first->content:\t\tThis is a string\n",
                  "Content in first->next->content:\tSecond String\n",
                  "Content in first->next->next->content:\tThird String\n",
                  "Content in first->next->next->next:\t(null)\n"
               ]
            }
         ],
         "source": [
            "%%bash\n",
            "gcc playing_with_structs_3.c -L../libft -lft\n",
            "./a.out"
         ]
      },
      {
         "cell_type": "markdown",
         "metadata": {},
         "source": [
            "#### Struct sizes and addresses"
         ]
      },
      {
         "cell_type": "code",
         "execution_count": 193,
         "metadata": {},
         "outputs": [
            {
               "name": "stdout",
               "output_type": "stream",
               "text": [
                  "Overwriting playing_with_structs_4.c\n"
               ]
            }
         ],
         "source": [
            "%%file playing_with_structs_4.c\n",
            "#include \"../libft/libft.h\"\n",
            "#include <stdio.h>\n",
            "\n",
            "typedef struct my_struct\n",
            "{\n",
            "\tint\t\t\tn;\n",
            "\tchar\t\t*m;\n",
            "\tchar\t\tp;\n",
            "\tchar\t\tw;\n",
            "\tchar\t\tu;\n",
            "\tchar\t\ti;\n",
            "\tint\t\t\tb;\n",
            "\tchar\t\tq;\n",
            "\n",
            "}\t\t\t\tt_my_struct;\n",
            "\n",
            "int main (void)\n",
            "{\n",
            "\tt_my_struct\t\t*instance;\n",
            "\n",
            "\tinstance = (t_my_struct *)malloc(1 * sizeof(t_my_struct));\n",
            "\n",
            "\tprintf(\"sizeof(t_my_struct) = %ld\\n\", sizeof(t_my_struct));\n",
            "\n",
            "\tinstance->n = 69;\n",
            "\tprintf(\"address of instance:\\t%p\\n\", instance);\n",
            "\tprintf(\"address of n:\\t\\t%p\\n\", &(instance->n));\n",
            "\tprintf(\"address of u:\\t\\t%p\\n\", &(instance->u));\n",
            "\tprintf(\"u is %ld spaces away from n.\\n\", (unsigned long)&(instance->u) - (unsigned long)&(instance->n));\n",
            "\tprintf(\"value of n:\\t\\t%d\\n\", instance->n);\n",
            "\n",
            "\n",
            "\treturn (0);\n",
            "}\n"
         ]
      },
      {
         "cell_type": "code",
         "execution_count": 194,
         "metadata": {},
         "outputs": [
            {
               "name": "stdout",
               "output_type": "stream",
               "text": [
                  "sizeof(t_my_struct) = 32\n",
                  "address of instance:\t0x55f4ce1a12a0\n",
                  "address of n:\t\t0x55f4ce1a12a0\n",
                  "address of u:\t\t0x55f4ce1a12b2\n",
                  "u is 18 spaces away from n.\n",
                  "value of n:\t\t69\n"
               ]
            }
         ],
         "source": [
            "%%bash\n",
            "gcc playing_with_structs_4.c -g -L../libft -lft\n",
            "./a.out"
         ]
      }
   ],
   "metadata": {
      "kernelspec": {
         "display_name": "Python 3.10.8 64-bit",
         "language": "python",
         "name": "python3"
      },
      "language_info": {
         "codemirror_mode": {
            "name": "ipython",
            "version": 3
         },
         "file_extension": ".py",
         "mimetype": "text/x-python",
         "name": "python",
         "nbconvert_exporter": "python",
         "pygments_lexer": "ipython3",
         "version": "3.10.9"
      },
      "orig_nbformat": 4,
      "vscode": {
         "interpreter": {
            "hash": "e7370f93d1d0cde622a1f8e1c04877d8463912d04d973331ad4851f04de6915a"
         }
      }
   },
   "nbformat": 4,
   "nbformat_minor": 2
}
