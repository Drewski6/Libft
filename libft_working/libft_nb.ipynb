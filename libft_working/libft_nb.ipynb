{
 "cells": [
  {
   "cell_type": "markdown",
   "metadata": {},
   "source": [
    "# LIBFT\n",
    "- This notebook is for the libft project in Ecole 42.\n",
    "- Note that we can save directly to files with the %%file prefix.\n",
    "- Similarly you can use %%bash to run any bash commands you'd like for testing."
   ]
  },
  {
   "cell_type": "markdown",
   "metadata": {},
   "source": [
    "- TODO:\n",
    "    - make chars into unsigned chars?\n",
    "    - check for calling other functions and how that works."
   ]
  },
  {
   "cell_type": "markdown",
   "metadata": {},
   "source": [
    "## Libft.h"
   ]
  },
  {
   "cell_type": "code",
<<<<<<< HEAD
   "execution_count": 12,
=======
   "execution_count": 392,
>>>>>>> fee05edada0cbdca23e3f6669176f3b644f05d63
   "metadata": {},
   "outputs": [
    {
     "name": "stdout",
     "output_type": "stream",
     "text": [
      "Overwriting libft.h\n"
     ]
    }
   ],
   "source": [
    "%%file libft.h\n",
    "/* ************************************************************************** */\n",
    "/*                                                                            */\n",
    "/*                                                        :::      ::::::::   */\n",
    "/*   libft.h                                            :+:      :+:    :+:   */\n",
    "/*                                                    +:+ +:+         +:+     */\n",
    "/*   By: dpentlan <marvin@42.fr>                    +#+  +:+       +#+        */\n",
    "/*                                                +#+#+#+#+#+   +#+           */\n",
    "/*   Created: 2022/11/07 14:31:39 by dpentlan          #+#    #+#             */\n",
    "/*   Updated: 2022/11/07 14:31:56 by dpentlan         ###   ########.fr       */\n",
    "/*                                                                            */\n",
    "/* ************************************************************************** */\n",
    "\n",
    "//  header for my libft files.\n",
    "\n",
    "#ifndef LIBFT_H\n",
    "#define LIBFT_H\n",
    "# include <stddef.h>\n",
    "\n",
    "int ft_isalpha(char c);\n",
    "int ft_isdigit(char c);\n",
    "int ft_isalnum(char c);\n",
    "int ft_isascii(int c);\n",
    "int ft_isprint(char c);\n",
    "long    ft_strlen(const char *str);\n",
    "void*   ft_memset(void *str, int c, size_t len);\n",
    "void    ft_bzero(void *str, size_t len);\n",
    "void*   ft_memcpy(void *dest, const void *src, size_t len);\n",
    "void*   ft_memmove(void *dest, const void *src, size_t len);\n",
    "size_t  ft_strlcpy(char *dest, char *src, size_t size);\n",
    "size_t  ft_strlcat(char *dest, char *src, size_t size);\n",
    "int\tft_toupper(int c);\n",
    "int\tft_tolower(int c);\n",
<<<<<<< HEAD
    "char*\tft_strchr(const char *s, int c);\n",
    "char*\tft_strrchr(const char *s, int c);\n",
    "int\tft_strncmp(const char *s1, const char *s2, size_t n);\n",
=======
    "char\t*ft_strchr(const char *s, int c);\n",
    "char\t*ft_strrchr(const char *s, int c);\n",
    "void\t*ft_memchr(const void *s, int c, size_t n);\n",
    "int\tft_memcmp(const void *s1, const void *s2, size_t n);\n",
    "char\t*ft_strnstr(const char *big, const char *little, size_t len);\n",
>>>>>>> fee05edada0cbdca23e3f6669176f3b644f05d63
    "\n",
    "#endif"
   ]
  },
  {
   "cell_type": "code",
<<<<<<< HEAD
   "execution_count": 33,
=======
   "execution_count": 481,
>>>>>>> fee05edada0cbdca23e3f6669176f3b644f05d63
   "metadata": {},
   "outputs": [
    {
     "name": "stdout",
     "output_type": "stream",
     "text": [
      "rm -f ft_isalpha.o ft_isdigit.o ft_isalnum.o ft_isascii.o ft_isprint.o ft_strlen.o ft_memset.o ft_bzero.o ft_memcpy.o ft_memmove.o ft_strlcpy.o ft_strlcat.o ft_toupper.o ft_tolower.o ft_strchr.o ft_strrchr.o ft_memchr.o ft_memcmp.o ft_strnstr.o\n",
      "rm -f libft.a\n",
      "gcc -Wall -Wextra -Werror -c ft_isalpha.c -o ft_isalpha.o\n",
      "gcc -Wall -Wextra -Werror -c ft_isdigit.c -o ft_isdigit.o\n",
      "gcc -Wall -Wextra -Werror -c ft_isalnum.c -o ft_isalnum.o\n",
      "gcc -Wall -Wextra -Werror -c ft_isascii.c -o ft_isascii.o\n",
      "gcc -Wall -Wextra -Werror -c ft_isprint.c -o ft_isprint.o\n",
      "gcc -Wall -Wextra -Werror -c ft_strlen.c -o ft_strlen.o\n",
      "gcc -Wall -Wextra -Werror -c ft_memset.c -o ft_memset.o\n",
      "gcc -Wall -Wextra -Werror -c ft_bzero.c -o ft_bzero.o\n",
      "gcc -Wall -Wextra -Werror -c ft_memcpy.c -o ft_memcpy.o\n",
      "gcc -Wall -Wextra -Werror -c ft_memmove.c -o ft_memmove.o\n",
      "gcc -Wall -Wextra -Werror -c ft_strlcpy.c -o ft_strlcpy.o\n",
      "gcc -Wall -Wextra -Werror -c ft_strlcat.c -o ft_strlcat.o\n",
      "gcc -Wall -Wextra -Werror -c ft_toupper.c -o ft_toupper.o\n",
      "gcc -Wall -Wextra -Werror -c ft_tolower.c -o ft_tolower.o\n",
      "gcc -Wall -Wextra -Werror -c ft_strchr.c -o ft_strchr.o\n",
      "gcc -Wall -Wextra -Werror -c ft_strrchr.c -o ft_strrchr.o\n",
      "gcc -Wall -Wextra -Werror -c ft_memchr.c -o ft_memchr.o\n",
      "gcc -Wall -Wextra -Werror -c ft_memcmp.c -o ft_memcmp.o\n",
      "gcc -Wall -Wextra -Werror -c ft_strnstr.c -o ft_strnstr.o\n",
      "ar rcs libft.a -o ft_isalpha.o ft_isdigit.o ft_isalnum.o ft_isascii.o ft_isprint.o ft_strlen.o ft_memset.o ft_bzero.o ft_memcpy.o ft_memmove.o ft_strlcpy.o ft_strlcat.o ft_toupper.o ft_tolower.o ft_strchr.o ft_strrchr.o ft_memchr.o ft_memcmp.o ft_strnstr.o\n",
      "rm -f ft_isalpha.o ft_isdigit.o ft_isalnum.o ft_isascii.o ft_isprint.o ft_strlen.o ft_memset.o ft_bzero.o ft_memcpy.o ft_memmove.o ft_strlcpy.o ft_strlcat.o ft_toupper.o ft_tolower.o ft_strchr.o ft_strrchr.o ft_memchr.o ft_memcmp.o ft_strnstr.o\n",
      "ft_isalpha.o\n",
      "ft_isdigit.o\n",
      "ft_isalnum.o\n",
      "ft_isascii.o\n",
      "ft_isprint.o\n",
      "ft_strlen.o\n",
      "ft_memset.o\n",
      "ft_bzero.o\n",
      "ft_memcpy.o\n",
      "ft_memmove.o\n",
      "ft_strlcpy.o\n",
      "ft_strlcat.o\n",
      "ft_toupper.o\n",
      "ft_tolower.o\n",
      "ft_strchr.o\n",
      "ft_strrchr.o\n",
      "ft_memchr.o\n",
      "ft_memcmp.o\n",
      "ft_strnstr.o\n"
     ]
    }
   ],
   "source": [
    "%%bash\n",
    "make re\n",
    "make clean\n",
    "ar -t libft.a"
   ]
  },
  {
   "cell_type": "markdown",
   "metadata": {},
   "source": [
    "## Functions"
   ]
  },
  {
   "cell_type": "markdown",
   "metadata": {},
   "source": [
    "### isalpha"
   ]
  },
  {
   "cell_type": "markdown",
   "metadata": {},
   "source": [
    "#### ft_isalpha.c"
   ]
  },
  {
   "cell_type": "code",
   "execution_count": 99,
   "metadata": {},
   "outputs": [
    {
     "name": "stdout",
     "output_type": "stream",
     "text": [
      "Overwriting ft_isalpha.c\n"
     ]
    }
   ],
   "source": [
    "%%file ft_isalpha.c\n",
    "/* ************************************************************************** */\n",
    "/*                                                                            */\n",
    "/*                                                        :::      ::::::::   */\n",
    "/*   ft_isalpha.c                                       :+:      :+:    :+:   */\n",
    "/*                                                    +:+ +:+         +:+     */\n",
    "/*   By: dpentlan <marvin@42.fr>                    +#+  +:+       +#+        */\n",
    "/*                                                +#+#+#+#+#+   +#+           */\n",
    "/*   Created: 2022/11/07 15:11:16 by dpentlan          #+#    #+#             */\n",
    "/*   Updated: 2022/11/07 15:11:19 by dpentlan         ###   ########.fr       */\n",
    "/*                                                                            */\n",
    "/* ************************************************************************** */\n",
    "\n",
    "#include \"libft.h\"\n",
    "\n",
    "int\tft_isalpha(char c)\n",
    "{\n",
    "\tif ((c >= 65 && c <= 90) || (c >= 97 && c <= 122))\n",
    "\t\treturn (1);\n",
    "\telse\n",
    "\t\treturn (0);\n",
    "}\n"
   ]
  },
  {
   "cell_type": "markdown",
   "metadata": {},
   "source": [
    "#### isalpha_test.c"
   ]
  },
  {
   "cell_type": "code",
   "execution_count": null,
   "metadata": {},
   "outputs": [],
   "source": [
    "%%file ../libft_testing/function_remakes/isalpha_test.c\n",
    "#include <ctype.h>\n",
    "#include <stdio.h>\n",
    "\n",
    "// Returns true/false for a single character.\n",
    "\n",
    "int main(void)\n",
    "{\n",
    "    char string[] = \"Hi, this is a sample string.\";\n",
    "    if (isalpha(string[2]))\n",
    "        printf(\"Statement was true.\");\n",
    "    else\n",
    "        printf(\"Statement was false.\");\n",
    "    return (0);\n",
    "}"
   ]
  },
  {
   "cell_type": "markdown",
   "metadata": {},
   "source": [
    "### isdigit"
   ]
  },
  {
   "cell_type": "markdown",
   "metadata": {},
   "source": [
    "#### ft_isdigit.c"
   ]
  },
  {
   "cell_type": "code",
   "execution_count": 101,
   "metadata": {},
   "outputs": [
    {
     "name": "stdout",
     "output_type": "stream",
     "text": [
      "Overwriting ft_isdigit.c\n"
     ]
    }
   ],
   "source": [
    "%%file ft_isdigit.c\n",
    "/* ************************************************************************** */\n",
    "/*                                                                            */\n",
    "/*                                                        :::      ::::::::   */\n",
    "/*   ft_isdigit.c                                       :+:      :+:    :+:   */\n",
    "/*                                                    +:+ +:+         +:+     */\n",
    "/*   By: dpentlan <marvin@42.fr>                    +#+  +:+       +#+        */\n",
    "/*                                                +#+#+#+#+#+   +#+           */\n",
    "/*   Created: 2022/11/08 16:53:10 by dpentlan          #+#    #+#             */\n",
    "/*   Updated: 2022/11/08 16:53:14 by dpentlan         ###   ########.fr       */\n",
    "/*                                                                            */\n",
    "/* ************************************************************************** */\n",
    "\n",
    "#include \"libft.h\"\n",
    "\n",
    "int\tft_isdigit(char c)\n",
    "{\n",
    "\tif (c >= 48 && c <= 57)\n",
    "\t\treturn (1);\n",
    "\telse\n",
    "\t\treturn (0);\n",
    "}\n"
   ]
  },
  {
   "cell_type": "markdown",
   "metadata": {},
   "source": [
    "#### isdigit_test.c"
   ]
  },
  {
   "cell_type": "code",
   "execution_count": null,
   "metadata": {},
   "outputs": [],
   "source": [
    "%%file"
   ]
  },
  {
   "cell_type": "markdown",
   "metadata": {},
   "source": [
    "### isalnum"
   ]
  },
  {
   "cell_type": "markdown",
   "metadata": {},
   "source": [
    "#### ft_isalnum.c"
   ]
  },
  {
   "cell_type": "code",
   "execution_count": 102,
   "metadata": {},
   "outputs": [],
   "source": [
    "%%file ft_isalnum.c\n",
    "/* ************************************************************************** */\n",
    "/*                                                                            */\n",
    "/*                                                        :::      ::::::::   */\n",
    "/*   ft_isalnum.c                                       :+:      :+:    :+:   */\n",
    "/*                                                    +:+ +:+         +:+     */\n",
    "/*   By: dpentlan <marvin@42.fr>                    +#+  +:+       +#+        */\n",
    "/*                                                +#+#+#+#+#+   +#+           */\n",
    "/*   Created: 2022/11/08 17:10:36 by dpentlan          #+#    #+#             */\n",
    "/*   Updated: 2022/11/08 17:10:39 by dpentlan         ###   ########.fr       */\n",
    "/*                                                                            */\n",
    "/* ************************************************************************** */\n",
    "\n",
    "#include \"libft.h\"\n",
    "\n",
    "int\tft_isalnum(char c)\n",
    "{\n",
    "\tif (ft_isalpha(c) || ft_isdigit(c))\n",
    "\t\treturn (1);\n",
    "\telse\n",
    "\t\treturn (0);\n",
    "}\n"
   ]
  },
  {
   "cell_type": "markdown",
   "metadata": {},
   "source": [
    "#### isalnum_test.c"
   ]
  },
  {
   "cell_type": "code",
   "execution_count": null,
   "metadata": {},
   "outputs": [],
   "source": [
    "%%file"
   ]
  },
  {
   "cell_type": "markdown",
   "metadata": {},
   "source": [
    "### isascii"
   ]
  },
  {
   "cell_type": "markdown",
   "metadata": {},
   "source": [
    "#### ft_isascii.c"
   ]
  },
  {
   "cell_type": "code",
   "execution_count": 358,
   "metadata": {},
   "outputs": [
    {
     "name": "stdout",
     "output_type": "stream",
     "text": [
      "Overwriting ft_isascii.c\n"
     ]
    }
   ],
   "source": [
    "%%file ft_isascii.c\n",
    "/* ************************************************************************** */\n",
    "/*                                                                            */\n",
    "/*                                                        :::      ::::::::   */\n",
    "/*   ft_isascii.c                                       :+:      :+:    :+:   */\n",
    "/*                                                    +:+ +:+         +:+     */\n",
    "/*   By: dpentlan <marvin@42.fr>                    +#+  +:+       +#+        */\n",
    "/*                                                +#+#+#+#+#+   +#+           */\n",
    "/*   Created: 2022/11/11 12:56:54 by dpentlan          #+#    #+#             */\n",
    "/*   Updated: 2022/11/11 12:57:01 by dpentlan         ###   ########.fr       */\n",
    "/*                                                                            */\n",
    "/* ************************************************************************** */\n",
    "\n",
    "#include \"libft.h\"\n",
    "\n",
    "int\tft_isascii(int c)\n",
    "{\n",
    "\tif (c >= 0 && c <= 127)\n",
    "\t\treturn (1);\n",
    "\telse\n",
    "\t\treturn (0);\n",
    "}\n"
   ]
  },
  {
   "cell_type": "markdown",
   "metadata": {},
   "source": [
    "#### isascii_test.c"
   ]
  },
  {
   "cell_type": "code",
   "execution_count": null,
   "metadata": {},
   "outputs": [],
   "source": [
    "%%file"
   ]
  },
  {
   "cell_type": "markdown",
   "metadata": {},
   "source": [
    "### isprint"
   ]
  },
  {
   "cell_type": "markdown",
   "metadata": {},
   "source": [
    "#### ft_isprint.c"
   ]
  },
  {
   "cell_type": "code",
   "execution_count": 294,
   "metadata": {},
   "outputs": [
    {
     "name": "stdout",
     "output_type": "stream",
     "text": [
      "Overwriting ft_isprint.c\n"
     ]
    }
   ],
   "source": [
    "%%file ft_isprint.c\n",
    "/* ************************************************************************** */\n",
    "/*                                                                            */\n",
    "/*                                                        :::      ::::::::   */\n",
    "/*   ft_isprint.c                                       :+:      :+:    :+:   */\n",
    "/*                                                    +:+ +:+         +:+     */\n",
    "/*   By: dpentlan <marvin@42.fr>                    +#+  +:+       +#+        */\n",
    "/*                                                +#+#+#+#+#+   +#+           */\n",
    "/*   Created: 2022/11/11 12:57:41 by dpentlan          #+#    #+#             */\n",
    "/*   Updated: 2022/11/11 12:57:45 by dpentlan         ###   ########.fr       */\n",
    "/*                                                                            */\n",
    "/* ************************************************************************** */\n",
    "\n",
    "#include \"libft.h\"\n",
    "\n",
    "int\tft_isprint(char c)\n",
    "{\n",
    "\tif (c >= 32 && c <= 126)\n",
    "\t\treturn (1);\n",
    "\telse\n",
    "\t\treturn (0);\n",
    "}\n"
   ]
  },
  {
   "cell_type": "markdown",
   "metadata": {},
   "source": [
    "#### isprint_test.c"
   ]
  },
  {
   "cell_type": "code",
   "execution_count": null,
   "metadata": {},
   "outputs": [],
   "source": [
    "%%file"
   ]
  },
  {
   "cell_type": "markdown",
   "metadata": {},
   "source": [
    "### strlen"
   ]
  },
  {
   "cell_type": "markdown",
   "metadata": {},
   "source": [
    "#### ft_strlen.c"
   ]
  },
  {
   "cell_type": "code",
   "execution_count": 296,
   "metadata": {},
   "outputs": [
    {
     "name": "stdout",
     "output_type": "stream",
     "text": [
      "Overwriting ft_strlen.c\n"
     ]
    }
   ],
   "source": [
    "%%file ft_strlen.c\n",
    "/* ************************************************************************** */\n",
    "/*                                                                            */\n",
    "/*                                                        :::      ::::::::   */\n",
    "/*   ft_strlen.c                                        :+:      :+:    :+:   */\n",
    "/*                                                    +:+ +:+         +:+     */\n",
    "/*   By: dpentlan <marvin@42.fr>                    +#+  +:+       +#+        */\n",
    "/*                                                +#+#+#+#+#+   +#+           */\n",
    "/*   Created: 2022/11/11 12:59:37 by dpentlan          #+#    #+#             */\n",
    "/*   Updated: 2022/11/11 12:59:45 by dpentlan         ###   ########.fr       */\n",
    "/*                                                                            */\n",
    "/* ************************************************************************** */\n",
    "\n",
    "#include \"libft.h\"\n",
    "\n",
    "long\tft_strlen(const char *str)\n",
    "{\n",
    "\tlong\ti;\n",
    "\n",
    "\ti = 0;\n",
    "\twhile (str[i] != '\\0')\n",
    "\t\ti++;\n",
    "\treturn (i);\n",
    "}\n"
   ]
  },
  {
   "cell_type": "markdown",
   "metadata": {},
   "source": [
    "#### strlen_test.c"
   ]
  },
  {
   "cell_type": "code",
   "execution_count": null,
   "metadata": {},
   "outputs": [],
   "source": [
    "%%file"
   ]
  },
  {
   "cell_type": "markdown",
   "metadata": {},
   "source": [
    "### memset"
   ]
  },
  {
   "cell_type": "markdown",
   "metadata": {},
   "source": [
    "#### ft_memset.c"
   ]
  },
  {
   "cell_type": "code",
   "execution_count": 315,
   "metadata": {},
   "outputs": [
    {
     "name": "stdout",
     "output_type": "stream",
     "text": [
      "Overwriting ft_memset.c\n"
     ]
    }
   ],
   "source": [
    "%%file ft_memset.c\n",
    "/* ************************************************************************** */\n",
    "/*                                                                            */\n",
    "/*                                                        :::      ::::::::   */\n",
    "/*   ft_memset.c                                        :+:      :+:    :+:   */\n",
    "/*                                                    +:+ +:+         +:+     */\n",
    "/*   By: dpentlan <marvin@42.fr>                    +#+  +:+       +#+        */\n",
    "/*                                                +#+#+#+#+#+   +#+           */\n",
    "/*   Created: 2022/11/11 12:58:28 by dpentlan          #+#    #+#             */\n",
    "/*   Updated: 2022/11/11 12:58:38 by dpentlan         ###   ########.fr       */\n",
    "/*                                                                            */\n",
    "/* ************************************************************************** */\n",
    "\n",
    "#include \"libft.h\"\n",
    "\n",
    "void\t*ft_memset(void *str, int c, size_t len)\n",
    "{\n",
    "\tunsigned int\ti;\n",
    "\n",
    "\ti = 0;\n",
    "\twhile (i < len)\n",
    "\t{\n",
    "\t\t*(char *)str = c;\n",
    "\t\tstr++;\n",
    "\t\ti++;\n",
    "\t}\n",
    "\treturn (str);\n",
    "}\n"
   ]
  },
  {
   "cell_type": "markdown",
   "metadata": {},
   "source": [
    "#### memset_test.c"
   ]
  },
  {
   "cell_type": "code",
   "execution_count": null,
   "metadata": {},
   "outputs": [
    {
     "name": "stdout",
     "output_type": "stream",
     "text": [
      "Overwriting ../libft_testing/function_remakes/memset_test.c\n"
     ]
    }
   ],
   "source": [
    "%%file ../libft_testing/function_remakes/memset_test.c\n",
    "#include <stdio.h>\n",
    "#include <stdlib.h>\n",
    "#include <string.h>\n",
    "#include \"../../libft_working/libft.h\"\n",
    "#define SIZE 10\n",
    "#define CHAR 'W'\n",
    "\n",
    "int main (void)\n",
    "{\n",
    "    char string[] = \"This is a sample string.\";\n",
    "\n",
    "    printf(\"memset\\n\");\n",
    "    printf(\"\\tString before: %s\\n\", string);\n",
    "    printf(\"\\tsizeof(char)lksjd: %ld\\n\", sizeof(char));\n",
    "    memset(string, CHAR, SIZE*sizeof(char));\n",
    "    printf(\"\\tString after : %s\\n\", string);\n",
    "\n",
    "    char string1[] = \"This is a sample string.\";\n",
    "    printf(\"\\nft_memset\\n\");\n",
    "    printf(\"\\tString before: %s\\n\", string1);\n",
    "    printf(\"\\tsizeof(char)lksjd: %ld\\n\", sizeof(char));\n",
    "    ft_memset(string1, CHAR, SIZE*sizeof(char));\n",
    "    printf(\"\\tString after : %s\\n\", string1);\n",
    "    return (0);\n",
    "}"
   ]
  },
  {
   "cell_type": "code",
   "execution_count": null,
   "metadata": {},
   "outputs": [
    {
     "name": "stdout",
     "output_type": "stream",
     "text": [
      "/home/drew/Documents/ecole_42/libft/libft_testing/function_remakes\n",
      "memset\n",
      "\tString before: This is a sample string.\n",
      "\tsizeof(char)lksjd: 1\n",
      "\tString after : WWWWWWWWWWsample string.\n",
      "\n",
      "ft_memset\n",
      "\tString before: This is a sample string.\n",
      "\tsizeof(char)lksjd: 1\n",
      "\tString after : WWWWWWWWWWsample string.\n",
      "CPU times: user 1.2 ms, sys: 3.85 ms, total: 5.05 ms\n",
      "Wall time: 30.6 ms\n"
     ]
    }
   ],
   "source": [
    "%%time\n",
    "%%bash\n",
    "cd ../libft_testing/function_remakes\n",
    "pwd\n",
    "gcc memset_test.c -L../../libft_working -lft\n",
    "./a.out > output && cat output"
   ]
  },
  {
   "cell_type": "markdown",
   "metadata": {},
   "source": [
    "### bzero"
   ]
  },
  {
   "cell_type": "markdown",
   "metadata": {},
   "source": [
    "#### ft_bzero.c"
   ]
  },
  {
   "cell_type": "markdown",
   "metadata": {},
   "source": [
    "- Norminette wouldnt allow empty return. So i deleted it. hope this does break anything."
   ]
  },
  {
   "cell_type": "code",
   "execution_count": 363,
   "metadata": {},
   "outputs": [
    {
     "name": "stdout",
     "output_type": "stream",
     "text": [
      "Overwriting ft_bzero.c\n"
     ]
    }
   ],
   "source": [
    "%%file ft_bzero.c\n",
    "/* ************************************************************************** */\n",
    "/*                                                                            */\n",
    "/*                                                        :::      ::::::::   */\n",
    "/*   ft_bzero.c                                         :+:      :+:    :+:   */\n",
    "/*                                                    +:+ +:+         +:+     */\n",
    "/*   By: dpentlan <marvin@42.fr>                    +#+  +:+       +#+        */\n",
    "/*                                                +#+#+#+#+#+   +#+           */\n",
    "/*   Created: 2022/11/11 12:56:13 by dpentlan          #+#    #+#             */\n",
    "/*   Updated: 2022/11/11 12:56:23 by dpentlan         ###   ########.fr       */\n",
    "/*                                                                            */\n",
    "/* ************************************************************************** */\n",
    "\n",
    "#include \"libft.h\"\n",
    "\n",
    "void\tft_bzero(void *str, size_t len)\n",
    "{\n",
    "\tsize_t\ti;\n",
    "\n",
    "\ti = 0;\n",
    "\twhile (i < len)\n",
    "\t{\n",
    "\t\t*(char *)str = 0;\n",
    "\t\tstr++;\n",
    "\t\ti++;\n",
    "\t}\n",
    "}\n"
   ]
  },
  {
   "cell_type": "markdown",
   "metadata": {},
   "source": [
    "#### bzero_test.c"
   ]
  },
  {
   "cell_type": "code",
   "execution_count": null,
   "metadata": {},
   "outputs": [
    {
     "name": "stdout",
     "output_type": "stream",
     "text": [
      "Overwriting ../libft_testing/function_remakes/bzero_test.c\n"
     ]
    }
   ],
   "source": [
    "%%file ../libft_testing/function_remakes/bzero_test.c\n",
    "#include <stdio.h>\n",
    "#include <stdlib.h>\n",
    "#include <string.h>\n",
    "#include \"../../libft_working/libft.h\"\n",
    "#define OFFSET 15\n",
    "#define SIZE 5\n",
    "\n",
    "int main (void)\n",
    "{\n",
    "    int str_len;\n",
    "    int i;\n",
    "    char string[] = \"Hi this is a string.\";\n",
    "    char string1[] = \"Hi this is a string.\";\n",
    "\n",
    "    printf(\"Function,Action,Result\\n\");\n",
    "\n",
    "    // Code for testing bzero.\n",
    "    str_len = 0;\n",
    "    str_len = strlen(string);\n",
    "    printf(\"bzero,Before bzero,%s\\n\", string);\n",
    "    bzero(string + OFFSET, SIZE);\n",
    "    printf(\"bzero,After bzero,%s\\n\", string);\n",
    "    printf(\"bzero,Full String,\");\n",
    "    i = 0;\n",
    "    while (i < str_len)\n",
    "    {\n",
    "        printf(\"%c\", string[i]);\n",
    "        i++;\n",
    "    }\n",
    "    printf(\"\\n\");\n",
    "\n",
    "    // Code for testing ft_bzero.\n",
    "    printf(\"ft_bzero,Before ft_bzero,%s\\n\", string1);\n",
    "    ft_bzero(string1 + OFFSET, SIZE);\n",
    "    printf(\"ft_bzero,After ft_bzero,%s\\n\", string1);\n",
    "    printf(\"ft_bzero,Full String,\");\n",
    "    i = 0;\n",
    "    while (i < str_len)\n",
    "    {\n",
    "        printf(\"%c\", string1[i]);\n",
    "        i++;\n",
    "    }\n",
    "    printf(\"\\n\");\n",
    "\n",
    "    return (0);\n",
    "}"
   ]
  },
  {
   "cell_type": "code",
   "execution_count": null,
   "metadata": {},
   "outputs": [
    {
     "name": "stdout",
     "output_type": "stream",
     "text": [
      "Function,Action,Result\n",
      "bzero,Before bzero,Hi this is a string.\n",
      "bzero,After bzero,Hi this is a st\n",
      "bzero,Full String,Hi this is a st\u0000\u0000\u0000\u0000\u0000\n",
      "ft_bzero,Before ft_bzero,Hi this is a string.\n",
      "ft_bzero,After ft_bzero,Hi this is a st\n",
      "ft_bzero,Full String,Hi this is a st\u0000\u0000\u0000\u0000\u0000\n"
     ]
    }
   ],
   "source": [
    "%%bash\n",
    "cd ../libft_testing/function_remakes\n",
    "# pwd\n",
    "gcc bzero_test.c -L../../libft_working -lft\n",
    "./a.out > output.csv\n",
    "python3 bin_to_csv_conv.py \"output.csv\"\n",
    "cat output.csv\n"
   ]
  },
  {
   "cell_type": "markdown",
   "metadata": {},
   "source": [
    "### memcpy"
   ]
  },
  {
   "cell_type": "markdown",
   "metadata": {},
   "source": [
    "#### ft_memcpy.c"
   ]
  },
  {
   "cell_type": "code",
   "execution_count": 365,
   "metadata": {},
   "outputs": [
    {
     "name": "stdout",
     "output_type": "stream",
     "text": [
      "Overwriting ft_memcpy.c\n"
     ]
    }
   ],
   "source": [
    "%%file ft_memcpy.c\n",
    "/* ************************************************************************** */\n",
    "/*                                                                            */\n",
    "/*                                                        :::      ::::::::   */\n",
    "/*   ft_memcpy.c                                        :+:      :+:    :+:   */\n",
    "/*                                                    +:+ +:+         +:+     */\n",
    "/*   By: dpentlan <marvin@42.fr>                    +#+  +:+       +#+        */\n",
    "/*                                                +#+#+#+#+#+   +#+           */\n",
    "/*   Created: 2022/11/11 12:57:55 by dpentlan          #+#    #+#             */\n",
    "/*   Updated: 2022/11/11 12:57:56 by dpentlan         ###   ########.fr       */\n",
    "/*                                                                            */\n",
    "/* ************************************************************************** */\n",
    "\n",
    "#include \"libft.h\"\n",
    "\n",
    "void\t*ft_memcpy(void *dest, const void *src, size_t len)\n",
    "{\n",
    "\tsize_t\ti;\n",
    "\n",
    "\ti = 0;\n",
    "\twhile (i < len)\n",
    "\t{\n",
    "\t\t*(char *)dest = *(char *)src;\n",
    "\t\tdest++;\n",
    "\t\tsrc++;\n",
    "\t\ti++;\n",
    "\t}\n",
    "\treturn (dest);\n",
    "}\n"
   ]
  },
  {
   "cell_type": "markdown",
   "metadata": {},
   "source": [
    "#### memcpy_test.c"
   ]
  },
  {
   "cell_type": "code",
   "execution_count": null,
   "metadata": {},
   "outputs": [
    {
     "name": "stdout",
     "output_type": "stream",
     "text": [
      "Overwriting ../libft_testing/function_remakes/memcpy_test.c\n"
     ]
    }
   ],
   "source": [
    "%%file ../libft_testing/function_remakes/memcpy_test.c\n",
    "#include <stdio.h>\n",
    "#include <stdlib.h>\n",
    "#include <string.h>\n",
    "#include \"../../libft_working/libft.h\"\n",
    "#define SIZE 6\n",
    "\n",
    "int main (void)\n",
    "{\n",
    "    char string_src[50] = \"This is a sample string.\";\n",
    "    char string_dest[50];\n",
    "    char string1_src[50] = \"This is a sample string.\";\n",
    "    char string1_dest[50];\n",
    "\n",
    "    printf(\"function,action,result\\n\");\n",
    "\n",
    "    printf(\"memcpy,Before memcpy,%s\\n\", string_dest);\n",
    "    memcpy(string_dest, string_src, SIZE);\n",
    "    printf(\"memcpy,After memcpy,%s\\n\", string_dest);\n",
    "\n",
    "    printf(\"ft_memcpy,Before ft_memcpy,%s\\n\", string1_dest);\n",
    "    ft_memcpy(string1_dest, string1_src, SIZE);\n",
    "    printf(\"ft_memcpy,After ft_memcpy,%s\\n\", string1_dest);\n",
    "\n",
    "    return(0);\n",
    "}"
   ]
  },
  {
   "cell_type": "code",
   "execution_count": null,
   "metadata": {},
   "outputs": [],
   "source": [
    "%%bash\n",
    "cd ../libft_testing/function_remakes\n",
    "# pwd\n",
    "gcc memcpy_test.c -L../../libft_working -lft\n",
    "./a.out > output.csv\n",
    "python3 csv_to_xlsx_conv.py \"output.csv\""
   ]
  },
  {
   "cell_type": "markdown",
   "metadata": {},
   "source": [
    "### memmove"
   ]
  },
  {
   "cell_type": "markdown",
   "metadata": {},
   "source": [
    "#### ft_memmove.c"
   ]
  },
  {
   "cell_type": "markdown",
   "metadata": {},
   "source": [
    "- Did a rework after norminette on 11/14. may need to retest."
   ]
  },
  {
   "cell_type": "code",
   "execution_count": 277,
   "metadata": {},
   "outputs": [
    {
     "name": "stdout",
     "output_type": "stream",
     "text": [
      "Overwriting ft_memmove.c\n"
     ]
    }
   ],
   "source": [
    "%%file ft_memmove.c\n",
    "/* ************************************************************************** */\n",
    "/*                                                                            */\n",
    "/*                                                        :::      ::::::::   */\n",
    "/*   ft_memmove.c                                       :+:      :+:    :+:   */\n",
    "/*                                                    +:+ +:+         +:+     */\n",
    "/*   By: dpentlan <marvin@42.fr>                    +#+  +:+       +#+        */\n",
    "/*                                                +#+#+#+#+#+   +#+           */\n",
    "/*   Created: 2022/11/11 12:58:05 by dpentlan          #+#    #+#             */\n",
    "/*   Updated: 2022/11/11 12:58:20 by dpentlan         ###   ########.fr       */\n",
    "/*                                                                            */\n",
    "/* ************************************************************************** */\n",
    "\n",
    "#include \"libft.h\"\n",
    "\n",
    "void\t*ft_memmove(void *dest, const void *src, size_t len)\n",
    "{\n",
    "\tunsigned int\t\ti;\n",
    "\n",
    "\ti = 0;\n",
    "\tif ((unsigned long int)dest - (unsigned long)src >= len)\n",
    "\t{\n",
    "\t\twhile (i < len)\n",
    "\t\t{\n",
    "\t\t\t*(unsigned char *)dest = *(unsigned char *)src;\n",
    "\t\t\tdest++;\n",
    "\t\t\tsrc++;\n",
    "\t\t\ti++;\n",
    "\t\t}\n",
    "\t\treturn (dest);\n",
    "\t}\n",
    "\telse\n",
    "\t{\n",
    "\t\twhile (len > 0)\n",
    "\t\t{\n",
    "\t\t\t*(unsigned char *)(dest + len) = *(unsigned char *)(src + len);\n",
    "\t\t\tlen--;\n",
    "\t\t}\n",
    "\t}\n",
    "\treturn (dest);\n",
    "}"
   ]
  },
  {
   "cell_type": "markdown",
   "metadata": {},
   "source": [
    "#### memmove_test.c"
   ]
  },
  {
   "cell_type": "code",
   "execution_count": 284,
   "metadata": {},
   "outputs": [
    {
     "name": "stdout",
     "output_type": "stream",
     "text": [
      "Overwriting ../libft_testing/function_remakes/memmove_test.c\n"
     ]
    }
   ],
   "source": [
    "%%file ../libft_testing/function_remakes/memmove_test.c\n",
    "#include <stdio.h>\n",
    "#include <stdlib.h>\n",
    "#include <string.h>\n",
    "#include \"../../libft_working/libft.h\"\n",
    "\n",
    "int main (int argc, char* argv[])\n",
    "{\n",
    "    char string_src[50] = \"This is a sample string.\";\n",
    "    char string_dest[50];\n",
    "    char string1_src[50] = \"This is a sample string.\";\n",
    "    char string1_dest[50];\n",
    "    int size;\n",
    "\n",
    "    size = atoi(argv[1]);\n",
    "\n",
    "    printf(\"memmove,Before memmove,%s\\r\\n\", string_dest);\n",
    "    memmove(string_dest, string_src, size);\n",
    "    printf(\"memmove,After memmove,%s\\r\\n\", string_dest);\n",
    "\n",
    "    printf(\"ft_memmove,Before memmove,%s\\n\", string1_dest);\n",
    "    ft_memmove(string1_dest, string1_src, size);\n",
    "    printf(\"ft_memmove,After memmove,%s\\n\", string1_dest);\n",
    "\n",
    "    return (0);\n",
    "}"
   ]
  },
  {
   "cell_type": "code",
   "execution_count": 292,
   "metadata": {},
   "outputs": [],
   "source": [
    "%%bash\n",
    "cd ../libft_testing/function_remakes\n",
    "# pwd\n",
    "gcc memmove_test.c -L../../libft_working -lft\n",
    "echo \"Function,Action,Result\" > output.csv\n",
    "i=0\n",
    "while [ $i -le 30 ]\n",
    "do\n",
    "    ./a.out $i >> output.csv\n",
    "    ((i++))\n",
    "done"
   ]
  },
  {
   "cell_type": "code",
   "execution_count": 291,
   "metadata": {},
   "outputs": [
    {
     "ename": "ModuleNotFoundError",
     "evalue": "No module named 'pandas'",
     "output_type": "error",
     "traceback": [
      "\u001b[0;31m---------------------------------------------------------------------------\u001b[0m",
      "\u001b[0;31mModuleNotFoundError\u001b[0m                       Traceback (most recent call last)",
      "\u001b[0;32m<ipython-input-291-7dd3504c366f>\u001b[0m in \u001b[0;36m<module>\u001b[0;34m\u001b[0m\n\u001b[0;32m----> 1\u001b[0;31m \u001b[0;32mimport\u001b[0m \u001b[0mpandas\u001b[0m \u001b[0;32mas\u001b[0m \u001b[0mpd\u001b[0m\u001b[0;34m\u001b[0m\u001b[0;34m\u001b[0m\u001b[0m\n\u001b[0m",
      "\u001b[0;31mModuleNotFoundError\u001b[0m: No module named 'pandas'"
     ]
    }
   ],
   "source": [
    "import pandas as pd"
   ]
  },
  {
   "cell_type": "code",
   "execution_count": 288,
   "metadata": {},
   "outputs": [
    {
     "ename": "NameError",
     "evalue": "name 'pd' is not defined",
     "output_type": "error",
     "traceback": [
      "\u001b[0;31m---------------------------------------------------------------------------\u001b[0m",
      "\u001b[0;31mNameError\u001b[0m                                 Traceback (most recent call last)",
      "\u001b[0;32m<ipython-input-288-9ca38a99fb84>\u001b[0m in \u001b[0;36m<module>\u001b[0;34m\u001b[0m\n\u001b[0;32m----> 1\u001b[0;31m \u001b[0moutput\u001b[0m \u001b[0;34m=\u001b[0m \u001b[0mpd\u001b[0m\u001b[0;34m.\u001b[0m\u001b[0mread_csv\u001b[0m\u001b[0;34m(\u001b[0m\u001b[0;34m'../libft_testing/function_remakes/output.csv'\u001b[0m\u001b[0;34m)\u001b[0m\u001b[0;34m\u001b[0m\u001b[0;34m\u001b[0m\u001b[0m\n\u001b[0m\u001b[1;32m      2\u001b[0m \u001b[0moutput\u001b[0m\u001b[0;34m\u001b[0m\u001b[0;34m\u001b[0m\u001b[0m\n",
      "\u001b[0;31mNameError\u001b[0m: name 'pd' is not defined"
     ]
    }
   ],
   "source": [
    "output = pd.read_csv('../libft_testing/function_remakes/output.csv')\n",
    "output"
   ]
  },
  {
   "cell_type": "markdown",
   "metadata": {},
   "source": [
    "### strlcpy"
   ]
  },
  {
   "cell_type": "markdown",
   "metadata": {},
   "source": [
    "#### ft_strlcpy"
   ]
  },
  {
   "cell_type": "code",
   "execution_count": 357,
   "metadata": {},
   "outputs": [
    {
     "name": "stdout",
     "output_type": "stream",
     "text": [
      "Overwriting ft_strlcpy.c\n"
     ]
    }
   ],
   "source": [
    "%%file ft_strlcpy.c\n",
    "/* ************************************************************************** */\n",
    "/*                                                                            */\n",
    "/*                                                        :::      ::::::::   */\n",
    "/*   ft_strlcpy.c                                       :+:      :+:    :+:   */\n",
    "/*                                                    +:+ +:+         +:+     */\n",
    "/*   By: dpentlan <marvin@42.fr>                    +#+  +:+       +#+        */\n",
    "/*                                                +#+#+#+#+#+   +#+           */\n",
    "/*   Created: 2022/11/11 12:59:12 by dpentlan          #+#    #+#             */\n",
    "/*   Updated: 2022/11/11 12:59:13 by dpentlan         ###   ########.fr       */\n",
    "/*                                                                            */\n",
    "/* ************************************************************************** */\n",
    "\n",
    "#include \"libft.h\"\n",
    "\n",
    "size_t\tft_strlcpy(char *dest, char *src, size_t size)\n",
    "{\n",
    "\tsize_t\ti;\n",
    "\n",
    "\ti = 0u;\n",
    "\twhile (*src != '\\0')\n",
    "\t{\n",
    "\t\tif (i + 1 < size)\n",
    "\t\t{\n",
    "\t\t\t*dest = *src;\n",
    "\t\t\tdest++;\n",
    "\t\t}\n",
    "\t\tsrc++;\n",
    "\t\ti++;\n",
    "\t}\n",
    "\t*dest = '\\0';\n",
    "\treturn (i);\n",
    "}\n"
   ]
  },
  {
   "cell_type": "markdown",
   "metadata": {},
   "source": [
    "#### strlcpy_test.c\n",
    "- This test will take 2 arguments.\n",
    "    - First one is either 0 or 1 which indicates if the program is going to use bsd strlcpy or ft strlcpy. \n",
    "    - second is the number of characters to copy over. \n",
    "- The bash script runs a loop for each and then compares the diff."
   ]
  },
  {
   "cell_type": "code",
   "execution_count": null,
   "metadata": {},
   "outputs": [
    {
     "name": "stdout",
     "output_type": "stream",
     "text": [
      "Overwriting ../libft_testing/function_remakes/strlcpy_test.c\n"
     ]
    }
   ],
   "source": [
    "%%file ../libft_testing/function_remakes/strlcpy_test.c\n",
    "#include <stdio.h>\n",
    "#include <stdlib.h>\n",
    "#include <string.h>\n",
    "#include <bsd/string.h>\n",
    "#include \"../../libft_working/libft.h\"\n",
    "\n",
    "int main (int argc, char* argv[])\n",
    "{\n",
    "    char string_src[50] = \"Hi this is a source sting.\";\n",
    "    char string_dest[50];\n",
    "    int size;\n",
    "    int return_val;\n",
    "\n",
    "    size = atoi(argv[2]);\n",
    "    if (atoi(argv[1]) == 0)\n",
    "    {\n",
    "        //printf(\"strlcpy,before,%d,%s\\n\",size, string_dest);\n",
    "        return_val = strlcpy(string_dest, string_src, size);\n",
    "        printf(\"strlcpy,after,%d,%s,%d\\n\",size, string_dest, return_val);\n",
    "    }\n",
    "    else if (atoi(argv[1]) == 1)\n",
    "    {\n",
    "        //printf(\"ft_strlcpy,before,%d,%s\\n\",size, string1_dest);\n",
    "        return_val = ft_strlcpy(string_dest, string_src, size);\n",
    "        printf(\"ft_strlcpy,after,%d,%s,%d\\n\",size, string_dest, return_val);\n",
    "    }\n",
    "    return (0);\n",
    "}\n"
   ]
  },
  {
   "cell_type": "code",
   "execution_count": null,
   "metadata": {},
   "outputs": [],
   "source": [
    "%%bash\n",
    "cd ../libft_testing/function_remakes\n",
    "# pwd\n",
    "gcc strlcpy_test.c -lbsd -L../../libft_working -lft\n",
    "echo \"Function,Action,Size,Result\" > output1.csv\n",
    "i=0\n",
    "while [ $i -le 30 ]\n",
    "do\n",
    "    ./a.out 0 $i >> output1.csv\n",
    "    ((i++))\n",
    "done\n",
    "i=0\n",
    "echo \"Function,Action,Size,Result\" > output2.csv\n",
    "while [ $i -le 30 ]\n",
    "do\n",
    "    ./a.out 1 $i >> output2.csv\n",
    "    ((i++))\n",
    "done\n",
    "# diff output1.csv output2.csv"
   ]
  },
  {
   "cell_type": "markdown",
   "metadata": {},
   "source": [
    "### strlcat"
   ]
  },
  {
   "cell_type": "markdown",
   "metadata": {},
   "source": [
    "#### ft_strlcat.c"
   ]
  },
  {
   "cell_type": "code",
   "execution_count": 341,
   "metadata": {},
   "outputs": [
    {
     "name": "stdout",
     "output_type": "stream",
     "text": [
      "Overwriting ft_strlcat.c\n"
     ]
    }
   ],
   "source": [
    "%%file ft_strlcat.c\n",
    "/* ************************************************************************** */\n",
    "/*                                                                            */\n",
    "/*                                                        :::      ::::::::   */\n",
    "/*   ft_strlcat.c                                       :+:      :+:    :+:   */\n",
    "/*                                                    +:+ +:+         +:+     */\n",
    "/*   By: dpentlan <marvin@42.fr>                    +#+  +:+       +#+        */\n",
    "/*                                                +#+#+#+#+#+   +#+           */\n",
    "/*   Created: 2022/11/11 12:58:53 by dpentlan          #+#    #+#             */\n",
    "/*   Updated: 2022/11/11 12:59:00 by dpentlan         ###   ########.fr       */\n",
    "/*                                                                            */\n",
    "/* ************************************************************************** */\n",
    "\n",
    "#include \"libft.h\"\n",
    "\n",
    "size_t\tft_strlcat(char *dest, char *src, size_t size)\n",
    "{\n",
    "\tsize_t\tdest_len;\n",
    "\tsize_t\tsrc_len;\n",
    "\tsize_t\ti;\n",
    "\n",
    "\tdest_len = 0U;\n",
    "\tsrc_len = 0U;\n",
    "\ti = 0U;\n",
    "\twhile (dest[dest_len] != '\\0')\n",
    "\t\tdest_len++;\n",
    "\twhile (src[src_len] != '\\0')\n",
    "\t\tsrc_len++;\n",
    "\tif (size == 0)\n",
    "\t\treturn (src_len);\n",
    "\twhile (src[i] != '\\0' && dest_len + i < size - 1)\n",
    "\t{\n",
    "\t\tdest[dest_len + i] = src[i];\n",
    "\t\ti++;\n",
    "\t}\n",
    "\tdest[dest_len + i] = '\\0';\n",
    "\tif (dest_len > size)\n",
    "\t\treturn (src_len + size);\n",
    "\treturn (dest_len + src_len);\n",
    "}\n"
   ]
  },
  {
   "cell_type": "markdown",
   "metadata": {},
   "source": [
    "#### strlcat_test.c"
   ]
  },
  {
   "cell_type": "code",
   "execution_count": null,
   "metadata": {},
   "outputs": [
    {
     "name": "stdout",
     "output_type": "stream",
     "text": [
      "Overwriting ../libft_testing/function_remakes/strlcat_test.c\n"
     ]
    }
   ],
   "source": [
    "%%file ../libft_testing/function_remakes/strlcat_test.c\n",
    "#include <stdio.h>\n",
    "#include <stdlib.h>\n",
    "#include <string.h>\n",
    "#include <bsd/string.h>\n",
    "#include \"../../libft_working/libft.h\"\n",
    "\n",
    "int main (int argc, char* argv[])\n",
    "{\n",
    "    char string_src[50] = \"Hi this is a source string.\";\n",
    "    char string_dest[50]= \"\";\n",
    "    int size;\n",
    "    int return_val;\n",
    "\n",
    "    size = atoi(argv[2]);\n",
    "    if (atoi(argv[1]) == 0)\n",
    "    {\n",
    "        //printf(\"strlcpy,before,%d,%s\\n\",size, string_dest);\n",
    "        return_val = strlcat(string_dest, string_src, size);\n",
    "        printf(\"strlcpy,after,%d,%s,%d\\n\",size, string_dest, return_val);\n",
    "    }\n",
    "    else if (atoi(argv[1]) == 1)\n",
    "    {\n",
    "        //printf(\"ft_strlcpy,before,%d,%s\\n\",size, string1_dest);\n",
    "        return_val = ft_strlcat(string_dest, string_src, size);\n",
    "        printf(\"ft_strlcpy,after,%d,%s,%d\\n\",size, string_dest, return_val);\n",
    "    }\n",
    "    return (0);\n",
    "}\n"
   ]
  },
  {
   "cell_type": "code",
   "execution_count": null,
   "metadata": {},
   "outputs": [],
   "source": [
    "%%bash\n",
    "cd ../libft_testing/function_remakes\n",
    "# pwd\n",
    "gcc strlcat_test.c -lbsd -L../../libft_working -lft\n",
    "echo \"Function,Action,Size,Result,Return_Val\" > output1.csv\n",
    "i=0\n",
    "while [ $i -le 30 ]\n",
    "do\n",
    "    ./a.out 0 $i >> output1.csv\n",
    "    ((i++))\n",
    "done\n",
    "i=0\n",
    "echo \"Function,Action,Size,Result,Return_Val\" > output2.csv\n",
    "while [ $i -le 30 ]\n",
    "do\n",
    "    ./a.out 1 $i >> output2.csv\n",
    "    ((i++))\n",
    "done\n",
    "# diff output1.csv output2.csv"
   ]
  },
  {
   "cell_type": "markdown",
   "metadata": {},
   "source": [
    "### toupper"
   ]
  },
  {
   "cell_type": "markdown",
   "metadata": {},
   "source": [
    "#### ft_toupper.c"
   ]
  },
  {
   "cell_type": "code",
   "execution_count": 132,
   "metadata": {},
   "outputs": [
    {
     "name": "stdout",
     "output_type": "stream",
     "text": [
      "Overwriting ft_toupper.c\n"
     ]
    }
   ],
   "source": [
    "%%file ft_toupper.c\n",
    "/* ************************************************************************** */\n",
    "/*                                                                            */\n",
    "/*                                                        :::      ::::::::   */\n",
    "/*   ft_toupper.c                                       :+:      :+:    :+:   */\n",
    "/*                                                    +:+ +:+         +:+     */\n",
    "/*   By: dpentlan <marvin@42.fr>                    +#+  +:+       +#+        */\n",
    "/*                                                +#+#+#+#+#+   +#+           */\n",
    "/*   Created: 2022/11/11 13:06:56 by dpentlan          #+#    #+#             */\n",
    "/*   Updated: 2022/11/11 13:06:58 by dpentlan         ###   ########.fr       */\n",
    "/*                                                                            */\n",
    "/* ************************************************************************** */\n",
    "\n",
    "#include \"libft.h\"\n",
    "\n",
    "int\tft_toupper(int c)\n",
    "{\n",
    "\tif (c >= 97 && c <= 122)\n",
    "\t\treturn (c - 32);\n",
    "\telse\n",
    "\t\treturn (c);\n",
    "}"
   ]
  },
  {
   "cell_type": "markdown",
   "metadata": {},
   "source": [
    "#### toupper_test.c"
   ]
  },
  {
   "cell_type": "code",
   "execution_count": null,
   "metadata": {},
   "outputs": [
    {
     "name": "stdout",
     "output_type": "stream",
     "text": [
      "Overwriting ../libft_testing/function_remakes/toupper_test.c\n"
     ]
    }
   ],
   "source": [
    "%%file ../libft_testing/function_remakes/toupper_test.c\n",
    "#include <stdio.h>\n",
    "#include <stdlib.h>\n",
    "#include <string.h>\n",
    "#include <ctype.h>\n",
    "#include \"../../libft_working/libft.h\"\n",
    "\n",
    "int main (int argc, char* argv[])\n",
    "{\n",
    "    char string_src[50] = \"Hi this is a source string.\";\n",
    "    char string_all_ascii_vals[128] = \"\";\n",
    "    int i;\n",
    "    int return_val;\n",
    "    int len;\n",
    "\n",
    "    len = strlen(string_src);\n",
    "    i = 1;\n",
    "\n",
    "    while (i < 128)\n",
    "    {\n",
    "        string_all_ascii_vals[i] = i;\n",
    "        i++;\n",
    "    }\n",
    "\n",
    "    i = 0;\n",
    "    while (i < len)\n",
    "    {\n",
    "        if (atoi(argv[1]) == 0)\n",
    "        {\n",
    "            return_val = toupper(string_src[i]);\n",
    "            printf(\"toupper,%d,%d,%d,%c,%c\\n\", string_src[i], return_val, len, string_src[i], return_val);\n",
    "        }\n",
    "        else if (atoi(argv[1]) == 1)\n",
    "        {\n",
    "            return_val = ft_toupper(string_src[i]);\n",
    "            printf(\"toupper,%d,%d,%d,%c,%c\\n\", string_src[i], return_val, len, string_src[i], return_val);\n",
    "        }\n",
    "        i++;\n",
    "    }\n",
    "\n",
    "    i = 0;\n",
    "    while (i < 128)\n",
    "    {\n",
    "        if (atoi(argv[1]) == 0)\n",
    "        {\n",
    "            return_val = toupper(string_all_ascii_vals[i]);\n",
    "            printf(\"toupper,%d,%d,%d,%c,%c\\n\", string_all_ascii_vals[i], return_val, len, string_all_ascii_vals[i], return_val);\n",
    "        }\n",
    "        else if (atoi(argv[1]) == 1)\n",
    "        {\n",
    "            return_val = ft_toupper(string_all_ascii_vals[i]);\n",
    "            printf(\"toupper,%d,%d,%d,%c,%c\\n\", string_all_ascii_vals[i], return_val, len, string_all_ascii_vals[i], return_val);\n",
    "        }\n",
    "        i++;\n",
    "    }\n",
    "    return (0);\n",
    "}\n"
   ]
  },
  {
   "cell_type": "code",
   "execution_count": null,
   "metadata": {},
   "outputs": [],
   "source": [
    "%%bash\n",
    "cd ../libft_testing/function_remakes\n",
    "# pwd\n",
    "gcc toupper_test.c -lbsd -L../../libft_working -lft\n",
    "header=\"Function,Input,Return_Val,Stren,Before Char,After Char\"\n",
    "echo $header > output1.csv\n",
    "i=0\n",
    "y=0\n",
    "while [ $i -le $y ]\n",
    "do\n",
    "    ./a.out 0 >> output1.csv\n",
    "    ((i++))\n",
    "done\n",
    "i=0\n",
    "echo $header > output2.csv\n",
    "while [ $i -le $y ]\n",
    "do\n",
    "    ./a.out 1 >> output2.csv\n",
    "    ((i++))\n",
    "done\n",
    "diff output1.csv output2.csv"
   ]
  },
  {
   "cell_type": "markdown",
   "metadata": {},
   "source": [
    "### tolower"
   ]
  },
  {
   "cell_type": "markdown",
   "metadata": {},
   "source": [
    "#### ft_tolower.c"
   ]
  },
  {
   "cell_type": "code",
   "execution_count": 179,
   "metadata": {},
   "outputs": [
    {
     "name": "stdout",
     "output_type": "stream",
     "text": [
      "Overwriting ft_tolower.c\n"
     ]
    }
   ],
   "source": [
    "%%file ft_tolower.c\n",
    "/* ************************************************************************** */\n",
    "/*                                                                            */\n",
    "/*                                                        :::      ::::::::   */\n",
    "/*   ft_tolower.c                                       :+:      :+:    :+:   */\n",
    "/*                                                    +:+ +:+         +:+     */\n",
    "/*   By: dpentlan <marvin@42.fr>                    +#+  +:+       +#+        */\n",
    "/*                                                +#+#+#+#+#+   +#+           */\n",
    "/*   Created: 2022/11/11 13:57:33 by dpentlan          #+#    #+#             */\n",
    "/*   Updated: 2022/11/11 13:57:37 by dpentlan         ###   ########.fr       */\n",
    "/*                                                                            */\n",
    "/* ************************************************************************** */\n",
    "\n",
    "#include \"libft.h\"\n",
    "\n",
    "int\tft_tolower(int c)\n",
    "{\n",
    "\tif (c >= 65 && c <= 90)\n",
    "\t\treturn (c + 32);\n",
    "\telse\n",
    "\t\treturn (c);\n",
    "}\n"
   ]
  },
  {
   "cell_type": "markdown",
   "metadata": {},
   "source": [
    "#### tolower_test.c"
   ]
  },
  {
   "cell_type": "code",
   "execution_count": null,
   "metadata": {},
   "outputs": [
    {
     "name": "stdout",
     "output_type": "stream",
     "text": [
      "Overwriting ../libft_testing/function_remakes/tolower_test.c\n"
     ]
    }
   ],
   "source": [
    "%%file ../libft_testing/function_remakes/tolower_test.c\n",
    "#include <stdio.h>\n",
    "#include <stdlib.h>\n",
    "#include <string.h>\n",
    "#include <ctype.h>\n",
    "#include \"../../libft_working/libft.h\"\n",
    "\n",
    "int main (int argc, char* argv[])\n",
    "{\n",
    "    char string_src[50] = \"Hi this is a source string.\";\n",
    "    char string_all_ascii_vals[128] = \"\";\n",
    "    int i;\n",
    "    int return_val;\n",
    "    int len;\n",
    "\n",
    "    len = strlen(string_src);\n",
    "    i = 1;\n",
    "\n",
    "    while (i < 128)\n",
    "    {\n",
    "        string_all_ascii_vals[i] = i;\n",
    "        i++;\n",
    "    }\n",
    "\n",
    "    i = 0;\n",
    "    while (i < len)\n",
    "    {\n",
    "        if (atoi(argv[1]) == 0)\n",
    "        {\n",
    "            return_val = tolower(string_src[i]);\n",
    "            printf(\"tolower,%d,%d,%d,%c,%c\\n\", string_src[i], return_val, len, string_src[i], return_val);\n",
    "        }\n",
    "        else if (atoi(argv[1]) == 1)\n",
    "        {\n",
    "            return_val = ft_tolower(string_src[i]);\n",
    "            printf(\"ft_tolower,%d,%d,%d,%c,%c\\n\", string_src[i], return_val, len, string_src[i], return_val);\n",
    "        }\n",
    "        i++;\n",
    "    }\n",
    "\n",
    "    i = 0;\n",
    "    while (i < 128)\n",
    "    {\n",
    "        if (atoi(argv[1]) == 0)\n",
    "        {\n",
    "            return_val = tolower(string_all_ascii_vals[i]);\n",
    "            printf(\"tolower,%d,%d,%d,%c,%c\\n\", string_all_ascii_vals[i], return_val, len, string_all_ascii_vals[i], return_val);\n",
    "        }\n",
    "        else if (atoi(argv[1]) == 1)\n",
    "        {\n",
    "            return_val = ft_tolower(string_all_ascii_vals[i]);\n",
    "            printf(\"ft_tolower,%d,%d,%d,%c,%c\\n\", string_all_ascii_vals[i], return_val, len, string_all_ascii_vals[i], return_val);\n",
    "        }\n",
    "        i++;\n",
    "    }\n",
    "    return (0);\n",
    "}\n"
   ]
  },
  {
   "cell_type": "code",
   "execution_count": null,
   "metadata": {},
   "outputs": [
    {
     "name": "stdout",
     "output_type": "stream",
     "text": [
      "Binary files output1.csv and output2.csv differ\n"
     ]
    },
    {
     "ename": "CalledProcessError",
     "evalue": "Command 'b'cd ../libft_testing/function_remakes\\n# pwd\\ngcc tolower_test.c -lbsd -L../../libft_working -lft\\nheader=\"Function,Input,Return_Val,Stren,Before Char,After Char\"\\necho $header > output1.csv\\ni=0\\ny=0\\nwhile [ $i -le $y ]\\ndo\\n    ./a.out 0 >> output1.csv\\n    ((i++))\\ndone\\ni=0\\necho $header > output2.csv\\nwhile [ $i -le $y ]\\ndo\\n    ./a.out 1 >> output2.csv\\n    ((i++))\\ndone\\ndiff output1.csv output2.csv\\n'' returned non-zero exit status 1.",
     "output_type": "error",
     "traceback": [
      "\u001b[0;31m---------------------------------------------------------------------------\u001b[0m\n",
      "\u001b[0;31mCalledProcessError\u001b[0m                        Traceback (most recent call last)\n",
      "\u001b[0;32m<ipython-input-187-e11ea3b162ac>\u001b[0m in \u001b[0;36m<module>\u001b[0;34m\u001b[0m\n",
      "\u001b[0;32m----> 1\u001b[0;31m \u001b[0mget_ipython\u001b[0m\u001b[0;34m(\u001b[0m\u001b[0;34m)\u001b[0m\u001b[0;34m.\u001b[0m\u001b[0mrun_cell_magic\u001b[0m\u001b[0;34m(\u001b[0m\u001b[0;34m'bash'\u001b[0m\u001b[0;34m,\u001b[0m \u001b[0;34m''\u001b[0m\u001b[0;34m,\u001b[0m \u001b[0;34m'cd ../libft_testing/function_remakes\\n# pwd\\ngcc tolower_test.c -lbsd -L../../libft_working -lft\\nheader=\"Function,Input,Return_Val,Stren,Before Char,After Char\"\\necho $header > output1.csv\\ni=0\\ny=0\\nwhile [ $i -le $y ]\\ndo\\n    ./a.out 0 >> output1.csv\\n    ((i++))\\ndone\\ni=0\\necho $header > output2.csv\\nwhile [ $i -le $y ]\\ndo\\n    ./a.out 1 >> output2.csv\\n    ((i++))\\ndone\\ndiff output1.csv output2.csv\\n'\u001b[0m\u001b[0;34m)\u001b[0m\u001b[0;34m\u001b[0m\u001b[0;34m\u001b[0m\u001b[0m\n",
      "\u001b[0m\n",
      "\u001b[0;32m/usr/lib/python3/dist-packages/IPython/core/interactiveshell.py\u001b[0m in \u001b[0;36mrun_cell_magic\u001b[0;34m(self, magic_name, line, cell)\u001b[0m\n",
      "\u001b[1;32m   2360\u001b[0m             \u001b[0;32mwith\u001b[0m \u001b[0mself\u001b[0m\u001b[0;34m.\u001b[0m\u001b[0mbuiltin_trap\u001b[0m\u001b[0;34m:\u001b[0m\u001b[0;34m\u001b[0m\u001b[0;34m\u001b[0m\u001b[0m\n",
      "\u001b[1;32m   2361\u001b[0m                 \u001b[0margs\u001b[0m \u001b[0;34m=\u001b[0m \u001b[0;34m(\u001b[0m\u001b[0mmagic_arg_s\u001b[0m\u001b[0;34m,\u001b[0m \u001b[0mcell\u001b[0m\u001b[0;34m)\u001b[0m\u001b[0;34m\u001b[0m\u001b[0;34m\u001b[0m\u001b[0m\n",
      "\u001b[0;32m-> 2362\u001b[0;31m                 \u001b[0mresult\u001b[0m \u001b[0;34m=\u001b[0m \u001b[0mfn\u001b[0m\u001b[0;34m(\u001b[0m\u001b[0;34m*\u001b[0m\u001b[0margs\u001b[0m\u001b[0;34m,\u001b[0m \u001b[0;34m**\u001b[0m\u001b[0mkwargs\u001b[0m\u001b[0;34m)\u001b[0m\u001b[0;34m\u001b[0m\u001b[0;34m\u001b[0m\u001b[0m\n",
      "\u001b[0m\u001b[1;32m   2363\u001b[0m             \u001b[0;32mreturn\u001b[0m \u001b[0mresult\u001b[0m\u001b[0;34m\u001b[0m\u001b[0;34m\u001b[0m\u001b[0m\n",
      "\u001b[1;32m   2364\u001b[0m \u001b[0;34m\u001b[0m\u001b[0m\n",
      "\n",
      "\u001b[0;32m/usr/lib/python3/dist-packages/IPython/core/magics/script.py\u001b[0m in \u001b[0;36mnamed_script_magic\u001b[0;34m(line, cell)\u001b[0m\n",
      "\u001b[1;32m    140\u001b[0m             \u001b[0;32melse\u001b[0m\u001b[0;34m:\u001b[0m\u001b[0;34m\u001b[0m\u001b[0;34m\u001b[0m\u001b[0m\n",
      "\u001b[1;32m    141\u001b[0m                 \u001b[0mline\u001b[0m \u001b[0;34m=\u001b[0m \u001b[0mscript\u001b[0m\u001b[0;34m\u001b[0m\u001b[0;34m\u001b[0m\u001b[0m\n",
      "\u001b[0;32m--> 142\u001b[0;31m             \u001b[0;32mreturn\u001b[0m \u001b[0mself\u001b[0m\u001b[0;34m.\u001b[0m\u001b[0mshebang\u001b[0m\u001b[0;34m(\u001b[0m\u001b[0mline\u001b[0m\u001b[0;34m,\u001b[0m \u001b[0mcell\u001b[0m\u001b[0;34m)\u001b[0m\u001b[0;34m\u001b[0m\u001b[0;34m\u001b[0m\u001b[0m\n",
      "\u001b[0m\u001b[1;32m    143\u001b[0m \u001b[0;34m\u001b[0m\u001b[0m\n",
      "\u001b[1;32m    144\u001b[0m         \u001b[0;31m# write a basic docstring:\u001b[0m\u001b[0;34m\u001b[0m\u001b[0;34m\u001b[0m\u001b[0;34m\u001b[0m\u001b[0m\n",
      "\n",
      "\u001b[0;32m<decorator-gen-110>\u001b[0m in \u001b[0;36mshebang\u001b[0;34m(self, line, cell)\u001b[0m\n",
      "\n",
      "\u001b[0;32m/usr/lib/python3/dist-packages/IPython/core/magic.py\u001b[0m in \u001b[0;36m<lambda>\u001b[0;34m(f, *a, **k)\u001b[0m\n",
      "\u001b[1;32m    185\u001b[0m     \u001b[0;31m# but it's overkill for just that one bit of state.\u001b[0m\u001b[0;34m\u001b[0m\u001b[0;34m\u001b[0m\u001b[0;34m\u001b[0m\u001b[0m\n",
      "\u001b[1;32m    186\u001b[0m     \u001b[0;32mdef\u001b[0m \u001b[0mmagic_deco\u001b[0m\u001b[0;34m(\u001b[0m\u001b[0marg\u001b[0m\u001b[0;34m)\u001b[0m\u001b[0;34m:\u001b[0m\u001b[0;34m\u001b[0m\u001b[0;34m\u001b[0m\u001b[0m\n",
      "\u001b[0;32m--> 187\u001b[0;31m         \u001b[0mcall\u001b[0m \u001b[0;34m=\u001b[0m \u001b[0;32mlambda\u001b[0m \u001b[0mf\u001b[0m\u001b[0;34m,\u001b[0m \u001b[0;34m*\u001b[0m\u001b[0ma\u001b[0m\u001b[0;34m,\u001b[0m \u001b[0;34m**\u001b[0m\u001b[0mk\u001b[0m\u001b[0;34m:\u001b[0m \u001b[0mf\u001b[0m\u001b[0;34m(\u001b[0m\u001b[0;34m*\u001b[0m\u001b[0ma\u001b[0m\u001b[0;34m,\u001b[0m \u001b[0;34m**\u001b[0m\u001b[0mk\u001b[0m\u001b[0;34m)\u001b[0m\u001b[0;34m\u001b[0m\u001b[0;34m\u001b[0m\u001b[0m\n",
      "\u001b[0m\u001b[1;32m    188\u001b[0m \u001b[0;34m\u001b[0m\u001b[0m\n",
      "\u001b[1;32m    189\u001b[0m         \u001b[0;32mif\u001b[0m \u001b[0mcallable\u001b[0m\u001b[0;34m(\u001b[0m\u001b[0marg\u001b[0m\u001b[0;34m)\u001b[0m\u001b[0;34m:\u001b[0m\u001b[0;34m\u001b[0m\u001b[0;34m\u001b[0m\u001b[0m\n",
      "\n",
      "\u001b[0;32m/usr/lib/python3/dist-packages/IPython/core/magics/script.py\u001b[0m in \u001b[0;36mshebang\u001b[0;34m(self, line, cell)\u001b[0m\n",
      "\u001b[1;32m    243\u001b[0m             \u001b[0msys\u001b[0m\u001b[0;34m.\u001b[0m\u001b[0mstderr\u001b[0m\u001b[0;34m.\u001b[0m\u001b[0mflush\u001b[0m\u001b[0;34m(\u001b[0m\u001b[0;34m)\u001b[0m\u001b[0;34m\u001b[0m\u001b[0;34m\u001b[0m\u001b[0m\n",
      "\u001b[1;32m    244\u001b[0m         \u001b[0;32mif\u001b[0m \u001b[0margs\u001b[0m\u001b[0;34m.\u001b[0m\u001b[0mraise_error\u001b[0m \u001b[0;32mand\u001b[0m \u001b[0mp\u001b[0m\u001b[0;34m.\u001b[0m\u001b[0mreturncode\u001b[0m\u001b[0;34m!=\u001b[0m\u001b[0;36m0\u001b[0m\u001b[0;34m:\u001b[0m\u001b[0;34m\u001b[0m\u001b[0;34m\u001b[0m\u001b[0m\n",
      "\u001b[0;32m--> 245\u001b[0;31m             \u001b[0;32mraise\u001b[0m \u001b[0mCalledProcessError\u001b[0m\u001b[0;34m(\u001b[0m\u001b[0mp\u001b[0m\u001b[0;34m.\u001b[0m\u001b[0mreturncode\u001b[0m\u001b[0;34m,\u001b[0m \u001b[0mcell\u001b[0m\u001b[0;34m,\u001b[0m \u001b[0moutput\u001b[0m\u001b[0;34m=\u001b[0m\u001b[0mout\u001b[0m\u001b[0;34m,\u001b[0m \u001b[0mstderr\u001b[0m\u001b[0;34m=\u001b[0m\u001b[0merr\u001b[0m\u001b[0;34m)\u001b[0m\u001b[0;34m\u001b[0m\u001b[0;34m\u001b[0m\u001b[0m\n",
      "\u001b[0m\u001b[1;32m    246\u001b[0m \u001b[0;34m\u001b[0m\u001b[0m\n",
      "\u001b[1;32m    247\u001b[0m     \u001b[0;32mdef\u001b[0m \u001b[0m_run_script\u001b[0m\u001b[0;34m(\u001b[0m\u001b[0mself\u001b[0m\u001b[0;34m,\u001b[0m \u001b[0mp\u001b[0m\u001b[0;34m,\u001b[0m \u001b[0mcell\u001b[0m\u001b[0;34m,\u001b[0m \u001b[0mto_close\u001b[0m\u001b[0;34m)\u001b[0m\u001b[0;34m:\u001b[0m\u001b[0;34m\u001b[0m\u001b[0;34m\u001b[0m\u001b[0m\n",
      "\n",
      "\u001b[0;31mCalledProcessError\u001b[0m: Command 'b'cd ../libft_testing/function_remakes\\n# pwd\\ngcc tolower_test.c -lbsd -L../../libft_working -lft\\nheader=\"Function,Input,Return_Val,Stren,Before Char,After Char\"\\necho $header > output1.csv\\ni=0\\ny=0\\nwhile [ $i -le $y ]\\ndo\\n    ./a.out 0 >> output1.csv\\n    ((i++))\\ndone\\ni=0\\necho $header > output2.csv\\nwhile [ $i -le $y ]\\ndo\\n    ./a.out 1 >> output2.csv\\n    ((i++))\\ndone\\ndiff output1.csv output2.csv\\n'' returned non-zero exit status 1."
     ]
    }
   ],
   "source": [
    "%%bash\n",
    "cd ../libft_testing/function_remakes\n",
    "# pwd\n",
    "gcc tolower_test.c -lbsd -L../../libft_working -lft\n",
    "header=\"Function,Input,Return_Val,Stren,Before Char,After Char\"\n",
    "echo $header > output1.csv\n",
    "i=0\n",
    "y=0\n",
    "while [ $i -le $y ]\n",
    "do\n",
    "    ./a.out 0 >> output1.csv\n",
    "    ((i++))\n",
    "done\n",
    "i=0\n",
    "echo $header > output2.csv\n",
    "while [ $i -le $y ]\n",
    "do\n",
    "    ./a.out 1 >> output2.csv\n",
    "    ((i++))\n",
    "done\n",
    "diff output1.csv output2.csv"
   ]
  },
  {
   "cell_type": "markdown",
   "metadata": {},
   "source": [
    "### strchr"
   ]
  },
  {
   "cell_type": "markdown",
   "metadata": {},
   "source": [
    "#### ft_strchr.c"
   ]
  },
  {
   "cell_type": "code",
   "execution_count": 322,
   "metadata": {},
   "outputs": [
    {
     "name": "stdout",
     "output_type": "stream",
     "text": [
      "Overwriting ft_strchr.c\n"
     ]
    }
   ],
   "source": [
    "%%file ft_strchr.c\n",
    "/* ************************************************************************** */\n",
    "/*                                                                            */\n",
    "/*                                                        :::      ::::::::   */\n",
    "/*   ft_strchr.c                                        :+:      :+:    :+:   */\n",
    "/*                                                    +:+ +:+         +:+     */\n",
    "/*   By: dpentlan <marvin@42.fr>                    +#+  +:+       +#+        */\n",
    "/*                                                +#+#+#+#+#+   +#+           */\n",
    "/*   Created: 2022/11/11 15:07:07 by dpentlan          #+#    #+#             */\n",
    "/*   Updated: 2022/11/11 15:07:10 by dpentlan         ###   ########.fr       */\n",
    "/*                                                                            */\n",
    "/* ************************************************************************** */\n",
    "\n",
    "#include \"libft.h\"\n",
    "\n",
    "char\t*ft_strchr(const char *s, int c)\n",
    "{\n",
    "\tint\ti;\n",
    "\n",
    "\ti = 0;\n",
    "\twhile (s[i] != 0)\n",
    "\t{\n",
    "\t\tif (s[i] == c)\n",
    "\t\t\treturn ((char *)&s[i]);\n",
    "\t\ti++;\n",
    "\t}\n",
    "\treturn (0);\n",
    "}"
   ]
  },
  {
   "cell_type": "markdown",
   "metadata": {},
   "source": [
    "#### strchr_test.c"
   ]
  },
  {
   "cell_type": "code",
   "execution_count": null,
   "metadata": {},
   "outputs": [
    {
     "name": "stdout",
     "output_type": "stream",
     "text": [
      "Overwriting ../libft_testing/function_remakes/strchr_test.c\n"
     ]
    }
   ],
   "source": [
    "%%file ../libft_testing/function_remakes/strchr_test.c\n",
    "#include <stdio.h>\n",
    "#include <stdlib.h>\n",
    "#include <string.h>\n",
    "#include \"../../libft_working/libft.h\"\n",
    "\n",
    "int main (int argc, char* argv[])\n",
    "{\n",
    "\tchar \tstring[] = \"Hi there this is a sample string with a lot of characters. The quick brown fox jumps over the lazy dog.\";\n",
    "\tchar*\treturn_val = 0;\n",
    "\tint\t\ti;\n",
    "\tchar \tall_printable[200];\n",
    "\tint\t\tlen;\n",
    "\n",
    "\ti = 32;\n",
    "\twhile(i < 128)\n",
    "\t{\n",
    "\t\tall_printable[i - 32] = i;\n",
    "\t\ti++;\n",
    "\t}\n",
    "\t// >=32 <= 127\n",
    "\n",
    "\ti = 0;\n",
    "\tlen = 95;\t\t//strlen(all_printable);\n",
    "\twhile (i < len)\n",
    "\t{\n",
    "\t\tif (atoi(argv[1]) == 0)\n",
    "\t\t{\n",
    "\t\t\treturn_val = strchr(string, all_printable[i]);\n",
    "\t\t\tprintf(\"strchr,%c,%s\\n\", all_printable[i], return_val);\n",
    "\t\t}\n",
    "\t\telse\n",
    "\t\t{\n",
    "\t\t\treturn_val = ft_strchr(string, all_printable[i]);\n",
    "\t\t\tprintf(\"strchr,%c,%s\\n\", all_printable[i], return_val);\n",
    "\t\t}\n",
    "\t\ti++;\n",
    "\t}\n",
    "\treturn (0);\n",
    "}\n"
   ]
  },
  {
   "cell_type": "code",
   "execution_count": null,
   "metadata": {},
   "outputs": [],
   "source": [
    "%%bash\n",
    "cd ../libft_testing/function_remakes\n",
    "gcc strchr_test.c -lbsd -L../../libft_working -lft\n",
    "header=\"Function,Input,Return\"\n",
    "echo $header > output1.csv\n",
    "i=1\n",
    "y=1\n",
    "while [ $i -le $y ]\n",
    "do\n",
    "    ./a.out 0 >> output1.csv\n",
    "    ((i++))\n",
    "done\n",
    "i=1\n",
    "echo $header > output2.csv\n",
    "while [ $i -le $y ]\n",
    "do\n",
    "    ./a.out 1 >> output2.csv\n",
    "    ((i++))\n",
    "done\n",
    "diff output1.csv output2.csv"
   ]
  },
  {
   "cell_type": "markdown",
   "metadata": {},
   "source": [
    "### strrchr"
   ]
  },
  {
   "cell_type": "markdown",
   "metadata": {},
   "source": [
    "- Like strchr but returns the last instance of a char rather than the first."
   ]
  },
  {
   "cell_type": "markdown",
   "metadata": {},
   "source": [
    "#### ft_strrchr.c"
   ]
  },
  {
   "cell_type": "code",
   "execution_count": 350,
   "metadata": {},
   "outputs": [
    {
     "name": "stdout",
     "output_type": "stream",
     "text": [
      "Overwriting ft_strrchr.c\n"
     ]
    }
   ],
   "source": [
    "%%file ft_strrchr.c\n",
    "/* ************************************************************************** */\n",
    "/*                                                                            */\n",
    "/*                                                        :::      ::::::::   */\n",
    "/*   ft_strrchr.c                                       :+:      :+:    :+:   */\n",
    "/*                                                    +:+ +:+         +:+     */\n",
    "/*   By: dpentlan <marvin@42.fr>                    +#+  +:+       +#+        */\n",
    "/*                                                +#+#+#+#+#+   +#+           */\n",
    "/*   Created: 2022/11/11 17:18:16 by dpentlan          #+#    #+#             */\n",
    "/*   Updated: 2022/11/11 17:18:18 by dpentlan         ###   ########.fr       */\n",
    "/*                                                                            */\n",
    "/* ************************************************************************** */\n",
    "\n",
    "#include \"libft.h\"\n",
    "\n",
    "char\t*ft_strrchr(const char *s, int c)\n",
    "{\n",
    "\tint\t\ti;\n",
    "\tchar\t*last;\n",
    "\n",
    "\tlast = 0;\n",
    "\ti = 0;\n",
    "\twhile (s[i] != 0)\n",
    "\t{\n",
    "\t\tif (s[i] == c)\n",
    "\t\t\tlast = (char *)&s[i];\n",
    "\t\ti++;\n",
    "\t}\n",
    "\treturn (last);\n",
    "}"
   ]
  },
  {
   "cell_type": "markdown",
   "metadata": {},
   "source": [
    "#### strrchr_test.c"
   ]
  },
  {
   "cell_type": "code",
   "execution_count": 2,
   "metadata": {},
   "outputs": [
    {
     "name": "stdout",
     "output_type": "stream",
     "text": [
      "Overwriting ../libft_testing/function_remakes/strrchr_test.c\n"
     ]
    }
   ],
   "source": [
    "%%file ../libft_testing/function_remakes/strrchr_test.c\n",
    "#include <stdio.h>\n",
    "#include <stdlib.h>\n",
    "#include <string.h>\n",
    "#include \"../../libft_working/libft.h\"\n",
    "\n",
    "//\ta.out takes 2 arguments. \n",
    "//\tFirst is 0 or 1 which indicates which function to use (original or 42)\n",
    "//\tSecond is a string to pass to the function.\n",
    "\n",
    "int main (int argc, char* argv[])\n",
    "{\n",
    "\tchar*\treturn_val = 0;\n",
    "\tint\t\ti;\n",
    "\tchar \tall_printable[200];\n",
    "\tint\t\tlen;\n",
    "\n",
    "\ti = 32;\n",
    "\twhile(i < 128)\n",
    "\t{\n",
    "\t\tall_printable[i - 32] = i;\n",
    "\t\ti++;\n",
    "\t}\n",
    "\t// >=32 <= 127\n",
    "\n",
    "\ti = 0;\n",
    "\tlen = 95;\t\t//strlen(all_printable);\n",
    "\twhile (i < len)\n",
    "\t{\n",
    "\t\tif (atoi(argv[1]) == 0)\n",
    "\t\t{\n",
    "\t\t\treturn_val = strrchr(argv[2], all_printable[i]);\n",
    "\t\t\tprintf(\"strrchr,%s,%c,%s\\n\", argv[2], all_printable[i], return_val);\n",
    "\t\t}\n",
    "\t\telse\n",
    "\t\t{\n",
    "\t\t\treturn_val = ft_strrchr(argv[2], all_printable[i]);\n",
    "\t\t\tprintf(\"strrchr,%s,%c,%s\\n\",argv[2], all_printable[i], return_val);\n",
    "\t\t}\n",
    "\t\ti++;\n",
    "\t}\n",
    "\treturn (0);\n",
    "}\n"
   ]
  },
  {
   "cell_type": "code",
   "execution_count": 3,
   "metadata": {},
   "outputs": [
    {
     "name": "stderr",
     "output_type": "stream",
     "text": [
      "bash: line 11: 951340 Segmentation fault      (core dumped) ./a.out 0 >> output1.csv\n",
      "bash: line 18: 951342 Segmentation fault      (core dumped) ./a.out 1 >> output2.csv\n"
     ]
    }
   ],
   "source": [
    "%%bash\n",
    "cd ../libft_testing/function_remakes\n",
    "gcc strrchr_test.c -L../../libft_working -lft\n",
    "header=\"Function,Input,Return\"\n",
    "echo $header > output1.csv\n",
    "i=1\n",
    "y=1\n",
    "while [ $i -le $y ]\n",
    "do\n",
    "    ./a.out 0 >> output1.csv\n",
    "    ((i++))\n",
    "done\n",
    "i=1\n",
    "echo $header > output2.csv\n",
    "while [ $i -le $y ]\n",
    "do\n",
    "    ./a.out 1 >> output2.csv\n",
    "    ((i++))\n",
    "done\n",
    "diff output1.csv output2.csv"
   ]
  },
  {
   "cell_type": "markdown",
   "metadata": {},
   "source": [
    "### strncmp"
   ]
  },
  {
   "cell_type": "markdown",
   "metadata": {},
   "source": [
    "#### ft_strncmp.c"
   ]
  },
  {
   "cell_type": "code",
   "execution_count": 38,
   "metadata": {},
   "outputs": [
    {
     "name": "stdout",
     "output_type": "stream",
     "text": [
      "Overwriting ft_strncmp.c\n"
     ]
    }
   ],
   "source": [
    "%%file ft_strncmp.c\n",
    "/* ************************************************************************** */\n",
    "/*                                                                            */\n",
    "/*                                                        :::      ::::::::   */\n",
    "/*   ft_strncmp.c                                       :+:      :+:    :+:   */\n",
    "/*                                                    +:+ +:+         +:+     */\n",
    "/*   By: dpentlan <dpentlan@student.42.fr>          +#+  +:+       +#+        */\n",
    "/*                                                +#+#+#+#+#+   +#+           */\n",
    "/*   Created: 2022/11/13 10:13:09 by dpentlan          #+#    #+#             */\n",
    "/*   Updated: 2022/11/13 10:13:35 by dpentlan         ###   ########.fr       */\n",
    "/*                                                                            */\n",
    "/* ************************************************************************** */\n",
    "\n",
    "#include \"libft.h\"\n",
    "\n",
    "int ft_strncmp(const char *s1, const char *s2, size_t n)\n",
    "{\n",
    "\tsize_t\ti;\n",
    "\n",
    "\ti = 0;\n",
    "    while (s1[i] == s2[i] && s1[i] != '\\0' && i < n)\n",
    "        i++;\n",
    "    return (s1[i] - s2[i]);\n",
    "}\n"
   ]
  },
  {
   "cell_type": "markdown",
   "metadata": {},
   "source": [
    "#### strncmp_test.c"
   ]
  },
  {
   "cell_type": "code",
   "execution_count": 10,
   "metadata": {},
   "outputs": [
    {
     "name": "stdout",
     "output_type": "stream",
     "text": [
      "Overwriting ../libft_testing/function_remakes/strncmp_test.c\n"
     ]
    }
   ],
   "source": [
    "%%file ../libft_testing/function_remakes/strncmp_test.c\n",
    "#include <stdio.h>\n",
    "#include <string.h>\n",
    "#include <stdlib.h>\n",
    "#include \"../../libft_working/libft.h\"\n",
    "\n",
    "int main (void)\n",
    "{\n",
    "\tint n;\n",
    "\tint\treturn_val_1;\n",
    "\tint\treturn_val_2;\n",
    "\n",
    "\tif (atoi(argv[1]) == 0)\n",
    "\t{\n",
    "\t\tprintf(\"Function,Input String 1,Input String 2,Input n,Return Value\\n\");\n",
    "\t}\n",
    "\telse if (atoi(argv[1]) == 1)\n",
    "\t{\n",
    "\t\tn = atoi(argv[4]);\n",
    "\t\treturn_val_1 = strncmp(argv[2], argv[3], n);\n",
    "\t\tprintf(\"strncmp,%s,%s,%ld,%d\\n\", argv[2], argv[3], n,return_val_1);\n",
    "\t}\n",
    "\telse if (atoi(argv[1]) == 2)\n",
    "\t{\n",
    "\t\tn = atoi(argv[4]);\n",
    "\t\treturn_val_2 = ft_strncmp(argv[2], argv[3], n);\n",
    "\t\tprintf(\"ft_strncmp,%s,%s,%ld,%d\\n\", argv[2], argv[3], n,return_val_2);\n",
    "\t}\n",
    "\n",
    "\treturn (0);\n",
    "}\n"
   ]
  },
  {
   "cell_type": "code",
   "execution_count": 41,
   "metadata": {},
   "outputs": [
    {
     "name": "stdout",
     "output_type": "stream",
     "text": [
      "Function,Input String 1,Input String 2,Input n,Return Value\n",
      "strncmp,This is string 1.,This is string 2.,17,-1\n",
      "ft_strncmp,This is string 1.,This is string 2.,17,-1\n"
     ]
    }
   ],
   "source": [
    "%%bash\n",
    "cd ../libft_testing/function_remakes/\n",
    "gcc strncmp_test.c -L../../libft_working/ -lft\n",
    "./a.out\n"
   ]
  },
  {
   "cell_type": "markdown",
   "metadata": {},
   "source": [
    "### memchr"
   ]
  },
  {
   "cell_type": "markdown",
   "metadata": {},
   "source": [
    "#### ft_memchr.c"
   ]
  },
  {
   "cell_type": "code",
   "execution_count": 344,
   "metadata": {},
   "outputs": [
    {
     "name": "stdout",
     "output_type": "stream",
     "text": [
      "Overwriting ft_memchr.c\n"
     ]
    }
   ],
   "source": [
    "%%file ft_memchr.c\n",
    "/* ************************************************************************** */\n",
    "/*                                                                            */\n",
    "/*                                                        :::      ::::::::   */\n",
    "/*   ft_memchr.c                                        :+:      :+:    :+:   */\n",
    "/*                                                    +:+ +:+         +:+     */\n",
    "/*   By: dpentlan <marvin@42.fr>                    +#+  +:+       +#+        */\n",
    "/*                                                +#+#+#+#+#+   +#+           */\n",
    "/*   Created: 2022/11/14 10:58:12 by dpentlan          #+#    #+#             */\n",
    "/*   Updated: 2022/11/14 10:58:16 by dpentlan         ###   ########.fr       */\n",
    "/*                                                                            */\n",
    "/* ************************************************************************** */\n",
    "\n",
    "#include \"libft.h\"\n",
    "\n",
    "void\t*ft_memchr(const void *s, int c, size_t n)\n",
    "{\n",
    "\tsize_t\ti;\n",
    "\n",
    "\ti = 0;\n",
    "\twhile (i < n)\n",
    "\t{\n",
    "\t\tif (*((char *)s + i) == (unsigned char)c)\n",
    "\t\t\treturn (((char *)s + i));\n",
    "\t\ti++;\n",
    "\t}\n",
    "\treturn (0);\n",
    "}\n"
   ]
  },
  {
   "cell_type": "markdown",
   "metadata": {},
   "source": [
    "#### memchr_test.c"
   ]
  },
  {
   "cell_type": "code",
   "execution_count": 12,
   "metadata": {},
   "outputs": [
    {
     "name": "stdout",
     "output_type": "stream",
     "text": [
      "Overwriting ../libft_testing/function_remakes/memchr_test.c\n"
     ]
    }
   ],
   "source": [
    "%%file ../libft_testing/function_remakes/memchr_test.c\n",
    "#include <string.h>\n",
    "#include <stdio.h>\n",
    "#include <stdlib.h>\n",
    "#include \"../../libft_working/libft.h\"\n",
    "\n",
    "int main (int argc, char *argv[])\n",
    "{\n",
    "\tchar\t*return_value;\n",
    "\tsize_t\tlen;\n",
    "\n",
    "\n",
    "\tif (atoi(argv[1]) == 0)\n",
    "\t{\n",
    "\t\tprintf(\"Function,Input String,Search Char,Size,Return Value\");\n",
    "\t}\n",
    "\tif (atoi(argv[1]) == 1)\n",
    "\t{\n",
    "\t\tlen = strlen(argv[2]);\n",
    "\t\treturn_value = memchr(argv[2], argv[3][0], len);\n",
    "\t\tprintf(\"memchr,%s,%c,%ld,%s\\n\", argv[2], argv[3][0], len, return_value);\n",
    "\t}\n",
    "\telse if (atoi(argv[1]) == 2)\n",
    "\t{\n",
    "\t\tlen = strlen(argv[2]);\n",
    "\t\treturn_value = ft_memchr(argv[2], argv[3][0], len);\n",
    "\t\tprintf(\"memchr,%s,%c,%ld,%s\\n\", argv[2], argv[3][0], len, return_value);\n",
    "\t}\n",
    "\treturn (0);\n",
    "}"
   ]
  },
  {
   "cell_type": "code",
   "execution_count": 65,
   "metadata": {},
   "outputs": [
    {
     "name": "stdout",
     "output_type": "stream",
     "text": [
      "memchr,This is a sample stringllksjdlfkjsldkfj,d,39,dlfkjsldkfj\n",
      "ft_memchr,This is a sample stringlksjdlfkjslkfjdj,d,39,dlfkjslkfjdj\n"
     ]
    }
   ],
   "source": [
    "%%bash\n",
    "cd ../libft_testing/function_remakes/\n",
    "gcc memchr_test.c -L../../libft_working/ -lft\n",
    "./a.out 1 \"This is a sample stringllksjdlfkjsldkfj\" \"d\"\n",
    "./a.out 2 \"This is a sample stringlksjdlfkjslkfjdj\" \"d\"\n",
    "\n"
   ]
  },
  {
   "cell_type": "markdown",
   "metadata": {},
   "source": [
    "### memcmp"
   ]
  },
  {
   "cell_type": "markdown",
   "metadata": {},
   "source": [
    "#### ft_memcmp.c"
   ]
  },
  {
   "cell_type": "code",
   "execution_count": 225,
   "metadata": {},
   "outputs": [
    {
     "name": "stdout",
     "output_type": "stream",
     "text": [
      "Overwriting ft_memcmp.c\n"
     ]
    }
   ],
   "source": [
    "%%file ft_memcmp.c\n",
    "/* ************************************************************************** */\n",
    "/*                                                                            */\n",
    "/*                                                        :::      ::::::::   */\n",
    "/*   ft_memcmp.c                                        :+:      :+:    :+:   */\n",
    "/*                                                    +:+ +:+         +:+     */\n",
    "/*   By: dpentlan <marvin@42.fr>                    +#+  +:+       +#+        */\n",
    "/*                                                +#+#+#+#+#+   +#+           */\n",
    "/*   Created: 2022/11/14 11:58:30 by dpentlan          #+#    #+#             */\n",
    "/*   Updated: 2022/11/14 11:58:33 by dpentlan         ###   ########.fr       */\n",
    "/*                                                                            */\n",
    "/* ************************************************************************** */\n",
    "\n",
    "#include \"libft.h\"\n",
    "\n",
    "int\tft_memcmp(const void *s1, const void *s2, size_t n)\n",
    "{\n",
    "\tsize_t\ti;\n",
    "\n",
    "\ti = 0;\n",
    "\twhile (*((unsigned char *)s1 + i) == *((unsigned char *)s2 + i) && i < n)\n",
    "\t{\n",
    "\t\ti++;\n",
    "\t}\n",
    "\treturn (*((unsigned char *)s1 + i) - *((unsigned char *)s2 + i));\n",
    "}"
   ]
  },
  {
   "cell_type": "markdown",
   "metadata": {},
   "source": [
    "#### memcmp_test.c"
   ]
  },
  {
   "cell_type": "code",
   "execution_count": 201,
   "metadata": {},
   "outputs": [
    {
     "name": "stdout",
     "output_type": "stream",
     "text": [
      "Overwriting ../libft_testing/function_remakes/memcmp_test.c\n"
     ]
    }
   ],
   "source": [
    "%%file ../libft_testing/function_remakes/memcmp_test.c\n",
    "#include <stdio.h>\n",
    "#include <stdlib.h>\n",
    "#include <string.h>\n",
    "#include \"../../libft_working/libft.h\"\n",
    "#include <math.h>\n",
    "\n",
    "int main (int argc, char* argv[])\n",
    "{\n",
    "\tint return_value;\n",
    "\n",
    "\n",
    "\treturn_value = 0;\n",
    "\tif (atoi(argv[1]) == 0)\n",
    "\t{\n",
    "\t\tprintf(\"Function,Input String,Cmp String,Size,Return Value(d),Return Value(c)\");\n",
    "\n",
    "\t}\n",
    "\telse if (atoi(argv[1]) == 1)\n",
    "\t{\n",
    "\t\treturn_value = memcmp(argv[2], argv[3], atoi(argv[4]));\n",
    "\t\tprintf(\"memcmp,%s,%s,%d,%d,%c\\n\", argv[2], argv[3], atoi(argv[4]), return_value, abs(return_value));\n",
    "\t}\n",
    "\telse if (atoi(argv[1]) == 2)\n",
    "\t{\n",
    "\t\treturn_value = ft_memcmp(argv[2], argv[3], atoi(argv[4]));\n",
    "\t\tprintf(\"ft_memcmp,%s,%s,%d,%d,%c\\n\", argv[2], argv[3], atoi(argv[4]), return_value, abs(return_value));\n",
    "\t}\n",
    "\treturn (0);\n",
    "}"
   ]
  },
  {
   "cell_type": "code",
   "execution_count": 194,
   "metadata": {},
   "outputs": [
    {
     "name": "stdout",
     "output_type": "stream",
     "text": [
      "Function,Input String,Cmp String,Size,Return Value(d),Return Value(c)memcmp,This is a sample stringllksjdlfkjsldkfj,This is a sample string,5,0,\u0000\n",
      "ft_memcmp,This is a sample stringlksjdlfkjslkfjdj,This is a sample string,5,0,\u0000\n"
     ]
    }
   ],
   "source": [
    "%%bash\n",
    "cd ../libft_testing/function_remakes/\n",
    "gcc memcmp_test.c -L../../libft_working/ -lft\n",
    "./a.out 0\n",
    "./a.out 1 \"This is a sample stringllksjdlfkjsldkfj\" \"This is a sample string\" 5\n",
    "./a.out 2 \"This is a sample stringlksjdlfkjslkfjdj\" \"This is a sample string\" 5\n",
    "\n"
   ]
  },
  {
   "cell_type": "markdown",
   "metadata": {},
   "source": [
    "### strnstr"
   ]
  },
  {
   "cell_type": "markdown",
   "metadata": {},
   "source": [
    "#### ft_strnstr.c"
   ]
  },
  {
   "cell_type": "code",
   "execution_count": 457,
   "metadata": {},
   "outputs": [
    {
     "name": "stdout",
     "output_type": "stream",
     "text": [
      "Overwriting ft_strnstr.c\n"
     ]
    }
   ],
   "source": [
    "%%file ft_strnstr.c\n",
    "/* ************************************************************************** */\n",
    "/*                                                                            */\n",
    "/*                                                        :::      ::::::::   */\n",
    "/*   ft_strnstr.c                                       :+:      :+:    :+:   */\n",
    "/*                                                    +:+ +:+         +:+     */\n",
    "/*   By: dpentlan <marvin@42.fr>                    +#+  +:+       +#+        */\n",
    "/*                                                +#+#+#+#+#+   +#+           */\n",
    "/*   Created: 2022/11/14 14:39:37 by dpentlan          #+#    #+#             */\n",
    "/*   Updated: 2022/11/14 14:39:38 by dpentlan         ###   ########.fr       */\n",
    "/*                                                                            */\n",
    "/* ************************************************************************** */\n",
    "\n",
    "#include \"libft.h\"\n",
    "\n",
    "char\t*ft_strnstr(const char *big, const char *little, size_t len)\n",
    "{\n",
    "\tsize_t\ti;\n",
    "\tsize_t\tj;\n",
    "\n",
    "\ti = 0;\n",
    "\tif (*little == 0)\n",
    "\t\treturn ((char *)big);\n",
    "\twhile (big[i] && i < len)\n",
    "\t{\n",
    "\t\tj = 0;\n",
    "\t\twhile (big[i + j] == little[j] && little[j] != 0)\n",
    "\t\t{\n",
    "\t\t\tj++;\n",
    "\t\t}\n",
    "\t\tif (little[j] == 0 && i + j <= len)\n",
    "\t\t\treturn ((char *)big + i);\n",
    "\t\ti++;\n",
    "\t}\n",
    "\treturn (0);\n",
    "}"
   ]
  },
  {
   "cell_type": "markdown",
   "metadata": {},
   "source": [
    "#### strnstr_test.c"
   ]
  },
  {
   "cell_type": "code",
   "execution_count": 482,
   "metadata": {},
   "outputs": [
    {
     "name": "stdout",
     "output_type": "stream",
     "text": [
      "Overwriting ../libft_testing/function_remakes/strnstr_test.c\n"
     ]
    }
   ],
   "source": [
    "%%file ../libft_testing/function_remakes/strnstr_test.c\n",
    "#include <stdio.h>\n",
    "#include <stdlib.h>\n",
    "#include <bsd/string.h>\n",
    "#include \"../../libft_working/libft.h\"\n",
    "#include <math.h>\n",
    "\n",
    "int main (int argc, char* argv[])\n",
    "{\n",
    "\tchar\t*return_value;\n",
    "\n",
    "\treturn_value = 0;\n",
    "\tif (atoi(argv[1]) == 0)\n",
    "\t{\n",
    "\t\tprintf(\"Function,Big,Little,len,Return Value\\n\");\n",
    "\t}\n",
    "\telse if (atoi(argv[1]) == 1)\n",
    "\t{\n",
    "\t\treturn_value = strnstr(argv[2], argv[3], atoi(argv[4]));\n",
    "\t\tprintf(\"strnstr,%s,%s,%d,%s\\n\", argv[2], argv[3], atoi(argv[4]), return_value);\n",
    "\t}\n",
    "\telse if (atoi(argv[1]) == 2)\n",
    "\t{\n",
    "\t\treturn_value = ft_strnstr(argv[2], argv[3], atoi(argv[4]));\n",
    "\t\tprintf(\"strnstr,%s,%s,%d,%s\\n\", argv[2], argv[3], atoi(argv[4]), return_value);\n",
    "\t}\n",
    "\treturn (0);\n",
    "}"
   ]
  },
  {
   "cell_type": "code",
   "execution_count": 483,
   "metadata": {},
   "outputs": [
    {
     "name": "stdout",
     "output_type": "stream",
     "text": [
      "Function,Big,Little,len,Return Value\n",
      "strnstr,This is a big string,big string,17,(null)\n",
      "strnstr,This is a big string,big string,17,(null)\n"
     ]
    }
   ],
   "source": [
    "%%bash\n",
    "cd ../libft_testing/function_remakes/\n",
    "gcc strnstr_test.c -L../../libft_working/ -lft -lbsd\n",
    "./a.out 0\n",
    "./a.out 1 \"This is a big string\" \"big string\" 17\n",
    "./a.out 2 \"This is a big string\" \"big string\" 17\n"
   ]
  },
  {
   "cell_type": "markdown",
   "metadata": {},
   "source": [
    "## Makefile"
   ]
  },
  {
   "cell_type": "code",
<<<<<<< HEAD
   "execution_count": 34,
=======
   "execution_count": 374,
>>>>>>> fee05edada0cbdca23e3f6669176f3b644f05d63
   "metadata": {},
   "outputs": [
    {
     "name": "stdout",
     "output_type": "stream",
     "text": [
      "Overwriting Makefile\n"
     ]
    }
   ],
   "source": [
    "%%file Makefile\n",
    "# **************************************************************************** #\n",
    "#                                                                              #\n",
    "#                                                         :::      ::::::::    #\n",
    "#    Makefile                                           :+:      :+:    :+:    #\n",
    "#                                                     +:+ +:+         +:+      #\n",
    "#    By: dpentlan <marvin@42.fr>                    +#+  +:+       +#+         #\n",
    "#                                                 +#+#+#+#+#+   +#+            #\n",
    "#    Created: 2022/11/07 14:36:56 by dpentlan          #+#    #+#              #\n",
    "#    Updated: 2022/11/07 14:36:58 by dpentlan         ###   ########.fr        #\n",
    "#                                                                              #\n",
    "# **************************************************************************** #\n",
    "\n",
    "# This makefile is going to compile all the .c source files into .o object files\n",
    "# Then package them with the archiver \"ar\" command. \n",
    "\n",
    "NAME = libft.a\n",
    "\n",
    "SRCS =  ft_isalpha.c \\\n",
    "        ft_isdigit.c \\\n",
    "\tft_isalnum.c \\\n",
    "        ft_isascii.c \\\n",
    "        ft_isprint.c \\\n",
    "        ft_strlen.c \\\n",
    "        ft_memset.c \\\n",
    "        ft_bzero.c \\\n",
    "        ft_memcpy.c \\\n",
    "        ft_memmove.c \\\n",
    "        ft_strlcpy.c \\\n",
    "        ft_strlcat.c \\\n",
    "        ft_toupper.c \\\n",
    "        ft_tolower.c \\\n",
    "        ft_strchr.c \\\n",
    "        ft_strrchr.c \\\n",
    "        ft_memchr.c \\\n",
    "        ft_memcmp.c \\\n",
    "        ft_strnstr.c \\\n",
    "# Note that i moved strncmp down because it's done on my home machine but not on github. remember to move this up after\n",
    "# ft_strncmp.c \\\n",
    "# ft_atoi.c \\\n",
    "# ft_calloc.c \\\t\t# Can use malloc()\n",
    "# ft_strdup.c \\\t\t# Can use malloc()\n",
    "\n",
    "# AFTER THIS IS PART II\n",
    "\n",
    "# ft_substr.c \\ \n",
    "# ft_strjoin.c \\ \n",
    "# ft_strtrim.c \\ \n",
    "# ft_split.c \\ \n",
    "# ft_itoa.c \\ \n",
    "# ft_strmapi.c \\ \n",
    "# ft_striteri.c \\ \n",
    "# ft_putchar_fd.c \\ \n",
    "# ft_putstr_fd.c \\ \n",
    "# ft_putendl_fd.c \\ \n",
    "# ft_putnbr_fd.c \\ \n",
    "# Not finished. Check Bonus.\n",
    "\n",
    "# Need to look up the syntax here.\n",
    "OBJS = ${SRCS:.c=.o}\n",
    "\n",
    "INCS = libft.h\n",
    "\n",
    "CFLAGS = -Wall -Wextra -Werror\n",
    "\n",
    "all: $(NAME)\n",
    "\n",
    "$(NAME): $(OBJS) $(INCS)\n",
    "\tar rcs $(NAME) -o $(OBJS)\n",
    "\n",
    "# Need to look up the syntax here.\n",
    ".c.o:\n",
    "\tgcc ${CFLAGS} -c $< -o ${<:.c=.o}\n",
    "\n",
    "# clean only deletes object files.\n",
    "clean:\n",
    "\trm -f $(OBJS)\n",
    "\n",
    "# fclean deletes object files and the binary.\n",
    "fclean:\tclean\n",
    "\trm -f $(NAME)\n",
    "\n",
    "# re will delete the object files and binary and then re run all. Fresh start.\n",
    "re:\tfclean all\n",
    "\n",
    "# Was coppied makefile to learn from.\n",
    "\n",
    "# NAME    = libft.a\n",
    "# \n",
    "# SRCS    = ft_atoi.c\\\n",
    "    #   ft_bzero.c\\\n",
    "    #   ft_calloc.c\\\n",
    "    #   ft_isalnum.c\\\n",
    "    #   ft_isalpha.c\\\n",
    "    #   ft_isascii.c\\\n",
    "    #   ft_isdigit.c\\\n",
    "    #   ft_isprint.c\\\n",
    "    #   ft_strlen.c\\\n",
    "    #   ft_itoa.c\\\n",
    "    #   ft_memset.c\\\n",
    "    #   ft_memcpy.c\\\n",
    "# \n",
    "# OBJS    = ${SRCS:.c=.o}\n",
    "# \n",
    "# INCS    = libft.h\n",
    "# \n",
    "# RM     = rm -f\n",
    "# \n",
    "# LIB    = ar rcs\n",
    "# \n",
    "# GCC    = gcc\n",
    "# \n",
    "# CFLAGS    = -Wall -Wextra -Werror\n",
    "# \n",
    "# .c.o:\n",
    "        # ${GCC} ${CFLAGS} -c $< -o ${<:.c=.o}\n",
    "# \n",
    "# $(NAME):    ${OBJS} ${INCS}\n",
    "        # ${LIB} ${NAME} ${OBJS}\n",
    "# \n",
    "# all:        ${NAME}\n",
    "# \n",
    "# clean:\n",
    "        # rm -f ${OBJS}\n",
    "# \n",
    "# fclean:        clean\n",
    "        # rm  -f ${NAME}\n",
    "# "
   ]
  },
  {
   "cell_type": "code",
<<<<<<< HEAD
   "execution_count": 39,
=======
   "execution_count": 484,
>>>>>>> fee05edada0cbdca23e3f6669176f3b644f05d63
   "metadata": {},
   "outputs": [
    {
     "name": "stdout",
     "output_type": "stream",
     "text": [
<<<<<<< HEAD
      "rm -f ft_isalpha.o ft_isdigit.o ft_isalnum.o ft_isascii.o ft_isprint.o ft_strlen.o ft_memset.o ft_bzero.o ft_memcpy.o ft_memmove.o ft_strlcpy.o ft_strlcat.o ft_toupper.o ft_tolower.o ft_strchr.o ft_strrchr.o ft_strncmp.o\n",
=======
      "rm -f ft_isalpha.o ft_isdigit.o ft_isalnum.o ft_isascii.o ft_isprint.o ft_strlen.o ft_memset.o ft_bzero.o ft_memcpy.o ft_memmove.o ft_strlcpy.o ft_strlcat.o ft_toupper.o ft_tolower.o ft_strchr.o ft_strrchr.o ft_memchr.o ft_memcmp.o ft_strnstr.o\n",
>>>>>>> fee05edada0cbdca23e3f6669176f3b644f05d63
      "rm -f libft.a\n",
      "gcc -Wall -Wextra -Werror -c ft_isalpha.c -o ft_isalpha.o\n",
      "gcc -Wall -Wextra -Werror -c ft_isdigit.c -o ft_isdigit.o\n",
      "gcc -Wall -Wextra -Werror -c ft_isalnum.c -o ft_isalnum.o\n",
      "gcc -Wall -Wextra -Werror -c ft_isascii.c -o ft_isascii.o\n",
      "gcc -Wall -Wextra -Werror -c ft_isprint.c -o ft_isprint.o\n",
      "gcc -Wall -Wextra -Werror -c ft_strlen.c -o ft_strlen.o\n",
      "gcc -Wall -Wextra -Werror -c ft_memset.c -o ft_memset.o\n",
      "gcc -Wall -Wextra -Werror -c ft_bzero.c -o ft_bzero.o\n",
      "gcc -Wall -Wextra -Werror -c ft_memcpy.c -o ft_memcpy.o\n",
      "gcc -Wall -Wextra -Werror -c ft_memmove.c -o ft_memmove.o\n",
      "gcc -Wall -Wextra -Werror -c ft_strlcpy.c -o ft_strlcpy.o\n",
      "gcc -Wall -Wextra -Werror -c ft_strlcat.c -o ft_strlcat.o\n",
      "gcc -Wall -Wextra -Werror -c ft_toupper.c -o ft_toupper.o\n",
      "gcc -Wall -Wextra -Werror -c ft_tolower.c -o ft_tolower.o\n",
      "gcc -Wall -Wextra -Werror -c ft_strchr.c -o ft_strchr.o\n",
      "gcc -Wall -Wextra -Werror -c ft_strrchr.c -o ft_strrchr.o\n",
<<<<<<< HEAD
      "gcc -Wall -Wextra -Werror -c ft_strncmp.c -o ft_strncmp.o\n",
      "ar rcs libft.a -o ft_isalpha.o ft_isdigit.o ft_isalnum.o ft_isascii.o ft_isprint.o ft_strlen.o ft_memset.o ft_bzero.o ft_memcpy.o ft_memmove.o ft_strlcpy.o ft_strlcat.o ft_toupper.o ft_tolower.o ft_strchr.o ft_strrchr.o ft_strncmp.o\n",
      "rm -f ft_isalpha.o ft_isdigit.o ft_isalnum.o ft_isascii.o ft_isprint.o ft_strlen.o ft_memset.o ft_bzero.o ft_memcpy.o ft_memmove.o ft_strlcpy.o ft_strlcat.o ft_toupper.o ft_tolower.o ft_strchr.o ft_strrchr.o ft_strncmp.o\n",
=======
      "gcc -Wall -Wextra -Werror -c ft_memchr.c -o ft_memchr.o\n",
      "gcc -Wall -Wextra -Werror -c ft_memcmp.c -o ft_memcmp.o\n",
      "gcc -Wall -Wextra -Werror -c ft_strnstr.c -o ft_strnstr.o\n",
      "ar rcs libft.a -o ft_isalpha.o ft_isdigit.o ft_isalnum.o ft_isascii.o ft_isprint.o ft_strlen.o ft_memset.o ft_bzero.o ft_memcpy.o ft_memmove.o ft_strlcpy.o ft_strlcat.o ft_toupper.o ft_tolower.o ft_strchr.o ft_strrchr.o ft_memchr.o ft_memcmp.o ft_strnstr.o\n",
      "rm -f ft_isalpha.o ft_isdigit.o ft_isalnum.o ft_isascii.o ft_isprint.o ft_strlen.o ft_memset.o ft_bzero.o ft_memcpy.o ft_memmove.o ft_strlcpy.o ft_strlcat.o ft_toupper.o ft_tolower.o ft_strchr.o ft_strrchr.o ft_memchr.o ft_memcmp.o ft_strnstr.o\n",
>>>>>>> fee05edada0cbdca23e3f6669176f3b644f05d63
      "ft_isalpha.o\n",
      "ft_isdigit.o\n",
      "ft_isalnum.o\n",
      "ft_isascii.o\n",
      "ft_isprint.o\n",
      "ft_strlen.o\n",
      "ft_memset.o\n",
      "ft_bzero.o\n",
      "ft_memcpy.o\n",
      "ft_memmove.o\n",
      "ft_strlcpy.o\n",
      "ft_strlcat.o\n",
      "ft_toupper.o\n",
      "ft_tolower.o\n",
      "ft_strchr.o\n",
      "ft_strrchr.o\n",
<<<<<<< HEAD
      "ft_strncmp.o\n"
=======
      "ft_memchr.o\n",
      "ft_memcmp.o\n",
      "ft_strnstr.o\n"
>>>>>>> fee05edada0cbdca23e3f6669176f3b644f05d63
     ]
    }
   ],
   "source": [
    "%%bash\n",
    "make re\n",
    "make clean\n",
    "ar -t libft.a"
   ]
  },
  {
   "cell_type": "markdown",
   "metadata": {},
   "source": [
    "## Mini Moulinette"
   ]
  },
  {
   "cell_type": "code",
<<<<<<< HEAD
   "execution_count": 5,
=======
   "execution_count": 485,
>>>>>>> fee05edada0cbdca23e3f6669176f3b644f05d63
   "metadata": {},
   "outputs": [],
   "source": [
    "import string #Python module for strings. It contains a collection of string constants\n",
    "import random #Python's module for generating random objects\n",
    "import os"
   ]
  },
  {
   "cell_type": "code",
<<<<<<< HEAD
   "execution_count": 11,
   "metadata": {},
   "outputs": [],
   "source": [
    "settings = {\"C tester path\": \"../libft_testing/function_remakes/strncmp_test.c\",\n",
    "\t\t\t\"libft path\": \".\",\n",
    "\t\t\t\"word_list size\": 100,\n",
    "\t\t\t\"max word len\": 10,\n",
    "\t\t\t\"csv header\": \"\",\n",
=======
   "execution_count": 486,
   "metadata": {},
   "outputs": [],
   "source": [
    "settings = {\"C tester path\": \"../libft_testing/function_remakes/strnstr_test.c\",\n",
    "\t\t\t\"libft path\": \".\",\n",
    "\t\t\t\"word_list size\": 100,\n",
    "\t\t\t\"max word len\": 20,\n",
    "\t\t\t\"csv header\": \"\",\n",
    "\t\t\t\"extra libs\": \"-lbsd\",\n",
>>>>>>> fee05edada0cbdca23e3f6669176f3b644f05d63
    "}"
   ]
  },
  {
   "cell_type": "code",
<<<<<<< HEAD
   "execution_count": 19,
   "metadata": {},
   "outputs": [],
   "source": [
    "def get_header():\n",
    "\tsettings['csv header'] = os.system('./a.out 0')\n"
   ]
  },
  {
   "cell_type": "code",
   "execution_count": 102,
=======
   "execution_count": 487,
>>>>>>> fee05edada0cbdca23e3f6669176f3b644f05d63
   "metadata": {},
   "outputs": [
    {
     "data": {
      "text/plain": [
       "\"!0#$%&'()*+0-./:0<=>?@[0]^_`{|}~\""
      ]
     },
     "execution_count": 487,
     "metadata": {},
     "output_type": "execute_result"
    }
   ],
   "source": [
    "lowercase_letters = string.ascii_lowercase #A constant containing lowercase letters\n",
    "uppercase_letters = string.ascii_uppercase #A constant containing uppercase letters\n",
    "digits = string.digits\n",
    "symbols = string.punctuation\n",
    "symbols = symbols.replace('\"', '0')\n",
    "symbols = symbols.replace('\\\\', '0')\n",
    "symbols = symbols.replace(',', '0')\n",
    "symbols = symbols.replace(';', '0')\n",
    "whitespace = string.whitespace\n",
    "custom_word_symbols = lowercase_letters + uppercase_letters + digits + symbols\n",
    "\n",
    "\n",
    "def uppercase_word(): #The function responsible for generating #random words which are in uppercase\n",
    "    word = '' #The variable which will hold the random word\n",
    "    random_word_length = random.randint(1,settings[\"max word len\"]) #The random length of the word\n",
    "    while len(word) != random_word_length: #While loop\n",
    "        word += random.choice(uppercase_letters)\n",
    "    return word\n",
    "\n",
    "\n",
    "def lowercase_word(): #The function responsible for generating #random words which are in uppercase\n",
    "    word = '' #The variable which will hold the random word\n",
    "    random_word_length = random.randint(1,settings[\"max word len\"]) #The random length of the word\n",
    "    while len(word) != random_word_length: #While loop\n",
    "        word += random.choice(lowercase_letters)\n",
    "    return word\n",
    "    \n",
    "def custom_word(): # This function generates a word with any mix of characters you like.\n",
    "    word = '' #The variable which will hold the random word\n",
    "    random_word_length = random.randint(1,settings[\"max word len\"]) #The random length of the word\n",
    "    while len(word) != random_word_length: #While loop\n",
    "        word += random.choice(custom_word_symbols)\n",
    "    return word\n",
    "\n",
    "symbols"
   ]
  },
  {
   "cell_type": "code",
   "execution_count": 488,
   "metadata": {},
   "outputs": [],
   "source": [
    "word_list = []\n",
    "\n",
    "for item in range(int(settings[\"word_list size\"])):\t\t\t\t\t\t# Generate wordlist 200 long. 100 upper case and 100 lower case\n",
    "\tword_list.append(uppercase_word())\n",
    "\tword_list.append(custom_word())\t\t\t\t# get ready for syntax errors if you use this! lol\n",
    "\tword_list.append(lowercase_word())"
   ]
  },
  {
   "cell_type": "code",
   "execution_count": 489,
   "metadata": {},
   "outputs": [],
   "source": [
    "with open(\"word_list.txt\", \"w\") as file_wl:\t\t# open file to save word_list\n",
    "\tfor item in word_list:\n",
    "\t\tfile_wl.write(f\"{item}\\n\")\t"
   ]
  },
  {
   "cell_type": "code",
<<<<<<< HEAD
   "execution_count": 22,
=======
   "execution_count": 490,
>>>>>>> fee05edada0cbdca23e3f6669176f3b644f05d63
   "metadata": {},
   "outputs": [
    {
     "data": {
      "text/plain": [
       "0"
      ]
     },
<<<<<<< HEAD
     "execution_count": 22,
=======
     "execution_count": 490,
>>>>>>> fee05edada0cbdca23e3f6669176f3b644f05d63
     "metadata": {},
     "output_type": "execute_result"
    }
   ],
   "source": [
<<<<<<< HEAD
    "os.system(f\"gcc {settings['C tester path']} -L{settings['libft path']} -lft\")\t\t# compile *_test.c Adjust path as needed.\n"
   ]
  },
  {
   "cell_type": "code",
   "execution_count": 21,
   "metadata": {},
   "outputs": [
    {
     "name": "stderr",
     "output_type": "stream",
     "text": [
      "Segmentation fault (core dumped)\n"
     ]
    },
    {
     "data": {
      "text/plain": [
       "35584"
      ]
     },
     "execution_count": 21,
     "metadata": {},
     "output_type": "execute_result"
    }
   ],
   "source": [
    "get_header()\n",
    "settings[\"csv header\"]"
=======
    "os.system(f\"gcc {settings['C tester path']} -L{settings['libft path']} -lft {settings['extra libs']}\")\t\t# compile *_test.c Adjust path as needed."
>>>>>>> fee05edada0cbdca23e3f6669176f3b644f05d63
   ]
  },
  {
   "cell_type": "code",
   "execution_count": 491,
   "metadata": {},
   "outputs": [
    {
     "data": {
      "text/plain": [
       "'Function,Big,Little,len,Return Value\\n\\n'"
      ]
     },
     "execution_count": 491,
     "metadata": {},
     "output_type": "execute_result"
    }
   ],
   "source": [
    "settings[\"csv header\"] = os.system(\"./a.out 0 > temp.txt\")\n",
    "with open(\"temp.txt\", \"r\") as fl:\n",
    "\tlines = fl.readlines()\n",
    "\tsettings[\"csv header\"] = f\"{lines[0]}\\n\"\n",
    "settings[\"csv header\"]"
   ]
  },
  {
   "cell_type": "code",
   "execution_count": 492,
   "metadata": {},
   "outputs": [],
   "source": [
    "with open(\"word_list.txt\", \"r\") as file_out:        # runs word_list through both the original function (a.out 0) and 42 function (a.out 1)\n",
    "    with open(\"output_OF.csv\", \"w\") as OF:\n",
    "        OF.write(settings[\"csv header\"])\n",
    "    with open(\"output_ft.csv\", \"w\") as ft:\n",
    "        ft.write(settings[\"csv header\"])\n",
    "    for item in word_list:\n",
    "        choice = random.choice(item)\n",
    "        rand_letter1 = random.randint(1, len(item))\n",
    "        rand_letter2 = random.randint(1, len(item))\n",
    "        os.system(f\"./a.out 1 '{item}' '{item[:rand_letter2]}' '{rand_letter1}' >> output_OF.csv\")     # saves the output of the ft_function.\n",
    "        os.system(f\"./a.out 2 '{item}' '{item[:rand_letter2]}' '{rand_letter1}' >> output_ft.csv\")     # saves the output of the ft_function.\n"
   ]
  },
  {
   "cell_type": "code",
   "execution_count": 164,
   "metadata": {},
   "outputs": [
    {
     "data": {
      "text/plain": [
       "'lxancbxw'"
      ]
     },
     "execution_count": 164,
     "metadata": {},
     "output_type": "execute_result"
    }
   ],
   "source": [
    "word_list[0]\n",
    "random.randint(1, len(word_list[0]))\n",
    "item[:random.randint(1, len(word_list[0]))]"
   ]
  },
  {
   "cell_type": "code",
   "execution_count": 493,
   "metadata": {},
   "outputs": [
    {
     "name": "stdout",
     "output_type": "stream",
     "text": [
      "Congrats! No diff!\n"
     ]
    }
   ],
   "source": [
    "if (os.system(f\"diff output_OF.csv output_ft.csv\") == 0):\n",
    "\tprint(\"Congrats! No diff!\")"
   ]
  },
  {
   "cell_type": "code",
   "execution_count": null,
   "metadata": {},
   "outputs": [],
   "source": []
  }
 ],
 "metadata": {
  "kernelspec": {
   "display_name": "Python 3.10.6 64-bit",
   "language": "python",
   "name": "python3"
  },
  "language_info": {
   "codemirror_mode": {
    "name": "ipython",
    "version": 3
   },
   "file_extension": ".py",
   "mimetype": "text/x-python",
   "name": "python",
   "nbconvert_exporter": "python",
   "pygments_lexer": "ipython3",
   "version": "3.8.10"
  },
  "orig_nbformat": 4,
  "vscode": {
   "interpreter": {
    "hash": "e7370f93d1d0cde622a1f8e1c04877d8463912d04d973331ad4851f04de6915a"
   }
  }
 },
 "nbformat": 4,
 "nbformat_minor": 2
}
