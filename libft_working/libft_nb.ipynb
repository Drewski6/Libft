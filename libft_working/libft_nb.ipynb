{
 "cells": [
  {
   "cell_type": "markdown",
   "metadata": {},
   "source": [
    "# LIBFT\n",
    "- This notebook is for the libft project in Ecole 42.\n",
    "- Note that we can save directly to files with the %%file prefix.\n",
    "- Similarly you can use %%bash to run any bash commands you'd like for testing."
   ]
  },
  {
   "cell_type": "markdown",
   "metadata": {},
   "source": [
    "- TODO:\n",
    "    - make chars into unsigned chars?\n",
    "    - check for calling other functions and how that works."
   ]
  },
  {
   "cell_type": "markdown",
   "metadata": {},
   "source": [
    "## Libft.h"
   ]
  },
  {
   "cell_type": "code",
   "execution_count": 176,
   "metadata": {},
   "outputs": [
    {
     "name": "stdout",
     "output_type": "stream",
     "text": [
      "Overwriting libft.h\n"
     ]
    }
   ],
   "source": [
    "%%file libft.h\n",
    "/* ************************************************************************** */\n",
    "/*                                                                            */\n",
    "/*                                                        :::      ::::::::   */\n",
    "/*   libft.h                                            :+:      :+:    :+:   */\n",
    "/*                                                    +:+ +:+         +:+     */\n",
    "/*   By: dpentlan <marvin@42.fr>                    +#+  +:+       +#+        */\n",
    "/*                                                +#+#+#+#+#+   +#+           */\n",
    "/*   Created: 2022/11/07 14:31:39 by dpentlan          #+#    #+#             */\n",
    "/*   Updated: 2022/11/07 14:31:56 by dpentlan         ###   ########.fr       */\n",
    "/*                                                                            */\n",
    "/* ************************************************************************** */\n",
    "\n",
    "//  header for my libft files.\n",
    "\n",
    "#ifndef LIBFT_H\n",
    "#define LIBFT_H\n",
    "\n",
    "int ft_isalpha(char c);\n",
    "int ft_isdigit(char c);\n",
    "int ft_isalnum(char c);\n",
    "int ft_isascii(int c);\n",
    "int ft_isprint(char c);\n",
    "long    ft_strlen(const char* str);\n",
    "void*   ft_memset(void* str, int c, unsigned int len);\n",
    "void    ft_bzero(void* str, unsigned int len);\n",
    "void*   ft_memcpy(void* dest, const void* src, unsigned int len);\n",
    "void*   ft_memmove(void* dest, const void* src, unsigned int len);\n",
    "\n",
    "\n",
    "#endif"
   ]
  },
  {
   "cell_type": "code",
   "execution_count": null,
   "metadata": {},
   "outputs": [
    {
     "name": "stdout",
     "output_type": "stream",
     "text": [
      "rm -f ft_isalpha.o ft_isdigit.o ft_isalnum.o ft_isascii.o ft_isprint.o ft_strlen.o ft_memset.o ft_bzero.o ft_memcpy.o\n",
      "rm -f libft.a\n",
      "gcc -Wall -Wextra -Werror -c ft_isalpha.c -o ft_isalpha.o\n",
      "gcc -Wall -Wextra -Werror -c ft_isdigit.c -o ft_isdigit.o\n",
      "gcc -Wall -Wextra -Werror -c ft_isalnum.c -o ft_isalnum.o\n",
      "gcc -Wall -Wextra -Werror -c ft_isascii.c -o ft_isascii.o\n",
      "gcc -Wall -Wextra -Werror -c ft_isprint.c -o ft_isprint.o\n",
      "gcc -Wall -Wextra -Werror -c ft_strlen.c -o ft_strlen.o\n",
      "gcc -Wall -Wextra -Werror -c ft_memset.c -o ft_memset.o\n",
      "gcc -Wall -Wextra -Werror -c ft_bzero.c -o ft_bzero.o\n",
      "gcc -Wall -Wextra -Werror -c ft_memcpy.c -o ft_memcpy.o\n",
      "ar rcs libft.a -o ft_isalpha.o ft_isdigit.o ft_isalnum.o ft_isascii.o ft_isprint.o ft_strlen.o ft_memset.o ft_bzero.o ft_memcpy.o\n",
      "rm -f ft_isalpha.o ft_isdigit.o ft_isalnum.o ft_isascii.o ft_isprint.o ft_strlen.o ft_memset.o ft_bzero.o ft_memcpy.o\n",
      "ft_isalpha.o\n",
      "ft_isdigit.o\n",
      "ft_isalnum.o\n",
      "ft_isascii.o\n",
      "ft_isprint.o\n",
      "ft_strlen.o\n",
      "ft_memset.o\n",
      "ft_bzero.o\n",
      "ft_memcpy.o\n"
     ]
    }
   ],
   "source": [
    "%%bash\n",
    "make re\n",
    "make clean\n",
    "ar -t libft.a"
   ]
  },
  {
   "cell_type": "markdown",
   "metadata": {},
   "source": [
    "## Functions"
   ]
  },
  {
   "cell_type": "markdown",
   "metadata": {},
   "source": [
    "### isalpha"
   ]
  },
  {
   "cell_type": "markdown",
   "metadata": {},
   "source": [
    "#### isalpha_test.c"
   ]
  },
  {
   "cell_type": "code",
   "execution_count": null,
   "metadata": {},
   "outputs": [],
   "source": [
    "%%file ../libft_testing/function_remakes/isalpha_test.c\n",
    "#include <ctype.h>\n",
    "#include <stdio.h>\n",
    "\n",
    "// Returns true/false for a single character.\n",
    "\n",
    "int main(void)\n",
    "{\n",
    "    char string[] = \"Hi, this is a sample string.\";\n",
    "    if (isalpha(string[2]))\n",
    "        printf(\"Statement was true.\");\n",
    "    else\n",
    "        printf(\"Statement was false.\");\n",
    "    return (0);\n",
    "}"
   ]
  },
  {
   "cell_type": "markdown",
   "metadata": {},
   "source": [
    "#### ft_isalpha.c"
   ]
  },
  {
   "cell_type": "code",
   "execution_count": 242,
   "metadata": {},
   "outputs": [
    {
     "name": "stdout",
     "output_type": "stream",
     "text": [
      "Overwriting ft_isalpha.c\n"
     ]
    }
   ],
   "source": [
    "%%file ft_isalpha.c\n",
    "/* ************************************************************************** */\n",
    "/*                                                                            */\n",
    "/*                                                        :::      ::::::::   */\n",
    "/*   ft_isalpha.c                                       :+:      :+:    :+:   */\n",
    "/*                                                    +:+ +:+         +:+     */\n",
    "/*   By: dpentlan <marvin@42.fr>                    +#+  +:+       +#+        */\n",
    "/*                                                +#+#+#+#+#+   +#+           */\n",
    "/*   Created: 2022/11/07 15:11:16 by dpentlan          #+#    #+#             */\n",
    "/*   Updated: 2022/11/07 15:11:19 by dpentlan         ###   ########.fr       */\n",
    "/*                                                                            */\n",
    "/* ************************************************************************** */\n",
    "\n",
    "#include \"libft.h\"\n",
    "\n",
    "int\tft_isalpha(char c)\n",
    "{\n",
    "\tif ((c >= 65 && c <= 90) || (c >= 97 && c <= 122))\n",
    "\t\treturn (1);\n",
    "\telse\n",
    "\t\treturn (0);\n",
    "}"
   ]
  },
  {
   "cell_type": "markdown",
   "metadata": {},
   "source": [
    "### isdigit"
   ]
  },
  {
   "cell_type": "markdown",
   "metadata": {},
   "source": [
    "#### isdigit_test.c"
   ]
  },
  {
   "cell_type": "code",
   "execution_count": null,
   "metadata": {},
   "outputs": [],
   "source": [
    "%%file"
   ]
  },
  {
   "cell_type": "markdown",
   "metadata": {},
   "source": [
    "#### ft_isdigit.c"
   ]
  },
  {
   "cell_type": "code",
   "execution_count": null,
   "metadata": {},
   "outputs": [],
   "source": [
    "%%file"
   ]
  },
  {
   "cell_type": "markdown",
   "metadata": {},
   "source": [
    "### isalnum"
   ]
  },
  {
   "cell_type": "markdown",
   "metadata": {},
   "source": [
    "#### isalnum_test.c"
   ]
  },
  {
   "cell_type": "code",
   "execution_count": null,
   "metadata": {},
   "outputs": [],
   "source": [
    "%%file"
   ]
  },
  {
   "cell_type": "markdown",
   "metadata": {},
   "source": [
    "#### ft_isalnum.c"
   ]
  },
  {
   "cell_type": "code",
   "execution_count": null,
   "metadata": {},
   "outputs": [],
   "source": [
    "%%file"
   ]
  },
  {
   "cell_type": "markdown",
   "metadata": {},
   "source": [
    "### isascii"
   ]
  },
  {
   "cell_type": "markdown",
   "metadata": {},
   "source": [
    "#### isascii_test.c"
   ]
  },
  {
   "cell_type": "code",
   "execution_count": null,
   "metadata": {},
   "outputs": [],
   "source": [
    "%%file"
   ]
  },
  {
   "cell_type": "markdown",
   "metadata": {},
   "source": [
    "#### ft_isascii.c"
   ]
  },
  {
   "cell_type": "code",
   "execution_count": null,
   "metadata": {},
   "outputs": [],
   "source": [
    "%%file"
   ]
  },
  {
   "cell_type": "markdown",
   "metadata": {},
   "source": [
    "### isprint"
   ]
  },
  {
   "cell_type": "markdown",
   "metadata": {},
   "source": [
    "#### isprint_test.c"
   ]
  },
  {
   "cell_type": "code",
   "execution_count": null,
   "metadata": {},
   "outputs": [],
   "source": [
    "%%file"
   ]
  },
  {
   "cell_type": "markdown",
   "metadata": {},
   "source": [
    "#### ft_isprint.c"
   ]
  },
  {
   "cell_type": "code",
   "execution_count": null,
   "metadata": {},
   "outputs": [],
   "source": [
    "%%file"
   ]
  },
  {
   "cell_type": "markdown",
   "metadata": {},
   "source": [
    "### strlen"
   ]
  },
  {
   "cell_type": "markdown",
   "metadata": {},
   "source": [
    "#### strlen_test.c"
   ]
  },
  {
   "cell_type": "code",
   "execution_count": null,
   "metadata": {},
   "outputs": [],
   "source": [
    "%%file"
   ]
  },
  {
   "cell_type": "markdown",
   "metadata": {},
   "source": [
    "#### ft_strlen.c"
   ]
  },
  {
   "cell_type": "code",
   "execution_count": null,
   "metadata": {},
   "outputs": [],
   "source": [
    "%%file"
   ]
  },
  {
   "cell_type": "markdown",
   "metadata": {},
   "source": [
    "### memset"
   ]
  },
  {
   "cell_type": "markdown",
   "metadata": {},
   "source": [
    "#### ft_memset.c"
   ]
  },
  {
   "cell_type": "code",
   "execution_count": 123,
   "metadata": {},
   "outputs": [
    {
     "name": "stdout",
     "output_type": "stream",
     "text": [
      "Overwriting ft_memset.c\n"
     ]
    }
   ],
   "source": [
    "%%file ft_memset.c\n",
    "/*\n",
    "    Placeholder for 42 header.\n",
    "*/\n",
    "\n",
    "#include \"libft.h\"\n",
    "\n",
    "/*\n",
    "returns:\n",
    "    void pointer to beginning of edited string.. Returns pointer the same as input.\n",
    "parameters: \n",
    "    void* str : Any memory item to change\n",
    "    int c     : value to replace mem location with. Can be int, but is placed like a char. Need to test ints greater than 127.\n",
    "    size_t len: Number of bytes to replace in str with c.\n",
    "*/\n",
    "void*   ft_memset(void* str, int c, unsigned int len)\n",
    "{\n",
    "    unsigned int i;\n",
    "\n",
    "    i = 0;\n",
    "    while (i < len)\n",
    "    {\n",
    "        *(char*)str = c;\n",
    "        str++;\n",
    "        i++;\n",
    "    }\n",
    "    return (str);\n",
    "}"
   ]
  },
  {
   "cell_type": "markdown",
   "metadata": {},
   "source": [
    "#### memset_test.c"
   ]
  },
  {
   "cell_type": "code",
   "execution_count": 26,
   "metadata": {},
   "outputs": [
    {
     "name": "stdout",
     "output_type": "stream",
     "text": [
      "Overwriting ../libft_testing/function_remakes/memset_test.c\n"
     ]
    }
   ],
   "source": [
    "%%file ../libft_testing/function_remakes/memset_test.c\n",
    "#include <stdio.h>\n",
    "#include <stdlib.h>\n",
    "#include <string.h>\n",
    "#include \"../../libft_working/libft.h\"\n",
    "#define SIZE 10\n",
    "#define CHAR 'W'\n",
    "\n",
    "int main (void)\n",
    "{\n",
    "    char string[] = \"This is a sample string.\";\n",
    "\n",
    "    printf(\"memset\\n\");\n",
    "    printf(\"\\tString before: %s\\n\", string);\n",
    "    printf(\"\\tsizeof(char)lksjd: %ld\\n\", sizeof(char));\n",
    "    memset(string, CHAR, SIZE*sizeof(char));\n",
    "    printf(\"\\tString after : %s\\n\", string);\n",
    "\n",
    "    char string1[] = \"This is a sample string.\";\n",
    "    printf(\"\\nft_memset\\n\");\n",
    "    printf(\"\\tString before: %s\\n\", string1);\n",
    "    printf(\"\\tsizeof(char)lksjd: %ld\\n\", sizeof(char));\n",
    "    ft_memset(string1, CHAR, SIZE*sizeof(char));\n",
    "    printf(\"\\tString after : %s\\n\", string1);\n",
    "    return (0);\n",
    "}"
   ]
  },
  {
   "cell_type": "code",
   "execution_count": 30,
   "metadata": {},
   "outputs": [
    {
     "name": "stdout",
     "output_type": "stream",
     "text": [
      "/home/drew/Documents/ecole_42/libft/libft_testing/function_remakes\n",
      "memset\n",
      "\tString before: This is a sample string.\n",
      "\tsizeof(char)lksjd: 1\n",
      "\tString after : WWWWWWWWWWsample string.\n",
      "\n",
      "ft_memset\n",
      "\tString before: This is a sample string.\n",
      "\tsizeof(char)lksjd: 1\n",
      "\tString after : WWWWWWWWWWsample string.\n",
      "CPU times: user 1.2 ms, sys: 3.85 ms, total: 5.05 ms\n",
      "Wall time: 30.6 ms\n"
     ]
    }
   ],
   "source": [
    "%%time\n",
    "%%bash\n",
    "cd ../libft_testing/function_remakes\n",
    "pwd\n",
    "gcc memset_test.c -L../../libft_working -lft\n",
    "./a.out > output && cat output"
   ]
  },
  {
   "cell_type": "markdown",
   "metadata": {},
   "source": [
    "### bzero"
   ]
  },
  {
   "cell_type": "markdown",
   "metadata": {},
   "source": [
    "#### bzero_test.c"
   ]
  },
  {
   "cell_type": "code",
   "execution_count": 266,
   "metadata": {},
   "outputs": [
    {
     "name": "stdout",
     "output_type": "stream",
     "text": [
      "Overwriting ../libft_testing/function_remakes/bzero_test.c\n"
     ]
    }
   ],
   "source": [
    "%%file ../libft_testing/function_remakes/bzero_test.c\n",
    "#include <stdio.h>\n",
    "#include <stdlib.h>\n",
    "#include <string.h>\n",
    "#include \"../../libft_working/libft.h\"\n",
    "#define OFFSET 15\n",
    "#define SIZE 5\n",
    "\n",
    "int main (void)\n",
    "{\n",
    "    int str_len;\n",
    "    int i;\n",
    "    char string[] = \"Hi this is a string.\";\n",
    "    char string1[] = \"Hi this is a string.\";\n",
    "\n",
    "    printf(\"Function,Action,Result\\n\");\n",
    "\n",
    "    // Code for testing bzero.\n",
    "    str_len = 0;\n",
    "    str_len = strlen(string);\n",
    "    printf(\"bzero,Before bzero,%s\\n\", string);\n",
    "    bzero(string + OFFSET, SIZE);\n",
    "    printf(\"bzero,After bzero,%s\\n\", string);\n",
    "    printf(\"bzero,Full String,\");\n",
    "    i = 0;\n",
    "    while (i < str_len)\n",
    "    {\n",
    "        printf(\"%c\", string[i]);\n",
    "        i++;\n",
    "    }\n",
    "    printf(\"\\n\");\n",
    "\n",
    "    // Code for testing ft_bzero.\n",
    "    printf(\"ft_bzero,Before ft_bzero,%s\\n\", string1);\n",
    "    ft_bzero(string1 + OFFSET, SIZE);\n",
    "    printf(\"ft_bzero,After ft_bzero,%s\\n\", string1);\n",
    "    printf(\"ft_bzero,Full String,\");\n",
    "    i = 0;\n",
    "    while (i < str_len)\n",
    "    {\n",
    "        printf(\"%c\", string1[i]);\n",
    "        i++;\n",
    "    }\n",
    "    printf(\"\\n\");\n",
    "\n",
    "    return (0);\n",
    "}"
   ]
  },
  {
   "cell_type": "code",
   "execution_count": 267,
   "metadata": {},
   "outputs": [
    {
     "name": "stdout",
     "output_type": "stream",
     "text": [
      "Function,Action,Result\n",
      "bzero,Before bzero,Hi this is a string.\n",
      "bzero,After bzero,Hi this is a st\n",
      "bzero,Full String,Hi this is a st\u0000\u0000\u0000\u0000\u0000\n",
      "ft_bzero,Before ft_bzero,Hi this is a string.\n",
      "ft_bzero,After ft_bzero,Hi this is a st\n",
      "ft_bzero,Full String,Hi this is a st\u0000\u0000\u0000\u0000\u0000\n"
     ]
    }
   ],
   "source": [
    "%%bash\n",
    "cd ../libft_testing/function_remakes\n",
    "# pwd\n",
    "gcc bzero_test.c -L../../libft_working -lft\n",
    "./a.out > output.csv\n",
    "python3 bin_to_csv_conv.py \"output.csv\"\n",
    "cat output.csv\n"
   ]
  },
  {
   "cell_type": "markdown",
   "metadata": {},
   "source": [
    "#### ft_bzero.c"
   ]
  },
  {
   "cell_type": "code",
   "execution_count": 38,
   "metadata": {},
   "outputs": [
    {
     "name": "stdout",
     "output_type": "stream",
     "text": [
      "Overwriting ft_bzero.c\n"
     ]
    }
   ],
   "source": [
    "%%file ft_bzero.c\n",
    "/*\n",
    "    42 Header here\n",
    "*/\n",
    "\n",
    "#include \"libft.h\"\n",
    "\n",
    "void    ft_bzero(void* str, unsigned int len)\n",
    "{\n",
    "    unsigned int i;\n",
    "\n",
    "    i = 0;\n",
    "    while(i < len)\n",
    "    {\n",
    "        *(char*)str = 0;\n",
    "        str++;\n",
    "        i++;\n",
    "    }\n",
    "    return;    \n",
    "}"
   ]
  },
  {
   "cell_type": "markdown",
   "metadata": {},
   "source": [
    "### memcpy"
   ]
  },
  {
   "cell_type": "markdown",
   "metadata": {},
   "source": [
    "#### memcpy_test.c"
   ]
  },
  {
   "cell_type": "code",
   "execution_count": 276,
   "metadata": {},
   "outputs": [
    {
     "name": "stdout",
     "output_type": "stream",
     "text": [
      "Overwriting ../libft_testing/function_remakes/memcpy_test.c\n"
     ]
    }
   ],
   "source": [
    "%%file ../libft_testing/function_remakes/memcpy_test.c\n",
    "#include <stdio.h>\n",
    "#include <stdlib.h>\n",
    "#include <string.h>\n",
    "#include \"../../libft_working/libft.h\"\n",
    "#define SIZE 6\n",
    "\n",
    "int main (void)\n",
    "{\n",
    "    char string_src[50] = \"This is a sample string.\";\n",
    "    char string_dest[50];\n",
    "    char string1_src[50] = \"This is a sample string.\";\n",
    "    char string1_dest[50];\n",
    "\n",
    "    printf(\"function,action,result\\n\");\n",
    "\n",
    "    printf(\"memcpy,Before memcpy,%s\\n\", string_dest);\n",
    "    memcpy(string_dest, string_src, SIZE);\n",
    "    printf(\"memcpy,After memcpy,%s\\n\", string_dest);\n",
    "\n",
    "    printf(\"ft_memcpy,Before ft_memcpy,%s\\n\", string1_dest);\n",
    "    ft_memcpy(string1_dest, string1_src, SIZE);\n",
    "    printf(\"ft_memcpy,After ft_memcpy,%s\\n\", string1_dest);\n",
    "\n",
    "    return(0);\n",
    "}"
   ]
  },
  {
   "cell_type": "code",
   "execution_count": 278,
   "metadata": {},
   "outputs": [],
   "source": [
    "%%bash\n",
    "cd ../libft_testing/function_remakes\n",
    "# pwd\n",
    "gcc memcpy_test.c -L../../libft_working -lft\n",
    "./a.out > output.csv\n",
    "python3 csv_to_xlsx_conv.py \"output.csv\""
   ]
  },
  {
   "cell_type": "markdown",
   "metadata": {},
   "source": [
    "#### ft_memcpy.c"
   ]
  },
  {
   "cell_type": "code",
   "execution_count": 134,
   "metadata": {},
   "outputs": [
    {
     "name": "stdout",
     "output_type": "stream",
     "text": [
      "Overwriting ft_memcpy.c\n"
     ]
    }
   ],
   "source": [
    "%%file ft_memcpy.c\n",
    "#include \"libft.h\"\n",
    "\n",
    "void*   ft_memcpy(void* dest, const void* src, unsigned int len)\n",
    "{\n",
    "    unsigned int i;\n",
    "\n",
    "    i = 0;\n",
    "    while (i < len)\n",
    "    {\n",
    "        *(char*)dest = *(char*)src;\n",
    "        dest++;\n",
    "        src++;\n",
    "        i++;\n",
    "    }\n",
    "    return (dest);\n",
    "}"
   ]
  },
  {
   "cell_type": "markdown",
   "metadata": {},
   "source": [
    "### memmove"
   ]
  },
  {
   "cell_type": "markdown",
   "metadata": {},
   "source": [
    "#### memmove_test.c"
   ]
  },
  {
   "cell_type": "code",
   "execution_count": 213,
   "metadata": {},
   "outputs": [
    {
     "name": "stdout",
     "output_type": "stream",
     "text": [
      "Overwriting ../libft_testing/function_remakes/memmove_test.c\n"
     ]
    }
   ],
   "source": [
    "%%file ../libft_testing/function_remakes/memmove_test.c\n",
    "#include <stdio.h>\n",
    "#include <stdlib.h>\n",
    "#include <string.h>\n",
    "#include \"../../libft_working/libft.h\"\n",
    "\n",
    "int main (int argc, char* argv[])\n",
    "{\n",
    "    char string_src[50] = \"This is a sample string.\";\n",
    "    char string_dest[50];\n",
    "    char string1_src[50] = \"This is a sample string.\";\n",
    "    char string1_dest[50];\n",
    "    int size;\n",
    "\n",
    "    size = atoi(argv[1]);\n",
    "\n",
    "    printf(\"memmove,Before memmove,%s\\r\\n\", string_dest);\n",
    "    memmove(string_dest, string_src, size);\n",
    "    printf(\"memmove,After memmove,%s\\r\\n\", string_dest);\n",
    "\n",
    "    printf(\"ft_memmove,Before memmove,%s\\n\", string1_dest);\n",
    "    ft_memmove(string1_dest, string1_src, size);\n",
    "    printf(\"ft_memmove,After memmove,%s\\n\", string1_dest);\n",
    "\n",
    "    return (0);\n",
    "}"
   ]
  },
  {
   "cell_type": "code",
   "execution_count": 238,
   "metadata": {},
   "outputs": [],
   "source": [
    "%%bash\n",
    "cd ../libft_testing/function_remakes\n",
    "# pwd\n",
    "gcc memmove_test.c -L../../libft_working -lft\n",
    "echo \"Function,Action,Result\" > output.csv\n",
    "i=0\n",
    "while [ $i -le 30 ]\n",
    "do\n",
    "    ./a.out $i >> output.csv\n",
    "    ((i++))\n",
    "done"
   ]
  },
  {
   "cell_type": "code",
   "execution_count": 236,
   "metadata": {},
   "outputs": [],
   "source": [
    "import pandas as pd"
   ]
  },
  {
   "cell_type": "code",
   "execution_count": 239,
   "metadata": {},
   "outputs": [
    {
     "data": {
      "text/html": [
       "<div>\n",
       "<style scoped>\n",
       "    .dataframe tbody tr th:only-of-type {\n",
       "        vertical-align: middle;\n",
       "    }\n",
       "\n",
       "    .dataframe tbody tr th {\n",
       "        vertical-align: top;\n",
       "    }\n",
       "\n",
       "    .dataframe thead th {\n",
       "        text-align: right;\n",
       "    }\n",
       "</style>\n",
       "<table border=\"1\" class=\"dataframe\">\n",
       "  <thead>\n",
       "    <tr style=\"text-align: right;\">\n",
       "      <th></th>\n",
       "      <th>Function</th>\n",
       "      <th>Action</th>\n",
       "      <th>Result</th>\n",
       "    </tr>\n",
       "  </thead>\n",
       "  <tbody>\n",
       "    <tr>\n",
       "      <th>0</th>\n",
       "      <td>memmove</td>\n",
       "      <td>Before memmove</td>\n",
       "      <td>NaN</td>\n",
       "    </tr>\n",
       "    <tr>\n",
       "      <th>1</th>\n",
       "      <td>memmove</td>\n",
       "      <td>After memmove</td>\n",
       "      <td>NaN</td>\n",
       "    </tr>\n",
       "    <tr>\n",
       "      <th>2</th>\n",
       "      <td>ft_memmove</td>\n",
       "      <td>Before memmove</td>\n",
       "      <td>NaN</td>\n",
       "    </tr>\n",
       "    <tr>\n",
       "      <th>3</th>\n",
       "      <td>ft_memmove</td>\n",
       "      <td>After memmove</td>\n",
       "      <td>NaN</td>\n",
       "    </tr>\n",
       "    <tr>\n",
       "      <th>4</th>\n",
       "      <td>memmove</td>\n",
       "      <td>Before memmove</td>\n",
       "      <td>NaN</td>\n",
       "    </tr>\n",
       "    <tr>\n",
       "      <th>...</th>\n",
       "      <td>...</td>\n",
       "      <td>...</td>\n",
       "      <td>...</td>\n",
       "    </tr>\n",
       "    <tr>\n",
       "      <th>119</th>\n",
       "      <td>ft_memmove</td>\n",
       "      <td>After memmove</td>\n",
       "      <td>This is a sample string.</td>\n",
       "    </tr>\n",
       "    <tr>\n",
       "      <th>120</th>\n",
       "      <td>memmove</td>\n",
       "      <td>Before memmove</td>\n",
       "      <td>NaN</td>\n",
       "    </tr>\n",
       "    <tr>\n",
       "      <th>121</th>\n",
       "      <td>memmove</td>\n",
       "      <td>After memmove</td>\n",
       "      <td>This is a sample string.</td>\n",
       "    </tr>\n",
       "    <tr>\n",
       "      <th>122</th>\n",
       "      <td>ft_memmove</td>\n",
       "      <td>Before memmove</td>\n",
       "      <td>NaN</td>\n",
       "    </tr>\n",
       "    <tr>\n",
       "      <th>123</th>\n",
       "      <td>ft_memmove</td>\n",
       "      <td>After memmove</td>\n",
       "      <td>This is a sample string.</td>\n",
       "    </tr>\n",
       "  </tbody>\n",
       "</table>\n",
       "<p>124 rows × 3 columns</p>\n",
       "</div>"
      ],
      "text/plain": [
       "       Function          Action                    Result\n",
       "0       memmove  Before memmove                       NaN\n",
       "1       memmove   After memmove                       NaN\n",
       "2    ft_memmove  Before memmove                       NaN\n",
       "3    ft_memmove   After memmove                       NaN\n",
       "4       memmove  Before memmove                       NaN\n",
       "..          ...             ...                       ...\n",
       "119  ft_memmove   After memmove  This is a sample string.\n",
       "120     memmove  Before memmove                       NaN\n",
       "121     memmove   After memmove  This is a sample string.\n",
       "122  ft_memmove  Before memmove                       NaN\n",
       "123  ft_memmove   After memmove  This is a sample string.\n",
       "\n",
       "[124 rows x 3 columns]"
      ]
     },
     "execution_count": 239,
     "metadata": {},
     "output_type": "execute_result"
    }
   ],
   "source": [
    "output = pd.read_csv('../libft_testing/function_remakes/output.csv')\n",
    "output"
   ]
  },
  {
   "cell_type": "markdown",
   "metadata": {},
   "source": [
    "#### ft_memmove.c"
   ]
  },
  {
   "cell_type": "code",
   "execution_count": 172,
   "metadata": {},
   "outputs": [
    {
     "name": "stdout",
     "output_type": "stream",
     "text": [
      "Overwriting ft_memmove.c\n"
     ]
    }
   ],
   "source": [
    "%%file ft_memmove.c\n",
    "#include \"libft.h\"\n",
    "\n",
    "/*\n",
    "first cast pointer to uint\n",
    "check that uint_dest - uint_src >= len\n",
    "    makes sure that dest is at least \"len\" bytes away from src\n",
    "    if so, do memcopy.\n",
    "    if not, do memcopy in reverse.\n",
    "*/\n",
    "\n",
    "void*   ft_memmove(void* dest, const void* src, unsigned int len)\n",
    "{\n",
    "    unsigned long int destp = (long int) dest;\n",
    "    unsigned long int srcp = (long int) src;\n",
    "    unsigned int i;\n",
    "\n",
    "    i = 0;\n",
    "    if (destp - srcp >= len)    \n",
    "    {\n",
    "        while (i < len)\n",
    "        {\n",
    "            *(unsigned char*)dest = *(unsigned char*)src;\n",
    "            dest++;\n",
    "            src++;\n",
    "            i++;\n",
    "        }\n",
    "        return (dest);\n",
    "    }\n",
    "    else\n",
    "    {\n",
    "        while (len > 0)\n",
    "        {\n",
    "            *(unsigned char*)(dest + len) = *(unsigned char*)(src + len);\n",
    "            len--;\n",
    "        }\n",
    "    }\n",
    "    return (dest);\n",
    "}"
   ]
  },
  {
   "cell_type": "markdown",
   "metadata": {},
   "source": [
    "### strlcpy"
   ]
  },
  {
   "cell_type": "markdown",
   "metadata": {},
   "source": [
    "#### strlcpy_test.c"
   ]
  },
  {
   "cell_type": "code",
   "execution_count": null,
   "metadata": {},
   "outputs": [],
   "source": [
    "%%file ../libft_testing/function_remakes/strlcpy_test.c\n",
    "#include <stdio.h>\n",
    "#include <stdlib.h>\n",
    "#include <string.h>\n",
    "\n",
    "int main (int argc, char* argv[])\n",
    "{\n",
    "    \n",
    "\n",
    "    return(0);\n",
    "}"
   ]
  },
  {
   "cell_type": "markdown",
   "metadata": {},
   "source": [
    "## Makefile"
   ]
  },
  {
   "cell_type": "code",
   "execution_count": 169,
   "metadata": {},
   "outputs": [
    {
     "name": "stdout",
     "output_type": "stream",
     "text": [
      "Overwriting Makefile\n"
     ]
    }
   ],
   "source": [
    "%%file Makefile\n",
    "# **************************************************************************** #\n",
    "#                                                                              #\n",
    "#                                                         :::      ::::::::    #\n",
    "#    Makefile                                           :+:      :+:    :+:    #\n",
    "#                                                     +:+ +:+         +:+      #\n",
    "#    By: dpentlan <marvin@42.fr>                    +#+  +:+       +#+         #\n",
    "#                                                 +#+#+#+#+#+   +#+            #\n",
    "#    Created: 2022/11/07 14:36:56 by dpentlan          #+#    #+#              #\n",
    "#    Updated: 2022/11/07 14:36:58 by dpentlan         ###   ########.fr        #\n",
    "#                                                                              #\n",
    "# **************************************************************************** #\n",
    "\n",
    "# This makefile is going to compile all the .c source files into .o object files\n",
    "# Then package them with the archiver \"ar\" command. \n",
    "\n",
    "NAME = libft.a\n",
    "\n",
    "SRCS =  ft_isalpha.c \\\n",
    "        ft_isdigit.c \\\n",
    "\tft_isalnum.c \\\n",
    "        ft_isascii.c \\\n",
    "        ft_isprint.c \\\n",
    "        ft_strlen.c \\\n",
    "        ft_memset.c \\\n",
    "        ft_bzero.c \\\n",
    "        ft_memcpy.c \\\n",
    "        ft_memmove.c \\\n",
    "# ft_strlcpy.c \\\n",
    "# ft_strlcat.c \\\n",
    "# ft_toupper.c \\\n",
    "# ft_tolower.c \\\n",
    "# ft_strchr.c \\\n",
    "# ft_strrchr.c \\\n",
    "# ft_strncmp.c \\\n",
    "# ft_memchr.c \\\n",
    "# ft_strnstr.c \\\n",
    "# ft_atoi.c \\\n",
    "# ft_calloc.c \\\t\t# Can use malloc()\n",
    "# ft_strdup.c\t\t# Can use malloc()\n",
    "# Not finished. Check part 2.\n",
    "\n",
    "# Need to look up the syntax here.\n",
    "OBJS = ${SRCS:.c=.o}\n",
    "\n",
    "INCS = libft.h\n",
    "\n",
    "CFLAGS = -Wall -Wextra -Werror\n",
    "\n",
    "all: $(NAME)\n",
    "\n",
    "$(NAME): $(OBJS) $(INCS)\n",
    "\tar rcs $(NAME) -o $(OBJS)\n",
    "\n",
    "# Need to look up the syntax here.\n",
    ".c.o:\n",
    "\tgcc ${CFLAGS} -c $< -o ${<:.c=.o}\n",
    "\n",
    "# clean only deletes object files.\n",
    "clean:\n",
    "\trm -f $(OBJS)\n",
    "\n",
    "# fclean deletes object files and the binary.\n",
    "fclean:\tclean\n",
    "\trm -f $(NAME)\n",
    "\n",
    "# re will delete the object files and binary and then re run all. Fresh start.\n",
    "re:\tfclean all\n",
    "\n",
    "# Was coppied makefile to learn from.\n",
    "\n",
    "# NAME    = libft.a\n",
    "# \n",
    "# SRCS    = ft_atoi.c\\\n",
    "    #   ft_bzero.c\\\n",
    "    #   ft_calloc.c\\\n",
    "    #   ft_isalnum.c\\\n",
    "    #   ft_isalpha.c\\\n",
    "    #   ft_isascii.c\\\n",
    "    #   ft_isdigit.c\\\n",
    "    #   ft_isprint.c\\\n",
    "    #   ft_strlen.c\\\n",
    "    #   ft_itoa.c\\\n",
    "    #   ft_memset.c\\\n",
    "    #   ft_memcpy.c\\\n",
    "# \n",
    "# OBJS    = ${SRCS:.c=.o}\n",
    "# \n",
    "# INCS    = libft.h\n",
    "# \n",
    "# RM     = rm -f\n",
    "# \n",
    "# LIB    = ar rcs\n",
    "# \n",
    "# GCC    = gcc\n",
    "# \n",
    "# CFLAGS    = -Wall -Wextra -Werror\n",
    "# \n",
    "# .c.o:\n",
    "        # ${GCC} ${CFLAGS} -c $< -o ${<:.c=.o}\n",
    "# \n",
    "# $(NAME):    ${OBJS} ${INCS}\n",
    "        # ${LIB} ${NAME} ${OBJS}\n",
    "# \n",
    "# all:        ${NAME}\n",
    "# \n",
    "# clean:\n",
    "        # rm -f ${OBJS}\n",
    "# \n",
    "# fclean:        clean\n",
    "        # rm  -f ${NAME}\n",
    "# "
   ]
  },
  {
   "cell_type": "code",
   "execution_count": 240,
   "metadata": {},
   "outputs": [
    {
     "name": "stdout",
     "output_type": "stream",
     "text": [
      "rm -f ft_isalpha.o ft_isdigit.o ft_isalnum.o ft_isascii.o ft_isprint.o ft_strlen.o ft_memset.o ft_bzero.o ft_memcpy.o ft_memmove.o\n",
      "rm -f libft.a\n",
      "gcc -Wall -Wextra -Werror -c ft_isalpha.c -o ft_isalpha.o\n",
      "gcc -Wall -Wextra -Werror -c ft_isdigit.c -o ft_isdigit.o\n",
      "gcc -Wall -Wextra -Werror -c ft_isalnum.c -o ft_isalnum.o\n",
      "gcc -Wall -Wextra -Werror -c ft_isascii.c -o ft_isascii.o\n",
      "gcc -Wall -Wextra -Werror -c ft_isprint.c -o ft_isprint.o\n",
      "gcc -Wall -Wextra -Werror -c ft_strlen.c -o ft_strlen.o\n",
      "gcc -Wall -Wextra -Werror -c ft_memset.c -o ft_memset.o\n",
      "gcc -Wall -Wextra -Werror -c ft_bzero.c -o ft_bzero.o\n",
      "gcc -Wall -Wextra -Werror -c ft_memcpy.c -o ft_memcpy.o\n",
      "gcc -Wall -Wextra -Werror -c ft_memmove.c -o ft_memmove.o\n",
      "ar rcs libft.a -o ft_isalpha.o ft_isdigit.o ft_isalnum.o ft_isascii.o ft_isprint.o ft_strlen.o ft_memset.o ft_bzero.o ft_memcpy.o ft_memmove.o\n",
      "rm -f ft_isalpha.o ft_isdigit.o ft_isalnum.o ft_isascii.o ft_isprint.o ft_strlen.o ft_memset.o ft_bzero.o ft_memcpy.o ft_memmove.o\n",
      "ft_isalpha.o\n",
      "ft_isdigit.o\n",
      "ft_isalnum.o\n",
      "ft_isascii.o\n",
      "ft_isprint.o\n",
      "ft_strlen.o\n",
      "ft_memset.o\n",
      "ft_bzero.o\n",
      "ft_memcpy.o\n",
      "ft_memmove.o\n"
     ]
    }
   ],
   "source": [
    "%%bash\n",
    "make re\n",
    "make clean\n",
    "ar -t libft.a"
   ]
  },
  {
   "cell_type": "markdown",
   "metadata": {},
   "source": [
    "## Scratch"
   ]
  },
  {
   "cell_type": "code",
   "execution_count": null,
   "metadata": {},
   "outputs": [],
   "source": [
    "%%bash \n"
   ]
  }
 ],
 "metadata": {
  "kernelspec": {
   "display_name": "Python 3.9.13 64-bit ('anaconda3')",
   "language": "python",
   "name": "python3"
  },
  "language_info": {
   "codemirror_mode": {
    "name": "ipython",
    "version": 3
   },
   "file_extension": ".py",
   "mimetype": "text/x-python",
   "name": "python",
   "nbconvert_exporter": "python",
   "pygments_lexer": "ipython3",
   "version": "3.9.13"
  },
  "orig_nbformat": 4,
  "vscode": {
   "interpreter": {
    "hash": "35159eb0463b8d05d6ebfa33c61ec94116d03e3b5624b7d5f509435ae71b39b3"
   }
  }
 },
 "nbformat": 4,
 "nbformat_minor": 2
}
