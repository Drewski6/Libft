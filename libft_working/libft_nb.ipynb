{
 "cells": [
  {
   "cell_type": "markdown",
   "metadata": {},
   "source": [
    "# LIBFT\n",
    "- This notebook is for the libft project in Ecole 42.\n",
    "- Note that we can save directly to files with the %%file prefix.\n",
    "- Similarly you can use %%bash to run any bash commands you'd like for testing."
   ]
  },
  {
   "cell_type": "markdown",
   "metadata": {},
   "source": [
    "### library_ft_test.c"
   ]
  },
  {
   "cell_type": "code",
   "execution_count": 62,
   "metadata": {},
   "outputs": [
    {
     "name": "stdout",
     "output_type": "stream",
     "text": [
      "Overwriting ../libft_testing/library_ft_test.c\n"
     ]
    }
   ],
   "source": [
    "%%file ../libft_testing/library_ft_test.c\n",
    "//  For testing with libft.a library and header file.\n",
    "//  To compile and link use this command:\n",
    "//      gcc library_ft_test.c -L../libft_working -lft\n",
    "\n",
    "#include \"../libft_working/libft.h\"\n",
    "#include <stdio.h>\n",
    "#include <stdlib.h>\n",
    "\n",
    "int main(int argc, char* argv[])\n",
    "{\n",
    "    char string[] = \"Hi1, there, my name is string.\";\n",
    "    printf(\"The character is '%c'.\\n\", string[atoi(argv[1])]);\n",
    "\n",
    "    // test for ft_isalpha\n",
    "    if (ft_isalpha(string[atoi(argv[1])]))\n",
    "        printf(\"The character is a letter.\\n\");\n",
    "    else\n",
    "        printf(\"The character is not a letter.\\n\");\n",
    "\n",
    "    // test for ft_isdigit\n",
    "    if (ft_isdigit(string[atoi(argv[1])]))\n",
    "        printf(\"The character is a digit.\\n\");\n",
    "    else\n",
    "        printf(\"The character is not a digit.\\n\");\n",
    "    \n",
    "    //  test for ft_isalnum\n",
    "    if (ft_isalnum(string[atoi(argv[1])]))\n",
    "        printf(\"The character is alpha-numeric.\\n\");\n",
    "    else\n",
    "        printf(\"The character is not alpha-numeric.\\n\");\n",
    "\n",
    "    // test for ft_isascii\n",
    "    if (ft_isascii(string[atoi(argv[1])]))\n",
    "        printf(\"The character is an ascii character.\\n\");\n",
    "    else\n",
    "        printf(\"The character is not an ascii character.\\n\");\n",
    "\n",
    "    // test for ft_isprint is in it's own file in ./function_remakes/isprint_test.c\n",
    "    // test for ft_strlen is in it's own file in ./function_remakes/strlen_test.c\n",
    "}"
   ]
  },
  {
   "cell_type": "markdown",
   "metadata": {},
   "source": [
    "### ft_memset.c"
   ]
  },
  {
   "cell_type": "code",
   "execution_count": 28,
   "metadata": {},
   "outputs": [
    {
     "name": "stdout",
     "output_type": "stream",
     "text": [
      "Overwriting ft_memset.c\n"
     ]
    }
   ],
   "source": [
    "%%file ft_memset.c\n",
    "\n",
    "/*\n",
    "    Placeholder for 42 header.\n",
    "*/\n",
    "\n",
    "#include \"libft.h\"\n",
    "\n",
    "/*\n",
    "returns:\n",
    "     void pointer to beginning of edited string.. Returns pointer the same as input.\n",
    "parameters: \n",
    "    void* str : Any memory item to change\n",
    "    int c     : value to replace mem location with. Can be int, but is placed like a char. Need to test ints greater than 127.\n",
    "    size_t len: Number of bytes to replace in str with c.\n",
    "*/\n",
    "void*   ft_memset(void* str, int c, int len)\n",
    "{\n",
    "    \n",
    "\n",
    "    return (str);\n",
    "}"
   ]
  },
  {
   "cell_type": "markdown",
   "metadata": {},
   "source": [
    "### memset_test.c"
   ]
  },
  {
   "cell_type": "code",
   "execution_count": 60,
   "metadata": {},
   "outputs": [
    {
     "name": "stdout",
     "output_type": "stream",
     "text": [
      "Overwriting ../libft_testing/function_remakes/memset_test.c\n"
     ]
    }
   ],
   "source": [
    "%%file ../libft_testing/function_remakes/memset_test.c\n",
    "#include <stdio.h>\n",
    "#include <stdlib.h>\n",
    "#include <string.h>\n",
    "#include \"../../libft_working/libft.h\"\n",
    "\n",
    "int main (void)\n",
    "{\n",
    "    char string[] = \"This is a sample string.\";\n",
    "\n",
    "    printf(\"memset\\n\");\n",
    "    printf(\"String before: %s\\n\", string);\n",
    "    printf(\"sizeof(char)lksjd: %ld\\n\", sizeof(char));\n",
    "    memset(string, '.', 13*sizeof(char));\n",
    "    printf(\"String after : %s\\n\", string);\n",
    "\n",
    "    printf(\"ft_memset\\n\");\n",
    "    printf(\"String before: %s\\n\", string);\n",
    "    printf(\"sizeof(char)lksjd: %ld\\n\", sizeof(char));\n",
    "    memset(string, '.', 13*sizeof(char));\n",
    "    printf(\"String after : %s\\n\", string);\n",
    "    return (0);\n",
    "}"
   ]
  },
  {
   "cell_type": "code",
   "execution_count": 61,
   "metadata": {},
   "outputs": [
    {
     "name": "stdout",
     "output_type": "stream",
     "text": [
      "/home/drew/Documents/ecole_42/libft/libft_testing/function_remakes\n",
      "String before: This is a sample string.\n",
      "sizeof(char)lksjd: 1\n",
      "String after : .............ple string.\n"
     ]
    }
   ],
   "source": [
    "%%bash\n",
    "cd ../libft_testing/function_remakes\n",
    "pwd\n",
    "gcc memset_test.c -L../../libft_working -lft\n",
    "./a.out > output && cat output"
   ]
  },
  {
   "cell_type": "markdown",
   "metadata": {},
   "source": [
    "### Build Libft"
   ]
  },
  {
   "cell_type": "code",
   "execution_count": 26,
   "metadata": {},
   "outputs": [
    {
     "name": "stdout",
     "output_type": "stream",
     "text": [
      "Overwriting libft.h\n"
     ]
    }
   ],
   "source": [
    "%%file libft.h\n",
    "/* ************************************************************************** */\n",
    "/*                                                                            */\n",
    "/*                                                        :::      ::::::::   */\n",
    "/*   libft.h                                            :+:      :+:    :+:   */\n",
    "/*                                                    +:+ +:+         +:+     */\n",
    "/*   By: dpentlan <marvin@42.fr>                    +#+  +:+       +#+        */\n",
    "/*                                                +#+#+#+#+#+   +#+           */\n",
    "/*   Created: 2022/11/07 14:31:39 by dpentlan          #+#    #+#             */\n",
    "/*   Updated: 2022/11/07 14:31:56 by dpentlan         ###   ########.fr       */\n",
    "/*                                                                            */\n",
    "/* ************************************************************************** */\n",
    "\n",
    "//  header for my libft files.\n",
    "\n",
    "#ifndef LIBFT_H\n",
    "#define LIBFT_H\n",
    "\n",
    "int ft_isalpha(char c);\n",
    "int ft_isdigit(char c);\n",
    "int ft_isalnum(char c);\n",
    "int ft_isascii(int c);\n",
    "int ft_isprint(char c);\n",
    "long    ft_strlen(const char* str);\n",
    "int ft_memset(void* str, int c, int len);\n",
    "\n",
    "#endif"
   ]
  },
  {
   "cell_type": "code",
   "execution_count": 55,
   "metadata": {},
   "outputs": [
    {
     "name": "stdout",
     "output_type": "stream",
     "text": [
      "rm -f ft_isalpha.o ft_isdigit.o ft_isalnum.o ft_isascii.o ft_isprint.o ft_strlen.o\n",
      "rm -f libft.a\n",
      "gcc -Wall -Wextra -Werror -c ft_isalpha.c -o ft_isalpha.o\n",
      "gcc -Wall -Wextra -Werror -c ft_isdigit.c -o ft_isdigit.o\n",
      "gcc -Wall -Wextra -Werror -c ft_isalnum.c -o ft_isalnum.o\n",
      "gcc -Wall -Wextra -Werror -c ft_isascii.c -o ft_isascii.o\n",
      "gcc -Wall -Wextra -Werror -c ft_isprint.c -o ft_isprint.o\n",
      "gcc -Wall -Wextra -Werror -c ft_strlen.c -o ft_strlen.o\n",
      "ar rcs libft.a -o ft_isalpha.o ft_isdigit.o ft_isalnum.o ft_isascii.o ft_isprint.o ft_strlen.o\n",
      "rm -f ft_isalpha.o ft_isdigit.o ft_isalnum.o ft_isascii.o ft_isprint.o ft_strlen.o\n"
     ]
    }
   ],
   "source": [
    "%%bash\n",
    "make re\n",
    "make clean"
   ]
  }
 ],
 "metadata": {
  "kernelspec": {
   "display_name": "Python 3.9.13 64-bit ('anaconda3')",
   "language": "python",
   "name": "python3"
  },
  "language_info": {
   "codemirror_mode": {
    "name": "ipython",
    "version": 3
   },
   "file_extension": ".py",
   "mimetype": "text/x-python",
   "name": "python",
   "nbconvert_exporter": "python",
   "pygments_lexer": "ipython3",
   "version": "3.9.13"
  },
  "orig_nbformat": 4,
  "vscode": {
   "interpreter": {
    "hash": "35159eb0463b8d05d6ebfa33c61ec94116d03e3b5624b7d5f509435ae71b39b3"
   }
  }
 },
 "nbformat": 4,
 "nbformat_minor": 2
}
