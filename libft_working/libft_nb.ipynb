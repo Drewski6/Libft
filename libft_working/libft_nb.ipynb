{
 "cells": [
  {
   "cell_type": "markdown",
   "metadata": {},
   "source": [
    "# LIBFT\n",
    "- This notebook is for the libft project in Ecole 42.\n",
    "- Note that we can save directly to files with the %%file prefix.\n",
    "- Similarly you can use %%bash to run any bash commands you'd like for testing."
   ]
  },
  {
   "cell_type": "markdown",
   "metadata": {},
   "source": [
    "- TODO:\n",
    "    - make chars into unsigned chars?\n",
    "    - check for calling other functions and how that works."
   ]
  },
  {
   "cell_type": "markdown",
   "metadata": {},
   "source": [
    "## Libft.h"
   ]
  },
  {
   "cell_type": "code",
   "execution_count": 181,
   "metadata": {},
   "outputs": [
    {
     "name": "stdout",
     "output_type": "stream",
     "text": [
      "Overwriting libft.h\n"
     ]
    }
   ],
   "source": [
    "%%file libft.h\n",
    "/* ************************************************************************** */\n",
    "/*                                                                            */\n",
    "/*                                                        :::      ::::::::   */\n",
    "/*   libft.h                                            :+:      :+:    :+:   */\n",
    "/*                                                    +:+ +:+         +:+     */\n",
    "/*   By: dpentlan <marvin@42.fr>                    +#+  +:+       +#+        */\n",
    "/*                                                +#+#+#+#+#+   +#+           */\n",
    "/*   Created: 2022/11/07 14:31:39 by dpentlan          #+#    #+#             */\n",
    "/*   Updated: 2022/11/07 14:31:56 by dpentlan         ###   ########.fr       */\n",
    "/*                                                                            */\n",
    "/* ************************************************************************** */\n",
    "\n",
    "//  header for my libft files.\n",
    "\n",
    "#ifndef LIBFT_H\n",
    "#define LIBFT_H\n",
    "# include <stddef.h>\n",
    "\n",
    "int ft_isalpha(char c);\n",
    "int ft_isdigit(char c);\n",
    "int ft_isalnum(char c);\n",
    "int ft_isascii(int c);\n",
    "int ft_isprint(char c);\n",
    "long    ft_strlen(const char* str);\n",
    "void*   ft_memset(void* str, int c, unsigned int len);      // change to size_t\n",
    "void    ft_bzero(void* str, unsigned int len);\n",
    "void*   ft_memcpy(void* dest, const void* src, unsigned int len);       // change to size_t\n",
    "void*   ft_memmove(void* dest, const void* src, unsigned int len);      // change to size_t\n",
    "size_t  ft_strlcpy(char *dest, char *src, size_t size);\n",
    "size_t  ft_strlcat(char *dest, char *src, size_t size);\n",
    "int\tft_toupper(int c);\n",
    "int\tft_tolower(int c);\n",
    "\n",
    "\n",
    "#endif"
   ]
  },
  {
   "cell_type": "code",
   "execution_count": 183,
   "metadata": {},
   "outputs": [
    {
     "name": "stdout",
     "output_type": "stream",
     "text": [
      "rm -f ft_isalpha.o ft_isdigit.o ft_isalnum.o ft_isascii.o ft_isprint.o ft_strlen.o ft_memset.o ft_bzero.o ft_memcpy.o ft_memmove.o ft_strlcpy.o ft_strlcat.o ft_toupper.o ft_tolower.o\n",
      "rm -f libft.a\n",
      "gcc -Wall -Wextra -Werror -c ft_isalpha.c -o ft_isalpha.o\n",
      "gcc -Wall -Wextra -Werror -c ft_isdigit.c -o ft_isdigit.o\n",
      "gcc -Wall -Wextra -Werror -c ft_isalnum.c -o ft_isalnum.o\n",
      "gcc -Wall -Wextra -Werror -c ft_isascii.c -o ft_isascii.o\n",
      "gcc -Wall -Wextra -Werror -c ft_isprint.c -o ft_isprint.o\n",
      "gcc -Wall -Wextra -Werror -c ft_strlen.c -o ft_strlen.o\n",
      "gcc -Wall -Wextra -Werror -c ft_memset.c -o ft_memset.o\n",
      "gcc -Wall -Wextra -Werror -c ft_bzero.c -o ft_bzero.o\n",
      "gcc -Wall -Wextra -Werror -c ft_memcpy.c -o ft_memcpy.o\n",
      "gcc -Wall -Wextra -Werror -c ft_memmove.c -o ft_memmove.o\n",
      "gcc -Wall -Wextra -Werror -c ft_strlcpy.c -o ft_strlcpy.o\n",
      "gcc -Wall -Wextra -Werror -c ft_strlcat.c -o ft_strlcat.o\n",
      "gcc -Wall -Wextra -Werror -c ft_toupper.c -o ft_toupper.o\n",
      "gcc -Wall -Wextra -Werror -c ft_tolower.c -o ft_tolower.o\n",
      "ar rcs libft.a -o ft_isalpha.o ft_isdigit.o ft_isalnum.o ft_isascii.o ft_isprint.o ft_strlen.o ft_memset.o ft_bzero.o ft_memcpy.o ft_memmove.o ft_strlcpy.o ft_strlcat.o ft_toupper.o ft_tolower.o\n",
      "rm -f ft_isalpha.o ft_isdigit.o ft_isalnum.o ft_isascii.o ft_isprint.o ft_strlen.o ft_memset.o ft_bzero.o ft_memcpy.o ft_memmove.o ft_strlcpy.o ft_strlcat.o ft_toupper.o ft_tolower.o\n",
      "ft_isalpha.o\n",
      "ft_isdigit.o\n",
      "ft_isalnum.o\n",
      "ft_isascii.o\n",
      "ft_isprint.o\n",
      "ft_strlen.o\n",
      "ft_memset.o\n",
      "ft_bzero.o\n",
      "ft_memcpy.o\n",
      "ft_memmove.o\n",
      "ft_strlcpy.o\n",
      "ft_strlcat.o\n",
      "ft_toupper.o\n",
      "ft_tolower.o\n"
     ]
    }
   ],
   "source": [
    "%%bash\n",
    "make re\n",
    "make clean\n",
    "ar -t libft.a"
   ]
  },
  {
   "cell_type": "markdown",
   "metadata": {},
   "source": [
    "## Functions"
   ]
  },
  {
   "cell_type": "markdown",
   "metadata": {},
   "source": [
    "### isalpha"
   ]
  },
  {
   "cell_type": "markdown",
   "metadata": {},
   "source": [
    "#### isalpha_test.c"
   ]
  },
  {
   "cell_type": "code",
   "execution_count": 97,
   "metadata": {},
   "outputs": [],
   "source": [
    "%%file ../libft_testing/function_remakes/isalpha_test.c\n",
    "#include <ctype.h>\n",
    "#include <stdio.h>\n",
    "\n",
    "// Returns true/false for a single character.\n",
    "\n",
    "int main(void)\n",
    "{\n",
    "    char string[] = \"Hi, this is a sample string.\";\n",
    "    if (isalpha(string[2]))\n",
    "        printf(\"Statement was true.\");\n",
    "    else\n",
    "        printf(\"Statement was false.\");\n",
    "    return (0);\n",
    "}"
   ]
  },
  {
   "cell_type": "markdown",
   "metadata": {},
   "source": [
    "#### ft_isalpha.c"
   ]
  },
  {
   "cell_type": "code",
   "execution_count": 99,
   "metadata": {},
   "outputs": [
    {
     "name": "stdout",
     "output_type": "stream",
     "text": [
      "Overwriting ft_isalpha.c\n"
     ]
    }
   ],
   "source": [
    "%%file ft_isalpha.c\n",
    "/* ************************************************************************** */\n",
    "/*                                                                            */\n",
    "/*                                                        :::      ::::::::   */\n",
    "/*   ft_isalpha.c                                       :+:      :+:    :+:   */\n",
    "/*                                                    +:+ +:+         +:+     */\n",
    "/*   By: dpentlan <marvin@42.fr>                    +#+  +:+       +#+        */\n",
    "/*                                                +#+#+#+#+#+   +#+           */\n",
    "/*   Created: 2022/11/07 15:11:16 by dpentlan          #+#    #+#             */\n",
    "/*   Updated: 2022/11/07 15:11:19 by dpentlan         ###   ########.fr       */\n",
    "/*                                                                            */\n",
    "/* ************************************************************************** */\n",
    "\n",
    "#include \"libft.h\"\n",
    "\n",
    "int\tft_isalpha(char c)\n",
    "{\n",
    "\tif ((c >= 65 && c <= 90) || (c >= 97 && c <= 122))\n",
    "\t\treturn (1);\n",
    "\telse\n",
    "\t\treturn (0);\n",
    "}\n"
   ]
  },
  {
   "cell_type": "markdown",
   "metadata": {},
   "source": [
    "### isdigit"
   ]
  },
  {
   "cell_type": "markdown",
   "metadata": {},
   "source": [
    "#### isdigit_test.c"
   ]
  },
  {
   "cell_type": "code",
   "execution_count": null,
   "metadata": {},
   "outputs": [],
   "source": [
    "%%file"
   ]
  },
  {
   "cell_type": "markdown",
   "metadata": {},
   "source": [
    "#### ft_isdigit.c"
   ]
  },
  {
   "cell_type": "code",
   "execution_count": 101,
   "metadata": {},
   "outputs": [
    {
     "name": "stdout",
     "output_type": "stream",
     "text": [
      "Overwriting ft_isdigit.c\n"
     ]
    }
   ],
   "source": [
    "%%file ft_isdigit.c\n",
    "/* ************************************************************************** */\n",
    "/*                                                                            */\n",
    "/*                                                        :::      ::::::::   */\n",
    "/*   ft_isdigit.c                                       :+:      :+:    :+:   */\n",
    "/*                                                    +:+ +:+         +:+     */\n",
    "/*   By: dpentlan <marvin@42.fr>                    +#+  +:+       +#+        */\n",
    "/*                                                +#+#+#+#+#+   +#+           */\n",
    "/*   Created: 2022/11/08 16:53:10 by dpentlan          #+#    #+#             */\n",
    "/*   Updated: 2022/11/08 16:53:14 by dpentlan         ###   ########.fr       */\n",
    "/*                                                                            */\n",
    "/* ************************************************************************** */\n",
    "\n",
    "#include \"libft.h\"\n",
    "\n",
    "int\tft_isdigit(char c)\n",
    "{\n",
    "\tif (c >= 48 && c <= 57)\n",
    "\t\treturn (1);\n",
    "\telse\n",
    "\t\treturn (0);\n",
    "}\n"
   ]
  },
  {
   "cell_type": "markdown",
   "metadata": {},
   "source": [
    "### isalnum"
   ]
  },
  {
   "cell_type": "markdown",
   "metadata": {},
   "source": [
    "#### isalnum_test.c"
   ]
  },
  {
   "cell_type": "code",
   "execution_count": null,
   "metadata": {},
   "outputs": [],
   "source": [
    "%%file"
   ]
  },
  {
   "cell_type": "markdown",
   "metadata": {},
   "source": [
    "#### ft_isalnum.c"
   ]
  },
  {
   "cell_type": "code",
   "execution_count": 102,
   "metadata": {},
   "outputs": [],
   "source": [
    "# %load ft_isalnum.c\n",
    "/* ************************************************************************** */\n",
    "/*                                                                            */\n",
    "/*                                                        :::      ::::::::   */\n",
    "/*   ft_isalnum.c                                       :+:      :+:    :+:   */\n",
    "/*                                                    +:+ +:+         +:+     */\n",
    "/*   By: dpentlan <marvin@42.fr>                    +#+  +:+       +#+        */\n",
    "/*                                                +#+#+#+#+#+   +#+           */\n",
    "/*   Created: 2022/11/08 17:10:36 by dpentlan          #+#    #+#             */\n",
    "/*   Updated: 2022/11/08 17:10:39 by dpentlan         ###   ########.fr       */\n",
    "/*                                                                            */\n",
    "/* ************************************************************************** */\n",
    "\n",
    "#include \"libft.h\"\n",
    "\n",
    "int\tft_isalnum(char c)\n",
    "{\n",
    "\tif (ft_isalpha(c) || ft_isdigit(c))\n",
    "\t\treturn (1);\n",
    "\telse\n",
    "\t\treturn (0);\n",
    "}\n"
   ]
  },
  {
   "cell_type": "markdown",
   "metadata": {},
   "source": [
    "### isascii"
   ]
  },
  {
   "cell_type": "markdown",
   "metadata": {},
   "source": [
    "#### isascii_test.c"
   ]
  },
  {
   "cell_type": "code",
   "execution_count": null,
   "metadata": {},
   "outputs": [],
   "source": [
    "%%file"
   ]
  },
  {
   "cell_type": "markdown",
   "metadata": {},
   "source": [
    "#### ft_isascii.c"
   ]
  },
  {
   "cell_type": "code",
   "execution_count": 103,
   "metadata": {},
   "outputs": [],
   "source": [
    "# %load ft_isascii.c\n",
    "/* ************************************************************************** */\n",
    "/*                                                                            */\n",
    "/*                                                        :::      ::::::::   */\n",
    "/*   ft_isascii.c                                       :+:      :+:    :+:   */\n",
    "/*                                                    +:+ +:+         +:+     */\n",
    "/*   By: dpentlan <marvin@42.fr>                    +#+  +:+       +#+        */\n",
    "/*                                                +#+#+#+#+#+   +#+           */\n",
    "/*   Created: 2022/11/11 12:56:54 by dpentlan          #+#    #+#             */\n",
    "/*   Updated: 2022/11/11 12:57:01 by dpentlan         ###   ########.fr       */\n",
    "/*                                                                            */\n",
    "/* ************************************************************************** */\n",
    "\n",
    "#include \"libft.h\"\n",
    "\n",
    "int\tft_isascii(int c)\n",
    "{\n",
    "\tif (c >= 0 && c <= 127)\n",
    "\t\treturn (1);\n",
    "\telse\n",
    "\t\treturn (0);\n",
    "}\n"
   ]
  },
  {
   "cell_type": "markdown",
   "metadata": {},
   "source": [
    "### isprint"
   ]
  },
  {
   "cell_type": "markdown",
   "metadata": {},
   "source": [
    "#### isprint_test.c"
   ]
  },
  {
   "cell_type": "code",
   "execution_count": null,
   "metadata": {},
   "outputs": [],
   "source": [
    "%%file"
   ]
  },
  {
   "cell_type": "markdown",
   "metadata": {},
   "source": [
    "#### ft_isprint.c"
   ]
  },
  {
   "cell_type": "code",
   "execution_count": 104,
   "metadata": {},
   "outputs": [],
   "source": [
    "# %load ft_isprint.c\n",
    "/* ************************************************************************** */\n",
    "/*                                                                            */\n",
    "/*                                                        :::      ::::::::   */\n",
    "/*   ft_isprint.c                                       :+:      :+:    :+:   */\n",
    "/*                                                    +:+ +:+         +:+     */\n",
    "/*   By: dpentlan <marvin@42.fr>                    +#+  +:+       +#+        */\n",
    "/*                                                +#+#+#+#+#+   +#+           */\n",
    "/*   Created: 2022/11/11 12:57:41 by dpentlan          #+#    #+#             */\n",
    "/*   Updated: 2022/11/11 12:57:45 by dpentlan         ###   ########.fr       */\n",
    "/*                                                                            */\n",
    "/* ************************************************************************** */\n",
    "\n",
    "#include \"libft.h\"\n",
    "\n",
    "// >=32 <=126\n",
    "int ft_isprint(char c)\n",
    "{\n",
    "    if (c >= 32 && c <= 126)\n",
    "        return (1);\n",
    "    else\n",
    "        return (0);\n",
    "}\n"
   ]
  },
  {
   "cell_type": "markdown",
   "metadata": {},
   "source": [
    "### strlen"
   ]
  },
  {
   "cell_type": "markdown",
   "metadata": {},
   "source": [
    "#### strlen_test.c"
   ]
  },
  {
   "cell_type": "code",
   "execution_count": null,
   "metadata": {},
   "outputs": [],
   "source": [
    "%%file"
   ]
  },
  {
   "cell_type": "markdown",
   "metadata": {},
   "source": [
    "#### ft_strlen.c"
   ]
  },
  {
   "cell_type": "code",
   "execution_count": 105,
   "metadata": {},
   "outputs": [],
   "source": [
    "# %load ft_strlen.c\n",
    "/* ************************************************************************** */\n",
    "/*                                                                            */\n",
    "/*                                                        :::      ::::::::   */\n",
    "/*   ft_strlen.c                                        :+:      :+:    :+:   */\n",
    "/*                                                    +:+ +:+         +:+     */\n",
    "/*   By: dpentlan <marvin@42.fr>                    +#+  +:+       +#+        */\n",
    "/*                                                +#+#+#+#+#+   +#+           */\n",
    "/*   Created: 2022/11/11 12:59:37 by dpentlan          #+#    #+#             */\n",
    "/*   Updated: 2022/11/11 12:59:45 by dpentlan         ###   ########.fr       */\n",
    "/*                                                                            */\n",
    "/* ************************************************************************** */\n",
    "\n",
    "#include \"libft.h\"\n",
    "\n",
    "long ft_strlen(const char* str)\n",
    "{\n",
    "    long i;\n",
    "\n",
    "    i = 0;\n",
    "    while (str[i] != '\\0')\n",
    "        i++;\n",
    "    return (i);\n",
    "}\n"
   ]
  },
  {
   "cell_type": "markdown",
   "metadata": {},
   "source": [
    "### memset"
   ]
  },
  {
   "cell_type": "markdown",
   "metadata": {},
   "source": [
    "#### memset_test.c"
   ]
  },
  {
   "cell_type": "code",
   "execution_count": 26,
   "metadata": {},
   "outputs": [
    {
     "name": "stdout",
     "output_type": "stream",
     "text": [
      "Overwriting ../libft_testing/function_remakes/memset_test.c\n"
     ]
    }
   ],
   "source": [
    "%%file ../libft_testing/function_remakes/memset_test.c\n",
    "#include <stdio.h>\n",
    "#include <stdlib.h>\n",
    "#include <string.h>\n",
    "#include \"../../libft_working/libft.h\"\n",
    "#define SIZE 10\n",
    "#define CHAR 'W'\n",
    "\n",
    "int main (void)\n",
    "{\n",
    "    char string[] = \"This is a sample string.\";\n",
    "\n",
    "    printf(\"memset\\n\");\n",
    "    printf(\"\\tString before: %s\\n\", string);\n",
    "    printf(\"\\tsizeof(char)lksjd: %ld\\n\", sizeof(char));\n",
    "    memset(string, CHAR, SIZE*sizeof(char));\n",
    "    printf(\"\\tString after : %s\\n\", string);\n",
    "\n",
    "    char string1[] = \"This is a sample string.\";\n",
    "    printf(\"\\nft_memset\\n\");\n",
    "    printf(\"\\tString before: %s\\n\", string1);\n",
    "    printf(\"\\tsizeof(char)lksjd: %ld\\n\", sizeof(char));\n",
    "    ft_memset(string1, CHAR, SIZE*sizeof(char));\n",
    "    printf(\"\\tString after : %s\\n\", string1);\n",
    "    return (0);\n",
    "}"
   ]
  },
  {
   "cell_type": "code",
   "execution_count": 30,
   "metadata": {},
   "outputs": [
    {
     "name": "stdout",
     "output_type": "stream",
     "text": [
      "/home/drew/Documents/ecole_42/libft/libft_testing/function_remakes\n",
      "memset\n",
      "\tString before: This is a sample string.\n",
      "\tsizeof(char)lksjd: 1\n",
      "\tString after : WWWWWWWWWWsample string.\n",
      "\n",
      "ft_memset\n",
      "\tString before: This is a sample string.\n",
      "\tsizeof(char)lksjd: 1\n",
      "\tString after : WWWWWWWWWWsample string.\n",
      "CPU times: user 1.2 ms, sys: 3.85 ms, total: 5.05 ms\n",
      "Wall time: 30.6 ms\n"
     ]
    }
   ],
   "source": [
    "%%time\n",
    "%%bash\n",
    "cd ../libft_testing/function_remakes\n",
    "pwd\n",
    "gcc memset_test.c -L../../libft_working -lft\n",
    "./a.out > output && cat output"
   ]
  },
  {
   "cell_type": "markdown",
   "metadata": {},
   "source": [
    "#### ft_memset.c"
   ]
  },
  {
   "cell_type": "code",
   "execution_count": 107,
   "metadata": {},
   "outputs": [],
   "source": [
    "# %load ft_memset.c\n",
    "/* ************************************************************************** */\n",
    "/*                                                                            */\n",
    "/*                                                        :::      ::::::::   */\n",
    "/*   ft_memset.c                                        :+:      :+:    :+:   */\n",
    "/*                                                    +:+ +:+         +:+     */\n",
    "/*   By: dpentlan <marvin@42.fr>                    +#+  +:+       +#+        */\n",
    "/*                                                +#+#+#+#+#+   +#+           */\n",
    "/*   Created: 2022/11/11 12:58:28 by dpentlan          #+#    #+#             */\n",
    "/*   Updated: 2022/11/11 12:58:38 by dpentlan         ###   ########.fr       */\n",
    "/*                                                                            */\n",
    "/* ************************************************************************** */\n",
    "/*\n",
    "returns:\n",
    "    void pointer to beginning of edited string.. Returns pointer the same as input.\n",
    "parameters: \n",
    "    void* str : Any memory item to change\n",
    "    int c     : value to replace mem location with. Can be int, but is placed like a char. Need to test ints greater than 127.\n",
    "    size_t len: Number of bytes to replace in str with c.\n",
    "*/\n",
    "\n",
    "#include \"libft.h\"\n",
    "\n",
    "void*   ft_memset(void* str, int c, unsigned int len)\n",
    "{\n",
    "    unsigned int i;\n",
    "\n",
    "    i = 0;\n",
    "    while (i < len)\n",
    "    {\n",
    "        *(char*)str = c;\n",
    "        str++;\n",
    "        i++;\n",
    "    }\n",
    "    return (str);\n",
    "}\n"
   ]
  },
  {
   "cell_type": "markdown",
   "metadata": {},
   "source": [
    "### bzero"
   ]
  },
  {
   "cell_type": "markdown",
   "metadata": {},
   "source": [
    "#### bzero_test.c"
   ]
  },
  {
   "cell_type": "code",
   "execution_count": 266,
   "metadata": {},
   "outputs": [
    {
     "name": "stdout",
     "output_type": "stream",
     "text": [
      "Overwriting ../libft_testing/function_remakes/bzero_test.c\n"
     ]
    }
   ],
   "source": [
    "%%file ../libft_testing/function_remakes/bzero_test.c\n",
    "#include <stdio.h>\n",
    "#include <stdlib.h>\n",
    "#include <string.h>\n",
    "#include \"../../libft_working/libft.h\"\n",
    "#define OFFSET 15\n",
    "#define SIZE 5\n",
    "\n",
    "int main (void)\n",
    "{\n",
    "    int str_len;\n",
    "    int i;\n",
    "    char string[] = \"Hi this is a string.\";\n",
    "    char string1[] = \"Hi this is a string.\";\n",
    "\n",
    "    printf(\"Function,Action,Result\\n\");\n",
    "\n",
    "    // Code for testing bzero.\n",
    "    str_len = 0;\n",
    "    str_len = strlen(string);\n",
    "    printf(\"bzero,Before bzero,%s\\n\", string);\n",
    "    bzero(string + OFFSET, SIZE);\n",
    "    printf(\"bzero,After bzero,%s\\n\", string);\n",
    "    printf(\"bzero,Full String,\");\n",
    "    i = 0;\n",
    "    while (i < str_len)\n",
    "    {\n",
    "        printf(\"%c\", string[i]);\n",
    "        i++;\n",
    "    }\n",
    "    printf(\"\\n\");\n",
    "\n",
    "    // Code for testing ft_bzero.\n",
    "    printf(\"ft_bzero,Before ft_bzero,%s\\n\", string1);\n",
    "    ft_bzero(string1 + OFFSET, SIZE);\n",
    "    printf(\"ft_bzero,After ft_bzero,%s\\n\", string1);\n",
    "    printf(\"ft_bzero,Full String,\");\n",
    "    i = 0;\n",
    "    while (i < str_len)\n",
    "    {\n",
    "        printf(\"%c\", string1[i]);\n",
    "        i++;\n",
    "    }\n",
    "    printf(\"\\n\");\n",
    "\n",
    "    return (0);\n",
    "}"
   ]
  },
  {
   "cell_type": "code",
   "execution_count": 267,
   "metadata": {},
   "outputs": [
    {
     "name": "stdout",
     "output_type": "stream",
     "text": [
      "Function,Action,Result\n",
      "bzero,Before bzero,Hi this is a string.\n",
      "bzero,After bzero,Hi this is a st\n",
      "bzero,Full String,Hi this is a st\u0000\u0000\u0000\u0000\u0000\n",
      "ft_bzero,Before ft_bzero,Hi this is a string.\n",
      "ft_bzero,After ft_bzero,Hi this is a st\n",
      "ft_bzero,Full String,Hi this is a st\u0000\u0000\u0000\u0000\u0000\n"
     ]
    }
   ],
   "source": [
    "%%bash\n",
    "cd ../libft_testing/function_remakes\n",
    "# pwd\n",
    "gcc bzero_test.c -L../../libft_working -lft\n",
    "./a.out > output.csv\n",
    "python3 bin_to_csv_conv.py \"output.csv\"\n",
    "cat output.csv\n"
   ]
  },
  {
   "cell_type": "markdown",
   "metadata": {},
   "source": [
    "#### ft_bzero.c"
   ]
  },
  {
   "cell_type": "code",
   "execution_count": 108,
   "metadata": {},
   "outputs": [],
   "source": [
    "# %load ft_bzero.c\n",
    "/* ************************************************************************** */\n",
    "/*                                                                            */\n",
    "/*                                                        :::      ::::::::   */\n",
    "/*   ft_bzero.c                                         :+:      :+:    :+:   */\n",
    "/*                                                    +:+ +:+         +:+     */\n",
    "/*   By: dpentlan <marvin@42.fr>                    +#+  +:+       +#+        */\n",
    "/*                                                +#+#+#+#+#+   +#+           */\n",
    "/*   Created: 2022/11/11 12:56:13 by dpentlan          #+#    #+#             */\n",
    "/*   Updated: 2022/11/11 12:56:23 by dpentlan         ###   ########.fr       */\n",
    "/*                                                                            */\n",
    "/* ************************************************************************** */\n",
    "\n",
    "#include \"libft.h\"\n",
    "\n",
    "void    ft_bzero(void* str, unsigned int len)\n",
    "{\n",
    "    unsigned int i;\n",
    "\n",
    "    i = 0;\n",
    "    while(i < len)\n",
    "    {\n",
    "        *(char*)str = 0;\n",
    "        str++;\n",
    "        i++;\n",
    "    }\n",
    "    return;    \n",
    "}\n"
   ]
  },
  {
   "cell_type": "markdown",
   "metadata": {},
   "source": [
    "### memcpy"
   ]
  },
  {
   "cell_type": "markdown",
   "metadata": {},
   "source": [
    "#### memcpy_test.c"
   ]
  },
  {
   "cell_type": "code",
   "execution_count": 276,
   "metadata": {},
   "outputs": [
    {
     "name": "stdout",
     "output_type": "stream",
     "text": [
      "Overwriting ../libft_testing/function_remakes/memcpy_test.c\n"
     ]
    }
   ],
   "source": [
    "%%file ../libft_testing/function_remakes/memcpy_test.c\n",
    "#include <stdio.h>\n",
    "#include <stdlib.h>\n",
    "#include <string.h>\n",
    "#include \"../../libft_working/libft.h\"\n",
    "#define SIZE 6\n",
    "\n",
    "int main (void)\n",
    "{\n",
    "    char string_src[50] = \"This is a sample string.\";\n",
    "    char string_dest[50];\n",
    "    char string1_src[50] = \"This is a sample string.\";\n",
    "    char string1_dest[50];\n",
    "\n",
    "    printf(\"function,action,result\\n\");\n",
    "\n",
    "    printf(\"memcpy,Before memcpy,%s\\n\", string_dest);\n",
    "    memcpy(string_dest, string_src, SIZE);\n",
    "    printf(\"memcpy,After memcpy,%s\\n\", string_dest);\n",
    "\n",
    "    printf(\"ft_memcpy,Before ft_memcpy,%s\\n\", string1_dest);\n",
    "    ft_memcpy(string1_dest, string1_src, SIZE);\n",
    "    printf(\"ft_memcpy,After ft_memcpy,%s\\n\", string1_dest);\n",
    "\n",
    "    return(0);\n",
    "}"
   ]
  },
  {
   "cell_type": "code",
   "execution_count": 277,
   "metadata": {},
   "outputs": [],
   "source": [
    "%%bash\n",
    "cd ../libft_testing/function_remakes\n",
    "# pwd\n",
    "gcc memcpy_test.c -L../../libft_working -lft\n",
    "./a.out > output.csv\n",
    "python3 csv_to_xlsx_conv.py \"output.csv\""
   ]
  },
  {
   "cell_type": "markdown",
   "metadata": {},
   "source": [
    "#### ft_memcpy.c"
   ]
  },
  {
   "cell_type": "code",
   "execution_count": 109,
   "metadata": {},
   "outputs": [],
   "source": [
    "# %load ft_memcpy.c\n",
    "/* ************************************************************************** */\n",
    "/*                                                                            */\n",
    "/*                                                        :::      ::::::::   */\n",
    "/*   ft_memcpy.c                                        :+:      :+:    :+:   */\n",
    "/*                                                    +:+ +:+         +:+     */\n",
    "/*   By: dpentlan <marvin@42.fr>                    +#+  +:+       +#+        */\n",
    "/*                                                +#+#+#+#+#+   +#+           */\n",
    "/*   Created: 2022/11/11 12:57:55 by dpentlan          #+#    #+#             */\n",
    "/*   Updated: 2022/11/11 12:57:56 by dpentlan         ###   ########.fr       */\n",
    "/*                                                                            */\n",
    "/* ************************************************************************** */\n",
    "\n",
    "#include \"libft.h\"\n",
    "\n",
    "void*   ft_memcpy(void* dest, const void* src, unsigned int len)\n",
    "{\n",
    "    unsigned int i;\n",
    "\n",
    "    i = 0;\n",
    "    while (i < len)\n",
    "    {\n",
    "        *(char*)dest = *(char*)src;\n",
    "        dest++;\n",
    "        src++;\n",
    "        i++;\n",
    "    }\n",
    "    return (dest);\n",
    "}\n"
   ]
  },
  {
   "cell_type": "markdown",
   "metadata": {},
   "source": [
    "### memmove"
   ]
  },
  {
   "cell_type": "markdown",
   "metadata": {},
   "source": [
    "#### memmove_test.c"
   ]
  },
  {
   "cell_type": "code",
   "execution_count": 213,
   "metadata": {},
   "outputs": [
    {
     "name": "stdout",
     "output_type": "stream",
     "text": [
      "Overwriting ../libft_testing/function_remakes/memmove_test.c\n"
     ]
    }
   ],
   "source": [
    "%%file ../libft_testing/function_remakes/memmove_test.c\n",
    "#include <stdio.h>\n",
    "#include <stdlib.h>\n",
    "#include <string.h>\n",
    "#include \"../../libft_working/libft.h\"\n",
    "\n",
    "int main (int argc, char* argv[])\n",
    "{\n",
    "    char string_src[50] = \"This is a sample string.\";\n",
    "    char string_dest[50];\n",
    "    char string1_src[50] = \"This is a sample string.\";\n",
    "    char string1_dest[50];\n",
    "    int size;\n",
    "\n",
    "    size = atoi(argv[1]);\n",
    "\n",
    "    printf(\"memmove,Before memmove,%s\\r\\n\", string_dest);\n",
    "    memmove(string_dest, string_src, size);\n",
    "    printf(\"memmove,After memmove,%s\\r\\n\", string_dest);\n",
    "\n",
    "    printf(\"ft_memmove,Before memmove,%s\\n\", string1_dest);\n",
    "    ft_memmove(string1_dest, string1_src, size);\n",
    "    printf(\"ft_memmove,After memmove,%s\\n\", string1_dest);\n",
    "\n",
    "    return (0);\n",
    "}"
   ]
  },
  {
   "cell_type": "code",
   "execution_count": 238,
   "metadata": {},
   "outputs": [],
   "source": [
    "%%bash\n",
    "cd ../libft_testing/function_remakes\n",
    "# pwd\n",
    "gcc memmove_test.c -L../../libft_working -lft\n",
    "echo \"Function,Action,Result\" > output.csv\n",
    "i=0\n",
    "while [ $i -le 30 ]\n",
    "do\n",
    "    ./a.out $i >> output.csv\n",
    "    ((i++))\n",
    "done"
   ]
  },
  {
   "cell_type": "code",
   "execution_count": 236,
   "metadata": {},
   "outputs": [],
   "source": [
    "import pandas as pd"
   ]
  },
  {
   "cell_type": "code",
   "execution_count": 239,
   "metadata": {},
   "outputs": [
    {
     "data": {
      "text/html": [
       "<div>\n",
       "<style scoped>\n",
       "    .dataframe tbody tr th:only-of-type {\n",
       "        vertical-align: middle;\n",
       "    }\n",
       "\n",
       "    .dataframe tbody tr th {\n",
       "        vertical-align: top;\n",
       "    }\n",
       "\n",
       "    .dataframe thead th {\n",
       "        text-align: right;\n",
       "    }\n",
       "</style>\n",
       "<table border=\"1\" class=\"dataframe\">\n",
       "  <thead>\n",
       "    <tr style=\"text-align: right;\">\n",
       "      <th></th>\n",
       "      <th>Function</th>\n",
       "      <th>Action</th>\n",
       "      <th>Result</th>\n",
       "    </tr>\n",
       "  </thead>\n",
       "  <tbody>\n",
       "    <tr>\n",
       "      <th>0</th>\n",
       "      <td>memmove</td>\n",
       "      <td>Before memmove</td>\n",
       "      <td>NaN</td>\n",
       "    </tr>\n",
       "    <tr>\n",
       "      <th>1</th>\n",
       "      <td>memmove</td>\n",
       "      <td>After memmove</td>\n",
       "      <td>NaN</td>\n",
       "    </tr>\n",
       "    <tr>\n",
       "      <th>2</th>\n",
       "      <td>ft_memmove</td>\n",
       "      <td>Before memmove</td>\n",
       "      <td>NaN</td>\n",
       "    </tr>\n",
       "    <tr>\n",
       "      <th>3</th>\n",
       "      <td>ft_memmove</td>\n",
       "      <td>After memmove</td>\n",
       "      <td>NaN</td>\n",
       "    </tr>\n",
       "    <tr>\n",
       "      <th>4</th>\n",
       "      <td>memmove</td>\n",
       "      <td>Before memmove</td>\n",
       "      <td>NaN</td>\n",
       "    </tr>\n",
       "    <tr>\n",
       "      <th>...</th>\n",
       "      <td>...</td>\n",
       "      <td>...</td>\n",
       "      <td>...</td>\n",
       "    </tr>\n",
       "    <tr>\n",
       "      <th>119</th>\n",
       "      <td>ft_memmove</td>\n",
       "      <td>After memmove</td>\n",
       "      <td>This is a sample string.</td>\n",
       "    </tr>\n",
       "    <tr>\n",
       "      <th>120</th>\n",
       "      <td>memmove</td>\n",
       "      <td>Before memmove</td>\n",
       "      <td>NaN</td>\n",
       "    </tr>\n",
       "    <tr>\n",
       "      <th>121</th>\n",
       "      <td>memmove</td>\n",
       "      <td>After memmove</td>\n",
       "      <td>This is a sample string.</td>\n",
       "    </tr>\n",
       "    <tr>\n",
       "      <th>122</th>\n",
       "      <td>ft_memmove</td>\n",
       "      <td>Before memmove</td>\n",
       "      <td>NaN</td>\n",
       "    </tr>\n",
       "    <tr>\n",
       "      <th>123</th>\n",
       "      <td>ft_memmove</td>\n",
       "      <td>After memmove</td>\n",
       "      <td>This is a sample string.</td>\n",
       "    </tr>\n",
       "  </tbody>\n",
       "</table>\n",
       "<p>124 rows × 3 columns</p>\n",
       "</div>"
      ],
      "text/plain": [
       "       Function          Action                    Result\n",
       "0       memmove  Before memmove                       NaN\n",
       "1       memmove   After memmove                       NaN\n",
       "2    ft_memmove  Before memmove                       NaN\n",
       "3    ft_memmove   After memmove                       NaN\n",
       "4       memmove  Before memmove                       NaN\n",
       "..          ...             ...                       ...\n",
       "119  ft_memmove   After memmove  This is a sample string.\n",
       "120     memmove  Before memmove                       NaN\n",
       "121     memmove   After memmove  This is a sample string.\n",
       "122  ft_memmove  Before memmove                       NaN\n",
       "123  ft_memmove   After memmove  This is a sample string.\n",
       "\n",
       "[124 rows x 3 columns]"
      ]
     },
     "execution_count": 239,
     "metadata": {},
     "output_type": "execute_result"
    }
   ],
   "source": [
    "output = pd.read_csv('../libft_testing/function_remakes/output.csv')\n",
    "output"
   ]
  },
  {
   "cell_type": "markdown",
   "metadata": {},
   "source": [
    "#### ft_memmove.c"
   ]
  },
  {
   "cell_type": "code",
   "execution_count": 110,
   "metadata": {},
   "outputs": [],
   "source": [
    "# %load ft_memmove.c\n",
    "/* ************************************************************************** */\n",
    "/*                                                                            */\n",
    "/*                                                        :::      ::::::::   */\n",
    "/*   ft_memmove.c                                       :+:      :+:    :+:   */\n",
    "/*                                                    +:+ +:+         +:+     */\n",
    "/*   By: dpentlan <marvin@42.fr>                    +#+  +:+       +#+        */\n",
    "/*                                                +#+#+#+#+#+   +#+           */\n",
    "/*   Created: 2022/11/11 12:58:05 by dpentlan          #+#    #+#             */\n",
    "/*   Updated: 2022/11/11 12:58:20 by dpentlan         ###   ########.fr       */\n",
    "/*                                                                            */\n",
    "/* ************************************************************************** */\n",
    "/*\n",
    "first cast pointer to uint\n",
    "check that uint_dest - uint_src >= len\n",
    "    makes sure that dest is at least \"len\" bytes away from src\n",
    "    if so, do memcopy.\n",
    "*/\n",
    "\n",
    "#include \"libft.h\"\n",
    "\n",
    "\n",
    "void*   ft_memmove(void* dest, const void* src, unsigned int len)\n",
    "{\n",
    "    unsigned long int destp = (long int) dest;\n",
    "    unsigned long int srcp = (long int) src;\n",
    "    unsigned int i;\n",
    "\n",
    "    i = 0;\n",
    "    if (destp - srcp >= len)    \n",
    "    {\n",
    "        while (i < len)\n",
    "        {\n",
    "            *(unsigned char*)dest = *(unsigned char*)src;\n",
    "            dest++;\n",
    "            src++;\n",
    "            i++;\n",
    "        }\n",
    "        return (dest);\n",
    "    }\n",
    "    else\n",
    "    {\n",
    "        while (len > 0)\n",
    "        {\n",
    "            *(unsigned char*)(dest + len) = *(unsigned char*)(src + len);\n",
    "            len--;\n",
    "        }\n",
    "    }\n",
    "    return (dest);\n",
    "}\n"
   ]
  },
  {
   "cell_type": "markdown",
   "metadata": {},
   "source": [
    "### strlcpy"
   ]
  },
  {
   "cell_type": "markdown",
   "metadata": {},
   "source": [
    "#### strlcpy_test.c\n",
    "- This test will take 2 arguments.\n",
    "    - First one is either 0 or 1 which indicates if the program is going to use bsd strlcpy or ft strlcpy. \n",
    "    - second is the number of characters to copy over. \n",
    "- The bash script runs a loop for each and then compares the diff."
   ]
  },
  {
   "cell_type": "code",
   "execution_count": 55,
   "metadata": {},
   "outputs": [
    {
     "name": "stdout",
     "output_type": "stream",
     "text": [
      "Overwriting ../libft_testing/function_remakes/strlcpy_test.c\n"
     ]
    }
   ],
   "source": [
    "%%file ../libft_testing/function_remakes/strlcpy_test.c\n",
    "#include <stdio.h>\n",
    "#include <stdlib.h>\n",
    "#include <string.h>\n",
    "#include <bsd/string.h>\n",
    "#include \"../../libft_working/libft.h\"\n",
    "\n",
    "int main (int argc, char* argv[])\n",
    "{\n",
    "    char string_src[50] = \"Hi this is a source sting.\";\n",
    "    char string_dest[50];\n",
    "    int size;\n",
    "    int return_val;\n",
    "\n",
    "    size = atoi(argv[2]);\n",
    "    if (atoi(argv[1]) == 0)\n",
    "    {\n",
    "        //printf(\"strlcpy,before,%d,%s\\n\",size, string_dest);\n",
    "        return_val = strlcpy(string_dest, string_src, size);\n",
    "        printf(\"strlcpy,after,%d,%s,%d\\n\",size, string_dest, return_val);\n",
    "    }\n",
    "    else if (atoi(argv[1]) == 1)\n",
    "    {\n",
    "        //printf(\"ft_strlcpy,before,%d,%s\\n\",size, string1_dest);\n",
    "        return_val = ft_strlcpy(string_dest, string_src, size);\n",
    "        printf(\"ft_strlcpy,after,%d,%s,%d\\n\",size, string_dest, return_val);\n",
    "    }\n",
    "    return (0);\n",
    "}\n"
   ]
  },
  {
   "cell_type": "code",
   "execution_count": 56,
   "metadata": {},
   "outputs": [],
   "source": [
    "%%bash\n",
    "cd ../libft_testing/function_remakes\n",
    "# pwd\n",
    "gcc strlcpy_test.c -lbsd -L../../libft_working -lft\n",
    "echo \"Function,Action,Size,Result\" > output1.csv\n",
    "i=0\n",
    "while [ $i -le 30 ]\n",
    "do\n",
    "    ./a.out 0 $i >> output1.csv\n",
    "    ((i++))\n",
    "done\n",
    "i=0\n",
    "echo \"Function,Action,Size,Result\" > output2.csv\n",
    "while [ $i -le 30 ]\n",
    "do\n",
    "    ./a.out 1 $i >> output2.csv\n",
    "    ((i++))\n",
    "done\n",
    "# diff output1.csv output2.csv"
   ]
  },
  {
   "cell_type": "markdown",
   "metadata": {},
   "source": [
    "#### ft_strlcpy"
   ]
  },
  {
   "cell_type": "code",
   "execution_count": 112,
   "metadata": {},
   "outputs": [],
   "source": [
    "# %load ft_strlcpy.c\n",
    "/* ************************************************************************** */\n",
    "/*                                                                            */\n",
    "/*                                                        :::      ::::::::   */\n",
    "/*   ft_strlcpy.c                                       :+:      :+:    :+:   */\n",
    "/*                                                    +:+ +:+         +:+     */\n",
    "/*   By: dpentlan <marvin@42.fr>                    +#+  +:+       +#+        */\n",
    "/*                                                +#+#+#+#+#+   +#+           */\n",
    "/*   Created: 2022/11/11 12:59:12 by dpentlan          #+#    #+#             */\n",
    "/*   Updated: 2022/11/11 12:59:13 by dpentlan         ###   ########.fr       */\n",
    "/*                                                                            */\n",
    "/* ************************************************************************** */\n",
    "\n",
    "#include \"libft.h\"\n",
    "\n",
    "size_t  ft_strlcpy(char *dest, char *src, size_t size)\n",
    "{\n",
    "    size_t  i;  \n",
    "\n",
    "    i = 0u; \n",
    "    while (*src != '\\0')\n",
    "    {   \n",
    "        if (i + 1 < size)\n",
    "        {\n",
    "            *dest = *src;\n",
    "            dest++;\n",
    "        }\n",
    "        src++;\n",
    "        i++;\n",
    "    }   \n",
    "    *dest = '\\0';\n",
    "    return (i);\n",
    "}\n"
   ]
  },
  {
   "cell_type": "markdown",
   "metadata": {},
   "source": [
    "### strlcat"
   ]
  },
  {
   "cell_type": "markdown",
   "metadata": {},
   "source": [
    "#### strlcat_test.c"
   ]
  },
  {
   "cell_type": "code",
   "execution_count": 82,
   "metadata": {},
   "outputs": [
    {
     "name": "stdout",
     "output_type": "stream",
     "text": [
      "Overwriting ../libft_testing/function_remakes/strlcat_test.c\n"
     ]
    }
   ],
   "source": [
    "%%file ../libft_testing/function_remakes/strlcat_test.c\n",
    "#include <stdio.h>\n",
    "#include <stdlib.h>\n",
    "#include <string.h>\n",
    "#include <bsd/string.h>\n",
    "#include \"../../libft_working/libft.h\"\n",
    "\n",
    "int main (int argc, char* argv[])\n",
    "{\n",
    "    char string_src[50] = \"Hi this is a source string.\";\n",
    "    char string_dest[50]= \"\";\n",
    "    int size;\n",
    "    int return_val;\n",
    "\n",
    "    size = atoi(argv[2]);\n",
    "    if (atoi(argv[1]) == 0)\n",
    "    {\n",
    "        //printf(\"strlcpy,before,%d,%s\\n\",size, string_dest);\n",
    "        return_val = strlcat(string_dest, string_src, size);\n",
    "        printf(\"strlcpy,after,%d,%s,%d\\n\",size, string_dest, return_val);\n",
    "    }\n",
    "    else if (atoi(argv[1]) == 1)\n",
    "    {\n",
    "        //printf(\"ft_strlcpy,before,%d,%s\\n\",size, string1_dest);\n",
    "        return_val = ft_strlcat(string_dest, string_src, size);\n",
    "        printf(\"ft_strlcpy,after,%d,%s,%d\\n\",size, string_dest, return_val);\n",
    "    }\n",
    "    return (0);\n",
    "}\n"
   ]
  },
  {
   "cell_type": "code",
   "execution_count": 84,
   "metadata": {},
   "outputs": [],
   "source": [
    "%%bash\n",
    "cd ../libft_testing/function_remakes\n",
    "# pwd\n",
    "gcc strlcat_test.c -lbsd -L../../libft_working -lft\n",
    "echo \"Function,Action,Size,Result,Return_Val\" > output1.csv\n",
    "i=0\n",
    "while [ $i -le 30 ]\n",
    "do\n",
    "    ./a.out 0 $i >> output1.csv\n",
    "    ((i++))\n",
    "done\n",
    "i=0\n",
    "echo \"Function,Action,Size,Result,Return_Val\" > output2.csv\n",
    "while [ $i -le 30 ]\n",
    "do\n",
    "    ./a.out 1 $i >> output2.csv\n",
    "    ((i++))\n",
    "done\n",
    "# diff output1.csv output2.csv"
   ]
  },
  {
   "cell_type": "markdown",
   "metadata": {},
   "source": [
    "#### ft_strlcat.c"
   ]
  },
  {
   "cell_type": "code",
   "execution_count": 113,
   "metadata": {},
   "outputs": [],
   "source": [
    "# %load ft_strlcat.c\n",
    "/* ************************************************************************** */\n",
    "/*                                                                            */\n",
    "/*                                                        :::      ::::::::   */\n",
    "/*   ft_strlcat.c                                       :+:      :+:    :+:   */\n",
    "/*                                                    +:+ +:+         +:+     */\n",
    "/*   By: dpentlan <marvin@42.fr>                    +#+  +:+       +#+        */\n",
    "/*                                                +#+#+#+#+#+   +#+           */\n",
    "/*   Created: 2022/11/11 12:58:53 by dpentlan          #+#    #+#             */\n",
    "/*   Updated: 2022/11/11 12:59:00 by dpentlan         ###   ########.fr       */\n",
    "/*                                                                            */\n",
    "/* ************************************************************************** */\n",
    "\n",
    "#include \"libft.h\"\n",
    "\n",
    "size_t  ft_strlcat(char *dest, char *src, size_t size)\n",
    "{\n",
    "    unsigned int    dest_len;\n",
    "    unsigned int    src_len;\n",
    "    unsigned int    i;  \n",
    "\n",
    "    dest_len = 0U; \n",
    "    src_len = 0U; \n",
    "    i = 0U; \n",
    "    while (dest[dest_len] != '\\0')\n",
    "        dest_len++;\n",
    "    while (src[src_len] != '\\0')\n",
    "        src_len++;\n",
    "    if (size == 0)\n",
    "        return (src_len);\n",
    "    while (src[i] != '\\0' && dest_len + i < size - 1)\n",
    "    {   \n",
    "        dest[dest_len + i] = src[i];\n",
    "        i++;\n",
    "    }   \n",
    "    dest[dest_len + i] = '\\0';\n",
    "    if (dest_len > size)\n",
    "        return (src_len + size);\n",
    "    return (dest_len + src_len);\n",
    "}\n"
   ]
  },
  {
   "cell_type": "markdown",
   "metadata": {},
   "source": [
    "### toupper"
   ]
  },
  {
   "cell_type": "markdown",
   "metadata": {},
   "source": [
    "#### toupper_test.c"
   ]
  },
  {
   "cell_type": "code",
   "execution_count": 168,
   "metadata": {},
   "outputs": [
    {
     "name": "stdout",
     "output_type": "stream",
     "text": [
      "Overwriting ../libft_testing/function_remakes/toupper_test.c\n"
     ]
    }
   ],
   "source": [
    "%%file ../libft_testing/function_remakes/toupper_test.c\n",
    "#include <stdio.h>\n",
    "#include <stdlib.h>\n",
    "#include <string.h>\n",
    "#include <ctype.h>\n",
    "#include \"../../libft_working/libft.h\"\n",
    "\n",
    "int main (int argc, char* argv[])\n",
    "{\n",
    "    char string_src[50] = \"Hi this is a source string.\";\n",
    "    char string_all_ascii_vals[128] = \"\";\n",
    "    int i;\n",
    "    int return_val;\n",
    "    int len;\n",
    "\n",
    "    len = strlen(string_src);\n",
    "    i = 1;\n",
    "\n",
    "    while (i < 128)\n",
    "    {\n",
    "        string_all_ascii_vals[i] = i;\n",
    "        i++;\n",
    "    }\n",
    "\n",
    "    i = 0;\n",
    "    while (i < len)\n",
    "    {\n",
    "        if (atoi(argv[1]) == 0)\n",
    "        {\n",
    "            return_val = toupper(string_src[i]);\n",
    "            printf(\"toupper,%d,%d,%d,%c,%c\\n\", string_src[i], return_val, len, string_src[i], return_val);\n",
    "        }\n",
    "        else if (atoi(argv[1]) == 1)\n",
    "        {\n",
    "            return_val = ft_toupper(string_src[i]);\n",
    "            printf(\"toupper,%d,%d,%d,%c,%c\\n\", string_src[i], return_val, len, string_src[i], return_val);\n",
    "        }\n",
    "        i++;\n",
    "    }\n",
    "\n",
    "    i = 0;\n",
    "    while (i < 128)\n",
    "    {\n",
    "        if (atoi(argv[1]) == 0)\n",
    "        {\n",
    "            return_val = toupper(string_all_ascii_vals[i]);\n",
    "            printf(\"toupper,%d,%d,%d,%c,%c\\n\", string_all_ascii_vals[i], return_val, len, string_all_ascii_vals[i], return_val);\n",
    "        }\n",
    "        else if (atoi(argv[1]) == 1)\n",
    "        {\n",
    "            return_val = ft_toupper(string_all_ascii_vals[i]);\n",
    "            printf(\"toupper,%d,%d,%d,%c,%c\\n\", string_all_ascii_vals[i], return_val, len, string_all_ascii_vals[i], return_val);\n",
    "        }\n",
    "        i++;\n",
    "    }\n",
    "    return (0);\n",
    "}\n"
   ]
  },
  {
   "cell_type": "code",
   "execution_count": 169,
   "metadata": {},
   "outputs": [],
   "source": [
    "%%bash\n",
    "cd ../libft_testing/function_remakes\n",
    "# pwd\n",
    "gcc toupper_test.c -lbsd -L../../libft_working -lft\n",
    "header=\"Function,Input,Return_Val,Stren,Before Char,After Char\"\n",
    "echo $header > output1.csv\n",
    "i=0\n",
    "y=0\n",
    "while [ $i -le $y ]\n",
    "do\n",
    "    ./a.out 0 >> output1.csv\n",
    "    ((i++))\n",
    "done\n",
    "i=0\n",
    "echo $header > output2.csv\n",
    "while [ $i -le $y ]\n",
    "do\n",
    "    ./a.out 1 >> output2.csv\n",
    "    ((i++))\n",
    "done\n",
    "diff output1.csv output2.csv"
   ]
  },
  {
   "cell_type": "markdown",
   "metadata": {},
   "source": [
    "#### ft_toupper.c"
   ]
  },
  {
   "cell_type": "code",
   "execution_count": 132,
   "metadata": {},
   "outputs": [
    {
     "name": "stdout",
     "output_type": "stream",
     "text": [
      "Overwriting ft_toupper.c\n"
     ]
    }
   ],
   "source": [
    "%%file ft_toupper.c\n",
    "/* ************************************************************************** */\n",
    "/*                                                                            */\n",
    "/*                                                        :::      ::::::::   */\n",
    "/*   ft_toupper.c                                       :+:      :+:    :+:   */\n",
    "/*                                                    +:+ +:+         +:+     */\n",
    "/*   By: dpentlan <marvin@42.fr>                    +#+  +:+       +#+        */\n",
    "/*                                                +#+#+#+#+#+   +#+           */\n",
    "/*   Created: 2022/11/11 13:06:56 by dpentlan          #+#    #+#             */\n",
    "/*   Updated: 2022/11/11 13:06:58 by dpentlan         ###   ########.fr       */\n",
    "/*                                                                            */\n",
    "/* ************************************************************************** */\n",
    "\n",
    "#include \"libft.h\"\n",
    "\n",
    "int\tft_toupper(int c)\n",
    "{\n",
    "\tif (c >= 97 && c <= 122)\n",
    "\t\treturn (c - 32);\n",
    "\telse\n",
    "\t\treturn (c);\n",
    "}"
   ]
  },
  {
   "cell_type": "markdown",
   "metadata": {},
   "source": [
    "### tolower"
   ]
  },
  {
   "cell_type": "markdown",
   "metadata": {},
   "source": [
    "#### tolower_test.c"
   ]
  },
  {
   "cell_type": "code",
   "execution_count": 186,
   "metadata": {},
   "outputs": [
    {
     "name": "stdout",
     "output_type": "stream",
     "text": [
      "Overwriting ../libft_testing/function_remakes/tolower_test.c\n"
     ]
    }
   ],
   "source": [
    "%%file ../libft_testing/function_remakes/tolower_test.c\n",
    "#include <stdio.h>\n",
    "#include <stdlib.h>\n",
    "#include <string.h>\n",
    "#include <ctype.h>\n",
    "#include \"../../libft_working/libft.h\"\n",
    "\n",
    "int main (int argc, char* argv[])\n",
    "{\n",
    "    char string_src[50] = \"Hi this is a source string.\";\n",
    "    char string_all_ascii_vals[128] = \"\";\n",
    "    int i;\n",
    "    int return_val;\n",
    "    int len;\n",
    "\n",
    "    len = strlen(string_src);\n",
    "    i = 1;\n",
    "\n",
    "    while (i < 128)\n",
    "    {\n",
    "        string_all_ascii_vals[i] = i;\n",
    "        i++;\n",
    "    }\n",
    "\n",
    "    i = 0;\n",
    "    while (i < len)\n",
    "    {\n",
    "        if (atoi(argv[1]) == 0)\n",
    "        {\n",
    "            return_val = tolower(string_src[i]);\n",
    "            printf(\"tolower,%d,%d,%d,%c,%c\\n\", string_src[i], return_val, len, string_src[i], return_val);\n",
    "        }\n",
    "        else if (atoi(argv[1]) == 1)\n",
    "        {\n",
    "            return_val = ft_tolower(string_src[i]);\n",
    "            printf(\"ft_tolower,%d,%d,%d,%c,%c\\n\", string_src[i], return_val, len, string_src[i], return_val);\n",
    "        }\n",
    "        i++;\n",
    "    }\n",
    "\n",
    "    i = 0;\n",
    "    while (i < 128)\n",
    "    {\n",
    "        if (atoi(argv[1]) == 0)\n",
    "        {\n",
    "            return_val = tolower(string_all_ascii_vals[i]);\n",
    "            printf(\"tolower,%d,%d,%d,%c,%c\\n\", string_all_ascii_vals[i], return_val, len, string_all_ascii_vals[i], return_val);\n",
    "        }\n",
    "        else if (atoi(argv[1]) == 1)\n",
    "        {\n",
    "            return_val = ft_tolower(string_all_ascii_vals[i]);\n",
    "            printf(\"ft_tolower,%d,%d,%d,%c,%c\\n\", string_all_ascii_vals[i], return_val, len, string_all_ascii_vals[i], return_val);\n",
    "        }\n",
    "        i++;\n",
    "    }\n",
    "    return (0);\n",
    "}\n"
   ]
  },
  {
   "cell_type": "code",
   "execution_count": 187,
   "metadata": {},
   "outputs": [
    {
     "name": "stdout",
     "output_type": "stream",
     "text": [
      "Binary files output1.csv and output2.csv differ\n"
     ]
    },
    {
     "ename": "CalledProcessError",
     "evalue": "Command 'b'cd ../libft_testing/function_remakes\\n# pwd\\ngcc tolower_test.c -lbsd -L../../libft_working -lft\\nheader=\"Function,Input,Return_Val,Stren,Before Char,After Char\"\\necho $header > output1.csv\\ni=0\\ny=0\\nwhile [ $i -le $y ]\\ndo\\n    ./a.out 0 >> output1.csv\\n    ((i++))\\ndone\\ni=0\\necho $header > output2.csv\\nwhile [ $i -le $y ]\\ndo\\n    ./a.out 1 >> output2.csv\\n    ((i++))\\ndone\\ndiff output1.csv output2.csv\\n'' returned non-zero exit status 1.",
     "output_type": "error",
     "traceback": [
      "\u001b[0;31m---------------------------------------------------------------------------\u001b[0m",
      "\u001b[0;31mCalledProcessError\u001b[0m                        Traceback (most recent call last)",
      "\u001b[0;32m<ipython-input-187-e11ea3b162ac>\u001b[0m in \u001b[0;36m<module>\u001b[0;34m\u001b[0m\n\u001b[0;32m----> 1\u001b[0;31m \u001b[0mget_ipython\u001b[0m\u001b[0;34m(\u001b[0m\u001b[0;34m)\u001b[0m\u001b[0;34m.\u001b[0m\u001b[0mrun_cell_magic\u001b[0m\u001b[0;34m(\u001b[0m\u001b[0;34m'bash'\u001b[0m\u001b[0;34m,\u001b[0m \u001b[0;34m''\u001b[0m\u001b[0;34m,\u001b[0m \u001b[0;34m'cd ../libft_testing/function_remakes\\n# pwd\\ngcc tolower_test.c -lbsd -L../../libft_working -lft\\nheader=\"Function,Input,Return_Val,Stren,Before Char,After Char\"\\necho $header > output1.csv\\ni=0\\ny=0\\nwhile [ $i -le $y ]\\ndo\\n    ./a.out 0 >> output1.csv\\n    ((i++))\\ndone\\ni=0\\necho $header > output2.csv\\nwhile [ $i -le $y ]\\ndo\\n    ./a.out 1 >> output2.csv\\n    ((i++))\\ndone\\ndiff output1.csv output2.csv\\n'\u001b[0m\u001b[0;34m)\u001b[0m\u001b[0;34m\u001b[0m\u001b[0;34m\u001b[0m\u001b[0m\n\u001b[0m",
      "\u001b[0;32m/usr/lib/python3/dist-packages/IPython/core/interactiveshell.py\u001b[0m in \u001b[0;36mrun_cell_magic\u001b[0;34m(self, magic_name, line, cell)\u001b[0m\n\u001b[1;32m   2360\u001b[0m             \u001b[0;32mwith\u001b[0m \u001b[0mself\u001b[0m\u001b[0;34m.\u001b[0m\u001b[0mbuiltin_trap\u001b[0m\u001b[0;34m:\u001b[0m\u001b[0;34m\u001b[0m\u001b[0;34m\u001b[0m\u001b[0m\n\u001b[1;32m   2361\u001b[0m                 \u001b[0margs\u001b[0m \u001b[0;34m=\u001b[0m \u001b[0;34m(\u001b[0m\u001b[0mmagic_arg_s\u001b[0m\u001b[0;34m,\u001b[0m \u001b[0mcell\u001b[0m\u001b[0;34m)\u001b[0m\u001b[0;34m\u001b[0m\u001b[0;34m\u001b[0m\u001b[0m\n\u001b[0;32m-> 2362\u001b[0;31m                 \u001b[0mresult\u001b[0m \u001b[0;34m=\u001b[0m \u001b[0mfn\u001b[0m\u001b[0;34m(\u001b[0m\u001b[0;34m*\u001b[0m\u001b[0margs\u001b[0m\u001b[0;34m,\u001b[0m \u001b[0;34m**\u001b[0m\u001b[0mkwargs\u001b[0m\u001b[0;34m)\u001b[0m\u001b[0;34m\u001b[0m\u001b[0;34m\u001b[0m\u001b[0m\n\u001b[0m\u001b[1;32m   2363\u001b[0m             \u001b[0;32mreturn\u001b[0m \u001b[0mresult\u001b[0m\u001b[0;34m\u001b[0m\u001b[0;34m\u001b[0m\u001b[0m\n\u001b[1;32m   2364\u001b[0m \u001b[0;34m\u001b[0m\u001b[0m\n",
      "\u001b[0;32m/usr/lib/python3/dist-packages/IPython/core/magics/script.py\u001b[0m in \u001b[0;36mnamed_script_magic\u001b[0;34m(line, cell)\u001b[0m\n\u001b[1;32m    140\u001b[0m             \u001b[0;32melse\u001b[0m\u001b[0;34m:\u001b[0m\u001b[0;34m\u001b[0m\u001b[0;34m\u001b[0m\u001b[0m\n\u001b[1;32m    141\u001b[0m                 \u001b[0mline\u001b[0m \u001b[0;34m=\u001b[0m \u001b[0mscript\u001b[0m\u001b[0;34m\u001b[0m\u001b[0;34m\u001b[0m\u001b[0m\n\u001b[0;32m--> 142\u001b[0;31m             \u001b[0;32mreturn\u001b[0m \u001b[0mself\u001b[0m\u001b[0;34m.\u001b[0m\u001b[0mshebang\u001b[0m\u001b[0;34m(\u001b[0m\u001b[0mline\u001b[0m\u001b[0;34m,\u001b[0m \u001b[0mcell\u001b[0m\u001b[0;34m)\u001b[0m\u001b[0;34m\u001b[0m\u001b[0;34m\u001b[0m\u001b[0m\n\u001b[0m\u001b[1;32m    143\u001b[0m \u001b[0;34m\u001b[0m\u001b[0m\n\u001b[1;32m    144\u001b[0m         \u001b[0;31m# write a basic docstring:\u001b[0m\u001b[0;34m\u001b[0m\u001b[0;34m\u001b[0m\u001b[0;34m\u001b[0m\u001b[0m\n",
      "\u001b[0;32m<decorator-gen-110>\u001b[0m in \u001b[0;36mshebang\u001b[0;34m(self, line, cell)\u001b[0m\n",
      "\u001b[0;32m/usr/lib/python3/dist-packages/IPython/core/magic.py\u001b[0m in \u001b[0;36m<lambda>\u001b[0;34m(f, *a, **k)\u001b[0m\n\u001b[1;32m    185\u001b[0m     \u001b[0;31m# but it's overkill for just that one bit of state.\u001b[0m\u001b[0;34m\u001b[0m\u001b[0;34m\u001b[0m\u001b[0;34m\u001b[0m\u001b[0m\n\u001b[1;32m    186\u001b[0m     \u001b[0;32mdef\u001b[0m \u001b[0mmagic_deco\u001b[0m\u001b[0;34m(\u001b[0m\u001b[0marg\u001b[0m\u001b[0;34m)\u001b[0m\u001b[0;34m:\u001b[0m\u001b[0;34m\u001b[0m\u001b[0;34m\u001b[0m\u001b[0m\n\u001b[0;32m--> 187\u001b[0;31m         \u001b[0mcall\u001b[0m \u001b[0;34m=\u001b[0m \u001b[0;32mlambda\u001b[0m \u001b[0mf\u001b[0m\u001b[0;34m,\u001b[0m \u001b[0;34m*\u001b[0m\u001b[0ma\u001b[0m\u001b[0;34m,\u001b[0m \u001b[0;34m**\u001b[0m\u001b[0mk\u001b[0m\u001b[0;34m:\u001b[0m \u001b[0mf\u001b[0m\u001b[0;34m(\u001b[0m\u001b[0;34m*\u001b[0m\u001b[0ma\u001b[0m\u001b[0;34m,\u001b[0m \u001b[0;34m**\u001b[0m\u001b[0mk\u001b[0m\u001b[0;34m)\u001b[0m\u001b[0;34m\u001b[0m\u001b[0;34m\u001b[0m\u001b[0m\n\u001b[0m\u001b[1;32m    188\u001b[0m \u001b[0;34m\u001b[0m\u001b[0m\n\u001b[1;32m    189\u001b[0m         \u001b[0;32mif\u001b[0m \u001b[0mcallable\u001b[0m\u001b[0;34m(\u001b[0m\u001b[0marg\u001b[0m\u001b[0;34m)\u001b[0m\u001b[0;34m:\u001b[0m\u001b[0;34m\u001b[0m\u001b[0;34m\u001b[0m\u001b[0m\n",
      "\u001b[0;32m/usr/lib/python3/dist-packages/IPython/core/magics/script.py\u001b[0m in \u001b[0;36mshebang\u001b[0;34m(self, line, cell)\u001b[0m\n\u001b[1;32m    243\u001b[0m             \u001b[0msys\u001b[0m\u001b[0;34m.\u001b[0m\u001b[0mstderr\u001b[0m\u001b[0;34m.\u001b[0m\u001b[0mflush\u001b[0m\u001b[0;34m(\u001b[0m\u001b[0;34m)\u001b[0m\u001b[0;34m\u001b[0m\u001b[0;34m\u001b[0m\u001b[0m\n\u001b[1;32m    244\u001b[0m         \u001b[0;32mif\u001b[0m \u001b[0margs\u001b[0m\u001b[0;34m.\u001b[0m\u001b[0mraise_error\u001b[0m \u001b[0;32mand\u001b[0m \u001b[0mp\u001b[0m\u001b[0;34m.\u001b[0m\u001b[0mreturncode\u001b[0m\u001b[0;34m!=\u001b[0m\u001b[0;36m0\u001b[0m\u001b[0;34m:\u001b[0m\u001b[0;34m\u001b[0m\u001b[0;34m\u001b[0m\u001b[0m\n\u001b[0;32m--> 245\u001b[0;31m             \u001b[0;32mraise\u001b[0m \u001b[0mCalledProcessError\u001b[0m\u001b[0;34m(\u001b[0m\u001b[0mp\u001b[0m\u001b[0;34m.\u001b[0m\u001b[0mreturncode\u001b[0m\u001b[0;34m,\u001b[0m \u001b[0mcell\u001b[0m\u001b[0;34m,\u001b[0m \u001b[0moutput\u001b[0m\u001b[0;34m=\u001b[0m\u001b[0mout\u001b[0m\u001b[0;34m,\u001b[0m \u001b[0mstderr\u001b[0m\u001b[0;34m=\u001b[0m\u001b[0merr\u001b[0m\u001b[0;34m)\u001b[0m\u001b[0;34m\u001b[0m\u001b[0;34m\u001b[0m\u001b[0m\n\u001b[0m\u001b[1;32m    246\u001b[0m \u001b[0;34m\u001b[0m\u001b[0m\n\u001b[1;32m    247\u001b[0m     \u001b[0;32mdef\u001b[0m \u001b[0m_run_script\u001b[0m\u001b[0;34m(\u001b[0m\u001b[0mself\u001b[0m\u001b[0;34m,\u001b[0m \u001b[0mp\u001b[0m\u001b[0;34m,\u001b[0m \u001b[0mcell\u001b[0m\u001b[0;34m,\u001b[0m \u001b[0mto_close\u001b[0m\u001b[0;34m)\u001b[0m\u001b[0;34m:\u001b[0m\u001b[0;34m\u001b[0m\u001b[0;34m\u001b[0m\u001b[0m\n",
      "\u001b[0;31mCalledProcessError\u001b[0m: Command 'b'cd ../libft_testing/function_remakes\\n# pwd\\ngcc tolower_test.c -lbsd -L../../libft_working -lft\\nheader=\"Function,Input,Return_Val,Stren,Before Char,After Char\"\\necho $header > output1.csv\\ni=0\\ny=0\\nwhile [ $i -le $y ]\\ndo\\n    ./a.out 0 >> output1.csv\\n    ((i++))\\ndone\\ni=0\\necho $header > output2.csv\\nwhile [ $i -le $y ]\\ndo\\n    ./a.out 1 >> output2.csv\\n    ((i++))\\ndone\\ndiff output1.csv output2.csv\\n'' returned non-zero exit status 1."
     ]
    }
   ],
   "source": [
    "%%bash\n",
    "cd ../libft_testing/function_remakes\n",
    "# pwd\n",
    "gcc tolower_test.c -lbsd -L../../libft_working -lft\n",
    "header=\"Function,Input,Return_Val,Stren,Before Char,After Char\"\n",
    "echo $header > output1.csv\n",
    "i=0\n",
    "y=0\n",
    "while [ $i -le $y ]\n",
    "do\n",
    "    ./a.out 0 >> output1.csv\n",
    "    ((i++))\n",
    "done\n",
    "i=0\n",
    "echo $header > output2.csv\n",
    "while [ $i -le $y ]\n",
    "do\n",
    "    ./a.out 1 >> output2.csv\n",
    "    ((i++))\n",
    "done\n",
    "diff output1.csv output2.csv"
   ]
  },
  {
   "cell_type": "markdown",
   "metadata": {},
   "source": [
    "#### ft_tolower.c"
   ]
  },
  {
   "cell_type": "code",
   "execution_count": 179,
   "metadata": {},
   "outputs": [
    {
     "name": "stdout",
     "output_type": "stream",
     "text": [
      "Overwriting ft_tolower.c\n"
     ]
    }
   ],
   "source": [
    "%%file ft_tolower.c\n",
    "/* ************************************************************************** */\n",
    "/*                                                                            */\n",
    "/*                                                        :::      ::::::::   */\n",
    "/*   ft_tolower.c                                       :+:      :+:    :+:   */\n",
    "/*                                                    +:+ +:+         +:+     */\n",
    "/*   By: dpentlan <marvin@42.fr>                    +#+  +:+       +#+        */\n",
    "/*                                                +#+#+#+#+#+   +#+           */\n",
    "/*   Created: 2022/11/11 13:57:33 by dpentlan          #+#    #+#             */\n",
    "/*   Updated: 2022/11/11 13:57:37 by dpentlan         ###   ########.fr       */\n",
    "/*                                                                            */\n",
    "/* ************************************************************************** */\n",
    "\n",
    "#include \"libft.h\"\n",
    "\n",
    "int\tft_tolower(int c)\n",
    "{\n",
    "\tif (c >= 65 && c <= 90)\n",
    "\t\treturn (c + 32);\n",
    "\telse\n",
    "\t\treturn (c);\n",
    "}\n"
   ]
  },
  {
   "cell_type": "markdown",
   "metadata": {},
   "source": [
    "### strchr"
   ]
  },
  {
   "cell_type": "markdown",
   "metadata": {},
   "source": [
    "#### strchr_test.c"
   ]
  },
  {
   "cell_type": "code",
   "execution_count": null,
   "metadata": {},
   "outputs": [],
   "source": []
  },
  {
   "cell_type": "markdown",
   "metadata": {},
   "source": [
    "#### ft_strchr.c"
   ]
  },
  {
   "cell_type": "code",
   "execution_count": null,
   "metadata": {},
   "outputs": [],
   "source": []
  },
  {
   "cell_type": "markdown",
   "metadata": {},
   "source": [
    "## Makefile"
   ]
  },
  {
   "cell_type": "code",
   "execution_count": 182,
   "metadata": {},
   "outputs": [
    {
     "name": "stdout",
     "output_type": "stream",
     "text": [
      "Overwriting Makefile\n"
     ]
    }
   ],
   "source": [
    "%%file Makefile\n",
    "# **************************************************************************** #\n",
    "#                                                                              #\n",
    "#                                                         :::      ::::::::    #\n",
    "#    Makefile                                           :+:      :+:    :+:    #\n",
    "#                                                     +:+ +:+         +:+      #\n",
    "#    By: dpentlan <marvin@42.fr>                    +#+  +:+       +#+         #\n",
    "#                                                 +#+#+#+#+#+   +#+            #\n",
    "#    Created: 2022/11/07 14:36:56 by dpentlan          #+#    #+#              #\n",
    "#    Updated: 2022/11/07 14:36:58 by dpentlan         ###   ########.fr        #\n",
    "#                                                                              #\n",
    "# **************************************************************************** #\n",
    "\n",
    "# This makefile is going to compile all the .c source files into .o object files\n",
    "# Then package them with the archiver \"ar\" command. \n",
    "\n",
    "NAME = libft.a\n",
    "\n",
    "SRCS =  ft_isalpha.c \\\n",
    "        ft_isdigit.c \\\n",
    "\tft_isalnum.c \\\n",
    "        ft_isascii.c \\\n",
    "        ft_isprint.c \\\n",
    "        ft_strlen.c \\\n",
    "        ft_memset.c \\\n",
    "        ft_bzero.c \\\n",
    "        ft_memcpy.c \\\n",
    "        ft_memmove.c \\\n",
    "        ft_strlcpy.c \\\n",
    "        ft_strlcat.c \\\n",
    "        ft_toupper.c \\\n",
    "        ft_tolower.c \\\n",
    "# ft_strchr.c \\\n",
    "# ft_strrchr.c \\\n",
    "# ft_strncmp.c \\\n",
    "# ft_memchr.c \\\n",
    "# ft_strnstr.c \\\n",
    "# ft_atoi.c \\\n",
    "# ft_calloc.c \\\t\t# Can use malloc()\n",
    "# ft_strdup.c\t\t# Can use malloc()\n",
    "# Not finished. Check part 2.\n",
    "\n",
    "# Need to look up the syntax here.\n",
    "OBJS = ${SRCS:.c=.o}\n",
    "\n",
    "INCS = libft.h\n",
    "\n",
    "CFLAGS = -Wall -Wextra -Werror\n",
    "\n",
    "all: $(NAME)\n",
    "\n",
    "$(NAME): $(OBJS) $(INCS)\n",
    "\tar rcs $(NAME) -o $(OBJS)\n",
    "\n",
    "# Need to look up the syntax here.\n",
    ".c.o:\n",
    "\tgcc ${CFLAGS} -c $< -o ${<:.c=.o}\n",
    "\n",
    "# clean only deletes object files.\n",
    "clean:\n",
    "\trm -f $(OBJS)\n",
    "\n",
    "# fclean deletes object files and the binary.\n",
    "fclean:\tclean\n",
    "\trm -f $(NAME)\n",
    "\n",
    "# re will delete the object files and binary and then re run all. Fresh start.\n",
    "re:\tfclean all\n",
    "\n",
    "# Was coppied makefile to learn from.\n",
    "\n",
    "# NAME    = libft.a\n",
    "# \n",
    "# SRCS    = ft_atoi.c\\\n",
    "    #   ft_bzero.c\\\n",
    "    #   ft_calloc.c\\\n",
    "    #   ft_isalnum.c\\\n",
    "    #   ft_isalpha.c\\\n",
    "    #   ft_isascii.c\\\n",
    "    #   ft_isdigit.c\\\n",
    "    #   ft_isprint.c\\\n",
    "    #   ft_strlen.c\\\n",
    "    #   ft_itoa.c\\\n",
    "    #   ft_memset.c\\\n",
    "    #   ft_memcpy.c\\\n",
    "# \n",
    "# OBJS    = ${SRCS:.c=.o}\n",
    "# \n",
    "# INCS    = libft.h\n",
    "# \n",
    "# RM     = rm -f\n",
    "# \n",
    "# LIB    = ar rcs\n",
    "# \n",
    "# GCC    = gcc\n",
    "# \n",
    "# CFLAGS    = -Wall -Wextra -Werror\n",
    "# \n",
    "# .c.o:\n",
    "        # ${GCC} ${CFLAGS} -c $< -o ${<:.c=.o}\n",
    "# \n",
    "# $(NAME):    ${OBJS} ${INCS}\n",
    "        # ${LIB} ${NAME} ${OBJS}\n",
    "# \n",
    "# all:        ${NAME}\n",
    "# \n",
    "# clean:\n",
    "        # rm -f ${OBJS}\n",
    "# \n",
    "# fclean:        clean\n",
    "        # rm  -f ${NAME}\n",
    "# "
   ]
  },
  {
   "cell_type": "code",
   "execution_count": 21,
   "metadata": {},
   "outputs": [
    {
     "name": "stdout",
     "output_type": "stream",
     "text": [
      "rm -f ft_isalpha.o ft_isdigit.o ft_isalnum.o ft_isascii.o ft_isprint.o ft_strlen.o ft_memset.o ft_bzero.o ft_memcpy.o ft_memmove.o ft_strlcpy.o\n",
      "rm -f libft.a\n",
      "gcc -Wall -Wextra -Werror -c ft_isalpha.c -o ft_isalpha.o\n",
      "gcc -Wall -Wextra -Werror -c ft_isdigit.c -o ft_isdigit.o\n",
      "gcc -Wall -Wextra -Werror -c ft_isalnum.c -o ft_isalnum.o\n",
      "gcc -Wall -Wextra -Werror -c ft_isascii.c -o ft_isascii.o\n",
      "gcc -Wall -Wextra -Werror -c ft_isprint.c -o ft_isprint.o\n",
      "gcc -Wall -Wextra -Werror -c ft_strlen.c -o ft_strlen.o\n",
      "gcc -Wall -Wextra -Werror -c ft_memset.c -o ft_memset.o\n",
      "gcc -Wall -Wextra -Werror -c ft_bzero.c -o ft_bzero.o\n",
      "gcc -Wall -Wextra -Werror -c ft_memcpy.c -o ft_memcpy.o\n",
      "gcc -Wall -Wextra -Werror -c ft_memmove.c -o ft_memmove.o\n",
      "gcc -Wall -Wextra -Werror -c ft_strlcpy.c -o ft_strlcpy.o\n",
      "ar rcs libft.a -o ft_isalpha.o ft_isdigit.o ft_isalnum.o ft_isascii.o ft_isprint.o ft_strlen.o ft_memset.o ft_bzero.o ft_memcpy.o ft_memmove.o ft_strlcpy.o\n",
      "rm -f ft_isalpha.o ft_isdigit.o ft_isalnum.o ft_isascii.o ft_isprint.o ft_strlen.o ft_memset.o ft_bzero.o ft_memcpy.o ft_memmove.o ft_strlcpy.o\n",
      "ft_isalpha.o\n",
      "ft_isdigit.o\n",
      "ft_isalnum.o\n",
      "ft_isascii.o\n",
      "ft_isprint.o\n",
      "ft_strlen.o\n",
      "ft_memset.o\n",
      "ft_bzero.o\n",
      "ft_memcpy.o\n",
      "ft_memmove.o\n",
      "ft_strlcpy.o\n"
     ]
    }
   ],
   "source": [
    "%%bash\n",
    "make re\n",
    "make clean\n",
    "ar -t libft.a"
   ]
  }
 ],
 "metadata": {
  "kernelspec": {
   "display_name": "Python 3.8.10 64-bit",
   "language": "python",
   "name": "python3"
  },
  "language_info": {
   "codemirror_mode": {
    "name": "ipython",
    "version": 3
   },
   "file_extension": ".py",
   "mimetype": "text/x-python",
   "name": "python",
   "nbconvert_exporter": "python",
   "pygments_lexer": "ipython3",
   "version": "3.8.10"
  },
  "orig_nbformat": 4,
  "vscode": {
   "interpreter": {
    "hash": "e7370f93d1d0cde622a1f8e1c04877d8463912d04d973331ad4851f04de6915a"
   }
  }
 },
 "nbformat": 4,
 "nbformat_minor": 2
}
