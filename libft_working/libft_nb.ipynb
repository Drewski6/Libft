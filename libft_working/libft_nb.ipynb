{
 "cells": [
  {
   "cell_type": "markdown",
   "metadata": {},
   "source": [
    "# LIBFT\n",
    "- This notebook is for the libft project in Ecole 42.\n",
    "- Note that we can save directly to files with the %%file prefix.\n",
    "- Similarly you can use %%bash to run any bash commands you'd like for testing."
   ]
  },
  {
   "cell_type": "markdown",
   "metadata": {},
   "source": [
    "## Libft.h"
   ]
  },
  {
   "cell_type": "code",
   "execution_count": 126,
   "metadata": {},
   "outputs": [
    {
     "name": "stdout",
     "output_type": "stream",
     "text": [
      "Overwriting libft.h\n"
     ]
    }
   ],
   "source": [
    "%%file libft.h\n",
    "/* ************************************************************************** */\n",
    "/*                                                                            */\n",
    "/*                                                        :::      ::::::::   */\n",
    "/*   libft.h                                            :+:      :+:    :+:   */\n",
    "/*                                                    +:+ +:+         +:+     */\n",
    "/*   By: dpentlan <marvin@42.fr>                    +#+  +:+       +#+        */\n",
    "/*                                                +#+#+#+#+#+   +#+           */\n",
    "/*   Created: 2022/11/07 14:31:39 by dpentlan          #+#    #+#             */\n",
    "/*   Updated: 2022/11/07 14:31:56 by dpentlan         ###   ########.fr       */\n",
    "/*                                                                            */\n",
    "/* ************************************************************************** */\n",
    "\n",
    "//  header for my libft files.\n",
    "\n",
    "#ifndef LIBFT_H\n",
    "#define LIBFT_H\n",
    "\n",
    "int ft_isalpha(char c);\n",
    "int ft_isdigit(char c);\n",
    "int ft_isalnum(char c);\n",
    "int ft_isascii(int c);\n",
    "int ft_isprint(char c);\n",
    "long    ft_strlen(const char* str);\n",
    "void*   ft_memset(void* str, int c, unsigned int len);\n",
    "\n",
    "#endif"
   ]
  },
  {
   "cell_type": "markdown",
   "metadata": {},
   "source": [
    "## memset"
   ]
  },
  {
   "cell_type": "markdown",
   "metadata": {},
   "source": [
    "### ft_memset.c"
   ]
  },
  {
   "cell_type": "code",
   "execution_count": 148,
   "metadata": {},
   "outputs": [
    {
     "name": "stdout",
     "output_type": "stream",
     "text": [
      "Overwriting ft_memset.c\n"
     ]
    }
   ],
   "source": [
    "%%file ft_memset.c\n",
    "/*\n",
    "    Placeholder for 42 header.\n",
    "*/\n",
    "\n",
    "#include \"libft.h\"\n",
    "\n",
    "/*\n",
    "returns:\n",
    "    void pointer to beginning of edited string.. Returns pointer the same as input.\n",
    "parameters: \n",
    "    void* str : Any memory item to change\n",
    "    int c     : value to replace mem location with. Can be int, but is placed like a char. Need to test ints greater than 127.\n",
    "    size_t len: Number of bytes to replace in str with c.\n",
    "*/\n",
    "void*   ft_memset(void* str, int c, int len)\n",
    "{\n",
    "    int i;\n",
    "\n",
    "    i = 0;\n",
    "    while (i < len)\n",
    "    {\n",
    "        *(char*)str = c;\n",
    "        str++;\n",
    "        i++;\n",
    "    }\n",
    "    return (str);\n",
    "}"
   ]
  },
  {
   "cell_type": "markdown",
   "metadata": {},
   "source": [
    "### memset_test.c"
   ]
  },
  {
   "cell_type": "code",
   "execution_count": 26,
   "metadata": {},
   "outputs": [
    {
     "name": "stdout",
     "output_type": "stream",
     "text": [
      "Overwriting ../libft_testing/function_remakes/memset_test.c\n"
     ]
    }
   ],
   "source": [
    "%%file ../libft_testing/function_remakes/memset_test.c\n",
    "#include <stdio.h>\n",
    "#include <stdlib.h>\n",
    "#include <string.h>\n",
    "#include \"../../libft_working/libft.h\"\n",
    "#define SIZE 10\n",
    "#define CHAR 'W'\n",
    "\n",
    "int main (void)\n",
    "{\n",
    "    char string[] = \"This is a sample string.\";\n",
    "\n",
    "    printf(\"memset\\n\");\n",
    "    printf(\"\\tString before: %s\\n\", string);\n",
    "    printf(\"\\tsizeof(char)lksjd: %ld\\n\", sizeof(char));\n",
    "    memset(string, CHAR, SIZE*sizeof(char));\n",
    "    printf(\"\\tString after : %s\\n\", string);\n",
    "\n",
    "    char string1[] = \"This is a sample string.\";\n",
    "    printf(\"\\nft_memset\\n\");\n",
    "    printf(\"\\tString before: %s\\n\", string1);\n",
    "    printf(\"\\tsizeof(char)lksjd: %ld\\n\", sizeof(char));\n",
    "    ft_memset(string1, CHAR, SIZE*sizeof(char));\n",
    "    printf(\"\\tString after : %s\\n\", string1);\n",
    "    return (0);\n",
    "}"
   ]
  },
  {
   "cell_type": "code",
   "execution_count": 30,
   "metadata": {},
   "outputs": [
    {
     "name": "stdout",
     "output_type": "stream",
     "text": [
      "/home/drew/Documents/ecole_42/libft/libft_testing/function_remakes\n",
      "memset\n",
      "\tString before: This is a sample string.\n",
      "\tsizeof(char)lksjd: 1\n",
      "\tString after : WWWWWWWWWWsample string.\n",
      "\n",
      "ft_memset\n",
      "\tString before: This is a sample string.\n",
      "\tsizeof(char)lksjd: 1\n",
      "\tString after : WWWWWWWWWWsample string.\n",
      "CPU times: user 1.2 ms, sys: 3.85 ms, total: 5.05 ms\n",
      "Wall time: 30.6 ms\n"
     ]
    }
   ],
   "source": [
    "%%time\n",
    "%%bash\n",
    "cd ../libft_testing/function_remakes\n",
    "pwd\n",
    "gcc memset_test.c -L../../libft_working -lft\n",
    "./a.out > output && cat output"
   ]
  },
  {
   "cell_type": "markdown",
   "metadata": {},
   "source": [
    "## bzero"
   ]
  },
  {
   "cell_type": "markdown",
   "metadata": {},
   "source": [
    "### bzero_test.c"
   ]
  },
  {
   "cell_type": "code",
   "execution_count": 19,
   "metadata": {},
   "outputs": [
    {
     "name": "stdout",
     "output_type": "stream",
     "text": [
      "Overwriting ../libft_testing/function_remakes/bzero_test.c\n"
     ]
    }
   ],
   "source": [
    "%%file ../libft_testing/function_remakes/bzero_test.c\n",
    "#include <stdio.h>\n",
    "#include <stdlib.h>\n",
    "#include <string.h>\n",
    "\n",
    "int main (void)\n",
    "{\n",
    "    char string[] = \"Hi this is a string.\";\n",
    "    printf(\"Before bzero: %s\\n\", string);\n",
    "    bzero(string + 10, 9);\n",
    "    printf(\"After bzero : %s\\n\", string);\n",
    "    return (0);\n",
    "}"
   ]
  },
  {
   "cell_type": "code",
   "execution_count": 20,
   "metadata": {},
   "outputs": [
    {
     "name": "stdout",
     "output_type": "stream",
     "text": [
      "/home/drew/Documents/ecole_42/libft/libft_testing/function_remakes\n",
      "Before bzero: Hi this is a string.\n",
      "After bzero : Hi this is\n"
     ]
    }
   ],
   "source": [
    "%%bash\n",
    "cd ../libft_testing/function_remakes\n",
    "pwd\n",
    "gcc bzero_test.c -L../../libft_working -lft\n",
    "./a.out > output && cat output"
   ]
  },
  {
   "cell_type": "markdown",
   "metadata": {},
   "source": [
    "### ft_bzero.c"
   ]
  },
  {
   "cell_type": "code",
   "execution_count": 172,
   "metadata": {},
   "outputs": [
    {
     "name": "stdout",
     "output_type": "stream",
     "text": [
      "Overwriting ft_bzero.c\n"
     ]
    }
   ],
   "source": [
    "%%file ft_bzero.c\n",
    "/*\n",
    "    42 Header here\n",
    "*/\n",
    "\n",
    "#include \"libft.h\"\n",
    "\n",
    "void    ft_bzero(void* str, int c)\n",
    "{\n",
    "    while()\n",
    "    \n",
    "}"
   ]
  },
  {
   "cell_type": "markdown",
   "metadata": {},
   "source": [
    "## Makefile"
   ]
  },
  {
   "cell_type": "code",
   "execution_count": 21,
   "metadata": {},
   "outputs": [
    {
     "name": "stdout",
     "output_type": "stream",
     "text": [
      "Overwriting Makefile\n"
     ]
    }
   ],
   "source": [
    "%%file Makefile\n",
    "# **************************************************************************** #\n",
    "#                                                                              #\n",
    "#                                                         :::      ::::::::    #\n",
    "#    Makefile                                           :+:      :+:    :+:    #\n",
    "#                                                     +:+ +:+         +:+      #\n",
    "#    By: dpentlan <marvin@42.fr>                    +#+  +:+       +#+         #\n",
    "#                                                 +#+#+#+#+#+   +#+            #\n",
    "#    Created: 2022/11/07 14:36:56 by dpentlan          #+#    #+#              #\n",
    "#    Updated: 2022/11/07 14:36:58 by dpentlan         ###   ########.fr        #\n",
    "#                                                                              #\n",
    "# **************************************************************************** #\n",
    "\n",
    "# This makefile is going to compile all the .c source files into .o object files\n",
    "# Then package them with the archiver \"ar\" command. \n",
    "\n",
    "NAME = libft.a\n",
    "\n",
    "SRCS =  ft_isalpha.c \\\n",
    "        ft_isdigit.c \\\n",
    "\tft_isalnum.c \\\n",
    "        ft_isascii.c \\\n",
    "        ft_isprint.c \\\n",
    "        ft_strlen.c \\\n",
    "        ft_memset.c \\\n",
    "        ft_bzero.c \\\n",
    "# ft_memcpy.c \\\n",
    "# ft_memmove.c \\\n",
    "# ft_strlcpy.c \\\n",
    "# ft_strlcat.c \\\n",
    "# ft_toupper.c \\\n",
    "# ft_tolower.c \\\n",
    "# ft_strchr.c \\\n",
    "# ft_strrchr.c \\\n",
    "# ft_strncmp.c \\\n",
    "# ft_memchr.c \\\n",
    "# ft_strnstr.c \\\n",
    "# ft_atoi.c \\\n",
    "# ft_calloc.c \\\t\t# Can use malloc()\n",
    "# ft_strdup.c\t\t# Can use malloc()\n",
    "# Not finished. Check part 2.\n",
    "\n",
    "# Need to look up the syntax here.\n",
    "OBJS = ${SRCS:.c=.o}\n",
    "\n",
    "INCS = libft.h\n",
    "\n",
    "CFLAGS = -Wall -Wextra -Werror\n",
    "\n",
    "all: $(NAME)\n",
    "\n",
    "$(NAME): $(OBJS) $(INCS)\n",
    "\tar rcs $(NAME) -o $(OBJS)\n",
    "\n",
    "# Need to look up the syntax here.\n",
    ".c.o:\n",
    "\tgcc ${CFLAGS} -c $< -o ${<:.c=.o}\n",
    "\n",
    "# clean only deletes object files.\n",
    "clean:\n",
    "\trm -f $(OBJS)\n",
    "\n",
    "# fclean deletes object files and the binary.\n",
    "fclean:\tclean\n",
    "\trm -f $(NAME)\n",
    "\n",
    "# re will delete the object files and binary and then re run all. Fresh start.\n",
    "re:\tfclean all\n",
    "\n",
    "# Was coppied makefile to learn from.\n",
    "\n",
    "# NAME    = libft.a\n",
    "# \n",
    "# SRCS    = ft_atoi.c\\\n",
    "    #   ft_bzero.c\\\n",
    "    #   ft_calloc.c\\\n",
    "    #   ft_isalnum.c\\\n",
    "    #   ft_isalpha.c\\\n",
    "    #   ft_isascii.c\\\n",
    "    #   ft_isdigit.c\\\n",
    "    #   ft_isprint.c\\\n",
    "    #   ft_strlen.c\\\n",
    "    #   ft_itoa.c\\\n",
    "    #   ft_memset.c\\\n",
    "    #   ft_memcpy.c\\\n",
    "# \n",
    "# OBJS    = ${SRCS:.c=.o}\n",
    "# \n",
    "# INCS    = libft.h\n",
    "# \n",
    "# RM     = rm -f\n",
    "# \n",
    "# LIB    = ar rcs\n",
    "# \n",
    "# GCC    = gcc\n",
    "# \n",
    "# CFLAGS    = -Wall -Wextra -Werror\n",
    "# \n",
    "# .c.o:\n",
    "        # ${GCC} ${CFLAGS} -c $< -o ${<:.c=.o}\n",
    "# \n",
    "# $(NAME):    ${OBJS} ${INCS}\n",
    "        # ${LIB} ${NAME} ${OBJS}\n",
    "# \n",
    "# all:        ${NAME}\n",
    "# \n",
    "# clean:\n",
    "        # rm -f ${OBJS}\n",
    "# \n",
    "# fclean:        clean\n",
    "        # rm  -f ${NAME}\n",
    "# "
   ]
  },
  {
   "cell_type": "code",
   "execution_count": null,
   "metadata": {},
   "outputs": [
    {
     "name": "stdout",
     "output_type": "stream",
     "text": [
      "rm -f ft_isalpha.o ft_isdigit.o ft_isalnum.o ft_isascii.o ft_isprint.o ft_strlen.o ft_memset.o\n",
      "rm -f libft.a\n",
      "gcc -Wall -Wextra -Werror -c ft_isalpha.c -o ft_isalpha.o\n",
      "gcc -Wall -Wextra -Werror -c ft_isdigit.c -o ft_isdigit.o\n",
      "gcc -Wall -Wextra -Werror -c ft_isalnum.c -o ft_isalnum.o\n",
      "gcc -Wall -Wextra -Werror -c ft_isascii.c -o ft_isascii.o\n",
      "gcc -Wall -Wextra -Werror -c ft_isprint.c -o ft_isprint.o\n",
      "gcc -Wall -Wextra -Werror -c ft_strlen.c -o ft_strlen.o\n",
      "gcc -Wall -Wextra -Werror -c ft_memset.c -o ft_memset.o\n",
      "ar rcs libft.a -o ft_isalpha.o ft_isdigit.o ft_isalnum.o ft_isascii.o ft_isprint.o ft_strlen.o ft_memset.o\n"
     ]
    }
   ],
   "source": [
    "%%bash\n",
    "make re\n",
    "# make clean"
   ]
  },
  {
   "cell_type": "markdown",
   "metadata": {},
   "source": [
    "## library_ft_test.c"
   ]
  },
  {
   "cell_type": "code",
   "execution_count": null,
   "metadata": {},
   "outputs": [
    {
     "name": "stdout",
     "output_type": "stream",
     "text": [
      "Overwriting ../libft_testing/library_ft_test.c\n"
     ]
    }
   ],
   "source": [
    "%%file ../libft_testing/library_ft_test.c\n",
    "//  For testing with libft.a library and header file.\n",
    "//  To compile and link use this command:\n",
    "//      gcc library_ft_test.c -L../libft_working -lft\n",
    "\n",
    "#include \"../libft_working/libft.h\"\n",
    "#include <stdio.h>\n",
    "#include <stdlib.h>\n",
    "\n",
    "int main(int argc, char* argv[])\n",
    "{\n",
    "    char string[] = \"Hi1, there, my name is string.\";\n",
    "    printf(\"The character is '%c'.\\n\", string[atoi(argv[1])]);\n",
    "\n",
    "    // test for ft_isalpha\n",
    "    if (ft_isalpha(string[atoi(argv[1])]))\n",
    "        printf(\"The character is a letter.\\n\");\n",
    "    else\n",
    "        printf(\"The character is not a letter.\\n\");\n",
    "\n",
    "    // test for ft_isdigit\n",
    "    if (ft_isdigit(string[atoi(argv[1])]))\n",
    "        printf(\"The character is a digit.\\n\");\n",
    "    else\n",
    "        printf(\"The character is not a digit.\\n\");\n",
    "    \n",
    "    //  test for ft_isalnum\n",
    "    if (ft_isalnum(string[atoi(argv[1])]))\n",
    "        printf(\"The character is alpha-numeric.\\n\");\n",
    "    else\n",
    "        printf(\"The character is not alpha-numeric.\\n\");\n",
    "\n",
    "    // test for ft_isascii\n",
    "    if (ft_isascii(string[atoi(argv[1])]))\n",
    "        printf(\"The character is an ascii character.\\n\");\n",
    "    else\n",
    "        printf(\"The character is not an ascii character.\\n\");\n",
    "\n",
    "    // test for ft_isprint is in it's own file in ./function_remakes/isprint_test.c\n",
    "    // test for ft_strlen is in it's own file in ./function_remakes/strlen_test.c\n",
    "}"
   ]
  }
 ],
 "metadata": {
  "kernelspec": {
   "display_name": "Python 3.9.13 64-bit ('anaconda3')",
   "language": "python",
   "name": "python3"
  },
  "language_info": {
   "codemirror_mode": {
    "name": "ipython",
    "version": 3
   },
   "file_extension": ".py",
   "mimetype": "text/x-python",
   "name": "python",
   "nbconvert_exporter": "python",
   "pygments_lexer": "ipython3",
   "version": "3.9.13"
  },
  "orig_nbformat": 4,
  "vscode": {
   "interpreter": {
    "hash": "35159eb0463b8d05d6ebfa33c61ec94116d03e3b5624b7d5f509435ae71b39b3"
   }
  }
 },
 "nbformat": 4,
 "nbformat_minor": 2
}
